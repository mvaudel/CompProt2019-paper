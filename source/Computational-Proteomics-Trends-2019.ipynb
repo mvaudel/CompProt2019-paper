{
 "cells": [
  {
   "cell_type": "markdown",
   "metadata": {},
   "source": [
    "# Computational Proteomics Trends 2019. \n",
    "\n",
    "This jupyter notebook aims to read the data from Google Scholar csv poll into a panda dataframe to perform basic statistics about proteomics software useage by 2019. \n"
   ]
  },
  {
   "cell_type": "code",
   "execution_count": 240,
   "metadata": {},
   "outputs": [
    {
     "data": {
      "text/html": [
       "<script type=\"text/javascript\">window.PlotlyConfig = {MathJaxConfig: 'local'};</script><script type=\"text/javascript\">if (window.MathJax) {MathJax.Hub.Config({SVG: {font: \"STIX-Web\"}});}</script><script>requirejs.config({paths: { 'plotly': ['https://cdn.plot.ly/plotly-latest.min']},});if(!window._Plotly) {require(['plotly'],function(plotly) {window._Plotly=plotly;});}</script>"
      ],
      "text/vnd.plotly.v1+html": [
       "<script type=\"text/javascript\">window.PlotlyConfig = {MathJaxConfig: 'local'};</script><script type=\"text/javascript\">if (window.MathJax) {MathJax.Hub.Config({SVG: {font: \"STIX-Web\"}});}</script><script>requirejs.config({paths: { 'plotly': ['https://cdn.plot.ly/plotly-latest.min']},});if(!window._Plotly) {require(['plotly'],function(plotly) {window._Plotly=plotly;});}</script>"
      ]
     },
     "metadata": {},
     "output_type": "display_data"
    },
    {
     "data": {
      "text/html": [
       "<div>\n",
       "<style scoped>\n",
       "    .dataframe tbody tr th:only-of-type {\n",
       "        vertical-align: middle;\n",
       "    }\n",
       "\n",
       "    .dataframe tbody tr th {\n",
       "        vertical-align: top;\n",
       "    }\n",
       "\n",
       "    .dataframe thead th {\n",
       "        text-align: right;\n",
       "    }\n",
       "</style>\n",
       "<table border=\"1\" class=\"dataframe\">\n",
       "  <thead>\n",
       "    <tr style=\"text-align: right;\">\n",
       "      <th></th>\n",
       "      <th>Timestamp</th>\n",
       "      <th>Username</th>\n",
       "      <th>What is your current position?</th>\n",
       "      <th>In what kind of research institute do you work?</th>\n",
       "      <th>Which of these software do you use for your Quant Analysis.  [TPP (StPeter, Libra, XPress)]</th>\n",
       "      <th>Which of these software do you use for your Quant Analysis.  [OpenMS]</th>\n",
       "      <th>Which of these software do you use for your Quant Analysis.  [Other]</th>\n",
       "      <th>Which of these software do you use for your Quant Analysis.  [MSnBase (PMID:22113085)]</th>\n",
       "      <th>Which of these software do you use for your Quant Analysis.  [moFF]</th>\n",
       "      <th>Which of these software do you use for your Quant Analysis.  [FlashLFQ (PMID:29083185)]</th>\n",
       "      <th>...</th>\n",
       "      <th>Search engine and type of analysis  [MSAmanda]</th>\n",
       "      <th>Search engine and type of analysis  [Mascot]</th>\n",
       "      <th>Which type of Protein quant data you would like to see more in proteomics resources. (e.g. TPP, ProteomicsDB, etc) [Label-Free Differential expression experiments]</th>\n",
       "      <th>Which type of Protein quant data you would like to see more in proteomics resources. (e.g. TPP, ProteomicsDB, etc) [Label-Free Base line expression experiments]</th>\n",
       "      <th>Which type of Protein quant data you would like to see more in proteomics resources. (e.g. TPP, ProteomicsDB, etc) [TMT Differential expression experiments]</th>\n",
       "      <th>Which type of Protein quant data you would like to see more in proteomics resources. (e.g. PeptideAtlas, ProteomicsDB, etc) [TMT Base line expression experiments]</th>\n",
       "      <th>Which type of Protein quant data you would like to see more in proteomics resources. (e.g. PeptideAtlas, ProteomicsDB, etc) [SRM/MR expression Experiments]</th>\n",
       "      <th>Which type of Protein quant data you would like to see more in proteomics resources. (e.g. PeptideAtlas, ProteomicsDB, etc) [DIA/SWATH expression experiments]</th>\n",
       "      <th>In case you would like to see something else more represented in Proteomics resources let us know.</th>\n",
       "      <th>Unnamed: 66</th>\n",
       "    </tr>\n",
       "  </thead>\n",
       "  <tbody>\n",
       "    <tr>\n",
       "      <th>0</th>\n",
       "      <td>2019/02/08 1:42:21 PM GMT</td>\n",
       "      <td>user1</td>\n",
       "      <td>NaN</td>\n",
       "      <td>NaN</td>\n",
       "      <td>NaN</td>\n",
       "      <td>NaN</td>\n",
       "      <td>NaN</td>\n",
       "      <td>NaN</td>\n",
       "      <td>NaN</td>\n",
       "      <td>NaN</td>\n",
       "      <td>...</td>\n",
       "      <td>NaN</td>\n",
       "      <td>NaN</td>\n",
       "      <td>NaN</td>\n",
       "      <td>NaN</td>\n",
       "      <td>NaN</td>\n",
       "      <td>NaN</td>\n",
       "      <td>NaN</td>\n",
       "      <td>NaN</td>\n",
       "      <td>NaN</td>\n",
       "      <td>NaN</td>\n",
       "    </tr>\n",
       "    <tr>\n",
       "      <th>1</th>\n",
       "      <td>2019/02/08 1:49:09 PM GMT</td>\n",
       "      <td>user2</td>\n",
       "      <td>NaN</td>\n",
       "      <td>NaN</td>\n",
       "      <td>NaN</td>\n",
       "      <td>NaN</td>\n",
       "      <td>NaN</td>\n",
       "      <td>NaN</td>\n",
       "      <td>NaN</td>\n",
       "      <td>NaN</td>\n",
       "      <td>...</td>\n",
       "      <td>NaN</td>\n",
       "      <td>NaN</td>\n",
       "      <td>NaN</td>\n",
       "      <td>NaN</td>\n",
       "      <td>NaN</td>\n",
       "      <td>NaN</td>\n",
       "      <td>NaN</td>\n",
       "      <td>NaN</td>\n",
       "      <td>NaN</td>\n",
       "      <td>NaN</td>\n",
       "    </tr>\n",
       "    <tr>\n",
       "      <th>2</th>\n",
       "      <td>2019/02/08 1:54:35 PM GMT</td>\n",
       "      <td>user3</td>\n",
       "      <td>NaN</td>\n",
       "      <td>NaN</td>\n",
       "      <td>NaN</td>\n",
       "      <td>NaN</td>\n",
       "      <td>NaN</td>\n",
       "      <td>NaN</td>\n",
       "      <td>NaN</td>\n",
       "      <td>NaN</td>\n",
       "      <td>...</td>\n",
       "      <td>NaN</td>\n",
       "      <td>NaN</td>\n",
       "      <td>NaN</td>\n",
       "      <td>NaN</td>\n",
       "      <td>NaN</td>\n",
       "      <td>NaN</td>\n",
       "      <td>NaN</td>\n",
       "      <td>NaN</td>\n",
       "      <td>NaN</td>\n",
       "      <td>NaN</td>\n",
       "    </tr>\n",
       "    <tr>\n",
       "      <th>3</th>\n",
       "      <td>2019/02/08 2:13:28 PM GMT</td>\n",
       "      <td>user4</td>\n",
       "      <td>NaN</td>\n",
       "      <td>NaN</td>\n",
       "      <td>NaN</td>\n",
       "      <td>NaN</td>\n",
       "      <td>NaN</td>\n",
       "      <td>NaN</td>\n",
       "      <td>NaN</td>\n",
       "      <td>NaN</td>\n",
       "      <td>...</td>\n",
       "      <td>NaN</td>\n",
       "      <td>NaN</td>\n",
       "      <td>NaN</td>\n",
       "      <td>NaN</td>\n",
       "      <td>NaN</td>\n",
       "      <td>NaN</td>\n",
       "      <td>NaN</td>\n",
       "      <td>NaN</td>\n",
       "      <td>NaN</td>\n",
       "      <td>NaN</td>\n",
       "    </tr>\n",
       "    <tr>\n",
       "      <th>4</th>\n",
       "      <td>2019/02/08 3:22:10 PM GMT</td>\n",
       "      <td>user5</td>\n",
       "      <td>NaN</td>\n",
       "      <td>NaN</td>\n",
       "      <td>NaN</td>\n",
       "      <td>NaN</td>\n",
       "      <td>NaN</td>\n",
       "      <td>NaN</td>\n",
       "      <td>NaN</td>\n",
       "      <td>Label Free Analysis MS1</td>\n",
       "      <td>...</td>\n",
       "      <td>NaN</td>\n",
       "      <td>NaN</td>\n",
       "      <td>NaN</td>\n",
       "      <td>NaN</td>\n",
       "      <td>NaN</td>\n",
       "      <td>NaN</td>\n",
       "      <td>NaN</td>\n",
       "      <td>NaN</td>\n",
       "      <td>NaN</td>\n",
       "      <td>NaN</td>\n",
       "    </tr>\n",
       "  </tbody>\n",
       "</table>\n",
       "<p>5 rows × 67 columns</p>\n",
       "</div>"
      ],
      "text/plain": [
       "                   Timestamp Username What is your current position?  \\\n",
       "0  2019/02/08 1:42:21 PM GMT    user1                            NaN   \n",
       "1  2019/02/08 1:49:09 PM GMT    user2                            NaN   \n",
       "2  2019/02/08 1:54:35 PM GMT    user3                            NaN   \n",
       "3  2019/02/08 2:13:28 PM GMT    user4                            NaN   \n",
       "4  2019/02/08 3:22:10 PM GMT    user5                            NaN   \n",
       "\n",
       "  In what kind of research institute do you work?  \\\n",
       "0                                             NaN   \n",
       "1                                             NaN   \n",
       "2                                             NaN   \n",
       "3                                             NaN   \n",
       "4                                             NaN   \n",
       "\n",
       "  Which of these software do you use for your Quant Analysis.  [TPP (StPeter, Libra, XPress)]  \\\n",
       "0                                                NaN                                            \n",
       "1                                                NaN                                            \n",
       "2                                                NaN                                            \n",
       "3                                                NaN                                            \n",
       "4                                                NaN                                            \n",
       "\n",
       "  Which of these software do you use for your Quant Analysis.  [OpenMS]  \\\n",
       "0                                                NaN                      \n",
       "1                                                NaN                      \n",
       "2                                                NaN                      \n",
       "3                                                NaN                      \n",
       "4                                                NaN                      \n",
       "\n",
       "  Which of these software do you use for your Quant Analysis.  [Other]  \\\n",
       "0                                                NaN                     \n",
       "1                                                NaN                     \n",
       "2                                                NaN                     \n",
       "3                                                NaN                     \n",
       "4                                                NaN                     \n",
       "\n",
       "  Which of these software do you use for your Quant Analysis.  [MSnBase (PMID:22113085)]  \\\n",
       "0                                                NaN                                       \n",
       "1                                                NaN                                       \n",
       "2                                                NaN                                       \n",
       "3                                                NaN                                       \n",
       "4                                                NaN                                       \n",
       "\n",
       "  Which of these software do you use for your Quant Analysis.  [moFF]  \\\n",
       "0                                                NaN                    \n",
       "1                                                NaN                    \n",
       "2                                                NaN                    \n",
       "3                                                NaN                    \n",
       "4                                                NaN                    \n",
       "\n",
       "  Which of these software do you use for your Quant Analysis.  [FlashLFQ (PMID:29083185)]  \\\n",
       "0                                                NaN                                        \n",
       "1                                                NaN                                        \n",
       "2                                                NaN                                        \n",
       "3                                                NaN                                        \n",
       "4                            Label Free Analysis MS1                                        \n",
       "\n",
       "      ...     Search engine and type of analysis  [MSAmanda]  \\\n",
       "0     ...                                                NaN   \n",
       "1     ...                                                NaN   \n",
       "2     ...                                                NaN   \n",
       "3     ...                                                NaN   \n",
       "4     ...                                                NaN   \n",
       "\n",
       "  Search engine and type of analysis  [Mascot]  \\\n",
       "0                                          NaN   \n",
       "1                                          NaN   \n",
       "2                                          NaN   \n",
       "3                                          NaN   \n",
       "4                                          NaN   \n",
       "\n",
       "  Which type of Protein quant data you would like to see more in proteomics resources. (e.g. TPP, ProteomicsDB, etc) [Label-Free Differential expression experiments]  \\\n",
       "0                                                NaN                                                                                                                    \n",
       "1                                                NaN                                                                                                                    \n",
       "2                                                NaN                                                                                                                    \n",
       "3                                                NaN                                                                                                                    \n",
       "4                                                NaN                                                                                                                    \n",
       "\n",
       "  Which type of Protein quant data you would like to see more in proteomics resources. (e.g. TPP, ProteomicsDB, etc) [Label-Free Base line expression experiments]  \\\n",
       "0                                                NaN                                                                                                                 \n",
       "1                                                NaN                                                                                                                 \n",
       "2                                                NaN                                                                                                                 \n",
       "3                                                NaN                                                                                                                 \n",
       "4                                                NaN                                                                                                                 \n",
       "\n",
       "  Which type of Protein quant data you would like to see more in proteomics resources. (e.g. TPP, ProteomicsDB, etc) [TMT Differential expression experiments]  \\\n",
       "0                                                NaN                                                                                                             \n",
       "1                                                NaN                                                                                                             \n",
       "2                                                NaN                                                                                                             \n",
       "3                                                NaN                                                                                                             \n",
       "4                                                NaN                                                                                                             \n",
       "\n",
       "  Which type of Protein quant data you would like to see more in proteomics resources. (e.g. PeptideAtlas, ProteomicsDB, etc) [TMT Base line expression experiments]  \\\n",
       "0                                                NaN                                                                                                                   \n",
       "1                                                NaN                                                                                                                   \n",
       "2                                                NaN                                                                                                                   \n",
       "3                                                NaN                                                                                                                   \n",
       "4                                                NaN                                                                                                                   \n",
       "\n",
       "  Which type of Protein quant data you would like to see more in proteomics resources. (e.g. PeptideAtlas, ProteomicsDB, etc) [SRM/MR expression Experiments]  \\\n",
       "0                                                NaN                                                                                                            \n",
       "1                                                NaN                                                                                                            \n",
       "2                                                NaN                                                                                                            \n",
       "3                                                NaN                                                                                                            \n",
       "4                                                NaN                                                                                                            \n",
       "\n",
       "  Which type of Protein quant data you would like to see more in proteomics resources. (e.g. PeptideAtlas, ProteomicsDB, etc) [DIA/SWATH expression experiments]  \\\n",
       "0                                                NaN                                                                                                               \n",
       "1                                                NaN                                                                                                               \n",
       "2                                                NaN                                                                                                               \n",
       "3                                                NaN                                                                                                               \n",
       "4                                                NaN                                                                                                               \n",
       "\n",
       "  In case you would like to see something else more represented in Proteomics resources let us know.   \\\n",
       "0                                                NaN                                                    \n",
       "1                                                NaN                                                    \n",
       "2                                                NaN                                                    \n",
       "3                                                NaN                                                    \n",
       "4                                                NaN                                                    \n",
       "\n",
       "  Unnamed: 66  \n",
       "0         NaN  \n",
       "1         NaN  \n",
       "2         NaN  \n",
       "3         NaN  \n",
       "4         NaN  \n",
       "\n",
       "[5 rows x 67 columns]"
      ]
     },
     "execution_count": 240,
     "metadata": {},
     "output_type": "execute_result"
    }
   ],
   "source": [
    "import pandas as pd \n",
    "#import plotly.plotly as py\n",
    "import plotly.graph_objs as go\n",
    "from plotly.offline import download_plotlyjs, init_notebook_mode, plot, iplot\n",
    "import plotly.plotly as py\n",
    "\n",
    "init_notebook_mode(connected=True) \n",
    "\n",
    "# Read the poll data \n",
    "data_df = pd.read_csv(\"../data/poll-results-07032019.csv\")\n",
    "data_citations = pd.read_csv(\"../data/citations-count.csv\")\n",
    "data_df.head() "
   ]
  },
  {
   "cell_type": "code",
   "execution_count": 241,
   "metadata": {
    "scrolled": true
   },
   "outputs": [],
   "source": [
    "def get_pie_chart(collection): \n",
    "    \"\"\"\n",
    "    This function returns a pie chart from a collection of elements.\n",
    "    @param collection must be a column from a pandas datframe \n",
    "    \"\"\"\n",
    "    \n",
    "    collection_counts = {} \n",
    "    for word in collection:\n",
    "        token_collection = str(word).split(\";\")\n",
    "        for token in token_collection: \n",
    "            if token.strip() != 'nan':\n",
    "                if token not in collection_counts:\n",
    "                   collection_counts[token] = 0\n",
    "                collection_counts[token] = collection_counts[token] + 1\n",
    "\n",
    "  \n",
    "    trace=go.Pie(labels=[k  for  k in  collection_counts.keys()],values=[k  for  k in  collection_counts.values()])\n",
    "    return trace\n",
    "\n",
    "def get_multioption_bar_data(data_df, question): \n",
    "    \"\"\"\n",
    "    This function get a panda dataframe and an a multioption question and generate a barplot \n",
    "    @param data Pandas data frame\n",
    "    @param question Question (column name prefix)\n",
    "    \"\"\"\n",
    "    column_names = [col for col in data_df.columns if question in col]\n",
    "    values = []\n",
    "    for column in column_names: \n",
    "        value = column[column.find(\"[\") + 1: column.find(\"]\")]\n",
    "        values.append(value)\n",
    "\n",
    "    plot_values = {}\n",
    "\n",
    "    for index, row in data_df.iterrows():\n",
    "        for column in column_names: \n",
    "            column_value = column[column.find(\"[\") + 1: column.find(\"]\")]\n",
    "            complete_value = data_df.at[index,column]\n",
    "            combined_values = str(complete_value).split(\";\")\n",
    "            for value in combined_values: \n",
    "                if value not in values: \n",
    "                    if value in plot_values:\n",
    "                        if column_value in plot_values[value]:\n",
    "                            count = plot_values[value][column_value] + 1\n",
    "                            plot_values[value].update({column_value:count})\n",
    "                        elif ((str(value)).lower() != 'nan'):\n",
    "                            plot_values[value].update({column_value:1})\n",
    "                    elif((str(value)).lower() != 'nan'):\n",
    "                        plot_values[value] = {column_value: 1}\n",
    "\n",
    "    data = [] \n",
    "    for option in plot_values: \n",
    "        trace = go.Bar(x = list(plot_values[option].keys()), y = list(plot_values[option].values()),name = option)\n",
    "        data.append(trace)\n",
    "    return data \n",
    "\n",
    "def get_column_distribution(current_data, question):\n",
    "    \"\"\"\n",
    "    This function provides the distribution for one column question. \n",
    "    \"\"\"\n",
    "    downstream_cols = [col for col in current_data.columns if question in col]\n",
    "    downstream_data = current_data[downstream_cols]\n",
    "\n",
    "    downstream_dic = {}\n",
    "    for index, row in downstream_data.iterrows():\n",
    "        for column in downstream_cols:\n",
    "            sentence = downstream_data.at[index, column]\n",
    "            if(str(sentence).lower() != 'nan'):\n",
    "                values = sentence.split(\";\")\n",
    "                for value in values:\n",
    "                    if value.strip() not in downstream_dic:\n",
    "                       downstream_dic[value.strip()] = 0\n",
    "                    downstream_dic[value.strip()] = downstream_dic[value.strip()] + 1\n",
    "\n",
    "    data = [go.Bar(\n",
    "           x=list(downstream_dic.values()),\n",
    "           y=list(downstream_dic.keys()),\n",
    "           orientation = 'h'\n",
    "     )]\n",
    "    return data\n",
    "    \n",
    "    "
   ]
  },
  {
   "cell_type": "markdown",
   "metadata": {},
   "source": [
    "## Position Distribution\n",
    "\n",
    "Read the position and occupation of every participant of the poll. "
   ]
  },
  {
   "cell_type": "code",
   "execution_count": 242,
   "metadata": {},
   "outputs": [
    {
     "data": {
      "application/vnd.plotly.v1+json": {
       "data": [
        {
         "labels": [
          "Director",
          "Master's student",
          "Developer - Bioinformatician",
          "Master Student",
          "Professor",
          "Consultant",
          "Project Manager",
          "CEO",
          "Principal Investigator",
          "Phd Student",
          "CTO",
          "Scientist",
          "Research Scientist - Staff",
          "Lab Manager",
          "Post-Doc",
          "Head of Core Facility Proteomics",
          "Student",
          "Head proteomics research platform"
         ],
         "type": "pie",
         "uid": "83d06242-2ee0-4495-8085-d48c8e38740b",
         "values": [
          6,
          1,
          9,
          1,
          4,
          2,
          7,
          2,
          25,
          40,
          1,
          1,
          41,
          1,
          36,
          1,
          1,
          1
         ]
        }
       ],
       "layout": {}
      },
      "text/html": [
       "<div id=\"f08675d2-ebc3-4fc6-9694-6b5e9a5e3a61\" style=\"height: 525px; width: 100%;\" class=\"plotly-graph-div\"></div><script type=\"text/javascript\">require([\"plotly\"], function(Plotly) { window.PLOTLYENV=window.PLOTLYENV || {};window.PLOTLYENV.BASE_URL=\"https://plot.ly\";Plotly.newPlot(\"f08675d2-ebc3-4fc6-9694-6b5e9a5e3a61\", [{\"uid\": \"3c4e7b2a-cee7-4f87-aaca-e995be4101c6\", \"labels\": [\"Director\", \"Master's student\", \"Developer - Bioinformatician\", \"Master Student\", \"Professor\", \"Consultant\", \"Project Manager\", \"CEO\", \"Principal Investigator\", \"Phd Student\", \"CTO\", \"Scientist\", \"Research Scientist - Staff\", \"Lab Manager\", \"Post-Doc\", \"Head of Core Facility Proteomics\", \"Student\", \"Head proteomics research platform\"], \"type\": \"pie\", \"values\": [6, 1, 9, 1, 4, 2, 7, 2, 25, 40, 1, 1, 41, 1, 36, 1, 1, 1]}], {}, {\"showLink\": true, \"linkText\": \"Export to plot.ly\"})});</script><script type=\"text/javascript\">window.addEventListener(\"resize\", function(){window._Plotly.Plots.resize(document.getElementById(\"f08675d2-ebc3-4fc6-9694-6b5e9a5e3a61\"));});</script>"
      ],
      "text/vnd.plotly.v1+html": [
       "<div id=\"f08675d2-ebc3-4fc6-9694-6b5e9a5e3a61\" style=\"height: 525px; width: 100%;\" class=\"plotly-graph-div\"></div><script type=\"text/javascript\">require([\"plotly\"], function(Plotly) { window.PLOTLYENV=window.PLOTLYENV || {};window.PLOTLYENV.BASE_URL=\"https://plot.ly\";Plotly.newPlot(\"f08675d2-ebc3-4fc6-9694-6b5e9a5e3a61\", [{\"uid\": \"3c4e7b2a-cee7-4f87-aaca-e995be4101c6\", \"labels\": [\"Director\", \"Master's student\", \"Developer - Bioinformatician\", \"Master Student\", \"Professor\", \"Consultant\", \"Project Manager\", \"CEO\", \"Principal Investigator\", \"Phd Student\", \"CTO\", \"Scientist\", \"Research Scientist - Staff\", \"Lab Manager\", \"Post-Doc\", \"Head of Core Facility Proteomics\", \"Student\", \"Head proteomics research platform\"], \"type\": \"pie\", \"values\": [6, 1, 9, 1, 4, 2, 7, 2, 25, 40, 1, 1, 41, 1, 36, 1, 1, 1]}], {}, {\"showLink\": true, \"linkText\": \"Export to plot.ly\"})});</script><script type=\"text/javascript\">window.addEventListener(\"resize\", function(){window._Plotly.Plots.resize(document.getElementById(\"f08675d2-ebc3-4fc6-9694-6b5e9a5e3a61\"));});</script>"
      ]
     },
     "metadata": {},
     "output_type": "display_data"
    }
   ],
   "source": [
    "positions = data_df.iloc[:,2]\n",
    "trace = get_pie_chart(positions)\n",
    "iplot([trace])"
   ]
  },
  {
   "cell_type": "markdown",
   "metadata": {},
   "source": [
    "## Affiliation distribtuion \n",
    "\n",
    "The number of participants in the poll by type of Institution. "
   ]
  },
  {
   "cell_type": "code",
   "execution_count": 243,
   "metadata": {},
   "outputs": [
    {
     "data": {
      "application/vnd.plotly.v1+json": {
       "data": [
        {
         "labels": [
          "Hospital, Research Hospital",
          "University",
          "Core Facility",
          "Research Institute",
          "Company, Start-up, Pharma"
         ],
         "type": "pie",
         "uid": "6affc800-9f52-4cd9-bff5-b5bec9cf0742",
         "values": [
          10,
          86,
          16,
          26,
          20
         ]
        }
       ],
       "layout": {}
      },
      "text/html": [
       "<div id=\"3b8ef27a-7645-45c4-ae7d-4ab5b5c29aa3\" style=\"height: 525px; width: 100%;\" class=\"plotly-graph-div\"></div><script type=\"text/javascript\">require([\"plotly\"], function(Plotly) { window.PLOTLYENV=window.PLOTLYENV || {};window.PLOTLYENV.BASE_URL=\"https://plot.ly\";Plotly.newPlot(\"3b8ef27a-7645-45c4-ae7d-4ab5b5c29aa3\", [{\"uid\": \"5c0c8e67-e5c5-4d2e-ad78-47ff561cf828\", \"labels\": [\"Hospital, Research Hospital\", \"University\", \"Core Facility\", \"Research Institute\", \"Company, Start-up, Pharma\"], \"type\": \"pie\", \"values\": [10, 86, 16, 26, 20]}], {}, {\"showLink\": true, \"linkText\": \"Export to plot.ly\"})});</script><script type=\"text/javascript\">window.addEventListener(\"resize\", function(){window._Plotly.Plots.resize(document.getElementById(\"3b8ef27a-7645-45c4-ae7d-4ab5b5c29aa3\"));});</script>"
      ],
      "text/vnd.plotly.v1+html": [
       "<div id=\"3b8ef27a-7645-45c4-ae7d-4ab5b5c29aa3\" style=\"height: 525px; width: 100%;\" class=\"plotly-graph-div\"></div><script type=\"text/javascript\">require([\"plotly\"], function(Plotly) { window.PLOTLYENV=window.PLOTLYENV || {};window.PLOTLYENV.BASE_URL=\"https://plot.ly\";Plotly.newPlot(\"3b8ef27a-7645-45c4-ae7d-4ab5b5c29aa3\", [{\"uid\": \"5c0c8e67-e5c5-4d2e-ad78-47ff561cf828\", \"labels\": [\"Hospital, Research Hospital\", \"University\", \"Core Facility\", \"Research Institute\", \"Company, Start-up, Pharma\"], \"type\": \"pie\", \"values\": [10, 86, 16, 26, 20]}], {}, {\"showLink\": true, \"linkText\": \"Export to plot.ly\"})});</script><script type=\"text/javascript\">window.addEventListener(\"resize\", function(){window._Plotly.Plots.resize(document.getElementById(\"3b8ef27a-7645-45c4-ae7d-4ab5b5c29aa3\"));});</script>"
      ]
     },
     "metadata": {},
     "output_type": "display_data"
    }
   ],
   "source": [
    "affiliations = data_df.iloc[:,3]\n",
    "trace = get_pie_chart(affiliations)     \n",
    "iplot([trace])"
   ]
  },
  {
   "cell_type": "markdown",
   "metadata": {},
   "source": [
    "## Which of these software do you use for your Quant Analysis\n",
    "\n",
    "These plots will show the usage of Quantification software. "
   ]
  },
  {
   "cell_type": "code",
   "execution_count": 244,
   "metadata": {},
   "outputs": [
    {
     "data": {
      "application/vnd.plotly.v1+json": {
       "data": [
        {
         "name": "Phospho Quant analysis",
         "type": "bar",
         "uid": "cdb25a00-4b11-4d43-a229-593f7b11f4a8",
         "x": [
          "OpenMS",
          "Other",
          "MaxQuant",
          "Patterlab (PMID:26658470)",
          "Skyline",
          "Philosopher (Alexey Lab)",
          "EncyclopeDIA (PMID: 30510204)",
          "TPP (StPeter, Libra, XPress)"
         ],
         "y": [
          5,
          8,
          49,
          1,
          11,
          4,
          1,
          2
         ]
        },
        {
         "name": "SILAC analysis",
         "type": "bar",
         "uid": "c8979f07-f40d-4ccc-ba2e-7ca215353352",
         "x": [
          "FlashLFQ (PMID:29083185)",
          "Census",
          "Other",
          "MaxQuant",
          "OpenMS",
          "Skyline",
          "MSnBase (PMID:22113085)",
          "TPP (StPeter, Libra, XPress)"
         ],
         "y": [
          2,
          1,
          4,
          58,
          7,
          11,
          1,
          1
         ]
        },
        {
         "name": "Label Free Analysis MS1",
         "type": "bar",
         "uid": "f9fce532-c00d-45d8-b361-04ff0c14a89e",
         "x": [
          "Other",
          "MaxQuant",
          "Patterlab (PMID:26658470)",
          "Skyline",
          "Philosopher (Alexey Lab)",
          "moFF",
          "OpenMS",
          "FlashLFQ (PMID:29083185)",
          "MSnBase (PMID:22113085)",
          "diffacto",
          "Proline (http://www.profiproteomics.fr)",
          "TPP (StPeter, Libra, XPress)"
         ],
         "y": [
          12,
          101,
          4,
          33,
          10,
          4,
          16,
          16,
          1,
          1,
          1,
          1
         ]
        },
        {
         "name": "TMT analysis",
         "type": "bar",
         "uid": "ddcc720d-a47a-49df-abdb-5b8358b68223",
         "x": [
          "OpenMS",
          "Other",
          "MSnBase (PMID:22113085)",
          "MaxQuant",
          "Patterlab (PMID:26658470)",
          "Skyline",
          "Philosopher (Alexey Lab)",
          "EncyclopeDIA (PMID: 30510204)",
          "TPP (StPeter, Libra, XPress)"
         ],
         "y": [
          9,
          11,
          2,
          51,
          2,
          4,
          7,
          1,
          2
         ]
        },
        {
         "name": "SWATH / DIA Quant",
         "type": "bar",
         "uid": "081e64ee-ef39-40a5-b017-1f7f936ff33d",
         "x": [
          "OpenMS",
          "Other",
          "MaxQuant",
          "Skyline",
          "diffacto",
          "Philosopher (Alexey Lab)",
          "EncyclopeDIA (PMID: 30510204)",
          "TPP (StPeter, Libra, XPress)"
         ],
         "y": [
          12,
          7,
          6,
          34,
          1,
          1,
          3,
          2
         ]
        },
        {
         "name": "Other Quant analysis",
         "type": "bar",
         "uid": "ad653bd5-8dc3-4fcf-8d65-2dc1e272fabb",
         "x": [
          "FlashLFQ (PMID:29083185)",
          "OpenMS",
          "Other",
          "HIQuant (PMID:30282776)",
          "MaxQuant",
          "MSnBase (PMID:22113085)",
          "Patterlab (PMID:26658470)",
          "Skyline",
          "Philosopher (Alexey Lab)",
          "TPP (StPeter, Libra, XPress)"
         ],
         "y": [
          2,
          11,
          9,
          1,
          16,
          2,
          2,
          36,
          5,
          2
         ]
        },
        {
         "name": "Label Free Spectral Count Analysis",
         "type": "bar",
         "uid": "fa538c38-f866-41bf-ad0b-62cfcc0449db",
         "x": [
          "Other",
          "MaxQuant",
          "OpenMS",
          "Skyline",
          "Philosopher (Alexey Lab)",
          "moFF",
          "Patterlab (PMID:26658470)",
          "FlashLFQ (PMID:29083185)",
          "MSnBase (PMID:22113085)",
          "EncyclopeDIA (PMID: 30510204)",
          "TPP (StPeter, Libra, XPress)"
         ],
         "y": [
          13,
          33,
          4,
          6,
          8,
          1,
          4,
          2,
          1,
          1,
          1
         ]
        }
       ],
       "layout": {
        "barmode": "group"
       }
      },
      "text/html": [
       "<div id=\"ade94b1c-a954-4e32-88e0-f176dc317c29\" style=\"height: 525px; width: 100%;\" class=\"plotly-graph-div\"></div><script type=\"text/javascript\">require([\"plotly\"], function(Plotly) { window.PLOTLYENV=window.PLOTLYENV || {};window.PLOTLYENV.BASE_URL=\"https://plot.ly\";Plotly.newPlot(\"ade94b1c-a954-4e32-88e0-f176dc317c29\", [{\"uid\": \"cdb25a00-4b11-4d43-a229-593f7b11f4a8\", \"y\": [5, 8, 49, 1, 11, 4, 1, 2], \"name\": \"Phospho Quant analysis\", \"x\": [\"OpenMS\", \"Other\", \"MaxQuant\", \"Patterlab (PMID:26658470)\", \"Skyline\", \"Philosopher (Alexey Lab)\", \"EncyclopeDIA (PMID: 30510204)\", \"TPP (StPeter, Libra, XPress)\"], \"type\": \"bar\"}, {\"uid\": \"c8979f07-f40d-4ccc-ba2e-7ca215353352\", \"y\": [2, 1, 4, 58, 7, 11, 1, 1], \"name\": \"SILAC analysis\", \"x\": [\"FlashLFQ (PMID:29083185)\", \"Census\", \"Other\", \"MaxQuant\", \"OpenMS\", \"Skyline\", \"MSnBase (PMID:22113085)\", \"TPP (StPeter, Libra, XPress)\"], \"type\": \"bar\"}, {\"uid\": \"f9fce532-c00d-45d8-b361-04ff0c14a89e\", \"y\": [12, 101, 4, 33, 10, 4, 16, 16, 1, 1, 1, 1], \"name\": \"Label Free Analysis MS1\", \"x\": [\"Other\", \"MaxQuant\", \"Patterlab (PMID:26658470)\", \"Skyline\", \"Philosopher (Alexey Lab)\", \"moFF\", \"OpenMS\", \"FlashLFQ (PMID:29083185)\", \"MSnBase (PMID:22113085)\", \"diffacto\", \"Proline (http://www.profiproteomics.fr)\", \"TPP (StPeter, Libra, XPress)\"], \"type\": \"bar\"}, {\"uid\": \"ddcc720d-a47a-49df-abdb-5b8358b68223\", \"y\": [9, 11, 2, 51, 2, 4, 7, 1, 2], \"name\": \"TMT analysis\", \"x\": [\"OpenMS\", \"Other\", \"MSnBase (PMID:22113085)\", \"MaxQuant\", \"Patterlab (PMID:26658470)\", \"Skyline\", \"Philosopher (Alexey Lab)\", \"EncyclopeDIA (PMID: 30510204)\", \"TPP (StPeter, Libra, XPress)\"], \"type\": \"bar\"}, {\"uid\": \"081e64ee-ef39-40a5-b017-1f7f936ff33d\", \"y\": [12, 7, 6, 34, 1, 1, 3, 2], \"name\": \"SWATH / DIA Quant\", \"x\": [\"OpenMS\", \"Other\", \"MaxQuant\", \"Skyline\", \"diffacto\", \"Philosopher (Alexey Lab)\", \"EncyclopeDIA (PMID: 30510204)\", \"TPP (StPeter, Libra, XPress)\"], \"type\": \"bar\"}, {\"uid\": \"ad653bd5-8dc3-4fcf-8d65-2dc1e272fabb\", \"y\": [2, 11, 9, 1, 16, 2, 2, 36, 5, 2], \"name\": \"Other Quant analysis\", \"x\": [\"FlashLFQ (PMID:29083185)\", \"OpenMS\", \"Other\", \"HIQuant (PMID:30282776)\", \"MaxQuant\", \"MSnBase (PMID:22113085)\", \"Patterlab (PMID:26658470)\", \"Skyline\", \"Philosopher (Alexey Lab)\", \"TPP (StPeter, Libra, XPress)\"], \"type\": \"bar\"}, {\"uid\": \"fa538c38-f866-41bf-ad0b-62cfcc0449db\", \"y\": [13, 33, 4, 6, 8, 1, 4, 2, 1, 1, 1], \"name\": \"Label Free Spectral Count Analysis\", \"x\": [\"Other\", \"MaxQuant\", \"OpenMS\", \"Skyline\", \"Philosopher (Alexey Lab)\", \"moFF\", \"Patterlab (PMID:26658470)\", \"FlashLFQ (PMID:29083185)\", \"MSnBase (PMID:22113085)\", \"EncyclopeDIA (PMID: 30510204)\", \"TPP (StPeter, Libra, XPress)\"], \"type\": \"bar\"}], {\"barmode\": \"group\"}, {\"showLink\": true, \"linkText\": \"Export to plot.ly\"})});</script><script type=\"text/javascript\">window.addEventListener(\"resize\", function(){window._Plotly.Plots.resize(document.getElementById(\"ade94b1c-a954-4e32-88e0-f176dc317c29\"));});</script>"
      ],
      "text/vnd.plotly.v1+html": [
       "<div id=\"ade94b1c-a954-4e32-88e0-f176dc317c29\" style=\"height: 525px; width: 100%;\" class=\"plotly-graph-div\"></div><script type=\"text/javascript\">require([\"plotly\"], function(Plotly) { window.PLOTLYENV=window.PLOTLYENV || {};window.PLOTLYENV.BASE_URL=\"https://plot.ly\";Plotly.newPlot(\"ade94b1c-a954-4e32-88e0-f176dc317c29\", [{\"uid\": \"cdb25a00-4b11-4d43-a229-593f7b11f4a8\", \"y\": [5, 8, 49, 1, 11, 4, 1, 2], \"name\": \"Phospho Quant analysis\", \"x\": [\"OpenMS\", \"Other\", \"MaxQuant\", \"Patterlab (PMID:26658470)\", \"Skyline\", \"Philosopher (Alexey Lab)\", \"EncyclopeDIA (PMID: 30510204)\", \"TPP (StPeter, Libra, XPress)\"], \"type\": \"bar\"}, {\"uid\": \"c8979f07-f40d-4ccc-ba2e-7ca215353352\", \"y\": [2, 1, 4, 58, 7, 11, 1, 1], \"name\": \"SILAC analysis\", \"x\": [\"FlashLFQ (PMID:29083185)\", \"Census\", \"Other\", \"MaxQuant\", \"OpenMS\", \"Skyline\", \"MSnBase (PMID:22113085)\", \"TPP (StPeter, Libra, XPress)\"], \"type\": \"bar\"}, {\"uid\": \"f9fce532-c00d-45d8-b361-04ff0c14a89e\", \"y\": [12, 101, 4, 33, 10, 4, 16, 16, 1, 1, 1, 1], \"name\": \"Label Free Analysis MS1\", \"x\": [\"Other\", \"MaxQuant\", \"Patterlab (PMID:26658470)\", \"Skyline\", \"Philosopher (Alexey Lab)\", \"moFF\", \"OpenMS\", \"FlashLFQ (PMID:29083185)\", \"MSnBase (PMID:22113085)\", \"diffacto\", \"Proline (http://www.profiproteomics.fr)\", \"TPP (StPeter, Libra, XPress)\"], \"type\": \"bar\"}, {\"uid\": \"ddcc720d-a47a-49df-abdb-5b8358b68223\", \"y\": [9, 11, 2, 51, 2, 4, 7, 1, 2], \"name\": \"TMT analysis\", \"x\": [\"OpenMS\", \"Other\", \"MSnBase (PMID:22113085)\", \"MaxQuant\", \"Patterlab (PMID:26658470)\", \"Skyline\", \"Philosopher (Alexey Lab)\", \"EncyclopeDIA (PMID: 30510204)\", \"TPP (StPeter, Libra, XPress)\"], \"type\": \"bar\"}, {\"uid\": \"081e64ee-ef39-40a5-b017-1f7f936ff33d\", \"y\": [12, 7, 6, 34, 1, 1, 3, 2], \"name\": \"SWATH / DIA Quant\", \"x\": [\"OpenMS\", \"Other\", \"MaxQuant\", \"Skyline\", \"diffacto\", \"Philosopher (Alexey Lab)\", \"EncyclopeDIA (PMID: 30510204)\", \"TPP (StPeter, Libra, XPress)\"], \"type\": \"bar\"}, {\"uid\": \"ad653bd5-8dc3-4fcf-8d65-2dc1e272fabb\", \"y\": [2, 11, 9, 1, 16, 2, 2, 36, 5, 2], \"name\": \"Other Quant analysis\", \"x\": [\"FlashLFQ (PMID:29083185)\", \"OpenMS\", \"Other\", \"HIQuant (PMID:30282776)\", \"MaxQuant\", \"MSnBase (PMID:22113085)\", \"Patterlab (PMID:26658470)\", \"Skyline\", \"Philosopher (Alexey Lab)\", \"TPP (StPeter, Libra, XPress)\"], \"type\": \"bar\"}, {\"uid\": \"fa538c38-f866-41bf-ad0b-62cfcc0449db\", \"y\": [13, 33, 4, 6, 8, 1, 4, 2, 1, 1, 1], \"name\": \"Label Free Spectral Count Analysis\", \"x\": [\"Other\", \"MaxQuant\", \"OpenMS\", \"Skyline\", \"Philosopher (Alexey Lab)\", \"moFF\", \"Patterlab (PMID:26658470)\", \"FlashLFQ (PMID:29083185)\", \"MSnBase (PMID:22113085)\", \"EncyclopeDIA (PMID: 30510204)\", \"TPP (StPeter, Libra, XPress)\"], \"type\": \"bar\"}], {\"barmode\": \"group\"}, {\"showLink\": true, \"linkText\": \"Export to plot.ly\"})});</script><script type=\"text/javascript\">window.addEventListener(\"resize\", function(){window._Plotly.Plots.resize(document.getElementById(\"ade94b1c-a954-4e32-88e0-f176dc317c29\"));});</script>"
      ]
     },
     "metadata": {},
     "output_type": "display_data"
    }
   ],
   "source": [
    "question = \"Which of these software do you use for your Quant Analysis\"\n",
    "data = get_multioption_bar_data(data_df, question)\n",
    "layout = go.Layout(barmode='group')\n",
    "fig = go.Figure(data=data, layout=layout)\n",
    "iplot(fig, filename='grouped-bar')\n"
   ]
  },
  {
   "cell_type": "markdown",
   "metadata": {},
   "source": [
    "## Which commercial software do you use for your Quant Analysis\n",
    "\n",
    "These plots will show the usage of Quantification software (Commercial software). "
   ]
  },
  {
   "cell_type": "code",
   "execution_count": 245,
   "metadata": {},
   "outputs": [
    {
     "data": {
      "application/vnd.plotly.v1+json": {
       "data": [
        {
         "name": "Phospho Quant analysis",
         "type": "bar",
         "uid": "96e1c092-97bc-4fec-9522-3d07071f07be",
         "x": [
          "Scaffold",
          "Other",
          "Spectronaut",
          "Proteome Discover",
          "Peaks",
          "Mascot ",
          "Peak View ",
          "Progenesis"
         ],
         "y": [
          6,
          1,
          3,
          26,
          4,
          12,
          1,
          2
         ]
        },
        {
         "name": "SILAC analysis",
         "type": "bar",
         "uid": "a319fa21-ae91-4705-83f5-bce483a5a145",
         "x": [
          "Scaffold",
          "Peaks",
          "Proteome Discover",
          "Mascot ",
          "Progenesis"
         ],
         "y": [
          6,
          3,
          27,
          12,
          2
         ]
        },
        {
         "name": "Label Free Analysis MS1",
         "type": "bar",
         "uid": "22071af5-48e6-439f-a4ec-28fa68cd4c5a",
         "x": [
          "Scaffold",
          "Other",
          "Peaks",
          "Proteome Discover",
          "Spectronaut",
          "Mascot ",
          "Peak View ",
          "Progenesis"
         ],
         "y": [
          8,
          3,
          12,
          47,
          3,
          24,
          1,
          18
         ]
        },
        {
         "name": "TMT analysis",
         "type": "bar",
         "uid": "ba998c93-9fb3-4c06-9e1a-182c471f08af",
         "x": [
          "Scaffold",
          "Other",
          "Peaks",
          "Proteome Discover",
          "Mascot "
         ],
         "y": [
          4,
          1,
          5,
          47,
          14
         ]
        },
        {
         "name": "SWATH / DIA Quant",
         "type": "bar",
         "uid": "0b232496-85e1-4021-a7f1-3e5ce84e718e",
         "x": [
          "Scaffold",
          "Spectronaut",
          "Proteome Discover",
          "Peaks",
          "Mascot ",
          "Peak View "
         ],
         "y": [
          3,
          23,
          4,
          2,
          3,
          2
         ]
        },
        {
         "name": "Other Quant analysis",
         "type": "bar",
         "uid": "f40602a3-2921-4d5f-8760-acac384acbdc",
         "x": [
          "Scaffold",
          "Other",
          "Spectronaut",
          "Proteome Discover",
          "Peaks",
          "Mascot ",
          "Progenesis"
         ],
         "y": [
          5,
          1,
          1,
          14,
          3,
          9,
          2
         ]
        },
        {
         "name": "Label Free Spectral Count Analysis",
         "type": "bar",
         "uid": "5b980911-31ec-42b2-b9bc-6fc6c76e62fe",
         "x": [
          "Scaffold",
          "Other",
          "Peaks",
          "Proteome Discover",
          "Mascot "
         ],
         "y": [
          16,
          3,
          6,
          23,
          16
         ]
        }
       ],
       "layout": {
        "barmode": "group"
       }
      },
      "text/html": [
       "<div id=\"fd68533e-6ed0-4e9b-b8cd-1b9516b7750f\" style=\"height: 525px; width: 100%;\" class=\"plotly-graph-div\"></div><script type=\"text/javascript\">require([\"plotly\"], function(Plotly) { window.PLOTLYENV=window.PLOTLYENV || {};window.PLOTLYENV.BASE_URL=\"https://plot.ly\";Plotly.newPlot(\"fd68533e-6ed0-4e9b-b8cd-1b9516b7750f\", [{\"uid\": \"96e1c092-97bc-4fec-9522-3d07071f07be\", \"y\": [6, 1, 3, 26, 4, 12, 1, 2], \"name\": \"Phospho Quant analysis\", \"x\": [\"Scaffold\", \"Other\", \"Spectronaut\", \"Proteome Discover\", \"Peaks\", \"Mascot \", \"Peak View \", \"Progenesis\"], \"type\": \"bar\"}, {\"uid\": \"a319fa21-ae91-4705-83f5-bce483a5a145\", \"y\": [6, 3, 27, 12, 2], \"name\": \"SILAC analysis\", \"x\": [\"Scaffold\", \"Peaks\", \"Proteome Discover\", \"Mascot \", \"Progenesis\"], \"type\": \"bar\"}, {\"uid\": \"22071af5-48e6-439f-a4ec-28fa68cd4c5a\", \"y\": [8, 3, 12, 47, 3, 24, 1, 18], \"name\": \"Label Free Analysis MS1\", \"x\": [\"Scaffold\", \"Other\", \"Peaks\", \"Proteome Discover\", \"Spectronaut\", \"Mascot \", \"Peak View \", \"Progenesis\"], \"type\": \"bar\"}, {\"uid\": \"ba998c93-9fb3-4c06-9e1a-182c471f08af\", \"y\": [4, 1, 5, 47, 14], \"name\": \"TMT analysis\", \"x\": [\"Scaffold\", \"Other\", \"Peaks\", \"Proteome Discover\", \"Mascot \"], \"type\": \"bar\"}, {\"uid\": \"0b232496-85e1-4021-a7f1-3e5ce84e718e\", \"y\": [3, 23, 4, 2, 3, 2], \"name\": \"SWATH / DIA Quant\", \"x\": [\"Scaffold\", \"Spectronaut\", \"Proteome Discover\", \"Peaks\", \"Mascot \", \"Peak View \"], \"type\": \"bar\"}, {\"uid\": \"f40602a3-2921-4d5f-8760-acac384acbdc\", \"y\": [5, 1, 1, 14, 3, 9, 2], \"name\": \"Other Quant analysis\", \"x\": [\"Scaffold\", \"Other\", \"Spectronaut\", \"Proteome Discover\", \"Peaks\", \"Mascot \", \"Progenesis\"], \"type\": \"bar\"}, {\"uid\": \"5b980911-31ec-42b2-b9bc-6fc6c76e62fe\", \"y\": [16, 3, 6, 23, 16], \"name\": \"Label Free Spectral Count Analysis\", \"x\": [\"Scaffold\", \"Other\", \"Peaks\", \"Proteome Discover\", \"Mascot \"], \"type\": \"bar\"}], {\"barmode\": \"group\"}, {\"showLink\": true, \"linkText\": \"Export to plot.ly\"})});</script><script type=\"text/javascript\">window.addEventListener(\"resize\", function(){window._Plotly.Plots.resize(document.getElementById(\"fd68533e-6ed0-4e9b-b8cd-1b9516b7750f\"));});</script>"
      ],
      "text/vnd.plotly.v1+html": [
       "<div id=\"fd68533e-6ed0-4e9b-b8cd-1b9516b7750f\" style=\"height: 525px; width: 100%;\" class=\"plotly-graph-div\"></div><script type=\"text/javascript\">require([\"plotly\"], function(Plotly) { window.PLOTLYENV=window.PLOTLYENV || {};window.PLOTLYENV.BASE_URL=\"https://plot.ly\";Plotly.newPlot(\"fd68533e-6ed0-4e9b-b8cd-1b9516b7750f\", [{\"uid\": \"96e1c092-97bc-4fec-9522-3d07071f07be\", \"y\": [6, 1, 3, 26, 4, 12, 1, 2], \"name\": \"Phospho Quant analysis\", \"x\": [\"Scaffold\", \"Other\", \"Spectronaut\", \"Proteome Discover\", \"Peaks\", \"Mascot \", \"Peak View \", \"Progenesis\"], \"type\": \"bar\"}, {\"uid\": \"a319fa21-ae91-4705-83f5-bce483a5a145\", \"y\": [6, 3, 27, 12, 2], \"name\": \"SILAC analysis\", \"x\": [\"Scaffold\", \"Peaks\", \"Proteome Discover\", \"Mascot \", \"Progenesis\"], \"type\": \"bar\"}, {\"uid\": \"22071af5-48e6-439f-a4ec-28fa68cd4c5a\", \"y\": [8, 3, 12, 47, 3, 24, 1, 18], \"name\": \"Label Free Analysis MS1\", \"x\": [\"Scaffold\", \"Other\", \"Peaks\", \"Proteome Discover\", \"Spectronaut\", \"Mascot \", \"Peak View \", \"Progenesis\"], \"type\": \"bar\"}, {\"uid\": \"ba998c93-9fb3-4c06-9e1a-182c471f08af\", \"y\": [4, 1, 5, 47, 14], \"name\": \"TMT analysis\", \"x\": [\"Scaffold\", \"Other\", \"Peaks\", \"Proteome Discover\", \"Mascot \"], \"type\": \"bar\"}, {\"uid\": \"0b232496-85e1-4021-a7f1-3e5ce84e718e\", \"y\": [3, 23, 4, 2, 3, 2], \"name\": \"SWATH / DIA Quant\", \"x\": [\"Scaffold\", \"Spectronaut\", \"Proteome Discover\", \"Peaks\", \"Mascot \", \"Peak View \"], \"type\": \"bar\"}, {\"uid\": \"f40602a3-2921-4d5f-8760-acac384acbdc\", \"y\": [5, 1, 1, 14, 3, 9, 2], \"name\": \"Other Quant analysis\", \"x\": [\"Scaffold\", \"Other\", \"Spectronaut\", \"Proteome Discover\", \"Peaks\", \"Mascot \", \"Progenesis\"], \"type\": \"bar\"}, {\"uid\": \"5b980911-31ec-42b2-b9bc-6fc6c76e62fe\", \"y\": [16, 3, 6, 23, 16], \"name\": \"Label Free Spectral Count Analysis\", \"x\": [\"Scaffold\", \"Other\", \"Peaks\", \"Proteome Discover\", \"Mascot \"], \"type\": \"bar\"}], {\"barmode\": \"group\"}, {\"showLink\": true, \"linkText\": \"Export to plot.ly\"})});</script><script type=\"text/javascript\">window.addEventListener(\"resize\", function(){window._Plotly.Plots.resize(document.getElementById(\"fd68533e-6ed0-4e9b-b8cd-1b9516b7750f\"));});</script>"
      ]
     },
     "metadata": {},
     "output_type": "display_data"
    }
   ],
   "source": [
    "question = \"Which commercial software do you use for your Quant Analysis\"\n",
    "data = get_multioption_bar_data(data_df, question)\n",
    "layout = go.Layout(barmode='group')\n",
    "fig = go.Figure(data=data, layout=layout)\n",
    "iplot(fig, filename='grouped-bar')"
   ]
  },
  {
   "cell_type": "markdown",
   "metadata": {},
   "source": [
    "## Relevant software features during the selection process \n",
    "\n",
    "The purpose of this question is to know, whta kind of features the users of Computational proteomics software consider more relevant."
   ]
  },
  {
   "cell_type": "code",
   "execution_count": 246,
   "metadata": {},
   "outputs": [
    {
     "data": {
      "application/vnd.plotly.v1+json": {
       "data": [
        {
         "name": "Quality of the Results",
         "type": "bar",
         "uid": "0ae7101e-e453-4e74-9bf2-7dc9d3bf103f",
         "x": [
          "Other",
          "MaxQuant",
          "Patterlab (PMID:26658470)",
          "MSnBase (PMID:22113085)",
          "Philosopher (Alexey Lab)",
          "moFF",
          "OpenMS",
          "FlashLFQ (PMID:29083185)",
          "Skyline",
          "EncyclopeDIA (PMID: 30510204)",
          "Proline (http://www.profiproteomics.fr)",
          "diffacto",
          "TPP (StPeter, Libra, XPress)"
         ],
         "y": [
          1,
          34,
          3,
          1,
          2,
          1,
          5,
          10,
          18,
          2,
          1,
          1,
          1
         ]
        },
        {
         "name": "Free",
         "type": "bar",
         "uid": "7bc1b80a-9b2c-4920-b71b-21d7583c3aee",
         "x": [
          "Other",
          "MaxQuant",
          "Patterlab (PMID:26658470)",
          "Skyline",
          "Philosopher (Alexey Lab)",
          "moFF",
          "OpenMS",
          "FlashLFQ (PMID:29083185)",
          "MSnBase (PMID:22113085)",
          "diffacto",
          "Proline (http://www.profiproteomics.fr)",
          "EncyclopeDIA (PMID: 30510204)",
          "TPP (StPeter, Libra, XPress)"
         ],
         "y": [
          1,
          37,
          5,
          19,
          4,
          1,
          9,
          10,
          2,
          1,
          1,
          3,
          1
         ]
        },
        {
         "name": "Easy to use",
         "type": "bar",
         "uid": "aa6e27fa-3d51-4cea-aaae-9c540372ecda",
         "x": [
          "Other",
          "MaxQuant",
          "Patterlab (PMID:26658470)",
          "Skyline",
          "Philosopher (Alexey Lab)",
          "moFF",
          "OpenMS",
          "FlashLFQ (PMID:29083185)",
          "MSnBase (PMID:22113085)",
          "EncyclopeDIA (PMID: 30510204)",
          "Proline (http://www.profiproteomics.fr)",
          "TPP (StPeter, Libra, XPress)"
         ],
         "y": [
          3,
          29,
          4,
          16,
          3,
          1,
          4,
          11,
          1,
          2,
          1,
          1
         ]
        },
        {
         "name": "Easy to run in HPC / Cloud enviroments",
         "type": "bar",
         "uid": "4597de36-8f9c-4c44-9816-3eaad0e34740",
         "x": [
          "OpenMS",
          "FlashLFQ (PMID:29083185)",
          "MaxQuant",
          "Patterlab (PMID:26658470)",
          "Skyline",
          "Philosopher (Alexey Lab)",
          "moFF",
          "MSnBase (PMID:22113085)",
          "TPP (StPeter, Libra, XPress)"
         ],
         "y": [
          4,
          1,
          3,
          1,
          1,
          2,
          1,
          1,
          1
         ]
        },
        {
         "name": "Open Source",
         "type": "bar",
         "uid": "5602c40f-eb92-4fd2-b265-24ea8185ee2d",
         "x": [
          "MaxQuant",
          "Patterlab (PMID:26658470)",
          "Skyline",
          "Philosopher (Alexey Lab)",
          "moFF",
          "OpenMS",
          "FlashLFQ (PMID:29083185)",
          "MSnBase (PMID:22113085)",
          "diffacto",
          "EncyclopeDIA (PMID: 30510204)",
          "TPP (StPeter, Libra, XPress)"
         ],
         "y": [
          11,
          2,
          10,
          2,
          2,
          12,
          7,
          2,
          1,
          2,
          1
         ]
        },
        {
         "name": "Maturity (No much errors)",
         "type": "bar",
         "uid": "002b53cf-8d81-4deb-83c6-c9d961b098e0",
         "x": [
          "OpenMS",
          "FlashLFQ (PMID:29083185)",
          "MSnBase (PMID:22113085)",
          "MaxQuant",
          "Patterlab (PMID:26658470)",
          "Skyline",
          "EncyclopeDIA (PMID: 30510204)",
          "Philosopher (Alexey Lab)",
          "TPP (StPeter, Libra, XPress)"
         ],
         "y": [
          1,
          2,
          1,
          18,
          1,
          11,
          1,
          2,
          1
         ]
        },
        {
         "name": "Desktop Application",
         "type": "bar",
         "uid": "705051ab-febd-4bbe-a552-ca61b2b7ddde",
         "x": [
          "OpenMS",
          "FlashLFQ (PMID:29083185)",
          "MaxQuant",
          "MSnBase (PMID:22113085)",
          "Patterlab (PMID:26658470)",
          "Skyline",
          "EncyclopeDIA (PMID: 30510204)",
          "moFF",
          "Other"
         ],
         "y": [
          3,
          10,
          21,
          2,
          2,
          15,
          2,
          1,
          2
         ]
        },
        {
         "name": "Flexibility to develop pipelines",
         "type": "bar",
         "uid": "217b59a9-9788-49fa-bcf8-170a8b24de71",
         "x": [
          "OpenMS",
          "Patterlab (PMID:26658470)",
          "FlashLFQ (PMID:29083185)",
          "TPP (StPeter, Libra, XPress)",
          "MaxQuant",
          "Skyline",
          "MSnBase (PMID:22113085)",
          "Philosopher (Alexey Lab)",
          "moFF",
          "Other"
         ],
         "y": [
          8,
          2,
          4,
          1,
          1,
          4,
          2,
          3,
          2,
          1
         ]
        },
        {
         "name": "Documentation and Support",
         "type": "bar",
         "uid": "ab2fa206-0733-435a-8f1d-26fcfff88ee1",
         "x": [
          "Other",
          "MaxQuant",
          "OpenMS",
          "Skyline",
          "Philosopher (Alexey Lab)",
          "moFF",
          "Patterlab (PMID:26658470)",
          "FlashLFQ (PMID:29083185)",
          "MSnBase (PMID:22113085)",
          "EncyclopeDIA (PMID: 30510204)",
          "TPP (StPeter, Libra, XPress)"
         ],
         "y": [
          2,
          11,
          6,
          18,
          1,
          1,
          2,
          12,
          2,
          1,
          1
         ]
        },
        {
         "name": "Internal benchmark with other tools suggest better/similar results",
         "type": "bar",
         "uid": "13a98ef7-9b49-477c-a410-d824b50abd12",
         "x": [
          "Proline (http://www.profiproteomics.fr)",
          "Patterlab (PMID:26658470)",
          "FlashLFQ (PMID:29083185)",
          "MaxQuant",
          "OpenMS",
          "Skyline",
          "diffacto",
          "moFF",
          "Philosopher (Alexey Lab)",
          "TPP (StPeter, Libra, XPress)"
         ],
         "y": [
          1,
          2,
          5,
          13,
          1,
          3,
          1,
          1,
          1,
          1
         ]
        },
        {
         "name": "Compatibility with other softwares",
         "type": "bar",
         "uid": "4de6e4ec-3176-4740-b51c-8b910c1033cc",
         "x": [
          "OpenMS",
          "FlashLFQ (PMID:29083185)",
          "MaxQuant",
          "MSnBase (PMID:22113085)",
          "Patterlab (PMID:26658470)",
          "Skyline",
          "EncyclopeDIA (PMID: 30510204)",
          "moFF",
          "Philosopher (Alexey Lab)",
          "TPP (StPeter, Libra, XPress)"
         ],
         "y": [
          5,
          4,
          9,
          1,
          1,
          9,
          1,
          1,
          2,
          1
         ]
        },
        {
         "name": "Support for multiple Quant methods",
         "type": "bar",
         "uid": "c2a70fec-37fb-4baf-a643-f7f0589eacde",
         "x": [
          "OpenMS",
          "FlashLFQ (PMID:29083185)",
          "MSnBase (PMID:22113085)",
          "MaxQuant",
          "Other",
          "Patterlab (PMID:26658470)",
          "Skyline",
          "EncyclopeDIA (PMID: 30510204)",
          "Philosopher (Alexey Lab)",
          "TPP (StPeter, Libra, XPress)"
         ],
         "y": [
          5,
          3,
          1,
          28,
          1,
          1,
          12,
          1,
          2,
          1
         ]
        }
       ],
       "layout": {
        "barmode": "group",
        "legend": {
         "font": {
          "color": "#000",
          "family": "sans-serif",
          "size": 10
         },
         "x": 1,
         "y": 1
        }
       }
      },
      "text/html": [
       "<div id=\"154071a3-60ab-4cd7-b46f-bc93ac104f26\" style=\"height: 525px; width: 100%;\" class=\"plotly-graph-div\"></div><script type=\"text/javascript\">require([\"plotly\"], function(Plotly) { window.PLOTLYENV=window.PLOTLYENV || {};window.PLOTLYENV.BASE_URL=\"https://plot.ly\";Plotly.newPlot(\"154071a3-60ab-4cd7-b46f-bc93ac104f26\", [{\"uid\": \"0ae7101e-e453-4e74-9bf2-7dc9d3bf103f\", \"y\": [1, 34, 3, 1, 2, 1, 5, 10, 18, 2, 1, 1, 1], \"name\": \"Quality of the Results\", \"x\": [\"Other\", \"MaxQuant\", \"Patterlab (PMID:26658470)\", \"MSnBase (PMID:22113085)\", \"Philosopher (Alexey Lab)\", \"moFF\", \"OpenMS\", \"FlashLFQ (PMID:29083185)\", \"Skyline\", \"EncyclopeDIA (PMID: 30510204)\", \"Proline (http://www.profiproteomics.fr)\", \"diffacto\", \"TPP (StPeter, Libra, XPress)\"], \"type\": \"bar\"}, {\"uid\": \"7bc1b80a-9b2c-4920-b71b-21d7583c3aee\", \"y\": [1, 37, 5, 19, 4, 1, 9, 10, 2, 1, 1, 3, 1], \"name\": \"Free\", \"x\": [\"Other\", \"MaxQuant\", \"Patterlab (PMID:26658470)\", \"Skyline\", \"Philosopher (Alexey Lab)\", \"moFF\", \"OpenMS\", \"FlashLFQ (PMID:29083185)\", \"MSnBase (PMID:22113085)\", \"diffacto\", \"Proline (http://www.profiproteomics.fr)\", \"EncyclopeDIA (PMID: 30510204)\", \"TPP (StPeter, Libra, XPress)\"], \"type\": \"bar\"}, {\"uid\": \"aa6e27fa-3d51-4cea-aaae-9c540372ecda\", \"y\": [3, 29, 4, 16, 3, 1, 4, 11, 1, 2, 1, 1], \"name\": \"Easy to use\", \"x\": [\"Other\", \"MaxQuant\", \"Patterlab (PMID:26658470)\", \"Skyline\", \"Philosopher (Alexey Lab)\", \"moFF\", \"OpenMS\", \"FlashLFQ (PMID:29083185)\", \"MSnBase (PMID:22113085)\", \"EncyclopeDIA (PMID: 30510204)\", \"Proline (http://www.profiproteomics.fr)\", \"TPP (StPeter, Libra, XPress)\"], \"type\": \"bar\"}, {\"uid\": \"4597de36-8f9c-4c44-9816-3eaad0e34740\", \"y\": [4, 1, 3, 1, 1, 2, 1, 1, 1], \"name\": \"Easy to run in HPC / Cloud enviroments\", \"x\": [\"OpenMS\", \"FlashLFQ (PMID:29083185)\", \"MaxQuant\", \"Patterlab (PMID:26658470)\", \"Skyline\", \"Philosopher (Alexey Lab)\", \"moFF\", \"MSnBase (PMID:22113085)\", \"TPP (StPeter, Libra, XPress)\"], \"type\": \"bar\"}, {\"uid\": \"5602c40f-eb92-4fd2-b265-24ea8185ee2d\", \"y\": [11, 2, 10, 2, 2, 12, 7, 2, 1, 2, 1], \"name\": \"Open Source\", \"x\": [\"MaxQuant\", \"Patterlab (PMID:26658470)\", \"Skyline\", \"Philosopher (Alexey Lab)\", \"moFF\", \"OpenMS\", \"FlashLFQ (PMID:29083185)\", \"MSnBase (PMID:22113085)\", \"diffacto\", \"EncyclopeDIA (PMID: 30510204)\", \"TPP (StPeter, Libra, XPress)\"], \"type\": \"bar\"}, {\"uid\": \"002b53cf-8d81-4deb-83c6-c9d961b098e0\", \"y\": [1, 2, 1, 18, 1, 11, 1, 2, 1], \"name\": \"Maturity (No much errors)\", \"x\": [\"OpenMS\", \"FlashLFQ (PMID:29083185)\", \"MSnBase (PMID:22113085)\", \"MaxQuant\", \"Patterlab (PMID:26658470)\", \"Skyline\", \"EncyclopeDIA (PMID: 30510204)\", \"Philosopher (Alexey Lab)\", \"TPP (StPeter, Libra, XPress)\"], \"type\": \"bar\"}, {\"uid\": \"705051ab-febd-4bbe-a552-ca61b2b7ddde\", \"y\": [3, 10, 21, 2, 2, 15, 2, 1, 2], \"name\": \"Desktop Application\", \"x\": [\"OpenMS\", \"FlashLFQ (PMID:29083185)\", \"MaxQuant\", \"MSnBase (PMID:22113085)\", \"Patterlab (PMID:26658470)\", \"Skyline\", \"EncyclopeDIA (PMID: 30510204)\", \"moFF\", \"Other\"], \"type\": \"bar\"}, {\"uid\": \"217b59a9-9788-49fa-bcf8-170a8b24de71\", \"y\": [8, 2, 4, 1, 1, 4, 2, 3, 2, 1], \"name\": \"Flexibility to develop pipelines\", \"x\": [\"OpenMS\", \"Patterlab (PMID:26658470)\", \"FlashLFQ (PMID:29083185)\", \"TPP (StPeter, Libra, XPress)\", \"MaxQuant\", \"Skyline\", \"MSnBase (PMID:22113085)\", \"Philosopher (Alexey Lab)\", \"moFF\", \"Other\"], \"type\": \"bar\"}, {\"uid\": \"ab2fa206-0733-435a-8f1d-26fcfff88ee1\", \"y\": [2, 11, 6, 18, 1, 1, 2, 12, 2, 1, 1], \"name\": \"Documentation and Support\", \"x\": [\"Other\", \"MaxQuant\", \"OpenMS\", \"Skyline\", \"Philosopher (Alexey Lab)\", \"moFF\", \"Patterlab (PMID:26658470)\", \"FlashLFQ (PMID:29083185)\", \"MSnBase (PMID:22113085)\", \"EncyclopeDIA (PMID: 30510204)\", \"TPP (StPeter, Libra, XPress)\"], \"type\": \"bar\"}, {\"uid\": \"13a98ef7-9b49-477c-a410-d824b50abd12\", \"y\": [1, 2, 5, 13, 1, 3, 1, 1, 1, 1], \"name\": \"Internal benchmark with other tools suggest better/similar results\", \"x\": [\"Proline (http://www.profiproteomics.fr)\", \"Patterlab (PMID:26658470)\", \"FlashLFQ (PMID:29083185)\", \"MaxQuant\", \"OpenMS\", \"Skyline\", \"diffacto\", \"moFF\", \"Philosopher (Alexey Lab)\", \"TPP (StPeter, Libra, XPress)\"], \"type\": \"bar\"}, {\"uid\": \"4de6e4ec-3176-4740-b51c-8b910c1033cc\", \"y\": [5, 4, 9, 1, 1, 9, 1, 1, 2, 1], \"name\": \"Compatibility with other softwares\", \"x\": [\"OpenMS\", \"FlashLFQ (PMID:29083185)\", \"MaxQuant\", \"MSnBase (PMID:22113085)\", \"Patterlab (PMID:26658470)\", \"Skyline\", \"EncyclopeDIA (PMID: 30510204)\", \"moFF\", \"Philosopher (Alexey Lab)\", \"TPP (StPeter, Libra, XPress)\"], \"type\": \"bar\"}, {\"uid\": \"c2a70fec-37fb-4baf-a643-f7f0589eacde\", \"y\": [5, 3, 1, 28, 1, 1, 12, 1, 2, 1], \"name\": \"Support for multiple Quant methods\", \"x\": [\"OpenMS\", \"FlashLFQ (PMID:29083185)\", \"MSnBase (PMID:22113085)\", \"MaxQuant\", \"Other\", \"Patterlab (PMID:26658470)\", \"Skyline\", \"EncyclopeDIA (PMID: 30510204)\", \"Philosopher (Alexey Lab)\", \"TPP (StPeter, Libra, XPress)\"], \"type\": \"bar\"}], {\"legend\": {\"y\": 1.0, \"x\": 1, \"font\": {\"color\": \"#000\", \"size\": 10, \"family\": \"sans-serif\"}}, \"barmode\": \"group\"}, {\"showLink\": true, \"linkText\": \"Export to plot.ly\"})});</script><script type=\"text/javascript\">window.addEventListener(\"resize\", function(){window._Plotly.Plots.resize(document.getElementById(\"154071a3-60ab-4cd7-b46f-bc93ac104f26\"));});</script>"
      ],
      "text/vnd.plotly.v1+html": [
       "<div id=\"154071a3-60ab-4cd7-b46f-bc93ac104f26\" style=\"height: 525px; width: 100%;\" class=\"plotly-graph-div\"></div><script type=\"text/javascript\">require([\"plotly\"], function(Plotly) { window.PLOTLYENV=window.PLOTLYENV || {};window.PLOTLYENV.BASE_URL=\"https://plot.ly\";Plotly.newPlot(\"154071a3-60ab-4cd7-b46f-bc93ac104f26\", [{\"uid\": \"0ae7101e-e453-4e74-9bf2-7dc9d3bf103f\", \"y\": [1, 34, 3, 1, 2, 1, 5, 10, 18, 2, 1, 1, 1], \"name\": \"Quality of the Results\", \"x\": [\"Other\", \"MaxQuant\", \"Patterlab (PMID:26658470)\", \"MSnBase (PMID:22113085)\", \"Philosopher (Alexey Lab)\", \"moFF\", \"OpenMS\", \"FlashLFQ (PMID:29083185)\", \"Skyline\", \"EncyclopeDIA (PMID: 30510204)\", \"Proline (http://www.profiproteomics.fr)\", \"diffacto\", \"TPP (StPeter, Libra, XPress)\"], \"type\": \"bar\"}, {\"uid\": \"7bc1b80a-9b2c-4920-b71b-21d7583c3aee\", \"y\": [1, 37, 5, 19, 4, 1, 9, 10, 2, 1, 1, 3, 1], \"name\": \"Free\", \"x\": [\"Other\", \"MaxQuant\", \"Patterlab (PMID:26658470)\", \"Skyline\", \"Philosopher (Alexey Lab)\", \"moFF\", \"OpenMS\", \"FlashLFQ (PMID:29083185)\", \"MSnBase (PMID:22113085)\", \"diffacto\", \"Proline (http://www.profiproteomics.fr)\", \"EncyclopeDIA (PMID: 30510204)\", \"TPP (StPeter, Libra, XPress)\"], \"type\": \"bar\"}, {\"uid\": \"aa6e27fa-3d51-4cea-aaae-9c540372ecda\", \"y\": [3, 29, 4, 16, 3, 1, 4, 11, 1, 2, 1, 1], \"name\": \"Easy to use\", \"x\": [\"Other\", \"MaxQuant\", \"Patterlab (PMID:26658470)\", \"Skyline\", \"Philosopher (Alexey Lab)\", \"moFF\", \"OpenMS\", \"FlashLFQ (PMID:29083185)\", \"MSnBase (PMID:22113085)\", \"EncyclopeDIA (PMID: 30510204)\", \"Proline (http://www.profiproteomics.fr)\", \"TPP (StPeter, Libra, XPress)\"], \"type\": \"bar\"}, {\"uid\": \"4597de36-8f9c-4c44-9816-3eaad0e34740\", \"y\": [4, 1, 3, 1, 1, 2, 1, 1, 1], \"name\": \"Easy to run in HPC / Cloud enviroments\", \"x\": [\"OpenMS\", \"FlashLFQ (PMID:29083185)\", \"MaxQuant\", \"Patterlab (PMID:26658470)\", \"Skyline\", \"Philosopher (Alexey Lab)\", \"moFF\", \"MSnBase (PMID:22113085)\", \"TPP (StPeter, Libra, XPress)\"], \"type\": \"bar\"}, {\"uid\": \"5602c40f-eb92-4fd2-b265-24ea8185ee2d\", \"y\": [11, 2, 10, 2, 2, 12, 7, 2, 1, 2, 1], \"name\": \"Open Source\", \"x\": [\"MaxQuant\", \"Patterlab (PMID:26658470)\", \"Skyline\", \"Philosopher (Alexey Lab)\", \"moFF\", \"OpenMS\", \"FlashLFQ (PMID:29083185)\", \"MSnBase (PMID:22113085)\", \"diffacto\", \"EncyclopeDIA (PMID: 30510204)\", \"TPP (StPeter, Libra, XPress)\"], \"type\": \"bar\"}, {\"uid\": \"002b53cf-8d81-4deb-83c6-c9d961b098e0\", \"y\": [1, 2, 1, 18, 1, 11, 1, 2, 1], \"name\": \"Maturity (No much errors)\", \"x\": [\"OpenMS\", \"FlashLFQ (PMID:29083185)\", \"MSnBase (PMID:22113085)\", \"MaxQuant\", \"Patterlab (PMID:26658470)\", \"Skyline\", \"EncyclopeDIA (PMID: 30510204)\", \"Philosopher (Alexey Lab)\", \"TPP (StPeter, Libra, XPress)\"], \"type\": \"bar\"}, {\"uid\": \"705051ab-febd-4bbe-a552-ca61b2b7ddde\", \"y\": [3, 10, 21, 2, 2, 15, 2, 1, 2], \"name\": \"Desktop Application\", \"x\": [\"OpenMS\", \"FlashLFQ (PMID:29083185)\", \"MaxQuant\", \"MSnBase (PMID:22113085)\", \"Patterlab (PMID:26658470)\", \"Skyline\", \"EncyclopeDIA (PMID: 30510204)\", \"moFF\", \"Other\"], \"type\": \"bar\"}, {\"uid\": \"217b59a9-9788-49fa-bcf8-170a8b24de71\", \"y\": [8, 2, 4, 1, 1, 4, 2, 3, 2, 1], \"name\": \"Flexibility to develop pipelines\", \"x\": [\"OpenMS\", \"Patterlab (PMID:26658470)\", \"FlashLFQ (PMID:29083185)\", \"TPP (StPeter, Libra, XPress)\", \"MaxQuant\", \"Skyline\", \"MSnBase (PMID:22113085)\", \"Philosopher (Alexey Lab)\", \"moFF\", \"Other\"], \"type\": \"bar\"}, {\"uid\": \"ab2fa206-0733-435a-8f1d-26fcfff88ee1\", \"y\": [2, 11, 6, 18, 1, 1, 2, 12, 2, 1, 1], \"name\": \"Documentation and Support\", \"x\": [\"Other\", \"MaxQuant\", \"OpenMS\", \"Skyline\", \"Philosopher (Alexey Lab)\", \"moFF\", \"Patterlab (PMID:26658470)\", \"FlashLFQ (PMID:29083185)\", \"MSnBase (PMID:22113085)\", \"EncyclopeDIA (PMID: 30510204)\", \"TPP (StPeter, Libra, XPress)\"], \"type\": \"bar\"}, {\"uid\": \"13a98ef7-9b49-477c-a410-d824b50abd12\", \"y\": [1, 2, 5, 13, 1, 3, 1, 1, 1, 1], \"name\": \"Internal benchmark with other tools suggest better/similar results\", \"x\": [\"Proline (http://www.profiproteomics.fr)\", \"Patterlab (PMID:26658470)\", \"FlashLFQ (PMID:29083185)\", \"MaxQuant\", \"OpenMS\", \"Skyline\", \"diffacto\", \"moFF\", \"Philosopher (Alexey Lab)\", \"TPP (StPeter, Libra, XPress)\"], \"type\": \"bar\"}, {\"uid\": \"4de6e4ec-3176-4740-b51c-8b910c1033cc\", \"y\": [5, 4, 9, 1, 1, 9, 1, 1, 2, 1], \"name\": \"Compatibility with other softwares\", \"x\": [\"OpenMS\", \"FlashLFQ (PMID:29083185)\", \"MaxQuant\", \"MSnBase (PMID:22113085)\", \"Patterlab (PMID:26658470)\", \"Skyline\", \"EncyclopeDIA (PMID: 30510204)\", \"moFF\", \"Philosopher (Alexey Lab)\", \"TPP (StPeter, Libra, XPress)\"], \"type\": \"bar\"}, {\"uid\": \"c2a70fec-37fb-4baf-a643-f7f0589eacde\", \"y\": [5, 3, 1, 28, 1, 1, 12, 1, 2, 1], \"name\": \"Support for multiple Quant methods\", \"x\": [\"OpenMS\", \"FlashLFQ (PMID:29083185)\", \"MSnBase (PMID:22113085)\", \"MaxQuant\", \"Other\", \"Patterlab (PMID:26658470)\", \"Skyline\", \"EncyclopeDIA (PMID: 30510204)\", \"Philosopher (Alexey Lab)\", \"TPP (StPeter, Libra, XPress)\"], \"type\": \"bar\"}], {\"legend\": {\"y\": 1.0, \"x\": 1, \"font\": {\"color\": \"#000\", \"size\": 10, \"family\": \"sans-serif\"}}, \"barmode\": \"group\"}, {\"showLink\": true, \"linkText\": \"Export to plot.ly\"})});</script><script type=\"text/javascript\">window.addEventListener(\"resize\", function(){window._Plotly.Plots.resize(document.getElementById(\"154071a3-60ab-4cd7-b46f-bc93ac104f26\"));});</script>"
      ]
     },
     "metadata": {},
     "output_type": "display_data"
    }
   ],
   "source": [
    "question = \"Which are the features that make you to chose the following software for your data analysis\"\n",
    "data = get_multioption_bar_data(data_df, question)\n",
    "layout = go.Layout(barmode='group',legend=dict(x=1, y=1.0, font=dict(\n",
    "            family='sans-serif',\n",
    "            size=10,\n",
    "            color='#000'\n",
    "        ),))\n",
    "fig = go.Figure(data=data, layout=layout)\n",
    "iplot(fig, filename='grouped-bar')"
   ]
  },
  {
   "cell_type": "markdown",
   "metadata": {},
   "source": [
    "## Packages and tools use for downstream analysis\n",
    "\n",
    "This section shows the software/tools and packages (Python and R) for downstream analysis. "
   ]
  },
  {
   "cell_type": "code",
   "execution_count": 247,
   "metadata": {},
   "outputs": [
    {
     "data": {
      "application/vnd.plotly.v1+json": {
       "data": [
        {
         "orientation": "h",
         "type": "bar",
         "uid": "2c74953d-6e84-48a0-b8ed-d9e0746cd515",
         "x": [
          1,
          1,
          1,
          1,
          14,
          1,
          1,
          89,
          1,
          1,
          1,
          1,
          1,
          1,
          1,
          1,
          80,
          13,
          31,
          1,
          1,
          5,
          1,
          1,
          43,
          1
         ],
         "y": [
          "pMartR",
          "MetaMorpheus's integrated normalization (new feature)",
          "In house developped",
          "Excel",
          "edgeR",
          "R and Python",
          "NormalyzerDE",
          "In house pipeline.",
          "https://www.ncbi.nlm.nih.gov/pubmed/30277078",
          "Proteome Discovere",
          "Inferno",
          "IPA",
          "Proteome discoverer quant",
          "R",
          "Prostar",
          "Msstitch",
          "Perseus",
          "MSnbase",
          "MSstats",
          "Voom, Combat",
          "Triqler",
          "PAW pipeline (https://t.co/BtiFHAAKU7)",
          "ProStar",
          "http://normalyzer.immunoprot.lth.se/",
          "Limma",
          "MSQRob, SafeQuant, Prostar,"
         ]
        }
       ],
       "layout": {}
      },
      "text/html": [
       "<div id=\"bef4b19a-b385-4b3b-8390-3637232831c9\" style=\"height: 525px; width: 100%;\" class=\"plotly-graph-div\"></div><script type=\"text/javascript\">require([\"plotly\"], function(Plotly) { window.PLOTLYENV=window.PLOTLYENV || {};window.PLOTLYENV.BASE_URL=\"https://plot.ly\";Plotly.newPlot(\"bef4b19a-b385-4b3b-8390-3637232831c9\", [{\"uid\": \"c66a3d47-fc4f-465b-af16-0abe815ff445\", \"y\": [\"pMartR\", \"MetaMorpheus's integrated normalization (new feature)\", \"In house developped\", \"Excel\", \"edgeR\", \"R and Python\", \"NormalyzerDE\", \"In house pipeline.\", \"https://www.ncbi.nlm.nih.gov/pubmed/30277078\", \"Proteome Discovere\", \"Inferno\", \"IPA\", \"Proteome discoverer quant\", \"R\", \"Prostar\", \"Msstitch\", \"Perseus\", \"MSnbase\", \"MSstats\", \"Voom, Combat\", \"Triqler\", \"PAW pipeline (https://t.co/BtiFHAAKU7)\", \"ProStar\", \"http://normalyzer.immunoprot.lth.se/\", \"Limma\", \"MSQRob, SafeQuant, Prostar,\"], \"type\": \"bar\", \"x\": [1, 1, 1, 1, 14, 1, 1, 89, 1, 1, 1, 1, 1, 1, 1, 1, 80, 13, 31, 1, 1, 5, 1, 1, 43, 1], \"orientation\": \"h\"}], {}, {\"showLink\": true, \"linkText\": \"Export to plot.ly\"})});</script><script type=\"text/javascript\">window.addEventListener(\"resize\", function(){window._Plotly.Plots.resize(document.getElementById(\"bef4b19a-b385-4b3b-8390-3637232831c9\"));});</script>"
      ],
      "text/vnd.plotly.v1+html": [
       "<div id=\"bef4b19a-b385-4b3b-8390-3637232831c9\" style=\"height: 525px; width: 100%;\" class=\"plotly-graph-div\"></div><script type=\"text/javascript\">require([\"plotly\"], function(Plotly) { window.PLOTLYENV=window.PLOTLYENV || {};window.PLOTLYENV.BASE_URL=\"https://plot.ly\";Plotly.newPlot(\"bef4b19a-b385-4b3b-8390-3637232831c9\", [{\"uid\": \"c66a3d47-fc4f-465b-af16-0abe815ff445\", \"y\": [\"pMartR\", \"MetaMorpheus's integrated normalization (new feature)\", \"In house developped\", \"Excel\", \"edgeR\", \"R and Python\", \"NormalyzerDE\", \"In house pipeline.\", \"https://www.ncbi.nlm.nih.gov/pubmed/30277078\", \"Proteome Discovere\", \"Inferno\", \"IPA\", \"Proteome discoverer quant\", \"R\", \"Prostar\", \"Msstitch\", \"Perseus\", \"MSnbase\", \"MSstats\", \"Voom, Combat\", \"Triqler\", \"PAW pipeline (https://t.co/BtiFHAAKU7)\", \"ProStar\", \"http://normalyzer.immunoprot.lth.se/\", \"Limma\", \"MSQRob, SafeQuant, Prostar,\"], \"type\": \"bar\", \"x\": [1, 1, 1, 1, 14, 1, 1, 89, 1, 1, 1, 1, 1, 1, 1, 1, 80, 13, 31, 1, 1, 5, 1, 1, 43, 1], \"orientation\": \"h\"}], {}, {\"showLink\": true, \"linkText\": \"Export to plot.ly\"})});</script><script type=\"text/javascript\">window.addEventListener(\"resize\", function(){window._Plotly.Plots.resize(document.getElementById(\"bef4b19a-b385-4b3b-8390-3637232831c9\"));});</script>"
      ]
     },
     "metadata": {},
     "output_type": "display_data"
    }
   ],
   "source": [
    "# We use a filter here because of special characters \n",
    "question_pattern = \"Which packages do you use for downstream analysis\"\n",
    "data = get_column_distribution(data_df, question_pattern)\n",
    "iplot(data, filename='horizontal-bar')            "
   ]
  },
  {
   "cell_type": "markdown",
   "metadata": {},
   "source": [
    "## Peptide/Protein identification Search engines \n",
    "\n",
    "This part of the poll is about the usage of Peptide/protein search engines. "
   ]
  },
  {
   "cell_type": "code",
   "execution_count": 248,
   "metadata": {},
   "outputs": [
    {
     "data": {
      "application/vnd.plotly.v1+json": {
       "data": [
        {
         "orientation": "h",
         "type": "bar",
         "uid": "697a1bfe-4ea7-493e-930c-5b297f80a16b",
         "x": [
          30,
          1,
          1,
          1,
          9,
          1,
          57,
          30,
          53,
          61,
          1,
          1,
          1,
          2,
          13,
          1,
          2,
          15,
          3,
          92,
          1,
          1,
          55,
          50
         ],
         "y": [
          "MSFragger",
          "Crux",
          "ProteinLynx Global Server",
          "Pulsar",
          "Tide",
          "I never use Andromeda outside of MQ",
          "Sequest",
          "MSAmanda",
          "X!Tandem",
          "Mascot",
          "Metamorpheus",
          "Ia",
          "Spectrum Mill",
          "MSPepSearch",
          "MetaMorpheus",
          "https://bitbucket.org/levitsky/identipy",
          "SpectraST",
          "OMSSA",
          "Byonic",
          "Andromeda",
          "RAId https://www.ncbi.nlm.nih.gov/CBBresearch/Yu/raid/index.html",
          "Pulsar (SpectroMine)",
          "MSGF+",
          "Comet"
         ]
        }
       ],
       "layout": {}
      },
      "text/html": [
       "<div id=\"6b992d7a-3841-48fa-b1e3-c1c27ce12a34\" style=\"height: 525px; width: 100%;\" class=\"plotly-graph-div\"></div><script type=\"text/javascript\">require([\"plotly\"], function(Plotly) { window.PLOTLYENV=window.PLOTLYENV || {};window.PLOTLYENV.BASE_URL=\"https://plot.ly\";Plotly.newPlot(\"6b992d7a-3841-48fa-b1e3-c1c27ce12a34\", [{\"uid\": \"3e5ff46c-1759-492b-b6d2-effc5c7569f3\", \"y\": [\"MSFragger\", \"Crux\", \"ProteinLynx Global Server\", \"Pulsar\", \"Tide\", \"I never use Andromeda outside of MQ\", \"Sequest\", \"MSAmanda\", \"X!Tandem\", \"Mascot\", \"Metamorpheus\", \"Ia\", \"Spectrum Mill\", \"MSPepSearch\", \"MetaMorpheus\", \"https://bitbucket.org/levitsky/identipy\", \"SpectraST\", \"OMSSA\", \"Byonic\", \"Andromeda\", \"RAId https://www.ncbi.nlm.nih.gov/CBBresearch/Yu/raid/index.html\", \"Pulsar (SpectroMine)\", \"MSGF+\", \"Comet\"], \"type\": \"bar\", \"x\": [30, 1, 1, 1, 9, 1, 57, 30, 53, 61, 1, 1, 1, 2, 13, 1, 2, 15, 3, 92, 1, 1, 55, 50], \"orientation\": \"h\"}], {}, {\"showLink\": true, \"linkText\": \"Export to plot.ly\"})});</script><script type=\"text/javascript\">window.addEventListener(\"resize\", function(){window._Plotly.Plots.resize(document.getElementById(\"6b992d7a-3841-48fa-b1e3-c1c27ce12a34\"));});</script>"
      ],
      "text/vnd.plotly.v1+html": [
       "<div id=\"6b992d7a-3841-48fa-b1e3-c1c27ce12a34\" style=\"height: 525px; width: 100%;\" class=\"plotly-graph-div\"></div><script type=\"text/javascript\">require([\"plotly\"], function(Plotly) { window.PLOTLYENV=window.PLOTLYENV || {};window.PLOTLYENV.BASE_URL=\"https://plot.ly\";Plotly.newPlot(\"6b992d7a-3841-48fa-b1e3-c1c27ce12a34\", [{\"uid\": \"3e5ff46c-1759-492b-b6d2-effc5c7569f3\", \"y\": [\"MSFragger\", \"Crux\", \"ProteinLynx Global Server\", \"Pulsar\", \"Tide\", \"I never use Andromeda outside of MQ\", \"Sequest\", \"MSAmanda\", \"X!Tandem\", \"Mascot\", \"Metamorpheus\", \"Ia\", \"Spectrum Mill\", \"MSPepSearch\", \"MetaMorpheus\", \"https://bitbucket.org/levitsky/identipy\", \"SpectraST\", \"OMSSA\", \"Byonic\", \"Andromeda\", \"RAId https://www.ncbi.nlm.nih.gov/CBBresearch/Yu/raid/index.html\", \"Pulsar (SpectroMine)\", \"MSGF+\", \"Comet\"], \"type\": \"bar\", \"x\": [30, 1, 1, 1, 9, 1, 57, 30, 53, 61, 1, 1, 1, 2, 13, 1, 2, 15, 3, 92, 1, 1, 55, 50], \"orientation\": \"h\"}], {}, {\"showLink\": true, \"linkText\": \"Export to plot.ly\"})});</script><script type=\"text/javascript\">window.addEventListener(\"resize\", function(){window._Plotly.Plots.resize(document.getElementById(\"6b992d7a-3841-48fa-b1e3-c1c27ce12a34\"));});</script>"
      ]
     },
     "metadata": {},
     "output_type": "display_data"
    }
   ],
   "source": [
    "question=\"Which Search engine free do you use\"\n",
    "data = get_column_distribution(data_df, question)\n",
    "iplot(data, filename='horizontal-bar')    "
   ]
  },
  {
   "cell_type": "markdown",
   "metadata": {},
   "source": [
    "## Number of citations per Tool (GoogleScholar)\n",
    "\n",
    "This plot aims to compute the number of citations (Google Scholar) per tool. For the present statistics we added all the main publications related with the tool. \n",
    "    \n",
    "**note**: Please review the file (software-ids.csv) to included all the publications and check if something is missing. You can also add an issue in the repository.  "
   ]
  },
  {
   "cell_type": "code",
   "execution_count": 249,
   "metadata": {},
   "outputs": [
    {
     "data": {
      "application/vnd.plotly.v1+json": {
       "data": [
        {
         "orientation": "h",
         "type": "bar",
         "uid": "79262f2a-1a97-4fa3-90ba-624cfeb28794",
         "x": [
          150,
          15,
          2156,
          8063,
          871,
          1941,
          6230,
          454,
          2374,
          431,
          566,
          887,
          493,
          6412,
          370
         ],
         "y": [
          "Crux",
          "moff",
          "XTandem",
          "Mascot",
          "Perseus",
          "Skyline",
          "Sequest",
          "Comet",
          "Andromeda",
          "PeaksDB",
          "Trans-proteomics pipeline",
          "OpenMS",
          "Myrimatch",
          "MaxQuant",
          "MSGF+"
         ]
        }
       ],
       "layout": {}
      },
      "text/html": [
       "<div id=\"f3196d54-c3c5-4fa4-b399-4f04673f14c4\" style=\"height: 525px; width: 100%;\" class=\"plotly-graph-div\"></div><script type=\"text/javascript\">require([\"plotly\"], function(Plotly) { window.PLOTLYENV=window.PLOTLYENV || {};window.PLOTLYENV.BASE_URL=\"https://plot.ly\";Plotly.newPlot(\"f3196d54-c3c5-4fa4-b399-4f04673f14c4\", [{\"uid\": \"887275a1-cc4c-4d18-930e-257697f1fe8f\", \"y\": [\"Crux\", \"moff\", \"XTandem\", \"Mascot\", \"Perseus\", \"Skyline\", \"Sequest\", \"Comet\", \"Andromeda\", \"PeaksDB\", \"Trans-proteomics pipeline\", \"OpenMS\", \"Myrimatch\", \"MaxQuant\", \"MSGF+\"], \"type\": \"bar\", \"x\": [150, 15, 2156, 8063, 871, 1941, 6230, 454, 2374, 431, 566, 887, 493, 6412, 370], \"orientation\": \"h\"}], {}, {\"showLink\": true, \"linkText\": \"Export to plot.ly\"})});</script><script type=\"text/javascript\">window.addEventListener(\"resize\", function(){window._Plotly.Plots.resize(document.getElementById(\"f3196d54-c3c5-4fa4-b399-4f04673f14c4\"));});</script>"
      ],
      "text/vnd.plotly.v1+html": [
       "<div id=\"f3196d54-c3c5-4fa4-b399-4f04673f14c4\" style=\"height: 525px; width: 100%;\" class=\"plotly-graph-div\"></div><script type=\"text/javascript\">require([\"plotly\"], function(Plotly) { window.PLOTLYENV=window.PLOTLYENV || {};window.PLOTLYENV.BASE_URL=\"https://plot.ly\";Plotly.newPlot(\"f3196d54-c3c5-4fa4-b399-4f04673f14c4\", [{\"uid\": \"887275a1-cc4c-4d18-930e-257697f1fe8f\", \"y\": [\"Crux\", \"moff\", \"XTandem\", \"Mascot\", \"Perseus\", \"Skyline\", \"Sequest\", \"Comet\", \"Andromeda\", \"PeaksDB\", \"Trans-proteomics pipeline\", \"OpenMS\", \"Myrimatch\", \"MaxQuant\", \"MSGF+\"], \"type\": \"bar\", \"x\": [150, 15, 2156, 8063, 871, 1941, 6230, 454, 2374, 431, 566, 887, 493, 6412, 370], \"orientation\": \"h\"}], {}, {\"showLink\": true, \"linkText\": \"Export to plot.ly\"})});</script><script type=\"text/javascript\">window.addEventListener(\"resize\", function(){window._Plotly.Plots.resize(document.getElementById(\"f3196d54-c3c5-4fa4-b399-4f04673f14c4\"));});</script>"
      ]
     },
     "metadata": {},
     "output_type": "display_data"
    }
   ],
   "source": [
    "data = [go.Bar(\n",
    "            x=list(data_citations['Citations']),\n",
    "            y=list(data_citations['Software']),\n",
    "            orientation = 'h'\n",
    ")]\n",
    "\n",
    "iplot(data, filename='horizontal-bar')"
   ]
  },
  {
   "cell_type": "markdown",
   "metadata": {},
   "source": [
    "## Number of Cintations per year (Web of Science)\n",
    "\n",
    "**note**: In this case the number of citations has been obtained from the web of science. This is the main reason why the ``final`` numbers between both sections do not match. \n"
   ]
  },
  {
   "cell_type": "code",
   "execution_count": 250,
   "metadata": {},
   "outputs": [
    {
     "data": {
      "image/png": "[encoded data removed]",
      "text/plain": [
       "<IPython.core.display.Image object>"
      ]
     },
     "execution_count": 250,
     "metadata": {},
     "output_type": "execute_result"
    }
   ],
   "source": [
    "## Note, this code hasn't been implemented yet nativelly in the jupyter notebook. At the moment this figure \n",
    "## is generated with an external script in the same repository. \n",
    "\n",
    "from IPython.display import Image\n",
    "Image(\"citations_rank_delta.png\")\n",
    "\n"
   ]
  }
 ],
 "metadata": {
  "kernelspec": {
   "display_name": "Python 3",
   "language": "python",
   "name": "python3"
  },
  "language_info": {
   "codemirror_mode": {
    "name": "ipython",
    "version": 3
   },
   "file_extension": ".py",
   "mimetype": "text/x-python",
   "name": "python",
   "nbconvert_exporter": "python",
   "pygments_lexer": "ipython3",
   "version": "3.4.2"
  }
 },
 "nbformat": 4,
 "nbformat_minor": 2
}
