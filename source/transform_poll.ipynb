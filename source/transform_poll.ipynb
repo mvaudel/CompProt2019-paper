{
 "cells": [
  {
   "cell_type": "markdown",
   "metadata": {},
   "source": [
    "# Computational Proteomics Trends 2019. \n",
    "\n",
    "This jupyter notebook aims to read the data from Google Scholar csv poll into a panda dataframe to perform basic statistics about proteomics software useage by 2019. \n"
   ]
  },
  {
   "cell_type": "code",
   "execution_count": 171,
   "metadata": {},
   "outputs": [
    {
     "data": {
      "text/html": [
       "<script type=\"text/javascript\">window.PlotlyConfig = {MathJaxConfig: 'local'};</script><script type=\"text/javascript\">if (window.MathJax) {MathJax.Hub.Config({SVG: {font: \"STIX-Web\"}});}</script><script>requirejs.config({paths: { 'plotly': ['https://cdn.plot.ly/plotly-latest.min']},});if(!window._Plotly) {require(['plotly'],function(plotly) {window._Plotly=plotly;});}</script>"
      ],
      "text/vnd.plotly.v1+html": [
       "<script type=\"text/javascript\">window.PlotlyConfig = {MathJaxConfig: 'local'};</script><script type=\"text/javascript\">if (window.MathJax) {MathJax.Hub.Config({SVG: {font: \"STIX-Web\"}});}</script><script>requirejs.config({paths: { 'plotly': ['https://cdn.plot.ly/plotly-latest.min']},});if(!window._Plotly) {require(['plotly'],function(plotly) {window._Plotly=plotly;});}</script>"
      ]
     },
     "metadata": {},
     "output_type": "display_data"
    },
    {
     "data": {
      "text/html": [
       "<div>\n",
       "<style scoped>\n",
       "    .dataframe tbody tr th:only-of-type {\n",
       "        vertical-align: middle;\n",
       "    }\n",
       "\n",
       "    .dataframe tbody tr th {\n",
       "        vertical-align: top;\n",
       "    }\n",
       "\n",
       "    .dataframe thead th {\n",
       "        text-align: right;\n",
       "    }\n",
       "</style>\n",
       "<table border=\"1\" class=\"dataframe\">\n",
       "  <thead>\n",
       "    <tr style=\"text-align: right;\">\n",
       "      <th></th>\n",
       "      <th>Timestamp</th>\n",
       "      <th>Username</th>\n",
       "      <th>What is your current position?</th>\n",
       "      <th>In what kind of research institute do you work?</th>\n",
       "      <th>Which of these software do you use for your Quant Analysis.  [TPP (StPeter, Libra, XPress)]</th>\n",
       "      <th>Which of these software do you use for your Quant Analysis.  [OpenMS]</th>\n",
       "      <th>Which of these software do you use for your Quant Analysis.  [Other]</th>\n",
       "      <th>Which of these software do you use for your Quant Analysis.  [MSnBase (PMID:22113085)]</th>\n",
       "      <th>Which of these software do you use for your Quant Analysis.  [moFF]</th>\n",
       "      <th>Which of these software do you use for your Quant Analysis.  [FlashLFQ (PMID:29083185)]</th>\n",
       "      <th>...</th>\n",
       "      <th>Search engine and type of analysis  [MSAmanda]</th>\n",
       "      <th>Search engine and type of analysis  [Mascot]</th>\n",
       "      <th>Which type of Protein quant data you would like to see more in proteomics resources. (e.g. TPP, ProteomicsDB, etc) [Label-Free Differential expression experiments]</th>\n",
       "      <th>Which type of Protein quant data you would like to see more in proteomics resources. (e.g. TPP, ProteomicsDB, etc) [Label-Free Base line expression experiments]</th>\n",
       "      <th>Which type of Protein quant data you would like to see more in proteomics resources. (e.g. TPP, ProteomicsDB, etc) [TMT Differential expression experiments]</th>\n",
       "      <th>Which type of Protein quant data you would like to see more in proteomics resources. (e.g. PeptideAtlas, ProteomicsDB, etc) [TMT Base line expression experiments]</th>\n",
       "      <th>Which type of Protein quant data you would like to see more in proteomics resources. (e.g. PeptideAtlas, ProteomicsDB, etc) [SRM/MR expression Experiments]</th>\n",
       "      <th>Which type of Protein quant data you would like to see more in proteomics resources. (e.g. PeptideAtlas, ProteomicsDB, etc) [DIA/SWATH expression experiments]</th>\n",
       "      <th>In case you would like to see something else more represented in Proteomics resources let us know.</th>\n",
       "      <th>Unnamed: 66</th>\n",
       "    </tr>\n",
       "  </thead>\n",
       "  <tbody>\n",
       "    <tr>\n",
       "      <th>0</th>\n",
       "      <td>2019/02/08 1:42:21 PM GMT</td>\n",
       "      <td>user1</td>\n",
       "      <td>NaN</td>\n",
       "      <td>NaN</td>\n",
       "      <td>NaN</td>\n",
       "      <td>NaN</td>\n",
       "      <td>NaN</td>\n",
       "      <td>NaN</td>\n",
       "      <td>NaN</td>\n",
       "      <td>NaN</td>\n",
       "      <td>...</td>\n",
       "      <td>NaN</td>\n",
       "      <td>NaN</td>\n",
       "      <td>NaN</td>\n",
       "      <td>NaN</td>\n",
       "      <td>NaN</td>\n",
       "      <td>NaN</td>\n",
       "      <td>NaN</td>\n",
       "      <td>NaN</td>\n",
       "      <td>NaN</td>\n",
       "      <td>NaN</td>\n",
       "    </tr>\n",
       "    <tr>\n",
       "      <th>1</th>\n",
       "      <td>2019/02/08 1:49:09 PM GMT</td>\n",
       "      <td>user2</td>\n",
       "      <td>NaN</td>\n",
       "      <td>NaN</td>\n",
       "      <td>NaN</td>\n",
       "      <td>NaN</td>\n",
       "      <td>NaN</td>\n",
       "      <td>NaN</td>\n",
       "      <td>NaN</td>\n",
       "      <td>NaN</td>\n",
       "      <td>...</td>\n",
       "      <td>NaN</td>\n",
       "      <td>NaN</td>\n",
       "      <td>NaN</td>\n",
       "      <td>NaN</td>\n",
       "      <td>NaN</td>\n",
       "      <td>NaN</td>\n",
       "      <td>NaN</td>\n",
       "      <td>NaN</td>\n",
       "      <td>NaN</td>\n",
       "      <td>NaN</td>\n",
       "    </tr>\n",
       "    <tr>\n",
       "      <th>2</th>\n",
       "      <td>2019/02/08 1:54:35 PM GMT</td>\n",
       "      <td>user3</td>\n",
       "      <td>NaN</td>\n",
       "      <td>NaN</td>\n",
       "      <td>NaN</td>\n",
       "      <td>NaN</td>\n",
       "      <td>NaN</td>\n",
       "      <td>NaN</td>\n",
       "      <td>NaN</td>\n",
       "      <td>NaN</td>\n",
       "      <td>...</td>\n",
       "      <td>NaN</td>\n",
       "      <td>NaN</td>\n",
       "      <td>NaN</td>\n",
       "      <td>NaN</td>\n",
       "      <td>NaN</td>\n",
       "      <td>NaN</td>\n",
       "      <td>NaN</td>\n",
       "      <td>NaN</td>\n",
       "      <td>NaN</td>\n",
       "      <td>NaN</td>\n",
       "    </tr>\n",
       "    <tr>\n",
       "      <th>3</th>\n",
       "      <td>2019/02/08 2:13:28 PM GMT</td>\n",
       "      <td>user4</td>\n",
       "      <td>NaN</td>\n",
       "      <td>NaN</td>\n",
       "      <td>NaN</td>\n",
       "      <td>NaN</td>\n",
       "      <td>NaN</td>\n",
       "      <td>NaN</td>\n",
       "      <td>NaN</td>\n",
       "      <td>NaN</td>\n",
       "      <td>...</td>\n",
       "      <td>NaN</td>\n",
       "      <td>NaN</td>\n",
       "      <td>NaN</td>\n",
       "      <td>NaN</td>\n",
       "      <td>NaN</td>\n",
       "      <td>NaN</td>\n",
       "      <td>NaN</td>\n",
       "      <td>NaN</td>\n",
       "      <td>NaN</td>\n",
       "      <td>NaN</td>\n",
       "    </tr>\n",
       "    <tr>\n",
       "      <th>4</th>\n",
       "      <td>2019/02/08 3:22:10 PM GMT</td>\n",
       "      <td>user5</td>\n",
       "      <td>NaN</td>\n",
       "      <td>NaN</td>\n",
       "      <td>NaN</td>\n",
       "      <td>NaN</td>\n",
       "      <td>NaN</td>\n",
       "      <td>NaN</td>\n",
       "      <td>NaN</td>\n",
       "      <td>Label Free Analysis MS1</td>\n",
       "      <td>...</td>\n",
       "      <td>NaN</td>\n",
       "      <td>NaN</td>\n",
       "      <td>NaN</td>\n",
       "      <td>NaN</td>\n",
       "      <td>NaN</td>\n",
       "      <td>NaN</td>\n",
       "      <td>NaN</td>\n",
       "      <td>NaN</td>\n",
       "      <td>NaN</td>\n",
       "      <td>NaN</td>\n",
       "    </tr>\n",
       "  </tbody>\n",
       "</table>\n",
       "<p>5 rows × 67 columns</p>\n",
       "</div>"
      ],
      "text/plain": [
       "                   Timestamp Username What is your current position?  \\\n",
       "0  2019/02/08 1:42:21 PM GMT    user1                            NaN   \n",
       "1  2019/02/08 1:49:09 PM GMT    user2                            NaN   \n",
       "2  2019/02/08 1:54:35 PM GMT    user3                            NaN   \n",
       "3  2019/02/08 2:13:28 PM GMT    user4                            NaN   \n",
       "4  2019/02/08 3:22:10 PM GMT    user5                            NaN   \n",
       "\n",
       "  In what kind of research institute do you work?  \\\n",
       "0                                             NaN   \n",
       "1                                             NaN   \n",
       "2                                             NaN   \n",
       "3                                             NaN   \n",
       "4                                             NaN   \n",
       "\n",
       "  Which of these software do you use for your Quant Analysis.  [TPP (StPeter, Libra, XPress)]  \\\n",
       "0                                                NaN                                            \n",
       "1                                                NaN                                            \n",
       "2                                                NaN                                            \n",
       "3                                                NaN                                            \n",
       "4                                                NaN                                            \n",
       "\n",
       "  Which of these software do you use for your Quant Analysis.  [OpenMS]  \\\n",
       "0                                                NaN                      \n",
       "1                                                NaN                      \n",
       "2                                                NaN                      \n",
       "3                                                NaN                      \n",
       "4                                                NaN                      \n",
       "\n",
       "  Which of these software do you use for your Quant Analysis.  [Other]  \\\n",
       "0                                                NaN                     \n",
       "1                                                NaN                     \n",
       "2                                                NaN                     \n",
       "3                                                NaN                     \n",
       "4                                                NaN                     \n",
       "\n",
       "  Which of these software do you use for your Quant Analysis.  [MSnBase (PMID:22113085)]  \\\n",
       "0                                                NaN                                       \n",
       "1                                                NaN                                       \n",
       "2                                                NaN                                       \n",
       "3                                                NaN                                       \n",
       "4                                                NaN                                       \n",
       "\n",
       "  Which of these software do you use for your Quant Analysis.  [moFF]  \\\n",
       "0                                                NaN                    \n",
       "1                                                NaN                    \n",
       "2                                                NaN                    \n",
       "3                                                NaN                    \n",
       "4                                                NaN                    \n",
       "\n",
       "  Which of these software do you use for your Quant Analysis.  [FlashLFQ (PMID:29083185)]  \\\n",
       "0                                                NaN                                        \n",
       "1                                                NaN                                        \n",
       "2                                                NaN                                        \n",
       "3                                                NaN                                        \n",
       "4                            Label Free Analysis MS1                                        \n",
       "\n",
       "      ...     Search engine and type of analysis  [MSAmanda]  \\\n",
       "0     ...                                                NaN   \n",
       "1     ...                                                NaN   \n",
       "2     ...                                                NaN   \n",
       "3     ...                                                NaN   \n",
       "4     ...                                                NaN   \n",
       "\n",
       "  Search engine and type of analysis  [Mascot]  \\\n",
       "0                                          NaN   \n",
       "1                                          NaN   \n",
       "2                                          NaN   \n",
       "3                                          NaN   \n",
       "4                                          NaN   \n",
       "\n",
       "  Which type of Protein quant data you would like to see more in proteomics resources. (e.g. TPP, ProteomicsDB, etc) [Label-Free Differential expression experiments]  \\\n",
       "0                                                NaN                                                                                                                    \n",
       "1                                                NaN                                                                                                                    \n",
       "2                                                NaN                                                                                                                    \n",
       "3                                                NaN                                                                                                                    \n",
       "4                                                NaN                                                                                                                    \n",
       "\n",
       "  Which type of Protein quant data you would like to see more in proteomics resources. (e.g. TPP, ProteomicsDB, etc) [Label-Free Base line expression experiments]  \\\n",
       "0                                                NaN                                                                                                                 \n",
       "1                                                NaN                                                                                                                 \n",
       "2                                                NaN                                                                                                                 \n",
       "3                                                NaN                                                                                                                 \n",
       "4                                                NaN                                                                                                                 \n",
       "\n",
       "  Which type of Protein quant data you would like to see more in proteomics resources. (e.g. TPP, ProteomicsDB, etc) [TMT Differential expression experiments]  \\\n",
       "0                                                NaN                                                                                                             \n",
       "1                                                NaN                                                                                                             \n",
       "2                                                NaN                                                                                                             \n",
       "3                                                NaN                                                                                                             \n",
       "4                                                NaN                                                                                                             \n",
       "\n",
       "  Which type of Protein quant data you would like to see more in proteomics resources. (e.g. PeptideAtlas, ProteomicsDB, etc) [TMT Base line expression experiments]  \\\n",
       "0                                                NaN                                                                                                                   \n",
       "1                                                NaN                                                                                                                   \n",
       "2                                                NaN                                                                                                                   \n",
       "3                                                NaN                                                                                                                   \n",
       "4                                                NaN                                                                                                                   \n",
       "\n",
       "  Which type of Protein quant data you would like to see more in proteomics resources. (e.g. PeptideAtlas, ProteomicsDB, etc) [SRM/MR expression Experiments]  \\\n",
       "0                                                NaN                                                                                                            \n",
       "1                                                NaN                                                                                                            \n",
       "2                                                NaN                                                                                                            \n",
       "3                                                NaN                                                                                                            \n",
       "4                                                NaN                                                                                                            \n",
       "\n",
       "  Which type of Protein quant data you would like to see more in proteomics resources. (e.g. PeptideAtlas, ProteomicsDB, etc) [DIA/SWATH expression experiments]  \\\n",
       "0                                                NaN                                                                                                               \n",
       "1                                                NaN                                                                                                               \n",
       "2                                                NaN                                                                                                               \n",
       "3                                                NaN                                                                                                               \n",
       "4                                                NaN                                                                                                               \n",
       "\n",
       "  In case you would like to see something else more represented in Proteomics resources let us know.   \\\n",
       "0                                                NaN                                                    \n",
       "1                                                NaN                                                    \n",
       "2                                                NaN                                                    \n",
       "3                                                NaN                                                    \n",
       "4                                                NaN                                                    \n",
       "\n",
       "  Unnamed: 66  \n",
       "0         NaN  \n",
       "1         NaN  \n",
       "2         NaN  \n",
       "3         NaN  \n",
       "4         NaN  \n",
       "\n",
       "[5 rows x 67 columns]"
      ]
     },
     "execution_count": 171,
     "metadata": {},
     "output_type": "execute_result"
    }
   ],
   "source": [
    "import pandas as pd \n",
    "#import plotly.plotly as py\n",
    "import plotly.graph_objs as go\n",
    "from plotly.offline import download_plotlyjs, init_notebook_mode, plot, iplot\n",
    "import plotly.plotly as py\n",
    "\n",
    "init_notebook_mode(connected=True) \n",
    "\n",
    "# Read the poll data \n",
    "data_df = pd.read_csv(\"../data/poll-results-07032019.csv\")\n",
    "data_citations = pd.read_csv(\"../data/citations-count.csv\")\n",
    "data_df.head() "
   ]
  },
  {
   "cell_type": "code",
   "execution_count": 172,
   "metadata": {
    "scrolled": true
   },
   "outputs": [],
   "source": [
    "def get_pie_chart(collection): \n",
    "    \"\"\"\n",
    "    This function returns a pie chart from a collection of elements.\n",
    "    @param collection must be a column from a pandas datframe \n",
    "    \"\"\"\n",
    "    \n",
    "    collection_counts = {} \n",
    "    for word in collection:\n",
    "        token_collection = str(word).split(\";\")\n",
    "        for token in token_collection: \n",
    "            if token.strip() != 'nan':\n",
    "                if token not in collection_counts:\n",
    "                   collection_counts[token] = 0\n",
    "                collection_counts[token] = collection_counts[token] + 1\n",
    "\n",
    "  \n",
    "    trace=go.Pie(labels=[k  for  k in  collection_counts.keys()],values=[k  for  k in  collection_counts.values()])\n",
    "    return trace\n",
    "\n",
    "def get_multioption_bar_data(data_df, question): \n",
    "    \"\"\"\n",
    "    This function get a panda dataframe and an a multioption question and generate a barplot \n",
    "    @param data Pandas data frame\n",
    "    @param question Question (column name prefix)\n",
    "    \"\"\"\n",
    "    column_names = [col for col in data_df.columns if question in col]\n",
    "    values = []\n",
    "    for column in column_names: \n",
    "        value = column[column.find(\"[\") + 1: column.find(\"]\")]\n",
    "        values.append(value)\n",
    "\n",
    "    plot_values = {}\n",
    "\n",
    "    for index, row in data_df.iterrows():\n",
    "        for column in column_names: \n",
    "            column_value = column[column.find(\"[\") + 1: column.find(\"]\")]\n",
    "            complete_value = data_df.at[index,column]\n",
    "            combined_values = str(complete_value).split(\";\")\n",
    "            for value in combined_values: \n",
    "                if value not in values: \n",
    "                    if value in plot_values:\n",
    "                        if column_value in plot_values[value]:\n",
    "                            count = plot_values[value][column_value] + 1\n",
    "                            plot_values[value].update({column_value:count})\n",
    "                        elif ((str(value)).lower() != 'nan'):\n",
    "                            plot_values[value].update({column_value:1})\n",
    "                    elif((str(value)).lower() != 'nan'):\n",
    "                        plot_values[value] = {column_value: 1}\n",
    "\n",
    "    data = [] \n",
    "    for option in plot_values: \n",
    "        trace = go.Bar(x = list(plot_values[option].keys()), y = list(plot_values[option].values()),name = option)\n",
    "        data.append(trace)\n",
    "    return data    "
   ]
  },
  {
   "cell_type": "markdown",
   "metadata": {},
   "source": [
    "## Position Distribution\n",
    "\n",
    "Read the position and occupation of every participant of the poll. "
   ]
  },
  {
   "cell_type": "code",
   "execution_count": 173,
   "metadata": {},
   "outputs": [
    {
     "data": {
      "application/vnd.plotly.v1+json": {
       "data": [
        {
         "labels": [
          "Director",
          "Master's student",
          "Developer - Bioinformatician",
          "Master Student",
          "Professor",
          "Consultant",
          "Project Manager",
          "CEO",
          "Principal Investigator",
          "Phd Student",
          "CTO",
          "Scientist",
          "Research Scientist - Staff",
          "Lab Manager",
          "Post-Doc",
          "Head of Core Facility Proteomics",
          "Student",
          "Head proteomics research platform"
         ],
         "type": "pie",
         "uid": "d563d8b7-473a-4e7a-8445-e9ac5753acc4",
         "values": [
          6,
          1,
          9,
          1,
          4,
          2,
          7,
          2,
          25,
          40,
          1,
          1,
          41,
          1,
          36,
          1,
          1,
          1
         ]
        }
       ],
       "layout": {}
      },
      "text/html": [
       "<div id=\"5db94d06-1a9d-4b6f-9cbc-071d77e1a8d5\" style=\"height: 525px; width: 100%;\" class=\"plotly-graph-div\"></div><script type=\"text/javascript\">require([\"plotly\"], function(Plotly) { window.PLOTLYENV=window.PLOTLYENV || {};window.PLOTLYENV.BASE_URL=\"https://plot.ly\";Plotly.newPlot(\"5db94d06-1a9d-4b6f-9cbc-071d77e1a8d5\", [{\"uid\": \"9a13b0f3-f157-4220-8710-645a8d6ac3f8\", \"labels\": [\"Director\", \"Master's student\", \"Developer - Bioinformatician\", \"Master Student\", \"Professor\", \"Consultant\", \"Project Manager\", \"CEO\", \"Principal Investigator\", \"Phd Student\", \"CTO\", \"Scientist\", \"Research Scientist - Staff\", \"Lab Manager\", \"Post-Doc\", \"Head of Core Facility Proteomics\", \"Student\", \"Head proteomics research platform\"], \"type\": \"pie\", \"values\": [6, 1, 9, 1, 4, 2, 7, 2, 25, 40, 1, 1, 41, 1, 36, 1, 1, 1]}], {}, {\"showLink\": true, \"linkText\": \"Export to plot.ly\"})});</script><script type=\"text/javascript\">window.addEventListener(\"resize\", function(){window._Plotly.Plots.resize(document.getElementById(\"5db94d06-1a9d-4b6f-9cbc-071d77e1a8d5\"));});</script>"
      ],
      "text/vnd.plotly.v1+html": [
       "<div id=\"5db94d06-1a9d-4b6f-9cbc-071d77e1a8d5\" style=\"height: 525px; width: 100%;\" class=\"plotly-graph-div\"></div><script type=\"text/javascript\">require([\"plotly\"], function(Plotly) { window.PLOTLYENV=window.PLOTLYENV || {};window.PLOTLYENV.BASE_URL=\"https://plot.ly\";Plotly.newPlot(\"5db94d06-1a9d-4b6f-9cbc-071d77e1a8d5\", [{\"uid\": \"9a13b0f3-f157-4220-8710-645a8d6ac3f8\", \"labels\": [\"Director\", \"Master's student\", \"Developer - Bioinformatician\", \"Master Student\", \"Professor\", \"Consultant\", \"Project Manager\", \"CEO\", \"Principal Investigator\", \"Phd Student\", \"CTO\", \"Scientist\", \"Research Scientist - Staff\", \"Lab Manager\", \"Post-Doc\", \"Head of Core Facility Proteomics\", \"Student\", \"Head proteomics research platform\"], \"type\": \"pie\", \"values\": [6, 1, 9, 1, 4, 2, 7, 2, 25, 40, 1, 1, 41, 1, 36, 1, 1, 1]}], {}, {\"showLink\": true, \"linkText\": \"Export to plot.ly\"})});</script><script type=\"text/javascript\">window.addEventListener(\"resize\", function(){window._Plotly.Plots.resize(document.getElementById(\"5db94d06-1a9d-4b6f-9cbc-071d77e1a8d5\"));});</script>"
      ]
     },
     "metadata": {},
     "output_type": "display_data"
    }
   ],
   "source": [
    "positions = data_df.iloc[:,2]\n",
    "trace = get_pie_chart(positions)\n",
    "iplot([trace])"
   ]
  },
  {
   "cell_type": "markdown",
   "metadata": {},
   "source": [
    "## Affiliation distribtuion \n",
    "\n",
    "The number of participants in the poll by type of Institution. "
   ]
  },
  {
   "cell_type": "code",
   "execution_count": 174,
   "metadata": {},
   "outputs": [
    {
     "data": {
      "application/vnd.plotly.v1+json": {
       "data": [
        {
         "labels": [
          "Hospital, Research Hospital",
          "University",
          "Core Facility",
          "Research Institute",
          "Company, Start-up, Pharma"
         ],
         "type": "pie",
         "uid": "8f27e3ef-d9cc-41a4-a9ef-78637486289c",
         "values": [
          10,
          86,
          16,
          26,
          20
         ]
        }
       ],
       "layout": {}
      },
      "text/html": [
       "<div id=\"81f6df96-a0c5-4dd6-8643-8f53d4fbd4c4\" style=\"height: 525px; width: 100%;\" class=\"plotly-graph-div\"></div><script type=\"text/javascript\">require([\"plotly\"], function(Plotly) { window.PLOTLYENV=window.PLOTLYENV || {};window.PLOTLYENV.BASE_URL=\"https://plot.ly\";Plotly.newPlot(\"81f6df96-a0c5-4dd6-8643-8f53d4fbd4c4\", [{\"uid\": \"d79b3d5c-3815-4605-8dd1-a97f7b31399e\", \"labels\": [\"Hospital, Research Hospital\", \"University\", \"Core Facility\", \"Research Institute\", \"Company, Start-up, Pharma\"], \"type\": \"pie\", \"values\": [10, 86, 16, 26, 20]}], {}, {\"showLink\": true, \"linkText\": \"Export to plot.ly\"})});</script><script type=\"text/javascript\">window.addEventListener(\"resize\", function(){window._Plotly.Plots.resize(document.getElementById(\"81f6df96-a0c5-4dd6-8643-8f53d4fbd4c4\"));});</script>"
      ],
      "text/vnd.plotly.v1+html": [
       "<div id=\"81f6df96-a0c5-4dd6-8643-8f53d4fbd4c4\" style=\"height: 525px; width: 100%;\" class=\"plotly-graph-div\"></div><script type=\"text/javascript\">require([\"plotly\"], function(Plotly) { window.PLOTLYENV=window.PLOTLYENV || {};window.PLOTLYENV.BASE_URL=\"https://plot.ly\";Plotly.newPlot(\"81f6df96-a0c5-4dd6-8643-8f53d4fbd4c4\", [{\"uid\": \"d79b3d5c-3815-4605-8dd1-a97f7b31399e\", \"labels\": [\"Hospital, Research Hospital\", \"University\", \"Core Facility\", \"Research Institute\", \"Company, Start-up, Pharma\"], \"type\": \"pie\", \"values\": [10, 86, 16, 26, 20]}], {}, {\"showLink\": true, \"linkText\": \"Export to plot.ly\"})});</script><script type=\"text/javascript\">window.addEventListener(\"resize\", function(){window._Plotly.Plots.resize(document.getElementById(\"81f6df96-a0c5-4dd6-8643-8f53d4fbd4c4\"));});</script>"
      ]
     },
     "metadata": {},
     "output_type": "display_data"
    }
   ],
   "source": [
    "affiliations = data_df.iloc[:,3]\n",
    "trace = get_pie_chart(affiliations)     \n",
    "iplot([trace])"
   ]
  },
  {
   "cell_type": "markdown",
   "metadata": {},
   "source": [
    "## Which of these software do you use for your Quant Analysis\n",
    "\n",
    "These plots will show the usage of Quantification software. "
   ]
  },
  {
   "cell_type": "code",
   "execution_count": 175,
   "metadata": {},
   "outputs": [
    {
     "data": {
      "application/vnd.plotly.v1+json": {
       "data": [
        {
         "name": "Phospho Quant analysis",
         "type": "bar",
         "uid": "1ffd106f-8777-41e0-b696-06b30f89a48c",
         "x": [
          "OpenMS",
          "Other",
          "MaxQuant",
          "Patterlab (PMID:26658470)",
          "Skyline",
          "Philosopher (Alexey Lab)",
          "EncyclopeDIA (PMID: 30510204)",
          "TPP (StPeter, Libra, XPress)"
         ],
         "y": [
          5,
          8,
          49,
          1,
          11,
          4,
          1,
          2
         ]
        },
        {
         "name": "SILAC analysis",
         "type": "bar",
         "uid": "5200021e-3592-4b0b-bc5d-c8d815673ded",
         "x": [
          "FlashLFQ (PMID:29083185)",
          "Census",
          "Other",
          "MaxQuant",
          "OpenMS",
          "Skyline",
          "MSnBase (PMID:22113085)",
          "TPP (StPeter, Libra, XPress)"
         ],
         "y": [
          2,
          1,
          4,
          58,
          7,
          11,
          1,
          1
         ]
        },
        {
         "name": "Label Free Analysis MS1",
         "type": "bar",
         "uid": "90c57afa-5e2b-467c-8015-b2ffb0a19124",
         "x": [
          "Other",
          "MaxQuant",
          "Patterlab (PMID:26658470)",
          "Skyline",
          "Philosopher (Alexey Lab)",
          "moFF",
          "OpenMS",
          "FlashLFQ (PMID:29083185)",
          "MSnBase (PMID:22113085)",
          "diffacto",
          "Proline (http://www.profiproteomics.fr)",
          "TPP (StPeter, Libra, XPress)"
         ],
         "y": [
          12,
          101,
          4,
          33,
          10,
          4,
          16,
          16,
          1,
          1,
          1,
          1
         ]
        },
        {
         "name": "TMT analysis",
         "type": "bar",
         "uid": "9b51f569-2d32-446e-8fa5-8c78086fe8ec",
         "x": [
          "OpenMS",
          "Other",
          "MSnBase (PMID:22113085)",
          "MaxQuant",
          "Patterlab (PMID:26658470)",
          "Skyline",
          "Philosopher (Alexey Lab)",
          "EncyclopeDIA (PMID: 30510204)",
          "TPP (StPeter, Libra, XPress)"
         ],
         "y": [
          9,
          11,
          2,
          51,
          2,
          4,
          7,
          1,
          2
         ]
        },
        {
         "name": "SWATH / DIA Quant",
         "type": "bar",
         "uid": "3fe66d20-70bc-43f3-bdf6-133219f76a31",
         "x": [
          "OpenMS",
          "Other",
          "MaxQuant",
          "Skyline",
          "diffacto",
          "Philosopher (Alexey Lab)",
          "EncyclopeDIA (PMID: 30510204)",
          "TPP (StPeter, Libra, XPress)"
         ],
         "y": [
          12,
          7,
          6,
          34,
          1,
          1,
          3,
          2
         ]
        },
        {
         "name": "Other Quant analysis",
         "type": "bar",
         "uid": "7edf67a5-9cf3-464d-afa0-fb690e0baa03",
         "x": [
          "FlashLFQ (PMID:29083185)",
          "OpenMS",
          "Other",
          "HIQuant (PMID:30282776)",
          "MaxQuant",
          "MSnBase (PMID:22113085)",
          "Patterlab (PMID:26658470)",
          "Skyline",
          "Philosopher (Alexey Lab)",
          "TPP (StPeter, Libra, XPress)"
         ],
         "y": [
          2,
          11,
          9,
          1,
          16,
          2,
          2,
          36,
          5,
          2
         ]
        },
        {
         "name": "Label Free Spectral Count Analysis",
         "type": "bar",
         "uid": "52ca60d5-4ca1-4abb-aa31-9b4ce1aca1e6",
         "x": [
          "Other",
          "MaxQuant",
          "OpenMS",
          "Skyline",
          "Philosopher (Alexey Lab)",
          "moFF",
          "Patterlab (PMID:26658470)",
          "FlashLFQ (PMID:29083185)",
          "MSnBase (PMID:22113085)",
          "EncyclopeDIA (PMID: 30510204)",
          "TPP (StPeter, Libra, XPress)"
         ],
         "y": [
          13,
          33,
          4,
          6,
          8,
          1,
          4,
          2,
          1,
          1,
          1
         ]
        }
       ],
       "layout": {
        "barmode": "group"
       }
      },
      "text/html": [
       "<div id=\"70293af9-1d33-4d94-8036-627a17272717\" style=\"height: 525px; width: 100%;\" class=\"plotly-graph-div\"></div><script type=\"text/javascript\">require([\"plotly\"], function(Plotly) { window.PLOTLYENV=window.PLOTLYENV || {};window.PLOTLYENV.BASE_URL=\"https://plot.ly\";Plotly.newPlot(\"70293af9-1d33-4d94-8036-627a17272717\", [{\"uid\": \"1ffd106f-8777-41e0-b696-06b30f89a48c\", \"y\": [5, 8, 49, 1, 11, 4, 1, 2], \"name\": \"Phospho Quant analysis\", \"x\": [\"OpenMS\", \"Other\", \"MaxQuant\", \"Patterlab (PMID:26658470)\", \"Skyline\", \"Philosopher (Alexey Lab)\", \"EncyclopeDIA (PMID: 30510204)\", \"TPP (StPeter, Libra, XPress)\"], \"type\": \"bar\"}, {\"uid\": \"5200021e-3592-4b0b-bc5d-c8d815673ded\", \"y\": [2, 1, 4, 58, 7, 11, 1, 1], \"name\": \"SILAC analysis\", \"x\": [\"FlashLFQ (PMID:29083185)\", \"Census\", \"Other\", \"MaxQuant\", \"OpenMS\", \"Skyline\", \"MSnBase (PMID:22113085)\", \"TPP (StPeter, Libra, XPress)\"], \"type\": \"bar\"}, {\"uid\": \"90c57afa-5e2b-467c-8015-b2ffb0a19124\", \"y\": [12, 101, 4, 33, 10, 4, 16, 16, 1, 1, 1, 1], \"name\": \"Label Free Analysis MS1\", \"x\": [\"Other\", \"MaxQuant\", \"Patterlab (PMID:26658470)\", \"Skyline\", \"Philosopher (Alexey Lab)\", \"moFF\", \"OpenMS\", \"FlashLFQ (PMID:29083185)\", \"MSnBase (PMID:22113085)\", \"diffacto\", \"Proline (http://www.profiproteomics.fr)\", \"TPP (StPeter, Libra, XPress)\"], \"type\": \"bar\"}, {\"uid\": \"9b51f569-2d32-446e-8fa5-8c78086fe8ec\", \"y\": [9, 11, 2, 51, 2, 4, 7, 1, 2], \"name\": \"TMT analysis\", \"x\": [\"OpenMS\", \"Other\", \"MSnBase (PMID:22113085)\", \"MaxQuant\", \"Patterlab (PMID:26658470)\", \"Skyline\", \"Philosopher (Alexey Lab)\", \"EncyclopeDIA (PMID: 30510204)\", \"TPP (StPeter, Libra, XPress)\"], \"type\": \"bar\"}, {\"uid\": \"3fe66d20-70bc-43f3-bdf6-133219f76a31\", \"y\": [12, 7, 6, 34, 1, 1, 3, 2], \"name\": \"SWATH / DIA Quant\", \"x\": [\"OpenMS\", \"Other\", \"MaxQuant\", \"Skyline\", \"diffacto\", \"Philosopher (Alexey Lab)\", \"EncyclopeDIA (PMID: 30510204)\", \"TPP (StPeter, Libra, XPress)\"], \"type\": \"bar\"}, {\"uid\": \"7edf67a5-9cf3-464d-afa0-fb690e0baa03\", \"y\": [2, 11, 9, 1, 16, 2, 2, 36, 5, 2], \"name\": \"Other Quant analysis\", \"x\": [\"FlashLFQ (PMID:29083185)\", \"OpenMS\", \"Other\", \"HIQuant (PMID:30282776)\", \"MaxQuant\", \"MSnBase (PMID:22113085)\", \"Patterlab (PMID:26658470)\", \"Skyline\", \"Philosopher (Alexey Lab)\", \"TPP (StPeter, Libra, XPress)\"], \"type\": \"bar\"}, {\"uid\": \"52ca60d5-4ca1-4abb-aa31-9b4ce1aca1e6\", \"y\": [13, 33, 4, 6, 8, 1, 4, 2, 1, 1, 1], \"name\": \"Label Free Spectral Count Analysis\", \"x\": [\"Other\", \"MaxQuant\", \"OpenMS\", \"Skyline\", \"Philosopher (Alexey Lab)\", \"moFF\", \"Patterlab (PMID:26658470)\", \"FlashLFQ (PMID:29083185)\", \"MSnBase (PMID:22113085)\", \"EncyclopeDIA (PMID: 30510204)\", \"TPP (StPeter, Libra, XPress)\"], \"type\": \"bar\"}], {\"barmode\": \"group\"}, {\"showLink\": true, \"linkText\": \"Export to plot.ly\"})});</script><script type=\"text/javascript\">window.addEventListener(\"resize\", function(){window._Plotly.Plots.resize(document.getElementById(\"70293af9-1d33-4d94-8036-627a17272717\"));});</script>"
      ],
      "text/vnd.plotly.v1+html": [
       "<div id=\"70293af9-1d33-4d94-8036-627a17272717\" style=\"height: 525px; width: 100%;\" class=\"plotly-graph-div\"></div><script type=\"text/javascript\">require([\"plotly\"], function(Plotly) { window.PLOTLYENV=window.PLOTLYENV || {};window.PLOTLYENV.BASE_URL=\"https://plot.ly\";Plotly.newPlot(\"70293af9-1d33-4d94-8036-627a17272717\", [{\"uid\": \"1ffd106f-8777-41e0-b696-06b30f89a48c\", \"y\": [5, 8, 49, 1, 11, 4, 1, 2], \"name\": \"Phospho Quant analysis\", \"x\": [\"OpenMS\", \"Other\", \"MaxQuant\", \"Patterlab (PMID:26658470)\", \"Skyline\", \"Philosopher (Alexey Lab)\", \"EncyclopeDIA (PMID: 30510204)\", \"TPP (StPeter, Libra, XPress)\"], \"type\": \"bar\"}, {\"uid\": \"5200021e-3592-4b0b-bc5d-c8d815673ded\", \"y\": [2, 1, 4, 58, 7, 11, 1, 1], \"name\": \"SILAC analysis\", \"x\": [\"FlashLFQ (PMID:29083185)\", \"Census\", \"Other\", \"MaxQuant\", \"OpenMS\", \"Skyline\", \"MSnBase (PMID:22113085)\", \"TPP (StPeter, Libra, XPress)\"], \"type\": \"bar\"}, {\"uid\": \"90c57afa-5e2b-467c-8015-b2ffb0a19124\", \"y\": [12, 101, 4, 33, 10, 4, 16, 16, 1, 1, 1, 1], \"name\": \"Label Free Analysis MS1\", \"x\": [\"Other\", \"MaxQuant\", \"Patterlab (PMID:26658470)\", \"Skyline\", \"Philosopher (Alexey Lab)\", \"moFF\", \"OpenMS\", \"FlashLFQ (PMID:29083185)\", \"MSnBase (PMID:22113085)\", \"diffacto\", \"Proline (http://www.profiproteomics.fr)\", \"TPP (StPeter, Libra, XPress)\"], \"type\": \"bar\"}, {\"uid\": \"9b51f569-2d32-446e-8fa5-8c78086fe8ec\", \"y\": [9, 11, 2, 51, 2, 4, 7, 1, 2], \"name\": \"TMT analysis\", \"x\": [\"OpenMS\", \"Other\", \"MSnBase (PMID:22113085)\", \"MaxQuant\", \"Patterlab (PMID:26658470)\", \"Skyline\", \"Philosopher (Alexey Lab)\", \"EncyclopeDIA (PMID: 30510204)\", \"TPP (StPeter, Libra, XPress)\"], \"type\": \"bar\"}, {\"uid\": \"3fe66d20-70bc-43f3-bdf6-133219f76a31\", \"y\": [12, 7, 6, 34, 1, 1, 3, 2], \"name\": \"SWATH / DIA Quant\", \"x\": [\"OpenMS\", \"Other\", \"MaxQuant\", \"Skyline\", \"diffacto\", \"Philosopher (Alexey Lab)\", \"EncyclopeDIA (PMID: 30510204)\", \"TPP (StPeter, Libra, XPress)\"], \"type\": \"bar\"}, {\"uid\": \"7edf67a5-9cf3-464d-afa0-fb690e0baa03\", \"y\": [2, 11, 9, 1, 16, 2, 2, 36, 5, 2], \"name\": \"Other Quant analysis\", \"x\": [\"FlashLFQ (PMID:29083185)\", \"OpenMS\", \"Other\", \"HIQuant (PMID:30282776)\", \"MaxQuant\", \"MSnBase (PMID:22113085)\", \"Patterlab (PMID:26658470)\", \"Skyline\", \"Philosopher (Alexey Lab)\", \"TPP (StPeter, Libra, XPress)\"], \"type\": \"bar\"}, {\"uid\": \"52ca60d5-4ca1-4abb-aa31-9b4ce1aca1e6\", \"y\": [13, 33, 4, 6, 8, 1, 4, 2, 1, 1, 1], \"name\": \"Label Free Spectral Count Analysis\", \"x\": [\"Other\", \"MaxQuant\", \"OpenMS\", \"Skyline\", \"Philosopher (Alexey Lab)\", \"moFF\", \"Patterlab (PMID:26658470)\", \"FlashLFQ (PMID:29083185)\", \"MSnBase (PMID:22113085)\", \"EncyclopeDIA (PMID: 30510204)\", \"TPP (StPeter, Libra, XPress)\"], \"type\": \"bar\"}], {\"barmode\": \"group\"}, {\"showLink\": true, \"linkText\": \"Export to plot.ly\"})});</script><script type=\"text/javascript\">window.addEventListener(\"resize\", function(){window._Plotly.Plots.resize(document.getElementById(\"70293af9-1d33-4d94-8036-627a17272717\"));});</script>"
      ]
     },
     "metadata": {},
     "output_type": "display_data"
    }
   ],
   "source": [
    "question = \"Which of these software do you use for your Quant Analysis\"\n",
    "data = get_multioption_bar_data(data_df, question)\n",
    "layout = go.Layout(barmode='group')\n",
    "fig = go.Figure(data=data, layout=layout)\n",
    "iplot(fig, filename='grouped-bar')\n"
   ]
  },
  {
   "cell_type": "markdown",
   "metadata": {},
   "source": [
    "## Which commercial software do you use for your Quant Analysis\n",
    "\n",
    "These plots will show the usage of Quantification software (Commercial software). "
   ]
  },
  {
   "cell_type": "code",
   "execution_count": 176,
   "metadata": {},
   "outputs": [
    {
     "data": {
      "application/vnd.plotly.v1+json": {
       "data": [
        {
         "name": "Phospho Quant analysis",
         "type": "bar",
         "uid": "e60bc3fb-6cf8-47a3-a2c0-feafbdd71a8a",
         "x": [
          "Scaffold",
          "Other",
          "Spectronaut",
          "Proteome Discover",
          "Peaks",
          "Mascot ",
          "Peak View ",
          "Progenesis"
         ],
         "y": [
          6,
          1,
          3,
          26,
          4,
          12,
          1,
          2
         ]
        },
        {
         "name": "SILAC analysis",
         "type": "bar",
         "uid": "83cda581-30a6-4575-8c9c-48724d7c5d7c",
         "x": [
          "Scaffold",
          "Peaks",
          "Proteome Discover",
          "Mascot ",
          "Progenesis"
         ],
         "y": [
          6,
          3,
          27,
          12,
          2
         ]
        },
        {
         "name": "Label Free Analysis MS1",
         "type": "bar",
         "uid": "62c3092e-e04a-4333-8d12-7f8bc4d3c3c4",
         "x": [
          "Scaffold",
          "Other",
          "Peaks",
          "Proteome Discover",
          "Spectronaut",
          "Mascot ",
          "Peak View ",
          "Progenesis"
         ],
         "y": [
          8,
          3,
          12,
          47,
          3,
          24,
          1,
          18
         ]
        },
        {
         "name": "TMT analysis",
         "type": "bar",
         "uid": "35ca6f9c-7f4a-4275-b4b7-ef63754b0cb5",
         "x": [
          "Scaffold",
          "Other",
          "Peaks",
          "Proteome Discover",
          "Mascot "
         ],
         "y": [
          4,
          1,
          5,
          47,
          14
         ]
        },
        {
         "name": "SWATH / DIA Quant",
         "type": "bar",
         "uid": "e8597edb-8889-4d5f-8af8-1e1b0f4ed7ce",
         "x": [
          "Scaffold",
          "Spectronaut",
          "Proteome Discover",
          "Peaks",
          "Mascot ",
          "Peak View "
         ],
         "y": [
          3,
          23,
          4,
          2,
          3,
          2
         ]
        },
        {
         "name": "Other Quant analysis",
         "type": "bar",
         "uid": "63c8c3d5-8949-4397-9dd6-3e8f3e7bb09d",
         "x": [
          "Scaffold",
          "Other",
          "Spectronaut",
          "Proteome Discover",
          "Peaks",
          "Mascot ",
          "Progenesis"
         ],
         "y": [
          5,
          1,
          1,
          14,
          3,
          9,
          2
         ]
        },
        {
         "name": "Label Free Spectral Count Analysis",
         "type": "bar",
         "uid": "43c23f6c-66ff-4752-b624-3327e7c5563e",
         "x": [
          "Scaffold",
          "Other",
          "Peaks",
          "Proteome Discover",
          "Mascot "
         ],
         "y": [
          16,
          3,
          6,
          23,
          16
         ]
        }
       ],
       "layout": {
        "barmode": "group"
       }
      },
      "text/html": [
       "<div id=\"780557ef-5d3b-49b9-b0d5-3a648cbfbc85\" style=\"height: 525px; width: 100%;\" class=\"plotly-graph-div\"></div><script type=\"text/javascript\">require([\"plotly\"], function(Plotly) { window.PLOTLYENV=window.PLOTLYENV || {};window.PLOTLYENV.BASE_URL=\"https://plot.ly\";Plotly.newPlot(\"780557ef-5d3b-49b9-b0d5-3a648cbfbc85\", [{\"uid\": \"e60bc3fb-6cf8-47a3-a2c0-feafbdd71a8a\", \"y\": [6, 1, 3, 26, 4, 12, 1, 2], \"name\": \"Phospho Quant analysis\", \"x\": [\"Scaffold\", \"Other\", \"Spectronaut\", \"Proteome Discover\", \"Peaks\", \"Mascot \", \"Peak View \", \"Progenesis\"], \"type\": \"bar\"}, {\"uid\": \"83cda581-30a6-4575-8c9c-48724d7c5d7c\", \"y\": [6, 3, 27, 12, 2], \"name\": \"SILAC analysis\", \"x\": [\"Scaffold\", \"Peaks\", \"Proteome Discover\", \"Mascot \", \"Progenesis\"], \"type\": \"bar\"}, {\"uid\": \"62c3092e-e04a-4333-8d12-7f8bc4d3c3c4\", \"y\": [8, 3, 12, 47, 3, 24, 1, 18], \"name\": \"Label Free Analysis MS1\", \"x\": [\"Scaffold\", \"Other\", \"Peaks\", \"Proteome Discover\", \"Spectronaut\", \"Mascot \", \"Peak View \", \"Progenesis\"], \"type\": \"bar\"}, {\"uid\": \"35ca6f9c-7f4a-4275-b4b7-ef63754b0cb5\", \"y\": [4, 1, 5, 47, 14], \"name\": \"TMT analysis\", \"x\": [\"Scaffold\", \"Other\", \"Peaks\", \"Proteome Discover\", \"Mascot \"], \"type\": \"bar\"}, {\"uid\": \"e8597edb-8889-4d5f-8af8-1e1b0f4ed7ce\", \"y\": [3, 23, 4, 2, 3, 2], \"name\": \"SWATH / DIA Quant\", \"x\": [\"Scaffold\", \"Spectronaut\", \"Proteome Discover\", \"Peaks\", \"Mascot \", \"Peak View \"], \"type\": \"bar\"}, {\"uid\": \"63c8c3d5-8949-4397-9dd6-3e8f3e7bb09d\", \"y\": [5, 1, 1, 14, 3, 9, 2], \"name\": \"Other Quant analysis\", \"x\": [\"Scaffold\", \"Other\", \"Spectronaut\", \"Proteome Discover\", \"Peaks\", \"Mascot \", \"Progenesis\"], \"type\": \"bar\"}, {\"uid\": \"43c23f6c-66ff-4752-b624-3327e7c5563e\", \"y\": [16, 3, 6, 23, 16], \"name\": \"Label Free Spectral Count Analysis\", \"x\": [\"Scaffold\", \"Other\", \"Peaks\", \"Proteome Discover\", \"Mascot \"], \"type\": \"bar\"}], {\"barmode\": \"group\"}, {\"showLink\": true, \"linkText\": \"Export to plot.ly\"})});</script><script type=\"text/javascript\">window.addEventListener(\"resize\", function(){window._Plotly.Plots.resize(document.getElementById(\"780557ef-5d3b-49b9-b0d5-3a648cbfbc85\"));});</script>"
      ],
      "text/vnd.plotly.v1+html": [
       "<div id=\"780557ef-5d3b-49b9-b0d5-3a648cbfbc85\" style=\"height: 525px; width: 100%;\" class=\"plotly-graph-div\"></div><script type=\"text/javascript\">require([\"plotly\"], function(Plotly) { window.PLOTLYENV=window.PLOTLYENV || {};window.PLOTLYENV.BASE_URL=\"https://plot.ly\";Plotly.newPlot(\"780557ef-5d3b-49b9-b0d5-3a648cbfbc85\", [{\"uid\": \"e60bc3fb-6cf8-47a3-a2c0-feafbdd71a8a\", \"y\": [6, 1, 3, 26, 4, 12, 1, 2], \"name\": \"Phospho Quant analysis\", \"x\": [\"Scaffold\", \"Other\", \"Spectronaut\", \"Proteome Discover\", \"Peaks\", \"Mascot \", \"Peak View \", \"Progenesis\"], \"type\": \"bar\"}, {\"uid\": \"83cda581-30a6-4575-8c9c-48724d7c5d7c\", \"y\": [6, 3, 27, 12, 2], \"name\": \"SILAC analysis\", \"x\": [\"Scaffold\", \"Peaks\", \"Proteome Discover\", \"Mascot \", \"Progenesis\"], \"type\": \"bar\"}, {\"uid\": \"62c3092e-e04a-4333-8d12-7f8bc4d3c3c4\", \"y\": [8, 3, 12, 47, 3, 24, 1, 18], \"name\": \"Label Free Analysis MS1\", \"x\": [\"Scaffold\", \"Other\", \"Peaks\", \"Proteome Discover\", \"Spectronaut\", \"Mascot \", \"Peak View \", \"Progenesis\"], \"type\": \"bar\"}, {\"uid\": \"35ca6f9c-7f4a-4275-b4b7-ef63754b0cb5\", \"y\": [4, 1, 5, 47, 14], \"name\": \"TMT analysis\", \"x\": [\"Scaffold\", \"Other\", \"Peaks\", \"Proteome Discover\", \"Mascot \"], \"type\": \"bar\"}, {\"uid\": \"e8597edb-8889-4d5f-8af8-1e1b0f4ed7ce\", \"y\": [3, 23, 4, 2, 3, 2], \"name\": \"SWATH / DIA Quant\", \"x\": [\"Scaffold\", \"Spectronaut\", \"Proteome Discover\", \"Peaks\", \"Mascot \", \"Peak View \"], \"type\": \"bar\"}, {\"uid\": \"63c8c3d5-8949-4397-9dd6-3e8f3e7bb09d\", \"y\": [5, 1, 1, 14, 3, 9, 2], \"name\": \"Other Quant analysis\", \"x\": [\"Scaffold\", \"Other\", \"Spectronaut\", \"Proteome Discover\", \"Peaks\", \"Mascot \", \"Progenesis\"], \"type\": \"bar\"}, {\"uid\": \"43c23f6c-66ff-4752-b624-3327e7c5563e\", \"y\": [16, 3, 6, 23, 16], \"name\": \"Label Free Spectral Count Analysis\", \"x\": [\"Scaffold\", \"Other\", \"Peaks\", \"Proteome Discover\", \"Mascot \"], \"type\": \"bar\"}], {\"barmode\": \"group\"}, {\"showLink\": true, \"linkText\": \"Export to plot.ly\"})});</script><script type=\"text/javascript\">window.addEventListener(\"resize\", function(){window._Plotly.Plots.resize(document.getElementById(\"780557ef-5d3b-49b9-b0d5-3a648cbfbc85\"));});</script>"
      ]
     },
     "metadata": {},
     "output_type": "display_data"
    }
   ],
   "source": [
    "question = \"Which commercial software do you use for your Quant Analysis\"\n",
    "data = get_multioption_bar_data(data_df, question)\n",
    "layout = go.Layout(barmode='group')\n",
    "fig = go.Figure(data=data, layout=layout)\n",
    "iplot(fig, filename='grouped-bar')"
   ]
  },
  {
   "cell_type": "markdown",
   "metadata": {},
   "source": [
    "## Relevant software features during the selection process \n",
    "\n",
    "The purpose of this question is to know, whta kind of features the users of Computational proteomics software consider more relevant."
   ]
  },
  {
   "cell_type": "code",
   "execution_count": 177,
   "metadata": {},
   "outputs": [
    {
     "data": {
      "application/vnd.plotly.v1+json": {
       "data": [
        {
         "name": "Quality of the Results",
         "type": "bar",
         "uid": "6ce2c4fd-9485-4d31-ba96-48504207269c",
         "x": [
          "Other",
          "MaxQuant",
          "Patterlab (PMID:26658470)",
          "MSnBase (PMID:22113085)",
          "Philosopher (Alexey Lab)",
          "moFF",
          "OpenMS",
          "FlashLFQ (PMID:29083185)",
          "Skyline",
          "EncyclopeDIA (PMID: 30510204)",
          "Proline (http://www.profiproteomics.fr)",
          "diffacto",
          "TPP (StPeter, Libra, XPress)"
         ],
         "y": [
          1,
          34,
          3,
          1,
          2,
          1,
          5,
          10,
          18,
          2,
          1,
          1,
          1
         ]
        },
        {
         "name": "Free",
         "type": "bar",
         "uid": "cddd94c1-2cd9-4134-a2e3-3107503169e7",
         "x": [
          "Other",
          "MaxQuant",
          "Patterlab (PMID:26658470)",
          "Skyline",
          "Philosopher (Alexey Lab)",
          "moFF",
          "OpenMS",
          "FlashLFQ (PMID:29083185)",
          "MSnBase (PMID:22113085)",
          "diffacto",
          "Proline (http://www.profiproteomics.fr)",
          "EncyclopeDIA (PMID: 30510204)",
          "TPP (StPeter, Libra, XPress)"
         ],
         "y": [
          1,
          37,
          5,
          19,
          4,
          1,
          9,
          10,
          2,
          1,
          1,
          3,
          1
         ]
        },
        {
         "name": "Easy to use",
         "type": "bar",
         "uid": "c99632bb-7f41-432d-8ad4-e70692c90d5b",
         "x": [
          "Other",
          "MaxQuant",
          "Patterlab (PMID:26658470)",
          "Skyline",
          "Philosopher (Alexey Lab)",
          "moFF",
          "OpenMS",
          "FlashLFQ (PMID:29083185)",
          "MSnBase (PMID:22113085)",
          "EncyclopeDIA (PMID: 30510204)",
          "Proline (http://www.profiproteomics.fr)",
          "TPP (StPeter, Libra, XPress)"
         ],
         "y": [
          3,
          29,
          4,
          16,
          3,
          1,
          4,
          11,
          1,
          2,
          1,
          1
         ]
        },
        {
         "name": "Easy to run in HPC / Cloud enviroments",
         "type": "bar",
         "uid": "85c88984-aea1-4785-9ed8-aab948a9f443",
         "x": [
          "OpenMS",
          "FlashLFQ (PMID:29083185)",
          "MaxQuant",
          "Patterlab (PMID:26658470)",
          "Skyline",
          "Philosopher (Alexey Lab)",
          "moFF",
          "MSnBase (PMID:22113085)",
          "TPP (StPeter, Libra, XPress)"
         ],
         "y": [
          4,
          1,
          3,
          1,
          1,
          2,
          1,
          1,
          1
         ]
        },
        {
         "name": "Open Source",
         "type": "bar",
         "uid": "cb0030ef-e021-40b3-aba9-986d7a19450a",
         "x": [
          "MaxQuant",
          "Patterlab (PMID:26658470)",
          "Skyline",
          "Philosopher (Alexey Lab)",
          "moFF",
          "OpenMS",
          "FlashLFQ (PMID:29083185)",
          "MSnBase (PMID:22113085)",
          "diffacto",
          "EncyclopeDIA (PMID: 30510204)",
          "TPP (StPeter, Libra, XPress)"
         ],
         "y": [
          11,
          2,
          10,
          2,
          2,
          12,
          7,
          2,
          1,
          2,
          1
         ]
        },
        {
         "name": "Maturity (No much errors)",
         "type": "bar",
         "uid": "93b6a5cb-32f7-4cbd-9b8f-17129a27ea4a",
         "x": [
          "OpenMS",
          "FlashLFQ (PMID:29083185)",
          "MSnBase (PMID:22113085)",
          "MaxQuant",
          "Patterlab (PMID:26658470)",
          "Skyline",
          "EncyclopeDIA (PMID: 30510204)",
          "Philosopher (Alexey Lab)",
          "TPP (StPeter, Libra, XPress)"
         ],
         "y": [
          1,
          2,
          1,
          18,
          1,
          11,
          1,
          2,
          1
         ]
        },
        {
         "name": "Desktop Application",
         "type": "bar",
         "uid": "89bb1fad-8274-49af-ae56-7bffb8e276b8",
         "x": [
          "OpenMS",
          "FlashLFQ (PMID:29083185)",
          "MaxQuant",
          "MSnBase (PMID:22113085)",
          "Patterlab (PMID:26658470)",
          "Skyline",
          "EncyclopeDIA (PMID: 30510204)",
          "moFF",
          "Other"
         ],
         "y": [
          3,
          10,
          21,
          2,
          2,
          15,
          2,
          1,
          2
         ]
        },
        {
         "name": "Flexibility to develop pipelines",
         "type": "bar",
         "uid": "dcfcc5fa-6530-4fcd-8f6d-aea63e2f3328",
         "x": [
          "OpenMS",
          "Patterlab (PMID:26658470)",
          "FlashLFQ (PMID:29083185)",
          "TPP (StPeter, Libra, XPress)",
          "MaxQuant",
          "Skyline",
          "MSnBase (PMID:22113085)",
          "Philosopher (Alexey Lab)",
          "moFF",
          "Other"
         ],
         "y": [
          8,
          2,
          4,
          1,
          1,
          4,
          2,
          3,
          2,
          1
         ]
        },
        {
         "name": "Documentation and Support",
         "type": "bar",
         "uid": "72063735-8f27-43f4-b99b-665878d6aaab",
         "x": [
          "Other",
          "MaxQuant",
          "OpenMS",
          "Skyline",
          "Philosopher (Alexey Lab)",
          "moFF",
          "Patterlab (PMID:26658470)",
          "FlashLFQ (PMID:29083185)",
          "MSnBase (PMID:22113085)",
          "EncyclopeDIA (PMID: 30510204)",
          "TPP (StPeter, Libra, XPress)"
         ],
         "y": [
          2,
          11,
          6,
          18,
          1,
          1,
          2,
          12,
          2,
          1,
          1
         ]
        },
        {
         "name": "Internal benchmark with other tools suggest better/similar results",
         "type": "bar",
         "uid": "51c3ac6d-dffc-429d-985a-2eafc3f0b1bb",
         "x": [
          "Proline (http://www.profiproteomics.fr)",
          "Patterlab (PMID:26658470)",
          "FlashLFQ (PMID:29083185)",
          "MaxQuant",
          "OpenMS",
          "Skyline",
          "diffacto",
          "moFF",
          "Philosopher (Alexey Lab)",
          "TPP (StPeter, Libra, XPress)"
         ],
         "y": [
          1,
          2,
          5,
          13,
          1,
          3,
          1,
          1,
          1,
          1
         ]
        },
        {
         "name": "Compatibility with other softwares",
         "type": "bar",
         "uid": "2f6cf30b-70eb-42fd-bbd1-9efb7c4efcb0",
         "x": [
          "OpenMS",
          "FlashLFQ (PMID:29083185)",
          "MaxQuant",
          "MSnBase (PMID:22113085)",
          "Patterlab (PMID:26658470)",
          "Skyline",
          "EncyclopeDIA (PMID: 30510204)",
          "moFF",
          "Philosopher (Alexey Lab)",
          "TPP (StPeter, Libra, XPress)"
         ],
         "y": [
          5,
          4,
          9,
          1,
          1,
          9,
          1,
          1,
          2,
          1
         ]
        },
        {
         "name": "Support for multiple Quant methods",
         "type": "bar",
         "uid": "1333dff7-b81c-4111-a38d-1164cd2261df",
         "x": [
          "OpenMS",
          "FlashLFQ (PMID:29083185)",
          "MSnBase (PMID:22113085)",
          "MaxQuant",
          "Other",
          "Patterlab (PMID:26658470)",
          "Skyline",
          "EncyclopeDIA (PMID: 30510204)",
          "Philosopher (Alexey Lab)",
          "TPP (StPeter, Libra, XPress)"
         ],
         "y": [
          5,
          3,
          1,
          28,
          1,
          1,
          12,
          1,
          2,
          1
         ]
        }
       ],
       "layout": {
        "barmode": "group",
        "legend": {
         "font": {
          "color": "#000",
          "family": "sans-serif",
          "size": 10
         },
         "x": 1,
         "y": 1
        }
       }
      },
      "text/html": [
       "<div id=\"4781f7fe-fe32-4a47-a214-a25b4651789f\" style=\"height: 525px; width: 100%;\" class=\"plotly-graph-div\"></div><script type=\"text/javascript\">require([\"plotly\"], function(Plotly) { window.PLOTLYENV=window.PLOTLYENV || {};window.PLOTLYENV.BASE_URL=\"https://plot.ly\";Plotly.newPlot(\"4781f7fe-fe32-4a47-a214-a25b4651789f\", [{\"uid\": \"6ce2c4fd-9485-4d31-ba96-48504207269c\", \"y\": [1, 34, 3, 1, 2, 1, 5, 10, 18, 2, 1, 1, 1], \"name\": \"Quality of the Results\", \"x\": [\"Other\", \"MaxQuant\", \"Patterlab (PMID:26658470)\", \"MSnBase (PMID:22113085)\", \"Philosopher (Alexey Lab)\", \"moFF\", \"OpenMS\", \"FlashLFQ (PMID:29083185)\", \"Skyline\", \"EncyclopeDIA (PMID: 30510204)\", \"Proline (http://www.profiproteomics.fr)\", \"diffacto\", \"TPP (StPeter, Libra, XPress)\"], \"type\": \"bar\"}, {\"uid\": \"cddd94c1-2cd9-4134-a2e3-3107503169e7\", \"y\": [1, 37, 5, 19, 4, 1, 9, 10, 2, 1, 1, 3, 1], \"name\": \"Free\", \"x\": [\"Other\", \"MaxQuant\", \"Patterlab (PMID:26658470)\", \"Skyline\", \"Philosopher (Alexey Lab)\", \"moFF\", \"OpenMS\", \"FlashLFQ (PMID:29083185)\", \"MSnBase (PMID:22113085)\", \"diffacto\", \"Proline (http://www.profiproteomics.fr)\", \"EncyclopeDIA (PMID: 30510204)\", \"TPP (StPeter, Libra, XPress)\"], \"type\": \"bar\"}, {\"uid\": \"c99632bb-7f41-432d-8ad4-e70692c90d5b\", \"y\": [3, 29, 4, 16, 3, 1, 4, 11, 1, 2, 1, 1], \"name\": \"Easy to use\", \"x\": [\"Other\", \"MaxQuant\", \"Patterlab (PMID:26658470)\", \"Skyline\", \"Philosopher (Alexey Lab)\", \"moFF\", \"OpenMS\", \"FlashLFQ (PMID:29083185)\", \"MSnBase (PMID:22113085)\", \"EncyclopeDIA (PMID: 30510204)\", \"Proline (http://www.profiproteomics.fr)\", \"TPP (StPeter, Libra, XPress)\"], \"type\": \"bar\"}, {\"uid\": \"85c88984-aea1-4785-9ed8-aab948a9f443\", \"y\": [4, 1, 3, 1, 1, 2, 1, 1, 1], \"name\": \"Easy to run in HPC / Cloud enviroments\", \"x\": [\"OpenMS\", \"FlashLFQ (PMID:29083185)\", \"MaxQuant\", \"Patterlab (PMID:26658470)\", \"Skyline\", \"Philosopher (Alexey Lab)\", \"moFF\", \"MSnBase (PMID:22113085)\", \"TPP (StPeter, Libra, XPress)\"], \"type\": \"bar\"}, {\"uid\": \"cb0030ef-e021-40b3-aba9-986d7a19450a\", \"y\": [11, 2, 10, 2, 2, 12, 7, 2, 1, 2, 1], \"name\": \"Open Source\", \"x\": [\"MaxQuant\", \"Patterlab (PMID:26658470)\", \"Skyline\", \"Philosopher (Alexey Lab)\", \"moFF\", \"OpenMS\", \"FlashLFQ (PMID:29083185)\", \"MSnBase (PMID:22113085)\", \"diffacto\", \"EncyclopeDIA (PMID: 30510204)\", \"TPP (StPeter, Libra, XPress)\"], \"type\": \"bar\"}, {\"uid\": \"93b6a5cb-32f7-4cbd-9b8f-17129a27ea4a\", \"y\": [1, 2, 1, 18, 1, 11, 1, 2, 1], \"name\": \"Maturity (No much errors)\", \"x\": [\"OpenMS\", \"FlashLFQ (PMID:29083185)\", \"MSnBase (PMID:22113085)\", \"MaxQuant\", \"Patterlab (PMID:26658470)\", \"Skyline\", \"EncyclopeDIA (PMID: 30510204)\", \"Philosopher (Alexey Lab)\", \"TPP (StPeter, Libra, XPress)\"], \"type\": \"bar\"}, {\"uid\": \"89bb1fad-8274-49af-ae56-7bffb8e276b8\", \"y\": [3, 10, 21, 2, 2, 15, 2, 1, 2], \"name\": \"Desktop Application\", \"x\": [\"OpenMS\", \"FlashLFQ (PMID:29083185)\", \"MaxQuant\", \"MSnBase (PMID:22113085)\", \"Patterlab (PMID:26658470)\", \"Skyline\", \"EncyclopeDIA (PMID: 30510204)\", \"moFF\", \"Other\"], \"type\": \"bar\"}, {\"uid\": \"dcfcc5fa-6530-4fcd-8f6d-aea63e2f3328\", \"y\": [8, 2, 4, 1, 1, 4, 2, 3, 2, 1], \"name\": \"Flexibility to develop pipelines\", \"x\": [\"OpenMS\", \"Patterlab (PMID:26658470)\", \"FlashLFQ (PMID:29083185)\", \"TPP (StPeter, Libra, XPress)\", \"MaxQuant\", \"Skyline\", \"MSnBase (PMID:22113085)\", \"Philosopher (Alexey Lab)\", \"moFF\", \"Other\"], \"type\": \"bar\"}, {\"uid\": \"72063735-8f27-43f4-b99b-665878d6aaab\", \"y\": [2, 11, 6, 18, 1, 1, 2, 12, 2, 1, 1], \"name\": \"Documentation and Support\", \"x\": [\"Other\", \"MaxQuant\", \"OpenMS\", \"Skyline\", \"Philosopher (Alexey Lab)\", \"moFF\", \"Patterlab (PMID:26658470)\", \"FlashLFQ (PMID:29083185)\", \"MSnBase (PMID:22113085)\", \"EncyclopeDIA (PMID: 30510204)\", \"TPP (StPeter, Libra, XPress)\"], \"type\": \"bar\"}, {\"uid\": \"51c3ac6d-dffc-429d-985a-2eafc3f0b1bb\", \"y\": [1, 2, 5, 13, 1, 3, 1, 1, 1, 1], \"name\": \"Internal benchmark with other tools suggest better/similar results\", \"x\": [\"Proline (http://www.profiproteomics.fr)\", \"Patterlab (PMID:26658470)\", \"FlashLFQ (PMID:29083185)\", \"MaxQuant\", \"OpenMS\", \"Skyline\", \"diffacto\", \"moFF\", \"Philosopher (Alexey Lab)\", \"TPP (StPeter, Libra, XPress)\"], \"type\": \"bar\"}, {\"uid\": \"2f6cf30b-70eb-42fd-bbd1-9efb7c4efcb0\", \"y\": [5, 4, 9, 1, 1, 9, 1, 1, 2, 1], \"name\": \"Compatibility with other softwares\", \"x\": [\"OpenMS\", \"FlashLFQ (PMID:29083185)\", \"MaxQuant\", \"MSnBase (PMID:22113085)\", \"Patterlab (PMID:26658470)\", \"Skyline\", \"EncyclopeDIA (PMID: 30510204)\", \"moFF\", \"Philosopher (Alexey Lab)\", \"TPP (StPeter, Libra, XPress)\"], \"type\": \"bar\"}, {\"uid\": \"1333dff7-b81c-4111-a38d-1164cd2261df\", \"y\": [5, 3, 1, 28, 1, 1, 12, 1, 2, 1], \"name\": \"Support for multiple Quant methods\", \"x\": [\"OpenMS\", \"FlashLFQ (PMID:29083185)\", \"MSnBase (PMID:22113085)\", \"MaxQuant\", \"Other\", \"Patterlab (PMID:26658470)\", \"Skyline\", \"EncyclopeDIA (PMID: 30510204)\", \"Philosopher (Alexey Lab)\", \"TPP (StPeter, Libra, XPress)\"], \"type\": \"bar\"}], {\"legend\": {\"y\": 1.0, \"x\": 1, \"font\": {\"color\": \"#000\", \"size\": 10, \"family\": \"sans-serif\"}}, \"barmode\": \"group\"}, {\"showLink\": true, \"linkText\": \"Export to plot.ly\"})});</script><script type=\"text/javascript\">window.addEventListener(\"resize\", function(){window._Plotly.Plots.resize(document.getElementById(\"4781f7fe-fe32-4a47-a214-a25b4651789f\"));});</script>"
      ],
      "text/vnd.plotly.v1+html": [
       "<div id=\"4781f7fe-fe32-4a47-a214-a25b4651789f\" style=\"height: 525px; width: 100%;\" class=\"plotly-graph-div\"></div><script type=\"text/javascript\">require([\"plotly\"], function(Plotly) { window.PLOTLYENV=window.PLOTLYENV || {};window.PLOTLYENV.BASE_URL=\"https://plot.ly\";Plotly.newPlot(\"4781f7fe-fe32-4a47-a214-a25b4651789f\", [{\"uid\": \"6ce2c4fd-9485-4d31-ba96-48504207269c\", \"y\": [1, 34, 3, 1, 2, 1, 5, 10, 18, 2, 1, 1, 1], \"name\": \"Quality of the Results\", \"x\": [\"Other\", \"MaxQuant\", \"Patterlab (PMID:26658470)\", \"MSnBase (PMID:22113085)\", \"Philosopher (Alexey Lab)\", \"moFF\", \"OpenMS\", \"FlashLFQ (PMID:29083185)\", \"Skyline\", \"EncyclopeDIA (PMID: 30510204)\", \"Proline (http://www.profiproteomics.fr)\", \"diffacto\", \"TPP (StPeter, Libra, XPress)\"], \"type\": \"bar\"}, {\"uid\": \"cddd94c1-2cd9-4134-a2e3-3107503169e7\", \"y\": [1, 37, 5, 19, 4, 1, 9, 10, 2, 1, 1, 3, 1], \"name\": \"Free\", \"x\": [\"Other\", \"MaxQuant\", \"Patterlab (PMID:26658470)\", \"Skyline\", \"Philosopher (Alexey Lab)\", \"moFF\", \"OpenMS\", \"FlashLFQ (PMID:29083185)\", \"MSnBase (PMID:22113085)\", \"diffacto\", \"Proline (http://www.profiproteomics.fr)\", \"EncyclopeDIA (PMID: 30510204)\", \"TPP (StPeter, Libra, XPress)\"], \"type\": \"bar\"}, {\"uid\": \"c99632bb-7f41-432d-8ad4-e70692c90d5b\", \"y\": [3, 29, 4, 16, 3, 1, 4, 11, 1, 2, 1, 1], \"name\": \"Easy to use\", \"x\": [\"Other\", \"MaxQuant\", \"Patterlab (PMID:26658470)\", \"Skyline\", \"Philosopher (Alexey Lab)\", \"moFF\", \"OpenMS\", \"FlashLFQ (PMID:29083185)\", \"MSnBase (PMID:22113085)\", \"EncyclopeDIA (PMID: 30510204)\", \"Proline (http://www.profiproteomics.fr)\", \"TPP (StPeter, Libra, XPress)\"], \"type\": \"bar\"}, {\"uid\": \"85c88984-aea1-4785-9ed8-aab948a9f443\", \"y\": [4, 1, 3, 1, 1, 2, 1, 1, 1], \"name\": \"Easy to run in HPC / Cloud enviroments\", \"x\": [\"OpenMS\", \"FlashLFQ (PMID:29083185)\", \"MaxQuant\", \"Patterlab (PMID:26658470)\", \"Skyline\", \"Philosopher (Alexey Lab)\", \"moFF\", \"MSnBase (PMID:22113085)\", \"TPP (StPeter, Libra, XPress)\"], \"type\": \"bar\"}, {\"uid\": \"cb0030ef-e021-40b3-aba9-986d7a19450a\", \"y\": [11, 2, 10, 2, 2, 12, 7, 2, 1, 2, 1], \"name\": \"Open Source\", \"x\": [\"MaxQuant\", \"Patterlab (PMID:26658470)\", \"Skyline\", \"Philosopher (Alexey Lab)\", \"moFF\", \"OpenMS\", \"FlashLFQ (PMID:29083185)\", \"MSnBase (PMID:22113085)\", \"diffacto\", \"EncyclopeDIA (PMID: 30510204)\", \"TPP (StPeter, Libra, XPress)\"], \"type\": \"bar\"}, {\"uid\": \"93b6a5cb-32f7-4cbd-9b8f-17129a27ea4a\", \"y\": [1, 2, 1, 18, 1, 11, 1, 2, 1], \"name\": \"Maturity (No much errors)\", \"x\": [\"OpenMS\", \"FlashLFQ (PMID:29083185)\", \"MSnBase (PMID:22113085)\", \"MaxQuant\", \"Patterlab (PMID:26658470)\", \"Skyline\", \"EncyclopeDIA (PMID: 30510204)\", \"Philosopher (Alexey Lab)\", \"TPP (StPeter, Libra, XPress)\"], \"type\": \"bar\"}, {\"uid\": \"89bb1fad-8274-49af-ae56-7bffb8e276b8\", \"y\": [3, 10, 21, 2, 2, 15, 2, 1, 2], \"name\": \"Desktop Application\", \"x\": [\"OpenMS\", \"FlashLFQ (PMID:29083185)\", \"MaxQuant\", \"MSnBase (PMID:22113085)\", \"Patterlab (PMID:26658470)\", \"Skyline\", \"EncyclopeDIA (PMID: 30510204)\", \"moFF\", \"Other\"], \"type\": \"bar\"}, {\"uid\": \"dcfcc5fa-6530-4fcd-8f6d-aea63e2f3328\", \"y\": [8, 2, 4, 1, 1, 4, 2, 3, 2, 1], \"name\": \"Flexibility to develop pipelines\", \"x\": [\"OpenMS\", \"Patterlab (PMID:26658470)\", \"FlashLFQ (PMID:29083185)\", \"TPP (StPeter, Libra, XPress)\", \"MaxQuant\", \"Skyline\", \"MSnBase (PMID:22113085)\", \"Philosopher (Alexey Lab)\", \"moFF\", \"Other\"], \"type\": \"bar\"}, {\"uid\": \"72063735-8f27-43f4-b99b-665878d6aaab\", \"y\": [2, 11, 6, 18, 1, 1, 2, 12, 2, 1, 1], \"name\": \"Documentation and Support\", \"x\": [\"Other\", \"MaxQuant\", \"OpenMS\", \"Skyline\", \"Philosopher (Alexey Lab)\", \"moFF\", \"Patterlab (PMID:26658470)\", \"FlashLFQ (PMID:29083185)\", \"MSnBase (PMID:22113085)\", \"EncyclopeDIA (PMID: 30510204)\", \"TPP (StPeter, Libra, XPress)\"], \"type\": \"bar\"}, {\"uid\": \"51c3ac6d-dffc-429d-985a-2eafc3f0b1bb\", \"y\": [1, 2, 5, 13, 1, 3, 1, 1, 1, 1], \"name\": \"Internal benchmark with other tools suggest better/similar results\", \"x\": [\"Proline (http://www.profiproteomics.fr)\", \"Patterlab (PMID:26658470)\", \"FlashLFQ (PMID:29083185)\", \"MaxQuant\", \"OpenMS\", \"Skyline\", \"diffacto\", \"moFF\", \"Philosopher (Alexey Lab)\", \"TPP (StPeter, Libra, XPress)\"], \"type\": \"bar\"}, {\"uid\": \"2f6cf30b-70eb-42fd-bbd1-9efb7c4efcb0\", \"y\": [5, 4, 9, 1, 1, 9, 1, 1, 2, 1], \"name\": \"Compatibility with other softwares\", \"x\": [\"OpenMS\", \"FlashLFQ (PMID:29083185)\", \"MaxQuant\", \"MSnBase (PMID:22113085)\", \"Patterlab (PMID:26658470)\", \"Skyline\", \"EncyclopeDIA (PMID: 30510204)\", \"moFF\", \"Philosopher (Alexey Lab)\", \"TPP (StPeter, Libra, XPress)\"], \"type\": \"bar\"}, {\"uid\": \"1333dff7-b81c-4111-a38d-1164cd2261df\", \"y\": [5, 3, 1, 28, 1, 1, 12, 1, 2, 1], \"name\": \"Support for multiple Quant methods\", \"x\": [\"OpenMS\", \"FlashLFQ (PMID:29083185)\", \"MSnBase (PMID:22113085)\", \"MaxQuant\", \"Other\", \"Patterlab (PMID:26658470)\", \"Skyline\", \"EncyclopeDIA (PMID: 30510204)\", \"Philosopher (Alexey Lab)\", \"TPP (StPeter, Libra, XPress)\"], \"type\": \"bar\"}], {\"legend\": {\"y\": 1.0, \"x\": 1, \"font\": {\"color\": \"#000\", \"size\": 10, \"family\": \"sans-serif\"}}, \"barmode\": \"group\"}, {\"showLink\": true, \"linkText\": \"Export to plot.ly\"})});</script><script type=\"text/javascript\">window.addEventListener(\"resize\", function(){window._Plotly.Plots.resize(document.getElementById(\"4781f7fe-fe32-4a47-a214-a25b4651789f\"));});</script>"
      ]
     },
     "metadata": {},
     "output_type": "display_data"
    }
   ],
   "source": [
    "question = \"Which are the features that make you to chose the following software for your data analysis\"\n",
    "data = get_multioption_bar_data(data_df, question)\n",
    "layout = go.Layout(barmode='group',legend=dict(x=1, y=1.0, font=dict(\n",
    "            family='sans-serif',\n",
    "            size=10,\n",
    "            color='#000'\n",
    "        ),))\n",
    "fig = go.Figure(data=data, layout=layout)\n",
    "iplot(fig, filename='grouped-bar')"
   ]
  },
  {
   "cell_type": "markdown",
   "metadata": {},
   "source": [
    "## Packages and tools use for downstream analysis\n",
    "\n",
    "This section shows the software/tools and packages (Python and R) for downstream analysis. "
   ]
  },
  {
   "cell_type": "code",
   "execution_count": 189,
   "metadata": {},
   "outputs": [
    {
     "name": "stdout",
     "output_type": "stream",
     "text": [
      "['Which packages do you use for downstream analysis: normalisation, Batch effect corrections.  ']\n"
     ]
    },
    {
     "data": {
      "application/vnd.plotly.v1+json": {
       "data": [
        {
         "orientation": "h",
         "type": "bar",
         "uid": "9167d480-ba3d-49b5-b6a4-bfcee7c78b28",
         "x": [
          1,
          1,
          1,
          1,
          14,
          1,
          1,
          89,
          1,
          1,
          1,
          1,
          1,
          1,
          1,
          1,
          80,
          13,
          31,
          1,
          1,
          5,
          1,
          1,
          43,
          1
         ],
         "y": [
          "pMartR",
          "MetaMorpheus's integrated normalization (new feature)",
          "In house developped",
          "Excel",
          "edgeR",
          "R and Python",
          "NormalyzerDE",
          "In house pipeline.",
          "https://www.ncbi.nlm.nih.gov/pubmed/30277078",
          "Proteome Discovere",
          "Inferno",
          "IPA",
          "Proteome discoverer quant",
          "R",
          "Prostar",
          "Msstitch",
          "Perseus",
          "MSnbase",
          "MSstats",
          "Voom, Combat",
          "Triqler",
          "PAW pipeline (https://t.co/BtiFHAAKU7)",
          "ProStar",
          "http://normalyzer.immunoprot.lth.se/",
          "Limma",
          "MSQRob, SafeQuant, Prostar,"
         ]
        }
       ],
       "layout": {}
      },
      "text/html": [
       "<div id=\"b6abe75d-b7be-47dc-a7b3-a69198735b0a\" style=\"height: 525px; width: 100%;\" class=\"plotly-graph-div\"></div><script type=\"text/javascript\">require([\"plotly\"], function(Plotly) { window.PLOTLYENV=window.PLOTLYENV || {};window.PLOTLYENV.BASE_URL=\"https://plot.ly\";Plotly.newPlot(\"b6abe75d-b7be-47dc-a7b3-a69198735b0a\", [{\"uid\": \"bfbb052c-cc86-4141-85f4-b8b4c80cd900\", \"y\": [\"pMartR\", \"MetaMorpheus's integrated normalization (new feature)\", \"In house developped\", \"Excel\", \"edgeR\", \"R and Python\", \"NormalyzerDE\", \"In house pipeline.\", \"https://www.ncbi.nlm.nih.gov/pubmed/30277078\", \"Proteome Discovere\", \"Inferno\", \"IPA\", \"Proteome discoverer quant\", \"R\", \"Prostar\", \"Msstitch\", \"Perseus\", \"MSnbase\", \"MSstats\", \"Voom, Combat\", \"Triqler\", \"PAW pipeline (https://t.co/BtiFHAAKU7)\", \"ProStar\", \"http://normalyzer.immunoprot.lth.se/\", \"Limma\", \"MSQRob, SafeQuant, Prostar,\"], \"type\": \"bar\", \"x\": [1, 1, 1, 1, 14, 1, 1, 89, 1, 1, 1, 1, 1, 1, 1, 1, 80, 13, 31, 1, 1, 5, 1, 1, 43, 1], \"orientation\": \"h\"}], {}, {\"showLink\": true, \"linkText\": \"Export to plot.ly\"})});</script><script type=\"text/javascript\">window.addEventListener(\"resize\", function(){window._Plotly.Plots.resize(document.getElementById(\"b6abe75d-b7be-47dc-a7b3-a69198735b0a\"));});</script>"
      ],
      "text/vnd.plotly.v1+html": [
       "<div id=\"b6abe75d-b7be-47dc-a7b3-a69198735b0a\" style=\"height: 525px; width: 100%;\" class=\"plotly-graph-div\"></div><script type=\"text/javascript\">require([\"plotly\"], function(Plotly) { window.PLOTLYENV=window.PLOTLYENV || {};window.PLOTLYENV.BASE_URL=\"https://plot.ly\";Plotly.newPlot(\"b6abe75d-b7be-47dc-a7b3-a69198735b0a\", [{\"uid\": \"bfbb052c-cc86-4141-85f4-b8b4c80cd900\", \"y\": [\"pMartR\", \"MetaMorpheus's integrated normalization (new feature)\", \"In house developped\", \"Excel\", \"edgeR\", \"R and Python\", \"NormalyzerDE\", \"In house pipeline.\", \"https://www.ncbi.nlm.nih.gov/pubmed/30277078\", \"Proteome Discovere\", \"Inferno\", \"IPA\", \"Proteome discoverer quant\", \"R\", \"Prostar\", \"Msstitch\", \"Perseus\", \"MSnbase\", \"MSstats\", \"Voom, Combat\", \"Triqler\", \"PAW pipeline (https://t.co/BtiFHAAKU7)\", \"ProStar\", \"http://normalyzer.immunoprot.lth.se/\", \"Limma\", \"MSQRob, SafeQuant, Prostar,\"], \"type\": \"bar\", \"x\": [1, 1, 1, 1, 14, 1, 1, 89, 1, 1, 1, 1, 1, 1, 1, 1, 80, 13, 31, 1, 1, 5, 1, 1, 43, 1], \"orientation\": \"h\"}], {}, {\"showLink\": true, \"linkText\": \"Export to plot.ly\"})});</script><script type=\"text/javascript\">window.addEventListener(\"resize\", function(){window._Plotly.Plots.resize(document.getElementById(\"b6abe75d-b7be-47dc-a7b3-a69198735b0a\"));});</script>"
      ]
     },
     "metadata": {},
     "output_type": "display_data"
    }
   ],
   "source": [
    "# We use a filter here because of special characters \n",
    "question_pattern = \"Which packages do you use for downstream analysis\"\n",
    "downstream_cols = [col for col in data_df.columns if question_pattern in col]\n",
    "print(list(downstream_cols))\n",
    "downstream_data = data_df[downstream_cols]\n",
    "\n",
    "downstream_dic = {}\n",
    "for index, row in downstream_data.iterrows():\n",
    "    for column in downstream_cols:\n",
    "        sentence = downstream_data.at[index, column]\n",
    "        if(str(sentence).lower() != 'nan'):\n",
    "            values = sentence.split(\";\")\n",
    "            for value in values:\n",
    "                if value.strip() not in downstream_dic:\n",
    "                    downstream_dic[value.strip()] = 0\n",
    "                downstream_dic[value.strip()] = downstream_dic[value.strip()] + 1\n",
    "\n",
    "data = [go.Bar(\n",
    "        x=list(downstream_dic.values()),\n",
    "        y=list(downstream_dic.keys()),\n",
    "        orientation = 'h'\n",
    ")]\n",
    "\n",
    "iplot(data, filename='horizontal-bar')            "
   ]
  },
  {
   "cell_type": "markdown",
   "metadata": {},
   "source": [
    "## Number of citations per Tool\n",
    "\n",
    "This plot aims to compute the number of citations (Google Scholar) per tool. For the present statistics we added all the main publications related with the tool. \n",
    "    \n",
    "**note**: Please review the file (software-ids.csv) to included all the publications and check if something is missing. You can also add an issue in the repository.  "
   ]
  },
  {
   "cell_type": "code",
   "execution_count": 178,
   "metadata": {},
   "outputs": [
    {
     "data": {
      "application/vnd.plotly.v1+json": {
       "data": [
        {
         "orientation": "h",
         "type": "bar",
         "uid": "2036c354-ea30-4e7f-a087-f027777cfdb3",
         "x": [
          150,
          15,
          2156,
          8063,
          871,
          1941,
          6230,
          454,
          2374,
          431,
          566,
          887,
          493,
          6412,
          370
         ],
         "y": [
          "Crux",
          "moff",
          "XTandem",
          "Mascot",
          "Perseus",
          "Skyline",
          "Sequest",
          "Comet",
          "Andromeda",
          "PeaksDB",
          "Trans-proteomics pipeline",
          "OpenMS",
          "Myrimatch",
          "MaxQuant",
          "MSGF+"
         ]
        }
       ],
       "layout": {}
      },
      "text/html": [
       "<div id=\"5114e19c-5cf4-428c-ad43-9da2419572a6\" style=\"height: 525px; width: 100%;\" class=\"plotly-graph-div\"></div><script type=\"text/javascript\">require([\"plotly\"], function(Plotly) { window.PLOTLYENV=window.PLOTLYENV || {};window.PLOTLYENV.BASE_URL=\"https://plot.ly\";Plotly.newPlot(\"5114e19c-5cf4-428c-ad43-9da2419572a6\", [{\"uid\": \"c462a4ed-adfd-40e2-87ec-0167c6e49512\", \"y\": [\"Crux\", \"moff\", \"XTandem\", \"Mascot\", \"Perseus\", \"Skyline\", \"Sequest\", \"Comet\", \"Andromeda\", \"PeaksDB\", \"Trans-proteomics pipeline\", \"OpenMS\", \"Myrimatch\", \"MaxQuant\", \"MSGF+\"], \"type\": \"bar\", \"x\": [150, 15, 2156, 8063, 871, 1941, 6230, 454, 2374, 431, 566, 887, 493, 6412, 370], \"orientation\": \"h\"}], {}, {\"showLink\": true, \"linkText\": \"Export to plot.ly\"})});</script><script type=\"text/javascript\">window.addEventListener(\"resize\", function(){window._Plotly.Plots.resize(document.getElementById(\"5114e19c-5cf4-428c-ad43-9da2419572a6\"));});</script>"
      ],
      "text/vnd.plotly.v1+html": [
       "<div id=\"5114e19c-5cf4-428c-ad43-9da2419572a6\" style=\"height: 525px; width: 100%;\" class=\"plotly-graph-div\"></div><script type=\"text/javascript\">require([\"plotly\"], function(Plotly) { window.PLOTLYENV=window.PLOTLYENV || {};window.PLOTLYENV.BASE_URL=\"https://plot.ly\";Plotly.newPlot(\"5114e19c-5cf4-428c-ad43-9da2419572a6\", [{\"uid\": \"c462a4ed-adfd-40e2-87ec-0167c6e49512\", \"y\": [\"Crux\", \"moff\", \"XTandem\", \"Mascot\", \"Perseus\", \"Skyline\", \"Sequest\", \"Comet\", \"Andromeda\", \"PeaksDB\", \"Trans-proteomics pipeline\", \"OpenMS\", \"Myrimatch\", \"MaxQuant\", \"MSGF+\"], \"type\": \"bar\", \"x\": [150, 15, 2156, 8063, 871, 1941, 6230, 454, 2374, 431, 566, 887, 493, 6412, 370], \"orientation\": \"h\"}], {}, {\"showLink\": true, \"linkText\": \"Export to plot.ly\"})});</script><script type=\"text/javascript\">window.addEventListener(\"resize\", function(){window._Plotly.Plots.resize(document.getElementById(\"5114e19c-5cf4-428c-ad43-9da2419572a6\"));});</script>"
      ]
     },
     "metadata": {},
     "output_type": "display_data"
    }
   ],
   "source": [
    "data = [go.Bar(\n",
    "            x=list(data_citations['Citations']),\n",
    "            y=list(data_citations['Software']),\n",
    "            orientation = 'h'\n",
    ")]\n",
    "\n",
    "iplot(data, filename='horizontal-bar')"
   ]
  },
  {
   "cell_type": "code",
   "execution_count": null,
   "metadata": {},
   "outputs": [],
   "source": []
  }
 ],
 "metadata": {
  "kernelspec": {
   "display_name": "Python 3",
   "language": "python",
   "name": "python3"
  },
  "language_info": {
   "codemirror_mode": {
    "name": "ipython",
    "version": 3
   },
   "file_extension": ".py",
   "mimetype": "text/x-python",
   "name": "python",
   "nbconvert_exporter": "python",
   "pygments_lexer": "ipython3",
   "version": "3.4.2"
  }
 },
 "nbformat": 4,
 "nbformat_minor": 2
}
