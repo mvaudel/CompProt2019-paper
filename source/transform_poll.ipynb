{
 "cells": [
  {
   "cell_type": "markdown",
   "metadata": {},
   "source": [
    "# Computational Proteomics Trends 2019. \n",
    "\n",
    "This jupyter notebook aims to read the data from Google Scholar csv poll into a panda dataframe to perform basic statistics about proteomics software useage by 2019. \n"
   ]
  },
  {
   "cell_type": "code",
   "execution_count": 131,
   "metadata": {},
   "outputs": [
    {
     "data": {
      "text/html": [
       "<script type=\"text/javascript\">window.PlotlyConfig = {MathJaxConfig: 'local'};</script><script type=\"text/javascript\">if (window.MathJax) {MathJax.Hub.Config({SVG: {font: \"STIX-Web\"}});}</script><script>requirejs.config({paths: { 'plotly': ['https://cdn.plot.ly/plotly-latest.min']},});if(!window._Plotly) {require(['plotly'],function(plotly) {window._Plotly=plotly;});}</script>"
      ],
      "text/vnd.plotly.v1+html": [
       "<script type=\"text/javascript\">window.PlotlyConfig = {MathJaxConfig: 'local'};</script><script type=\"text/javascript\">if (window.MathJax) {MathJax.Hub.Config({SVG: {font: \"STIX-Web\"}});}</script><script>requirejs.config({paths: { 'plotly': ['https://cdn.plot.ly/plotly-latest.min']},});if(!window._Plotly) {require(['plotly'],function(plotly) {window._Plotly=plotly;});}</script>"
      ]
     },
     "metadata": {},
     "output_type": "display_data"
    },
    {
     "data": {
      "text/html": [
       "<div>\n",
       "<style scoped>\n",
       "    .dataframe tbody tr th:only-of-type {\n",
       "        vertical-align: middle;\n",
       "    }\n",
       "\n",
       "    .dataframe tbody tr th {\n",
       "        vertical-align: top;\n",
       "    }\n",
       "\n",
       "    .dataframe thead th {\n",
       "        text-align: right;\n",
       "    }\n",
       "</style>\n",
       "<table border=\"1\" class=\"dataframe\">\n",
       "  <thead>\n",
       "    <tr style=\"text-align: right;\">\n",
       "      <th></th>\n",
       "      <th>Timestamp</th>\n",
       "      <th>Username</th>\n",
       "      <th>What is your current position?</th>\n",
       "      <th>In what kind of research institute do you work?</th>\n",
       "      <th>Which of these software do you use for your Quant Analysis.  [PeptideAtlas (StPeter, Libra, XPress)]</th>\n",
       "      <th>Which of these software do you use for your Quant Analysis.  [OpenMS]</th>\n",
       "      <th>Which of these software do you use for your Quant Analysis.  [Other]</th>\n",
       "      <th>Which of these software do you use for your Quant Analysis.  [MSnBase (PMID:22113085)]</th>\n",
       "      <th>Which of these software do you use for your Quant Analysis.  [moFF]</th>\n",
       "      <th>Which of these software do you use for your Quant Analysis.  [FlashLFQ (PMID:29083185)]</th>\n",
       "      <th>...</th>\n",
       "      <th>Search engine and type of analysis  [MSAmanda]</th>\n",
       "      <th>Search engine and type of analysis  [Mascot]</th>\n",
       "      <th>Which type of Protein quant data you would like to see more in proteomics resources. (e.g. PeptideAtlas, ProteomicsDB, etc) [Label-Free Differential expression experiments]</th>\n",
       "      <th>Which type of Protein quant data you would like to see more in proteomics resources. (e.g. PeptideAtlas, ProteomicsDB, etc) [Label-Free Base line expression experiments]</th>\n",
       "      <th>Which type of Protein quant data you would like to see more in proteomics resources. (e.g. PeptideAtlas, ProteomicsDB, etc) [TMT Differential expression experiments]</th>\n",
       "      <th>Which type of Protein quant data you would like to see more in proteomics resources. (e.g. PeptideAtlas, ProteomicsDB, etc) [TMT Base line expression experiments]</th>\n",
       "      <th>Which type of Protein quant data you would like to see more in proteomics resources. (e.g. PeptideAtlas, ProteomicsDB, etc) [SRM/MR expression Experiments]</th>\n",
       "      <th>Which type of Protein quant data you would like to see more in proteomics resources. (e.g. PeptideAtlas, ProteomicsDB, etc) [DIA/SWATH expression experiments]</th>\n",
       "      <th>In case you would like to see something else more represented in Proteomics resources let us know.</th>\n",
       "      <th>Unnamed: 66</th>\n",
       "    </tr>\n",
       "  </thead>\n",
       "  <tbody>\n",
       "    <tr>\n",
       "      <th>0</th>\n",
       "      <td>2019/02/08 1:42:21 PM GMT</td>\n",
       "      <td>user1</td>\n",
       "      <td>NaN</td>\n",
       "      <td>NaN</td>\n",
       "      <td>NaN</td>\n",
       "      <td>NaN</td>\n",
       "      <td>NaN</td>\n",
       "      <td>NaN</td>\n",
       "      <td>NaN</td>\n",
       "      <td>NaN</td>\n",
       "      <td>...</td>\n",
       "      <td>NaN</td>\n",
       "      <td>NaN</td>\n",
       "      <td>NaN</td>\n",
       "      <td>NaN</td>\n",
       "      <td>NaN</td>\n",
       "      <td>NaN</td>\n",
       "      <td>NaN</td>\n",
       "      <td>NaN</td>\n",
       "      <td>NaN</td>\n",
       "      <td>NaN</td>\n",
       "    </tr>\n",
       "    <tr>\n",
       "      <th>1</th>\n",
       "      <td>2019/02/08 1:49:09 PM GMT</td>\n",
       "      <td>user2</td>\n",
       "      <td>NaN</td>\n",
       "      <td>NaN</td>\n",
       "      <td>NaN</td>\n",
       "      <td>NaN</td>\n",
       "      <td>NaN</td>\n",
       "      <td>NaN</td>\n",
       "      <td>NaN</td>\n",
       "      <td>NaN</td>\n",
       "      <td>...</td>\n",
       "      <td>NaN</td>\n",
       "      <td>NaN</td>\n",
       "      <td>NaN</td>\n",
       "      <td>NaN</td>\n",
       "      <td>NaN</td>\n",
       "      <td>NaN</td>\n",
       "      <td>NaN</td>\n",
       "      <td>NaN</td>\n",
       "      <td>NaN</td>\n",
       "      <td>NaN</td>\n",
       "    </tr>\n",
       "    <tr>\n",
       "      <th>2</th>\n",
       "      <td>2019/02/08 1:54:35 PM GMT</td>\n",
       "      <td>user3</td>\n",
       "      <td>NaN</td>\n",
       "      <td>NaN</td>\n",
       "      <td>NaN</td>\n",
       "      <td>NaN</td>\n",
       "      <td>NaN</td>\n",
       "      <td>NaN</td>\n",
       "      <td>NaN</td>\n",
       "      <td>NaN</td>\n",
       "      <td>...</td>\n",
       "      <td>NaN</td>\n",
       "      <td>NaN</td>\n",
       "      <td>NaN</td>\n",
       "      <td>NaN</td>\n",
       "      <td>NaN</td>\n",
       "      <td>NaN</td>\n",
       "      <td>NaN</td>\n",
       "      <td>NaN</td>\n",
       "      <td>NaN</td>\n",
       "      <td>NaN</td>\n",
       "    </tr>\n",
       "    <tr>\n",
       "      <th>3</th>\n",
       "      <td>2019/02/08 2:13:28 PM GMT</td>\n",
       "      <td>user4</td>\n",
       "      <td>NaN</td>\n",
       "      <td>NaN</td>\n",
       "      <td>NaN</td>\n",
       "      <td>NaN</td>\n",
       "      <td>NaN</td>\n",
       "      <td>NaN</td>\n",
       "      <td>NaN</td>\n",
       "      <td>NaN</td>\n",
       "      <td>...</td>\n",
       "      <td>NaN</td>\n",
       "      <td>NaN</td>\n",
       "      <td>NaN</td>\n",
       "      <td>NaN</td>\n",
       "      <td>NaN</td>\n",
       "      <td>NaN</td>\n",
       "      <td>NaN</td>\n",
       "      <td>NaN</td>\n",
       "      <td>NaN</td>\n",
       "      <td>NaN</td>\n",
       "    </tr>\n",
       "    <tr>\n",
       "      <th>4</th>\n",
       "      <td>2019/02/08 3:22:10 PM GMT</td>\n",
       "      <td>user5</td>\n",
       "      <td>NaN</td>\n",
       "      <td>NaN</td>\n",
       "      <td>NaN</td>\n",
       "      <td>NaN</td>\n",
       "      <td>NaN</td>\n",
       "      <td>NaN</td>\n",
       "      <td>NaN</td>\n",
       "      <td>Label Free Analysis MS1</td>\n",
       "      <td>...</td>\n",
       "      <td>NaN</td>\n",
       "      <td>NaN</td>\n",
       "      <td>NaN</td>\n",
       "      <td>NaN</td>\n",
       "      <td>NaN</td>\n",
       "      <td>NaN</td>\n",
       "      <td>NaN</td>\n",
       "      <td>NaN</td>\n",
       "      <td>NaN</td>\n",
       "      <td>NaN</td>\n",
       "    </tr>\n",
       "  </tbody>\n",
       "</table>\n",
       "<p>5 rows × 67 columns</p>\n",
       "</div>"
      ],
      "text/plain": [
       "                   Timestamp Username What is your current position?  \\\n",
       "0  2019/02/08 1:42:21 PM GMT    user1                            NaN   \n",
       "1  2019/02/08 1:49:09 PM GMT    user2                            NaN   \n",
       "2  2019/02/08 1:54:35 PM GMT    user3                            NaN   \n",
       "3  2019/02/08 2:13:28 PM GMT    user4                            NaN   \n",
       "4  2019/02/08 3:22:10 PM GMT    user5                            NaN   \n",
       "\n",
       "  In what kind of research institute do you work?  \\\n",
       "0                                             NaN   \n",
       "1                                             NaN   \n",
       "2                                             NaN   \n",
       "3                                             NaN   \n",
       "4                                             NaN   \n",
       "\n",
       "  Which of these software do you use for your Quant Analysis.  [PeptideAtlas (StPeter, Libra, XPress)]  \\\n",
       "0                                                NaN                                                     \n",
       "1                                                NaN                                                     \n",
       "2                                                NaN                                                     \n",
       "3                                                NaN                                                     \n",
       "4                                                NaN                                                     \n",
       "\n",
       "  Which of these software do you use for your Quant Analysis.  [OpenMS]  \\\n",
       "0                                                NaN                      \n",
       "1                                                NaN                      \n",
       "2                                                NaN                      \n",
       "3                                                NaN                      \n",
       "4                                                NaN                      \n",
       "\n",
       "  Which of these software do you use for your Quant Analysis.  [Other]  \\\n",
       "0                                                NaN                     \n",
       "1                                                NaN                     \n",
       "2                                                NaN                     \n",
       "3                                                NaN                     \n",
       "4                                                NaN                     \n",
       "\n",
       "  Which of these software do you use for your Quant Analysis.  [MSnBase (PMID:22113085)]  \\\n",
       "0                                                NaN                                       \n",
       "1                                                NaN                                       \n",
       "2                                                NaN                                       \n",
       "3                                                NaN                                       \n",
       "4                                                NaN                                       \n",
       "\n",
       "  Which of these software do you use for your Quant Analysis.  [moFF]  \\\n",
       "0                                                NaN                    \n",
       "1                                                NaN                    \n",
       "2                                                NaN                    \n",
       "3                                                NaN                    \n",
       "4                                                NaN                    \n",
       "\n",
       "  Which of these software do you use for your Quant Analysis.  [FlashLFQ (PMID:29083185)]  \\\n",
       "0                                                NaN                                        \n",
       "1                                                NaN                                        \n",
       "2                                                NaN                                        \n",
       "3                                                NaN                                        \n",
       "4                            Label Free Analysis MS1                                        \n",
       "\n",
       "      ...     Search engine and type of analysis  [MSAmanda]  \\\n",
       "0     ...                                                NaN   \n",
       "1     ...                                                NaN   \n",
       "2     ...                                                NaN   \n",
       "3     ...                                                NaN   \n",
       "4     ...                                                NaN   \n",
       "\n",
       "  Search engine and type of analysis  [Mascot]  \\\n",
       "0                                          NaN   \n",
       "1                                          NaN   \n",
       "2                                          NaN   \n",
       "3                                          NaN   \n",
       "4                                          NaN   \n",
       "\n",
       "  Which type of Protein quant data you would like to see more in proteomics resources. (e.g. PeptideAtlas, ProteomicsDB, etc) [Label-Free Differential expression experiments]  \\\n",
       "0                                                NaN                                                                                                                             \n",
       "1                                                NaN                                                                                                                             \n",
       "2                                                NaN                                                                                                                             \n",
       "3                                                NaN                                                                                                                             \n",
       "4                                                NaN                                                                                                                             \n",
       "\n",
       "  Which type of Protein quant data you would like to see more in proteomics resources. (e.g. PeptideAtlas, ProteomicsDB, etc) [Label-Free Base line expression experiments]  \\\n",
       "0                                                NaN                                                                                                                          \n",
       "1                                                NaN                                                                                                                          \n",
       "2                                                NaN                                                                                                                          \n",
       "3                                                NaN                                                                                                                          \n",
       "4                                                NaN                                                                                                                          \n",
       "\n",
       "  Which type of Protein quant data you would like to see more in proteomics resources. (e.g. PeptideAtlas, ProteomicsDB, etc) [TMT Differential expression experiments]  \\\n",
       "0                                                NaN                                                                                                                      \n",
       "1                                                NaN                                                                                                                      \n",
       "2                                                NaN                                                                                                                      \n",
       "3                                                NaN                                                                                                                      \n",
       "4                                                NaN                                                                                                                      \n",
       "\n",
       "  Which type of Protein quant data you would like to see more in proteomics resources. (e.g. PeptideAtlas, ProteomicsDB, etc) [TMT Base line expression experiments]  \\\n",
       "0                                                NaN                                                                                                                   \n",
       "1                                                NaN                                                                                                                   \n",
       "2                                                NaN                                                                                                                   \n",
       "3                                                NaN                                                                                                                   \n",
       "4                                                NaN                                                                                                                   \n",
       "\n",
       "  Which type of Protein quant data you would like to see more in proteomics resources. (e.g. PeptideAtlas, ProteomicsDB, etc) [SRM/MR expression Experiments]  \\\n",
       "0                                                NaN                                                                                                            \n",
       "1                                                NaN                                                                                                            \n",
       "2                                                NaN                                                                                                            \n",
       "3                                                NaN                                                                                                            \n",
       "4                                                NaN                                                                                                            \n",
       "\n",
       "  Which type of Protein quant data you would like to see more in proteomics resources. (e.g. PeptideAtlas, ProteomicsDB, etc) [DIA/SWATH expression experiments]  \\\n",
       "0                                                NaN                                                                                                               \n",
       "1                                                NaN                                                                                                               \n",
       "2                                                NaN                                                                                                               \n",
       "3                                                NaN                                                                                                               \n",
       "4                                                NaN                                                                                                               \n",
       "\n",
       "  In case you would like to see something else more represented in Proteomics resources let us know.   \\\n",
       "0                                                NaN                                                    \n",
       "1                                                NaN                                                    \n",
       "2                                                NaN                                                    \n",
       "3                                                NaN                                                    \n",
       "4                                                NaN                                                    \n",
       "\n",
       "  Unnamed: 66  \n",
       "0         NaN  \n",
       "1         NaN  \n",
       "2         NaN  \n",
       "3         NaN  \n",
       "4         NaN  \n",
       "\n",
       "[5 rows x 67 columns]"
      ]
     },
     "execution_count": 131,
     "metadata": {},
     "output_type": "execute_result"
    }
   ],
   "source": [
    "import pandas as pd \n",
    "#import plotly.plotly as py\n",
    "import plotly.graph_objs as go\n",
    "from plotly.offline import download_plotlyjs, init_notebook_mode, plot, iplot\n",
    "import plotly.plotly as py\n",
    "\n",
    "init_notebook_mode(connected=True) \n",
    "\n",
    "# Read the poll data \n",
    "data_df = pd.read_csv(\"../data/poll-results-07032019.csv\")\n",
    "data_citations = pd.read_csv(\"../data/citations-count.csv\")\n",
    "data_df.head() "
   ]
  },
  {
   "cell_type": "code",
   "execution_count": 132,
   "metadata": {
    "scrolled": true
   },
   "outputs": [],
   "source": [
    "def get_pie_chart(collection): \n",
    "    \"\"\"\n",
    "    This function returns a pie chart from a collection of elements.\n",
    "    @param collection must be a column from a pandas datframe \n",
    "    \"\"\"\n",
    "    \n",
    "    collection_counts = {} \n",
    "    for word in collection:\n",
    "        token_collection = str(word).split(\";\")\n",
    "        for token in token_collection: \n",
    "            if token.strip() != 'nan':\n",
    "                if token not in collection_counts:\n",
    "                   collection_counts[token] = 0\n",
    "                collection_counts[token] = collection_counts[token] + 1\n",
    "\n",
    "  \n",
    "    trace=go.Pie(labels=[k  for  k in  collection_counts.keys()],values=[k  for  k in  collection_counts.values()])\n",
    "    return trace\n",
    "\n",
    "def get_multioption_bar_data(data_df, question): \n",
    "    \"\"\"\n",
    "    This function get a panda dataframe and an a multioption question and generate a barplot \n",
    "    @param data Pandas data frame\n",
    "    @param question Question (column name prefix)\n",
    "    \"\"\"\n",
    "    column_names = [col for col in data_df.columns if question in col]\n",
    "    values = []\n",
    "    for column in column_names: \n",
    "        value = column[column.find(\"[\") + 1: column.find(\"]\")]\n",
    "        values.append(value)\n",
    "\n",
    "    plot_values = {}\n",
    "\n",
    "    for index, row in data_df.iterrows():\n",
    "        for column in column_names: \n",
    "            column_value = column[column.find(\"[\") + 1: column.find(\"]\")]\n",
    "            complete_value = data_df.at[index,column]\n",
    "            combined_values = str(complete_value).split(\";\")\n",
    "            for value in combined_values: \n",
    "                if value not in values: \n",
    "                    if value in plot_values:\n",
    "                        if column_value in plot_values[value]:\n",
    "                            count = plot_values[value][column_value] + 1\n",
    "                            plot_values[value].update({column_value:count})\n",
    "                        elif ((str(value)).lower() != 'nan'):\n",
    "                            plot_values[value].update({column_value:1})\n",
    "                    elif((str(value)).lower() != 'nan'):\n",
    "                        plot_values[value] = {column_value: 1}\n",
    "\n",
    "    data = [] \n",
    "    for option in plot_values: \n",
    "        trace = go.Bar(x = list(plot_values[option].keys()), y = list(plot_values[option].values()),name = option)\n",
    "        data.append(trace)\n",
    "    return data    "
   ]
  },
  {
   "cell_type": "markdown",
   "metadata": {},
   "source": [
    "## Position Distribution\n",
    "\n",
    "Read the position and occupation of every participant of the poll. "
   ]
  },
  {
   "cell_type": "code",
   "execution_count": 133,
   "metadata": {},
   "outputs": [
    {
     "data": {
      "application/vnd.plotly.v1+json": {
       "data": [
        {
         "labels": [
          "Director",
          "Master's student",
          "Developer - Bioinformatician",
          "Master Student",
          "Professor",
          "Consultant",
          "Project Manager",
          "CEO",
          "Principal Investigator",
          "Phd Student",
          "CTO",
          "Scientist",
          "Research Scientist - Staff",
          "Lab Manager",
          "Post-Doc",
          "Head of Core Facility Proteomics",
          "Student",
          "Head proteomics research platform"
         ],
         "type": "pie",
         "uid": "e8849f3d-1a47-43a1-9960-70e1fde00661",
         "values": [
          6,
          1,
          9,
          1,
          4,
          2,
          7,
          2,
          25,
          40,
          1,
          1,
          41,
          1,
          36,
          1,
          1,
          1
         ]
        }
       ],
       "layout": {}
      },
      "text/html": [
       "<div id=\"c79f348b-e695-46f7-92f9-b921c0f4542f\" style=\"height: 525px; width: 100%;\" class=\"plotly-graph-div\"></div><script type=\"text/javascript\">require([\"plotly\"], function(Plotly) { window.PLOTLYENV=window.PLOTLYENV || {};window.PLOTLYENV.BASE_URL=\"https://plot.ly\";Plotly.newPlot(\"c79f348b-e695-46f7-92f9-b921c0f4542f\", [{\"uid\": \"f9801b35-a339-495b-be83-3afe5f6c549d\", \"labels\": [\"Director\", \"Master's student\", \"Developer - Bioinformatician\", \"Master Student\", \"Professor\", \"Consultant\", \"Project Manager\", \"CEO\", \"Principal Investigator\", \"Phd Student\", \"CTO\", \"Scientist\", \"Research Scientist - Staff\", \"Lab Manager\", \"Post-Doc\", \"Head of Core Facility Proteomics\", \"Student\", \"Head proteomics research platform\"], \"type\": \"pie\", \"values\": [6, 1, 9, 1, 4, 2, 7, 2, 25, 40, 1, 1, 41, 1, 36, 1, 1, 1]}], {}, {\"showLink\": true, \"linkText\": \"Export to plot.ly\"})});</script><script type=\"text/javascript\">window.addEventListener(\"resize\", function(){window._Plotly.Plots.resize(document.getElementById(\"c79f348b-e695-46f7-92f9-b921c0f4542f\"));});</script>"
      ],
      "text/vnd.plotly.v1+html": [
       "<div id=\"c79f348b-e695-46f7-92f9-b921c0f4542f\" style=\"height: 525px; width: 100%;\" class=\"plotly-graph-div\"></div><script type=\"text/javascript\">require([\"plotly\"], function(Plotly) { window.PLOTLYENV=window.PLOTLYENV || {};window.PLOTLYENV.BASE_URL=\"https://plot.ly\";Plotly.newPlot(\"c79f348b-e695-46f7-92f9-b921c0f4542f\", [{\"uid\": \"f9801b35-a339-495b-be83-3afe5f6c549d\", \"labels\": [\"Director\", \"Master's student\", \"Developer - Bioinformatician\", \"Master Student\", \"Professor\", \"Consultant\", \"Project Manager\", \"CEO\", \"Principal Investigator\", \"Phd Student\", \"CTO\", \"Scientist\", \"Research Scientist - Staff\", \"Lab Manager\", \"Post-Doc\", \"Head of Core Facility Proteomics\", \"Student\", \"Head proteomics research platform\"], \"type\": \"pie\", \"values\": [6, 1, 9, 1, 4, 2, 7, 2, 25, 40, 1, 1, 41, 1, 36, 1, 1, 1]}], {}, {\"showLink\": true, \"linkText\": \"Export to plot.ly\"})});</script><script type=\"text/javascript\">window.addEventListener(\"resize\", function(){window._Plotly.Plots.resize(document.getElementById(\"c79f348b-e695-46f7-92f9-b921c0f4542f\"));});</script>"
      ]
     },
     "metadata": {},
     "output_type": "display_data"
    }
   ],
   "source": [
    "positions = data_df.iloc[:,2]\n",
    "trace = get_pie_chart(positions)\n",
    "iplot([trace])"
   ]
  },
  {
   "cell_type": "markdown",
   "metadata": {},
   "source": [
    "## Affiliation distribtuion \n",
    "\n",
    "The number of participants in the poll by type of Institution. "
   ]
  },
  {
   "cell_type": "code",
   "execution_count": 134,
   "metadata": {},
   "outputs": [
    {
     "data": {
      "application/vnd.plotly.v1+json": {
       "data": [
        {
         "labels": [
          "Hospital, Research Hospital",
          "University",
          "Core Facility",
          "Research Institute",
          "Company, Start-up, Pharma"
         ],
         "type": "pie",
         "uid": "8daeb54b-9507-429c-b57d-b02d73c3bfe9",
         "values": [
          10,
          86,
          16,
          26,
          20
         ]
        }
       ],
       "layout": {}
      },
      "text/html": [
       "<div id=\"c3148af1-a8c2-4fab-b542-253420fe06e3\" style=\"height: 525px; width: 100%;\" class=\"plotly-graph-div\"></div><script type=\"text/javascript\">require([\"plotly\"], function(Plotly) { window.PLOTLYENV=window.PLOTLYENV || {};window.PLOTLYENV.BASE_URL=\"https://plot.ly\";Plotly.newPlot(\"c3148af1-a8c2-4fab-b542-253420fe06e3\", [{\"uid\": \"ef3280b2-be68-4ac9-9d41-7017c2f0a17d\", \"labels\": [\"Hospital, Research Hospital\", \"University\", \"Core Facility\", \"Research Institute\", \"Company, Start-up, Pharma\"], \"type\": \"pie\", \"values\": [10, 86, 16, 26, 20]}], {}, {\"showLink\": true, \"linkText\": \"Export to plot.ly\"})});</script><script type=\"text/javascript\">window.addEventListener(\"resize\", function(){window._Plotly.Plots.resize(document.getElementById(\"c3148af1-a8c2-4fab-b542-253420fe06e3\"));});</script>"
      ],
      "text/vnd.plotly.v1+html": [
       "<div id=\"c3148af1-a8c2-4fab-b542-253420fe06e3\" style=\"height: 525px; width: 100%;\" class=\"plotly-graph-div\"></div><script type=\"text/javascript\">require([\"plotly\"], function(Plotly) { window.PLOTLYENV=window.PLOTLYENV || {};window.PLOTLYENV.BASE_URL=\"https://plot.ly\";Plotly.newPlot(\"c3148af1-a8c2-4fab-b542-253420fe06e3\", [{\"uid\": \"ef3280b2-be68-4ac9-9d41-7017c2f0a17d\", \"labels\": [\"Hospital, Research Hospital\", \"University\", \"Core Facility\", \"Research Institute\", \"Company, Start-up, Pharma\"], \"type\": \"pie\", \"values\": [10, 86, 16, 26, 20]}], {}, {\"showLink\": true, \"linkText\": \"Export to plot.ly\"})});</script><script type=\"text/javascript\">window.addEventListener(\"resize\", function(){window._Plotly.Plots.resize(document.getElementById(\"c3148af1-a8c2-4fab-b542-253420fe06e3\"));});</script>"
      ]
     },
     "metadata": {},
     "output_type": "display_data"
    }
   ],
   "source": [
    "affiliations = data_df.iloc[:,3]\n",
    "trace = get_pie_chart(affiliations)     \n",
    "iplot([trace])"
   ]
  },
  {
   "cell_type": "markdown",
   "metadata": {},
   "source": [
    "## Which of these software do you use for your Quant Analysis\n",
    "\n",
    "These plots will show the usage of Quantification software. "
   ]
  },
  {
   "cell_type": "code",
   "execution_count": 135,
   "metadata": {},
   "outputs": [
    {
     "data": {
      "application/vnd.plotly.v1+json": {
       "data": [
        {
         "name": "Phospho Quant analysis",
         "type": "bar",
         "uid": "65802ddd-25d8-4171-ac0b-bd5dde135c89",
         "x": [
          "OpenMS",
          "Other",
          "MaxQuant",
          "PeptideAtlas (StPeter, Libra, XPress)",
          "Patterlab (PMID:26658470)",
          "Skyline",
          "Philosopher (Alexey Lab)",
          "EncyclopeDIA (PMID: 30510204)"
         ],
         "y": [
          5,
          8,
          49,
          2,
          1,
          11,
          4,
          1
         ]
        },
        {
         "name": "SILAC analysis",
         "type": "bar",
         "uid": "3d0a90bb-c81b-460a-8ade-c5096ea22d8d",
         "x": [
          "FlashLFQ (PMID:29083185)",
          "Census",
          "Other",
          "PeptideAtlas (StPeter, Libra, XPress)",
          "MaxQuant",
          "OpenMS",
          "Skyline",
          "MSnBase (PMID:22113085)"
         ],
         "y": [
          2,
          1,
          4,
          1,
          58,
          7,
          11,
          1
         ]
        },
        {
         "name": "Label Free Analysis MS1",
         "type": "bar",
         "uid": "4e2e1fe4-6d7e-4fd6-ad54-9a141ce6a3c0",
         "x": [
          "Other",
          "MaxQuant",
          "Patterlab (PMID:26658470)",
          "Skyline",
          "Philosopher (Alexey Lab)",
          "moFF",
          "OpenMS",
          "FlashLFQ (PMID:29083185)",
          "PeptideAtlas (StPeter, Libra, XPress)",
          "MSnBase (PMID:22113085)",
          "diffacto",
          "Proline (http://www.profiproteomics.fr)"
         ],
         "y": [
          12,
          101,
          4,
          33,
          10,
          4,
          16,
          16,
          1,
          1,
          1,
          1
         ]
        },
        {
         "name": "TMT analysis",
         "type": "bar",
         "uid": "baf55868-1994-4aa6-8d2c-1763a56e43e5",
         "x": [
          "OpenMS",
          "Other",
          "MaxQuant",
          "PeptideAtlas (StPeter, Libra, XPress)",
          "Patterlab (PMID:26658470)",
          "Skyline",
          "Philosopher (Alexey Lab)",
          "MSnBase (PMID:22113085)",
          "EncyclopeDIA (PMID: 30510204)"
         ],
         "y": [
          9,
          11,
          51,
          2,
          2,
          4,
          7,
          2,
          1
         ]
        },
        {
         "name": "SWATH / DIA Quant",
         "type": "bar",
         "uid": "8e75b44e-a9fd-4840-9985-0af4ed6d11e8",
         "x": [
          "OpenMS",
          "Other",
          "PeptideAtlas (StPeter, Libra, XPress)",
          "MaxQuant",
          "Skyline",
          "diffacto",
          "EncyclopeDIA (PMID: 30510204)",
          "Philosopher (Alexey Lab)"
         ],
         "y": [
          12,
          7,
          2,
          6,
          34,
          1,
          3,
          1
         ]
        },
        {
         "name": "Other Quant analysis",
         "type": "bar",
         "uid": "c60a2a11-73aa-475e-8962-3aaff23cda2b",
         "x": [
          "PeptideAtlas (StPeter, Libra, XPress)",
          "OpenMS",
          "Other",
          "HIQuant (PMID:30282776)",
          "MaxQuant",
          "MSnBase (PMID:22113085)",
          "Skyline",
          "Philosopher (Alexey Lab)",
          "FlashLFQ (PMID:29083185)",
          "Patterlab (PMID:26658470)"
         ],
         "y": [
          2,
          11,
          9,
          1,
          16,
          2,
          36,
          5,
          2,
          2
         ]
        },
        {
         "name": "Label Free Spectral Count Analysis",
         "type": "bar",
         "uid": "27ab9ec8-35c0-4549-bc37-4f524c2c950c",
         "x": [
          "Other",
          "MaxQuant",
          "OpenMS",
          "Skyline",
          "Philosopher (Alexey Lab)",
          "moFF",
          "Patterlab (PMID:26658470)",
          "FlashLFQ (PMID:29083185)",
          "PeptideAtlas (StPeter, Libra, XPress)",
          "MSnBase (PMID:22113085)",
          "EncyclopeDIA (PMID: 30510204)"
         ],
         "y": [
          13,
          33,
          4,
          6,
          8,
          1,
          4,
          2,
          1,
          1,
          1
         ]
        }
       ],
       "layout": {
        "barmode": "group"
       }
      },
      "text/html": [
       "<div id=\"79ea5a80-1290-466f-8541-857d39e17cfa\" style=\"height: 525px; width: 100%;\" class=\"plotly-graph-div\"></div><script type=\"text/javascript\">require([\"plotly\"], function(Plotly) { window.PLOTLYENV=window.PLOTLYENV || {};window.PLOTLYENV.BASE_URL=\"https://plot.ly\";Plotly.newPlot(\"79ea5a80-1290-466f-8541-857d39e17cfa\", [{\"uid\": \"65802ddd-25d8-4171-ac0b-bd5dde135c89\", \"y\": [5, 8, 49, 2, 1, 11, 4, 1], \"name\": \"Phospho Quant analysis\", \"x\": [\"OpenMS\", \"Other\", \"MaxQuant\", \"PeptideAtlas (StPeter, Libra, XPress)\", \"Patterlab (PMID:26658470)\", \"Skyline\", \"Philosopher (Alexey Lab)\", \"EncyclopeDIA (PMID: 30510204)\"], \"type\": \"bar\"}, {\"uid\": \"3d0a90bb-c81b-460a-8ade-c5096ea22d8d\", \"y\": [2, 1, 4, 1, 58, 7, 11, 1], \"name\": \"SILAC analysis\", \"x\": [\"FlashLFQ (PMID:29083185)\", \"Census\", \"Other\", \"PeptideAtlas (StPeter, Libra, XPress)\", \"MaxQuant\", \"OpenMS\", \"Skyline\", \"MSnBase (PMID:22113085)\"], \"type\": \"bar\"}, {\"uid\": \"4e2e1fe4-6d7e-4fd6-ad54-9a141ce6a3c0\", \"y\": [12, 101, 4, 33, 10, 4, 16, 16, 1, 1, 1, 1], \"name\": \"Label Free Analysis MS1\", \"x\": [\"Other\", \"MaxQuant\", \"Patterlab (PMID:26658470)\", \"Skyline\", \"Philosopher (Alexey Lab)\", \"moFF\", \"OpenMS\", \"FlashLFQ (PMID:29083185)\", \"PeptideAtlas (StPeter, Libra, XPress)\", \"MSnBase (PMID:22113085)\", \"diffacto\", \"Proline (http://www.profiproteomics.fr)\"], \"type\": \"bar\"}, {\"uid\": \"baf55868-1994-4aa6-8d2c-1763a56e43e5\", \"y\": [9, 11, 51, 2, 2, 4, 7, 2, 1], \"name\": \"TMT analysis\", \"x\": [\"OpenMS\", \"Other\", \"MaxQuant\", \"PeptideAtlas (StPeter, Libra, XPress)\", \"Patterlab (PMID:26658470)\", \"Skyline\", \"Philosopher (Alexey Lab)\", \"MSnBase (PMID:22113085)\", \"EncyclopeDIA (PMID: 30510204)\"], \"type\": \"bar\"}, {\"uid\": \"8e75b44e-a9fd-4840-9985-0af4ed6d11e8\", \"y\": [12, 7, 2, 6, 34, 1, 3, 1], \"name\": \"SWATH / DIA Quant\", \"x\": [\"OpenMS\", \"Other\", \"PeptideAtlas (StPeter, Libra, XPress)\", \"MaxQuant\", \"Skyline\", \"diffacto\", \"EncyclopeDIA (PMID: 30510204)\", \"Philosopher (Alexey Lab)\"], \"type\": \"bar\"}, {\"uid\": \"c60a2a11-73aa-475e-8962-3aaff23cda2b\", \"y\": [2, 11, 9, 1, 16, 2, 36, 5, 2, 2], \"name\": \"Other Quant analysis\", \"x\": [\"PeptideAtlas (StPeter, Libra, XPress)\", \"OpenMS\", \"Other\", \"HIQuant (PMID:30282776)\", \"MaxQuant\", \"MSnBase (PMID:22113085)\", \"Skyline\", \"Philosopher (Alexey Lab)\", \"FlashLFQ (PMID:29083185)\", \"Patterlab (PMID:26658470)\"], \"type\": \"bar\"}, {\"uid\": \"27ab9ec8-35c0-4549-bc37-4f524c2c950c\", \"y\": [13, 33, 4, 6, 8, 1, 4, 2, 1, 1, 1], \"name\": \"Label Free Spectral Count Analysis\", \"x\": [\"Other\", \"MaxQuant\", \"OpenMS\", \"Skyline\", \"Philosopher (Alexey Lab)\", \"moFF\", \"Patterlab (PMID:26658470)\", \"FlashLFQ (PMID:29083185)\", \"PeptideAtlas (StPeter, Libra, XPress)\", \"MSnBase (PMID:22113085)\", \"EncyclopeDIA (PMID: 30510204)\"], \"type\": \"bar\"}], {\"barmode\": \"group\"}, {\"showLink\": true, \"linkText\": \"Export to plot.ly\"})});</script><script type=\"text/javascript\">window.addEventListener(\"resize\", function(){window._Plotly.Plots.resize(document.getElementById(\"79ea5a80-1290-466f-8541-857d39e17cfa\"));});</script>"
      ],
      "text/vnd.plotly.v1+html": [
       "<div id=\"79ea5a80-1290-466f-8541-857d39e17cfa\" style=\"height: 525px; width: 100%;\" class=\"plotly-graph-div\"></div><script type=\"text/javascript\">require([\"plotly\"], function(Plotly) { window.PLOTLYENV=window.PLOTLYENV || {};window.PLOTLYENV.BASE_URL=\"https://plot.ly\";Plotly.newPlot(\"79ea5a80-1290-466f-8541-857d39e17cfa\", [{\"uid\": \"65802ddd-25d8-4171-ac0b-bd5dde135c89\", \"y\": [5, 8, 49, 2, 1, 11, 4, 1], \"name\": \"Phospho Quant analysis\", \"x\": [\"OpenMS\", \"Other\", \"MaxQuant\", \"PeptideAtlas (StPeter, Libra, XPress)\", \"Patterlab (PMID:26658470)\", \"Skyline\", \"Philosopher (Alexey Lab)\", \"EncyclopeDIA (PMID: 30510204)\"], \"type\": \"bar\"}, {\"uid\": \"3d0a90bb-c81b-460a-8ade-c5096ea22d8d\", \"y\": [2, 1, 4, 1, 58, 7, 11, 1], \"name\": \"SILAC analysis\", \"x\": [\"FlashLFQ (PMID:29083185)\", \"Census\", \"Other\", \"PeptideAtlas (StPeter, Libra, XPress)\", \"MaxQuant\", \"OpenMS\", \"Skyline\", \"MSnBase (PMID:22113085)\"], \"type\": \"bar\"}, {\"uid\": \"4e2e1fe4-6d7e-4fd6-ad54-9a141ce6a3c0\", \"y\": [12, 101, 4, 33, 10, 4, 16, 16, 1, 1, 1, 1], \"name\": \"Label Free Analysis MS1\", \"x\": [\"Other\", \"MaxQuant\", \"Patterlab (PMID:26658470)\", \"Skyline\", \"Philosopher (Alexey Lab)\", \"moFF\", \"OpenMS\", \"FlashLFQ (PMID:29083185)\", \"PeptideAtlas (StPeter, Libra, XPress)\", \"MSnBase (PMID:22113085)\", \"diffacto\", \"Proline (http://www.profiproteomics.fr)\"], \"type\": \"bar\"}, {\"uid\": \"baf55868-1994-4aa6-8d2c-1763a56e43e5\", \"y\": [9, 11, 51, 2, 2, 4, 7, 2, 1], \"name\": \"TMT analysis\", \"x\": [\"OpenMS\", \"Other\", \"MaxQuant\", \"PeptideAtlas (StPeter, Libra, XPress)\", \"Patterlab (PMID:26658470)\", \"Skyline\", \"Philosopher (Alexey Lab)\", \"MSnBase (PMID:22113085)\", \"EncyclopeDIA (PMID: 30510204)\"], \"type\": \"bar\"}, {\"uid\": \"8e75b44e-a9fd-4840-9985-0af4ed6d11e8\", \"y\": [12, 7, 2, 6, 34, 1, 3, 1], \"name\": \"SWATH / DIA Quant\", \"x\": [\"OpenMS\", \"Other\", \"PeptideAtlas (StPeter, Libra, XPress)\", \"MaxQuant\", \"Skyline\", \"diffacto\", \"EncyclopeDIA (PMID: 30510204)\", \"Philosopher (Alexey Lab)\"], \"type\": \"bar\"}, {\"uid\": \"c60a2a11-73aa-475e-8962-3aaff23cda2b\", \"y\": [2, 11, 9, 1, 16, 2, 36, 5, 2, 2], \"name\": \"Other Quant analysis\", \"x\": [\"PeptideAtlas (StPeter, Libra, XPress)\", \"OpenMS\", \"Other\", \"HIQuant (PMID:30282776)\", \"MaxQuant\", \"MSnBase (PMID:22113085)\", \"Skyline\", \"Philosopher (Alexey Lab)\", \"FlashLFQ (PMID:29083185)\", \"Patterlab (PMID:26658470)\"], \"type\": \"bar\"}, {\"uid\": \"27ab9ec8-35c0-4549-bc37-4f524c2c950c\", \"y\": [13, 33, 4, 6, 8, 1, 4, 2, 1, 1, 1], \"name\": \"Label Free Spectral Count Analysis\", \"x\": [\"Other\", \"MaxQuant\", \"OpenMS\", \"Skyline\", \"Philosopher (Alexey Lab)\", \"moFF\", \"Patterlab (PMID:26658470)\", \"FlashLFQ (PMID:29083185)\", \"PeptideAtlas (StPeter, Libra, XPress)\", \"MSnBase (PMID:22113085)\", \"EncyclopeDIA (PMID: 30510204)\"], \"type\": \"bar\"}], {\"barmode\": \"group\"}, {\"showLink\": true, \"linkText\": \"Export to plot.ly\"})});</script><script type=\"text/javascript\">window.addEventListener(\"resize\", function(){window._Plotly.Plots.resize(document.getElementById(\"79ea5a80-1290-466f-8541-857d39e17cfa\"));});</script>"
      ]
     },
     "metadata": {},
     "output_type": "display_data"
    }
   ],
   "source": [
    "question = \"Which of these software do you use for your Quant Analysis\"\n",
    "data = get_multioption_bar_data(data_df, question)\n",
    "layout = go.Layout(barmode='group')\n",
    "fig = go.Figure(data=data, layout=layout)\n",
    "iplot(fig, filename='grouped-bar')\n"
   ]
  },
  {
   "cell_type": "markdown",
   "metadata": {},
   "source": [
    "## Which commercial software do you use for your Quant Analysis\n",
    "\n",
    "These plots will show the usage of Quantification software (Commercial software). "
   ]
  },
  {
   "cell_type": "code",
   "execution_count": 136,
   "metadata": {},
   "outputs": [
    {
     "data": {
      "application/vnd.plotly.v1+json": {
       "data": [
        {
         "name": "Phospho Quant analysis",
         "type": "bar",
         "uid": "cdfcb01c-77ab-4bff-b9cf-84dfdedd85ff",
         "x": [
          "Scaffold",
          "Other",
          "Spectronaut",
          "Proteome Discover",
          "Peaks",
          "Mascot ",
          "Peak View ",
          "Progenesis"
         ],
         "y": [
          6,
          1,
          3,
          26,
          4,
          12,
          1,
          2
         ]
        },
        {
         "name": "SILAC analysis",
         "type": "bar",
         "uid": "ed1d62c8-babf-458e-88ff-eea06d187c5b",
         "x": [
          "Scaffold",
          "Peaks",
          "Proteome Discover",
          "Mascot ",
          "Progenesis"
         ],
         "y": [
          6,
          3,
          27,
          12,
          2
         ]
        },
        {
         "name": "Label Free Analysis MS1",
         "type": "bar",
         "uid": "df240850-8a56-4e57-b293-8bcbd6d80d89",
         "x": [
          "Scaffold",
          "Other",
          "Peaks",
          "Proteome Discover",
          "Spectronaut",
          "Mascot ",
          "Peak View ",
          "Progenesis"
         ],
         "y": [
          8,
          3,
          12,
          47,
          3,
          24,
          1,
          18
         ]
        },
        {
         "name": "TMT analysis",
         "type": "bar",
         "uid": "5331f348-a90b-42fe-92c6-246ffd5c0eb4",
         "x": [
          "Scaffold",
          "Other",
          "Peaks",
          "Proteome Discover",
          "Mascot "
         ],
         "y": [
          4,
          1,
          5,
          47,
          14
         ]
        },
        {
         "name": "SWATH / DIA Quant",
         "type": "bar",
         "uid": "349e25c0-dc67-448b-8712-2baa027ba9f4",
         "x": [
          "Scaffold",
          "Spectronaut",
          "Proteome Discover",
          "Peaks",
          "Mascot ",
          "Peak View "
         ],
         "y": [
          3,
          23,
          4,
          2,
          3,
          2
         ]
        },
        {
         "name": "Other Quant analysis",
         "type": "bar",
         "uid": "bfb06a8f-3c83-4c4c-9a69-8780a44c9af2",
         "x": [
          "Scaffold",
          "Other",
          "Spectronaut",
          "Proteome Discover",
          "Peaks",
          "Mascot ",
          "Progenesis"
         ],
         "y": [
          5,
          1,
          1,
          14,
          3,
          9,
          2
         ]
        },
        {
         "name": "Label Free Spectral Count Analysis",
         "type": "bar",
         "uid": "67852cd0-73ae-49d4-86cc-95128fc494c6",
         "x": [
          "Scaffold",
          "Other",
          "Peaks",
          "Proteome Discover",
          "Mascot "
         ],
         "y": [
          16,
          3,
          6,
          23,
          16
         ]
        }
       ],
       "layout": {
        "barmode": "group"
       }
      },
      "text/html": [
       "<div id=\"92b106b3-2727-4bbf-b550-4055d306f489\" style=\"height: 525px; width: 100%;\" class=\"plotly-graph-div\"></div><script type=\"text/javascript\">require([\"plotly\"], function(Plotly) { window.PLOTLYENV=window.PLOTLYENV || {};window.PLOTLYENV.BASE_URL=\"https://plot.ly\";Plotly.newPlot(\"92b106b3-2727-4bbf-b550-4055d306f489\", [{\"uid\": \"cdfcb01c-77ab-4bff-b9cf-84dfdedd85ff\", \"y\": [6, 1, 3, 26, 4, 12, 1, 2], \"name\": \"Phospho Quant analysis\", \"x\": [\"Scaffold\", \"Other\", \"Spectronaut\", \"Proteome Discover\", \"Peaks\", \"Mascot \", \"Peak View \", \"Progenesis\"], \"type\": \"bar\"}, {\"uid\": \"ed1d62c8-babf-458e-88ff-eea06d187c5b\", \"y\": [6, 3, 27, 12, 2], \"name\": \"SILAC analysis\", \"x\": [\"Scaffold\", \"Peaks\", \"Proteome Discover\", \"Mascot \", \"Progenesis\"], \"type\": \"bar\"}, {\"uid\": \"df240850-8a56-4e57-b293-8bcbd6d80d89\", \"y\": [8, 3, 12, 47, 3, 24, 1, 18], \"name\": \"Label Free Analysis MS1\", \"x\": [\"Scaffold\", \"Other\", \"Peaks\", \"Proteome Discover\", \"Spectronaut\", \"Mascot \", \"Peak View \", \"Progenesis\"], \"type\": \"bar\"}, {\"uid\": \"5331f348-a90b-42fe-92c6-246ffd5c0eb4\", \"y\": [4, 1, 5, 47, 14], \"name\": \"TMT analysis\", \"x\": [\"Scaffold\", \"Other\", \"Peaks\", \"Proteome Discover\", \"Mascot \"], \"type\": \"bar\"}, {\"uid\": \"349e25c0-dc67-448b-8712-2baa027ba9f4\", \"y\": [3, 23, 4, 2, 3, 2], \"name\": \"SWATH / DIA Quant\", \"x\": [\"Scaffold\", \"Spectronaut\", \"Proteome Discover\", \"Peaks\", \"Mascot \", \"Peak View \"], \"type\": \"bar\"}, {\"uid\": \"bfb06a8f-3c83-4c4c-9a69-8780a44c9af2\", \"y\": [5, 1, 1, 14, 3, 9, 2], \"name\": \"Other Quant analysis\", \"x\": [\"Scaffold\", \"Other\", \"Spectronaut\", \"Proteome Discover\", \"Peaks\", \"Mascot \", \"Progenesis\"], \"type\": \"bar\"}, {\"uid\": \"67852cd0-73ae-49d4-86cc-95128fc494c6\", \"y\": [16, 3, 6, 23, 16], \"name\": \"Label Free Spectral Count Analysis\", \"x\": [\"Scaffold\", \"Other\", \"Peaks\", \"Proteome Discover\", \"Mascot \"], \"type\": \"bar\"}], {\"barmode\": \"group\"}, {\"showLink\": true, \"linkText\": \"Export to plot.ly\"})});</script><script type=\"text/javascript\">window.addEventListener(\"resize\", function(){window._Plotly.Plots.resize(document.getElementById(\"92b106b3-2727-4bbf-b550-4055d306f489\"));});</script>"
      ],
      "text/vnd.plotly.v1+html": [
       "<div id=\"92b106b3-2727-4bbf-b550-4055d306f489\" style=\"height: 525px; width: 100%;\" class=\"plotly-graph-div\"></div><script type=\"text/javascript\">require([\"plotly\"], function(Plotly) { window.PLOTLYENV=window.PLOTLYENV || {};window.PLOTLYENV.BASE_URL=\"https://plot.ly\";Plotly.newPlot(\"92b106b3-2727-4bbf-b550-4055d306f489\", [{\"uid\": \"cdfcb01c-77ab-4bff-b9cf-84dfdedd85ff\", \"y\": [6, 1, 3, 26, 4, 12, 1, 2], \"name\": \"Phospho Quant analysis\", \"x\": [\"Scaffold\", \"Other\", \"Spectronaut\", \"Proteome Discover\", \"Peaks\", \"Mascot \", \"Peak View \", \"Progenesis\"], \"type\": \"bar\"}, {\"uid\": \"ed1d62c8-babf-458e-88ff-eea06d187c5b\", \"y\": [6, 3, 27, 12, 2], \"name\": \"SILAC analysis\", \"x\": [\"Scaffold\", \"Peaks\", \"Proteome Discover\", \"Mascot \", \"Progenesis\"], \"type\": \"bar\"}, {\"uid\": \"df240850-8a56-4e57-b293-8bcbd6d80d89\", \"y\": [8, 3, 12, 47, 3, 24, 1, 18], \"name\": \"Label Free Analysis MS1\", \"x\": [\"Scaffold\", \"Other\", \"Peaks\", \"Proteome Discover\", \"Spectronaut\", \"Mascot \", \"Peak View \", \"Progenesis\"], \"type\": \"bar\"}, {\"uid\": \"5331f348-a90b-42fe-92c6-246ffd5c0eb4\", \"y\": [4, 1, 5, 47, 14], \"name\": \"TMT analysis\", \"x\": [\"Scaffold\", \"Other\", \"Peaks\", \"Proteome Discover\", \"Mascot \"], \"type\": \"bar\"}, {\"uid\": \"349e25c0-dc67-448b-8712-2baa027ba9f4\", \"y\": [3, 23, 4, 2, 3, 2], \"name\": \"SWATH / DIA Quant\", \"x\": [\"Scaffold\", \"Spectronaut\", \"Proteome Discover\", \"Peaks\", \"Mascot \", \"Peak View \"], \"type\": \"bar\"}, {\"uid\": \"bfb06a8f-3c83-4c4c-9a69-8780a44c9af2\", \"y\": [5, 1, 1, 14, 3, 9, 2], \"name\": \"Other Quant analysis\", \"x\": [\"Scaffold\", \"Other\", \"Spectronaut\", \"Proteome Discover\", \"Peaks\", \"Mascot \", \"Progenesis\"], \"type\": \"bar\"}, {\"uid\": \"67852cd0-73ae-49d4-86cc-95128fc494c6\", \"y\": [16, 3, 6, 23, 16], \"name\": \"Label Free Spectral Count Analysis\", \"x\": [\"Scaffold\", \"Other\", \"Peaks\", \"Proteome Discover\", \"Mascot \"], \"type\": \"bar\"}], {\"barmode\": \"group\"}, {\"showLink\": true, \"linkText\": \"Export to plot.ly\"})});</script><script type=\"text/javascript\">window.addEventListener(\"resize\", function(){window._Plotly.Plots.resize(document.getElementById(\"92b106b3-2727-4bbf-b550-4055d306f489\"));});</script>"
      ]
     },
     "metadata": {},
     "output_type": "display_data"
    }
   ],
   "source": [
    "question = \"Which commercial software do you use for your Quant Analysis\"\n",
    "data = get_multioption_bar_data(data_df, question)\n",
    "layout = go.Layout(barmode='group')\n",
    "fig = go.Figure(data=data, layout=layout)\n",
    "iplot(fig, filename='grouped-bar')"
   ]
  },
  {
   "cell_type": "markdown",
   "metadata": {},
   "source": [
    "## Relevant software features during the selection process \n",
    "\n",
    "The purpose of this question is to know, whta kind of features the users of Computational proteomics software consider more relevant."
   ]
  },
  {
   "cell_type": "code",
   "execution_count": 137,
   "metadata": {},
   "outputs": [
    {
     "data": {
      "application/vnd.plotly.v1+json": {
       "data": [
        {
         "name": "Quality of the Results",
         "type": "bar",
         "uid": "1f51c57f-4b9e-4e9b-8d1b-55f17daa9420",
         "x": [
          "Other",
          "MaxQuant",
          "Patterlab (PMID:26658470)",
          "MSnBase (PMID:22113085)",
          "Philosopher (Alexey Lab)",
          "moFF",
          "OpenMS",
          "FlashLFQ (PMID:29083185)",
          "PeptideAtlas (StPeter, Libra, XPress)",
          "Skyline",
          "EncyclopeDIA (PMID: 30510204)",
          "Proline (http://www.profiproteomics.fr)",
          "diffacto"
         ],
         "y": [
          1,
          34,
          3,
          1,
          2,
          1,
          5,
          10,
          1,
          18,
          2,
          1,
          1
         ]
        },
        {
         "name": "Free",
         "type": "bar",
         "uid": "d2d6750a-1b1d-48e5-a39f-c9bd5eba7a3d",
         "x": [
          "Other",
          "MaxQuant",
          "Patterlab (PMID:26658470)",
          "Skyline",
          "Philosopher (Alexey Lab)",
          "moFF",
          "OpenMS",
          "FlashLFQ (PMID:29083185)",
          "PeptideAtlas (StPeter, Libra, XPress)",
          "MSnBase (PMID:22113085)",
          "diffacto",
          "Proline (http://www.profiproteomics.fr)",
          "EncyclopeDIA (PMID: 30510204)"
         ],
         "y": [
          1,
          37,
          5,
          19,
          4,
          1,
          9,
          10,
          1,
          2,
          1,
          1,
          3
         ]
        },
        {
         "name": "Easy to use",
         "type": "bar",
         "uid": "88db0de7-8726-4c46-bc0f-87d26f9f35e6",
         "x": [
          "Other",
          "MaxQuant",
          "Patterlab (PMID:26658470)",
          "Skyline",
          "Philosopher (Alexey Lab)",
          "moFF",
          "OpenMS",
          "FlashLFQ (PMID:29083185)",
          "PeptideAtlas (StPeter, Libra, XPress)",
          "MSnBase (PMID:22113085)",
          "EncyclopeDIA (PMID: 30510204)",
          "Proline (http://www.profiproteomics.fr)"
         ],
         "y": [
          3,
          29,
          4,
          16,
          3,
          1,
          4,
          11,
          1,
          1,
          2,
          1
         ]
        },
        {
         "name": "Easy to run in HPC / Cloud enviroments",
         "type": "bar",
         "uid": "78399df8-19b3-4fa9-9a88-a1046036d72b",
         "x": [
          "OpenMS",
          "FlashLFQ (PMID:29083185)",
          "PeptideAtlas (StPeter, Libra, XPress)",
          "MaxQuant",
          "Patterlab (PMID:26658470)",
          "Skyline",
          "Philosopher (Alexey Lab)",
          "moFF",
          "MSnBase (PMID:22113085)"
         ],
         "y": [
          4,
          1,
          1,
          3,
          1,
          1,
          2,
          1,
          1
         ]
        },
        {
         "name": "Open Source",
         "type": "bar",
         "uid": "80b4ef0b-2970-42fe-af51-8d67269fb31d",
         "x": [
          "MaxQuant",
          "Patterlab (PMID:26658470)",
          "Skyline",
          "Philosopher (Alexey Lab)",
          "moFF",
          "OpenMS",
          "FlashLFQ (PMID:29083185)",
          "PeptideAtlas (StPeter, Libra, XPress)",
          "MSnBase (PMID:22113085)",
          "diffacto",
          "EncyclopeDIA (PMID: 30510204)"
         ],
         "y": [
          11,
          2,
          10,
          2,
          2,
          12,
          7,
          1,
          2,
          1,
          2
         ]
        },
        {
         "name": "Maturity (No much errors)",
         "type": "bar",
         "uid": "7c261207-808d-4ce8-8b2b-810bfadea160",
         "x": [
          "OpenMS",
          "FlashLFQ (PMID:29083185)",
          "PeptideAtlas (StPeter, Libra, XPress)",
          "MaxQuant",
          "Patterlab (PMID:26658470)",
          "Skyline",
          "EncyclopeDIA (PMID: 30510204)",
          "MSnBase (PMID:22113085)",
          "Philosopher (Alexey Lab)"
         ],
         "y": [
          1,
          2,
          1,
          18,
          1,
          11,
          1,
          1,
          2
         ]
        },
        {
         "name": "Desktop Application",
         "type": "bar",
         "uid": "ff5b4fe9-e22c-439c-bac7-905b0166c9f7",
         "x": [
          "OpenMS",
          "FlashLFQ (PMID:29083185)",
          "MaxQuant",
          "MSnBase (PMID:22113085)",
          "Patterlab (PMID:26658470)",
          "Skyline",
          "EncyclopeDIA (PMID: 30510204)",
          "moFF",
          "Other"
         ],
         "y": [
          3,
          10,
          21,
          2,
          2,
          15,
          2,
          1,
          2
         ]
        },
        {
         "name": "Flexibility to develop pipelines",
         "type": "bar",
         "uid": "d050b31c-ff94-4126-9f98-eafa2fe1a936",
         "x": [
          "OpenMS",
          "Patterlab (PMID:26658470)",
          "FlashLFQ (PMID:29083185)",
          "PeptideAtlas (StPeter, Libra, XPress)",
          "MaxQuant",
          "Skyline",
          "MSnBase (PMID:22113085)",
          "Philosopher (Alexey Lab)",
          "moFF",
          "Other"
         ],
         "y": [
          8,
          2,
          4,
          1,
          1,
          4,
          2,
          3,
          2,
          1
         ]
        },
        {
         "name": "Documentation and Support",
         "type": "bar",
         "uid": "d7e54cdb-2f3e-4073-8ef5-70859669407b",
         "x": [
          "Other",
          "MaxQuant",
          "OpenMS",
          "Skyline",
          "Philosopher (Alexey Lab)",
          "moFF",
          "Patterlab (PMID:26658470)",
          "FlashLFQ (PMID:29083185)",
          "PeptideAtlas (StPeter, Libra, XPress)",
          "MSnBase (PMID:22113085)",
          "EncyclopeDIA (PMID: 30510204)"
         ],
         "y": [
          2,
          11,
          6,
          18,
          1,
          1,
          2,
          12,
          1,
          2,
          1
         ]
        },
        {
         "name": "Internal benchmark with other tools suggest better/similar results",
         "type": "bar",
         "uid": "6091548a-e413-40d6-9f6e-2e08e235a58f",
         "x": [
          "Proline (http://www.profiproteomics.fr)",
          "Patterlab (PMID:26658470)",
          "FlashLFQ (PMID:29083185)",
          "PeptideAtlas (StPeter, Libra, XPress)",
          "MaxQuant",
          "OpenMS",
          "Skyline",
          "diffacto",
          "moFF",
          "Philosopher (Alexey Lab)"
         ],
         "y": [
          1,
          2,
          5,
          1,
          13,
          1,
          3,
          1,
          1,
          1
         ]
        },
        {
         "name": "Compatibility with other softwares",
         "type": "bar",
         "uid": "c30b206f-acd0-4cc9-afd8-f603d8e2b907",
         "x": [
          "OpenMS",
          "FlashLFQ (PMID:29083185)",
          "PeptideAtlas (StPeter, Libra, XPress)",
          "MaxQuant",
          "MSnBase (PMID:22113085)",
          "Skyline",
          "EncyclopeDIA (PMID: 30510204)",
          "moFF",
          "Philosopher (Alexey Lab)",
          "Patterlab (PMID:26658470)"
         ],
         "y": [
          5,
          4,
          1,
          9,
          1,
          9,
          1,
          1,
          2,
          1
         ]
        },
        {
         "name": "Support for multiple Quant methods",
         "type": "bar",
         "uid": "a08a8e08-019e-4b98-bf05-a54aa9768575",
         "x": [
          "OpenMS",
          "FlashLFQ (PMID:29083185)",
          "PeptideAtlas (StPeter, Libra, XPress)",
          "MaxQuant",
          "Other",
          "Skyline",
          "EncyclopeDIA (PMID: 30510204)",
          "MSnBase (PMID:22113085)",
          "Philosopher (Alexey Lab)",
          "Patterlab (PMID:26658470)"
         ],
         "y": [
          5,
          3,
          1,
          28,
          1,
          12,
          1,
          1,
          2,
          1
         ]
        }
       ],
       "layout": {
        "barmode": "group",
        "legend": {
         "font": {
          "color": "#000",
          "family": "sans-serif",
          "size": 10
         },
         "x": 1,
         "y": 1
        }
       }
      },
      "text/html": [
       "<div id=\"3508bd86-d9a5-4229-b080-07d1ec6ae207\" style=\"height: 525px; width: 100%;\" class=\"plotly-graph-div\"></div><script type=\"text/javascript\">require([\"plotly\"], function(Plotly) { window.PLOTLYENV=window.PLOTLYENV || {};window.PLOTLYENV.BASE_URL=\"https://plot.ly\";Plotly.newPlot(\"3508bd86-d9a5-4229-b080-07d1ec6ae207\", [{\"uid\": \"1f51c57f-4b9e-4e9b-8d1b-55f17daa9420\", \"y\": [1, 34, 3, 1, 2, 1, 5, 10, 1, 18, 2, 1, 1], \"name\": \"Quality of the Results\", \"x\": [\"Other\", \"MaxQuant\", \"Patterlab (PMID:26658470)\", \"MSnBase (PMID:22113085)\", \"Philosopher (Alexey Lab)\", \"moFF\", \"OpenMS\", \"FlashLFQ (PMID:29083185)\", \"PeptideAtlas (StPeter, Libra, XPress)\", \"Skyline\", \"EncyclopeDIA (PMID: 30510204)\", \"Proline (http://www.profiproteomics.fr)\", \"diffacto\"], \"type\": \"bar\"}, {\"uid\": \"d2d6750a-1b1d-48e5-a39f-c9bd5eba7a3d\", \"y\": [1, 37, 5, 19, 4, 1, 9, 10, 1, 2, 1, 1, 3], \"name\": \"Free\", \"x\": [\"Other\", \"MaxQuant\", \"Patterlab (PMID:26658470)\", \"Skyline\", \"Philosopher (Alexey Lab)\", \"moFF\", \"OpenMS\", \"FlashLFQ (PMID:29083185)\", \"PeptideAtlas (StPeter, Libra, XPress)\", \"MSnBase (PMID:22113085)\", \"diffacto\", \"Proline (http://www.profiproteomics.fr)\", \"EncyclopeDIA (PMID: 30510204)\"], \"type\": \"bar\"}, {\"uid\": \"88db0de7-8726-4c46-bc0f-87d26f9f35e6\", \"y\": [3, 29, 4, 16, 3, 1, 4, 11, 1, 1, 2, 1], \"name\": \"Easy to use\", \"x\": [\"Other\", \"MaxQuant\", \"Patterlab (PMID:26658470)\", \"Skyline\", \"Philosopher (Alexey Lab)\", \"moFF\", \"OpenMS\", \"FlashLFQ (PMID:29083185)\", \"PeptideAtlas (StPeter, Libra, XPress)\", \"MSnBase (PMID:22113085)\", \"EncyclopeDIA (PMID: 30510204)\", \"Proline (http://www.profiproteomics.fr)\"], \"type\": \"bar\"}, {\"uid\": \"78399df8-19b3-4fa9-9a88-a1046036d72b\", \"y\": [4, 1, 1, 3, 1, 1, 2, 1, 1], \"name\": \"Easy to run in HPC / Cloud enviroments\", \"x\": [\"OpenMS\", \"FlashLFQ (PMID:29083185)\", \"PeptideAtlas (StPeter, Libra, XPress)\", \"MaxQuant\", \"Patterlab (PMID:26658470)\", \"Skyline\", \"Philosopher (Alexey Lab)\", \"moFF\", \"MSnBase (PMID:22113085)\"], \"type\": \"bar\"}, {\"uid\": \"80b4ef0b-2970-42fe-af51-8d67269fb31d\", \"y\": [11, 2, 10, 2, 2, 12, 7, 1, 2, 1, 2], \"name\": \"Open Source\", \"x\": [\"MaxQuant\", \"Patterlab (PMID:26658470)\", \"Skyline\", \"Philosopher (Alexey Lab)\", \"moFF\", \"OpenMS\", \"FlashLFQ (PMID:29083185)\", \"PeptideAtlas (StPeter, Libra, XPress)\", \"MSnBase (PMID:22113085)\", \"diffacto\", \"EncyclopeDIA (PMID: 30510204)\"], \"type\": \"bar\"}, {\"uid\": \"7c261207-808d-4ce8-8b2b-810bfadea160\", \"y\": [1, 2, 1, 18, 1, 11, 1, 1, 2], \"name\": \"Maturity (No much errors)\", \"x\": [\"OpenMS\", \"FlashLFQ (PMID:29083185)\", \"PeptideAtlas (StPeter, Libra, XPress)\", \"MaxQuant\", \"Patterlab (PMID:26658470)\", \"Skyline\", \"EncyclopeDIA (PMID: 30510204)\", \"MSnBase (PMID:22113085)\", \"Philosopher (Alexey Lab)\"], \"type\": \"bar\"}, {\"uid\": \"ff5b4fe9-e22c-439c-bac7-905b0166c9f7\", \"y\": [3, 10, 21, 2, 2, 15, 2, 1, 2], \"name\": \"Desktop Application\", \"x\": [\"OpenMS\", \"FlashLFQ (PMID:29083185)\", \"MaxQuant\", \"MSnBase (PMID:22113085)\", \"Patterlab (PMID:26658470)\", \"Skyline\", \"EncyclopeDIA (PMID: 30510204)\", \"moFF\", \"Other\"], \"type\": \"bar\"}, {\"uid\": \"d050b31c-ff94-4126-9f98-eafa2fe1a936\", \"y\": [8, 2, 4, 1, 1, 4, 2, 3, 2, 1], \"name\": \"Flexibility to develop pipelines\", \"x\": [\"OpenMS\", \"Patterlab (PMID:26658470)\", \"FlashLFQ (PMID:29083185)\", \"PeptideAtlas (StPeter, Libra, XPress)\", \"MaxQuant\", \"Skyline\", \"MSnBase (PMID:22113085)\", \"Philosopher (Alexey Lab)\", \"moFF\", \"Other\"], \"type\": \"bar\"}, {\"uid\": \"d7e54cdb-2f3e-4073-8ef5-70859669407b\", \"y\": [2, 11, 6, 18, 1, 1, 2, 12, 1, 2, 1], \"name\": \"Documentation and Support\", \"x\": [\"Other\", \"MaxQuant\", \"OpenMS\", \"Skyline\", \"Philosopher (Alexey Lab)\", \"moFF\", \"Patterlab (PMID:26658470)\", \"FlashLFQ (PMID:29083185)\", \"PeptideAtlas (StPeter, Libra, XPress)\", \"MSnBase (PMID:22113085)\", \"EncyclopeDIA (PMID: 30510204)\"], \"type\": \"bar\"}, {\"uid\": \"6091548a-e413-40d6-9f6e-2e08e235a58f\", \"y\": [1, 2, 5, 1, 13, 1, 3, 1, 1, 1], \"name\": \"Internal benchmark with other tools suggest better/similar results\", \"x\": [\"Proline (http://www.profiproteomics.fr)\", \"Patterlab (PMID:26658470)\", \"FlashLFQ (PMID:29083185)\", \"PeptideAtlas (StPeter, Libra, XPress)\", \"MaxQuant\", \"OpenMS\", \"Skyline\", \"diffacto\", \"moFF\", \"Philosopher (Alexey Lab)\"], \"type\": \"bar\"}, {\"uid\": \"c30b206f-acd0-4cc9-afd8-f603d8e2b907\", \"y\": [5, 4, 1, 9, 1, 9, 1, 1, 2, 1], \"name\": \"Compatibility with other softwares\", \"x\": [\"OpenMS\", \"FlashLFQ (PMID:29083185)\", \"PeptideAtlas (StPeter, Libra, XPress)\", \"MaxQuant\", \"MSnBase (PMID:22113085)\", \"Skyline\", \"EncyclopeDIA (PMID: 30510204)\", \"moFF\", \"Philosopher (Alexey Lab)\", \"Patterlab (PMID:26658470)\"], \"type\": \"bar\"}, {\"uid\": \"a08a8e08-019e-4b98-bf05-a54aa9768575\", \"y\": [5, 3, 1, 28, 1, 12, 1, 1, 2, 1], \"name\": \"Support for multiple Quant methods\", \"x\": [\"OpenMS\", \"FlashLFQ (PMID:29083185)\", \"PeptideAtlas (StPeter, Libra, XPress)\", \"MaxQuant\", \"Other\", \"Skyline\", \"EncyclopeDIA (PMID: 30510204)\", \"MSnBase (PMID:22113085)\", \"Philosopher (Alexey Lab)\", \"Patterlab (PMID:26658470)\"], \"type\": \"bar\"}], {\"legend\": {\"y\": 1.0, \"x\": 1, \"font\": {\"color\": \"#000\", \"size\": 10, \"family\": \"sans-serif\"}}, \"barmode\": \"group\"}, {\"showLink\": true, \"linkText\": \"Export to plot.ly\"})});</script><script type=\"text/javascript\">window.addEventListener(\"resize\", function(){window._Plotly.Plots.resize(document.getElementById(\"3508bd86-d9a5-4229-b080-07d1ec6ae207\"));});</script>"
      ],
      "text/vnd.plotly.v1+html": [
       "<div id=\"3508bd86-d9a5-4229-b080-07d1ec6ae207\" style=\"height: 525px; width: 100%;\" class=\"plotly-graph-div\"></div><script type=\"text/javascript\">require([\"plotly\"], function(Plotly) { window.PLOTLYENV=window.PLOTLYENV || {};window.PLOTLYENV.BASE_URL=\"https://plot.ly\";Plotly.newPlot(\"3508bd86-d9a5-4229-b080-07d1ec6ae207\", [{\"uid\": \"1f51c57f-4b9e-4e9b-8d1b-55f17daa9420\", \"y\": [1, 34, 3, 1, 2, 1, 5, 10, 1, 18, 2, 1, 1], \"name\": \"Quality of the Results\", \"x\": [\"Other\", \"MaxQuant\", \"Patterlab (PMID:26658470)\", \"MSnBase (PMID:22113085)\", \"Philosopher (Alexey Lab)\", \"moFF\", \"OpenMS\", \"FlashLFQ (PMID:29083185)\", \"PeptideAtlas (StPeter, Libra, XPress)\", \"Skyline\", \"EncyclopeDIA (PMID: 30510204)\", \"Proline (http://www.profiproteomics.fr)\", \"diffacto\"], \"type\": \"bar\"}, {\"uid\": \"d2d6750a-1b1d-48e5-a39f-c9bd5eba7a3d\", \"y\": [1, 37, 5, 19, 4, 1, 9, 10, 1, 2, 1, 1, 3], \"name\": \"Free\", \"x\": [\"Other\", \"MaxQuant\", \"Patterlab (PMID:26658470)\", \"Skyline\", \"Philosopher (Alexey Lab)\", \"moFF\", \"OpenMS\", \"FlashLFQ (PMID:29083185)\", \"PeptideAtlas (StPeter, Libra, XPress)\", \"MSnBase (PMID:22113085)\", \"diffacto\", \"Proline (http://www.profiproteomics.fr)\", \"EncyclopeDIA (PMID: 30510204)\"], \"type\": \"bar\"}, {\"uid\": \"88db0de7-8726-4c46-bc0f-87d26f9f35e6\", \"y\": [3, 29, 4, 16, 3, 1, 4, 11, 1, 1, 2, 1], \"name\": \"Easy to use\", \"x\": [\"Other\", \"MaxQuant\", \"Patterlab (PMID:26658470)\", \"Skyline\", \"Philosopher (Alexey Lab)\", \"moFF\", \"OpenMS\", \"FlashLFQ (PMID:29083185)\", \"PeptideAtlas (StPeter, Libra, XPress)\", \"MSnBase (PMID:22113085)\", \"EncyclopeDIA (PMID: 30510204)\", \"Proline (http://www.profiproteomics.fr)\"], \"type\": \"bar\"}, {\"uid\": \"78399df8-19b3-4fa9-9a88-a1046036d72b\", \"y\": [4, 1, 1, 3, 1, 1, 2, 1, 1], \"name\": \"Easy to run in HPC / Cloud enviroments\", \"x\": [\"OpenMS\", \"FlashLFQ (PMID:29083185)\", \"PeptideAtlas (StPeter, Libra, XPress)\", \"MaxQuant\", \"Patterlab (PMID:26658470)\", \"Skyline\", \"Philosopher (Alexey Lab)\", \"moFF\", \"MSnBase (PMID:22113085)\"], \"type\": \"bar\"}, {\"uid\": \"80b4ef0b-2970-42fe-af51-8d67269fb31d\", \"y\": [11, 2, 10, 2, 2, 12, 7, 1, 2, 1, 2], \"name\": \"Open Source\", \"x\": [\"MaxQuant\", \"Patterlab (PMID:26658470)\", \"Skyline\", \"Philosopher (Alexey Lab)\", \"moFF\", \"OpenMS\", \"FlashLFQ (PMID:29083185)\", \"PeptideAtlas (StPeter, Libra, XPress)\", \"MSnBase (PMID:22113085)\", \"diffacto\", \"EncyclopeDIA (PMID: 30510204)\"], \"type\": \"bar\"}, {\"uid\": \"7c261207-808d-4ce8-8b2b-810bfadea160\", \"y\": [1, 2, 1, 18, 1, 11, 1, 1, 2], \"name\": \"Maturity (No much errors)\", \"x\": [\"OpenMS\", \"FlashLFQ (PMID:29083185)\", \"PeptideAtlas (StPeter, Libra, XPress)\", \"MaxQuant\", \"Patterlab (PMID:26658470)\", \"Skyline\", \"EncyclopeDIA (PMID: 30510204)\", \"MSnBase (PMID:22113085)\", \"Philosopher (Alexey Lab)\"], \"type\": \"bar\"}, {\"uid\": \"ff5b4fe9-e22c-439c-bac7-905b0166c9f7\", \"y\": [3, 10, 21, 2, 2, 15, 2, 1, 2], \"name\": \"Desktop Application\", \"x\": [\"OpenMS\", \"FlashLFQ (PMID:29083185)\", \"MaxQuant\", \"MSnBase (PMID:22113085)\", \"Patterlab (PMID:26658470)\", \"Skyline\", \"EncyclopeDIA (PMID: 30510204)\", \"moFF\", \"Other\"], \"type\": \"bar\"}, {\"uid\": \"d050b31c-ff94-4126-9f98-eafa2fe1a936\", \"y\": [8, 2, 4, 1, 1, 4, 2, 3, 2, 1], \"name\": \"Flexibility to develop pipelines\", \"x\": [\"OpenMS\", \"Patterlab (PMID:26658470)\", \"FlashLFQ (PMID:29083185)\", \"PeptideAtlas (StPeter, Libra, XPress)\", \"MaxQuant\", \"Skyline\", \"MSnBase (PMID:22113085)\", \"Philosopher (Alexey Lab)\", \"moFF\", \"Other\"], \"type\": \"bar\"}, {\"uid\": \"d7e54cdb-2f3e-4073-8ef5-70859669407b\", \"y\": [2, 11, 6, 18, 1, 1, 2, 12, 1, 2, 1], \"name\": \"Documentation and Support\", \"x\": [\"Other\", \"MaxQuant\", \"OpenMS\", \"Skyline\", \"Philosopher (Alexey Lab)\", \"moFF\", \"Patterlab (PMID:26658470)\", \"FlashLFQ (PMID:29083185)\", \"PeptideAtlas (StPeter, Libra, XPress)\", \"MSnBase (PMID:22113085)\", \"EncyclopeDIA (PMID: 30510204)\"], \"type\": \"bar\"}, {\"uid\": \"6091548a-e413-40d6-9f6e-2e08e235a58f\", \"y\": [1, 2, 5, 1, 13, 1, 3, 1, 1, 1], \"name\": \"Internal benchmark with other tools suggest better/similar results\", \"x\": [\"Proline (http://www.profiproteomics.fr)\", \"Patterlab (PMID:26658470)\", \"FlashLFQ (PMID:29083185)\", \"PeptideAtlas (StPeter, Libra, XPress)\", \"MaxQuant\", \"OpenMS\", \"Skyline\", \"diffacto\", \"moFF\", \"Philosopher (Alexey Lab)\"], \"type\": \"bar\"}, {\"uid\": \"c30b206f-acd0-4cc9-afd8-f603d8e2b907\", \"y\": [5, 4, 1, 9, 1, 9, 1, 1, 2, 1], \"name\": \"Compatibility with other softwares\", \"x\": [\"OpenMS\", \"FlashLFQ (PMID:29083185)\", \"PeptideAtlas (StPeter, Libra, XPress)\", \"MaxQuant\", \"MSnBase (PMID:22113085)\", \"Skyline\", \"EncyclopeDIA (PMID: 30510204)\", \"moFF\", \"Philosopher (Alexey Lab)\", \"Patterlab (PMID:26658470)\"], \"type\": \"bar\"}, {\"uid\": \"a08a8e08-019e-4b98-bf05-a54aa9768575\", \"y\": [5, 3, 1, 28, 1, 12, 1, 1, 2, 1], \"name\": \"Support for multiple Quant methods\", \"x\": [\"OpenMS\", \"FlashLFQ (PMID:29083185)\", \"PeptideAtlas (StPeter, Libra, XPress)\", \"MaxQuant\", \"Other\", \"Skyline\", \"EncyclopeDIA (PMID: 30510204)\", \"MSnBase (PMID:22113085)\", \"Philosopher (Alexey Lab)\", \"Patterlab (PMID:26658470)\"], \"type\": \"bar\"}], {\"legend\": {\"y\": 1.0, \"x\": 1, \"font\": {\"color\": \"#000\", \"size\": 10, \"family\": \"sans-serif\"}}, \"barmode\": \"group\"}, {\"showLink\": true, \"linkText\": \"Export to plot.ly\"})});</script><script type=\"text/javascript\">window.addEventListener(\"resize\", function(){window._Plotly.Plots.resize(document.getElementById(\"3508bd86-d9a5-4229-b080-07d1ec6ae207\"));});</script>"
      ]
     },
     "metadata": {},
     "output_type": "display_data"
    }
   ],
   "source": [
    "question = \"Which are the features that make you to chose the following software for your data analysis\"\n",
    "data = get_multioption_bar_data(data_df, question)\n",
    "layout = go.Layout(barmode='group',legend=dict(x=1, y=1.0, font=dict(\n",
    "            family='sans-serif',\n",
    "            size=10,\n",
    "            color='#000'\n",
    "        ),))\n",
    "fig = go.Figure(data=data, layout=layout)\n",
    "iplot(fig, filename='grouped-bar')"
   ]
  },
  {
   "cell_type": "markdown",
   "metadata": {},
   "source": [
    "## Number of citations per Tool\n",
    "\n",
    "    This plot aims to compute the number of citations per tool. For the present statistics we added all the main publications related with the tool. \n",
    "    \n",
    "note: Please review the file (software-ids.csv) to included all the publications and check if something is missing. You can also add an issue in the repository.  "
   ]
  },
  {
   "cell_type": "code",
   "execution_count": 138,
   "metadata": {},
   "outputs": [
    {
     "data": {
      "application/vnd.plotly.v1+json": {
       "data": [
        {
         "orientation": "h",
         "type": "bar",
         "uid": "dd7e7b1a-7c6e-4b53-a641-a7ff8349b64f",
         "x": [
          370,
          871,
          2374,
          6412,
          15,
          8063,
          887,
          454,
          1941,
          2156
         ],
         "y": [
          "MSGF+",
          "Perseus",
          "Andromeda",
          "MaxQuant",
          "moff",
          "Mascot",
          "OpenMS",
          "Comet",
          "Skyline",
          "XTandem"
         ]
        }
       ],
       "layout": {}
      },
      "text/html": [
       "<div id=\"55431d9e-4b0f-4965-b1ec-9de8963abbed\" style=\"height: 525px; width: 100%;\" class=\"plotly-graph-div\"></div><script type=\"text/javascript\">require([\"plotly\"], function(Plotly) { window.PLOTLYENV=window.PLOTLYENV || {};window.PLOTLYENV.BASE_URL=\"https://plot.ly\";Plotly.newPlot(\"55431d9e-4b0f-4965-b1ec-9de8963abbed\", [{\"uid\": \"16d6e5fd-9d59-4671-afa1-7bb8ce1d3e19\", \"y\": [\"MSGF+\", \"Perseus\", \"Andromeda\", \"MaxQuant\", \"moff\", \"Mascot\", \"OpenMS\", \"Comet\", \"Skyline\", \"XTandem\"], \"type\": \"bar\", \"x\": [370, 871, 2374, 6412, 15, 8063, 887, 454, 1941, 2156], \"orientation\": \"h\"}], {}, {\"showLink\": true, \"linkText\": \"Export to plot.ly\"})});</script><script type=\"text/javascript\">window.addEventListener(\"resize\", function(){window._Plotly.Plots.resize(document.getElementById(\"55431d9e-4b0f-4965-b1ec-9de8963abbed\"));});</script>"
      ],
      "text/vnd.plotly.v1+html": [
       "<div id=\"55431d9e-4b0f-4965-b1ec-9de8963abbed\" style=\"height: 525px; width: 100%;\" class=\"plotly-graph-div\"></div><script type=\"text/javascript\">require([\"plotly\"], function(Plotly) { window.PLOTLYENV=window.PLOTLYENV || {};window.PLOTLYENV.BASE_URL=\"https://plot.ly\";Plotly.newPlot(\"55431d9e-4b0f-4965-b1ec-9de8963abbed\", [{\"uid\": \"16d6e5fd-9d59-4671-afa1-7bb8ce1d3e19\", \"y\": [\"MSGF+\", \"Perseus\", \"Andromeda\", \"MaxQuant\", \"moff\", \"Mascot\", \"OpenMS\", \"Comet\", \"Skyline\", \"XTandem\"], \"type\": \"bar\", \"x\": [370, 871, 2374, 6412, 15, 8063, 887, 454, 1941, 2156], \"orientation\": \"h\"}], {}, {\"showLink\": true, \"linkText\": \"Export to plot.ly\"})});</script><script type=\"text/javascript\">window.addEventListener(\"resize\", function(){window._Plotly.Plots.resize(document.getElementById(\"55431d9e-4b0f-4965-b1ec-9de8963abbed\"));});</script>"
      ]
     },
     "metadata": {},
     "output_type": "display_data"
    }
   ],
   "source": [
    "data = [go.Bar(\n",
    "            x=list(data_citations['Citations']),\n",
    "            y=list(data_citations['Software']),\n",
    "            orientation = 'h'\n",
    ")]\n",
    "\n",
    "iplot(data, filename='horizontal-bar')"
   ]
  },
  {
   "cell_type": "code",
   "execution_count": null,
   "metadata": {},
   "outputs": [],
   "source": []
  }
 ],
 "metadata": {
  "kernelspec": {
   "display_name": "Python 3",
   "language": "python",
   "name": "python3"
  },
  "language_info": {
   "codemirror_mode": {
    "name": "ipython",
    "version": 3
   },
   "file_extension": ".py",
   "mimetype": "text/x-python",
   "name": "python",
   "nbconvert_exporter": "python",
   "pygments_lexer": "ipython3",
   "version": "3.4.2"
  }
 },
 "nbformat": 4,
 "nbformat_minor": 2
}
