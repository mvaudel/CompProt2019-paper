{
 "cells": [
  {
   "cell_type": "markdown",
   "metadata": {},
   "source": [
    "# Computational Proteomics Trends 2019. \n",
    "\n",
    "This jupyter notebook aims to read the data from Google Scholar csv poll into a panda dataframe to perform basic statistics about proteomics software useage by 2019. \n"
   ]
  },
  {
   "cell_type": "code",
   "execution_count": 147,
   "metadata": {},
   "outputs": [
    {
     "data": {
      "text/html": [
       "<script type=\"text/javascript\">window.PlotlyConfig = {MathJaxConfig: 'local'};</script><script type=\"text/javascript\">if (window.MathJax) {MathJax.Hub.Config({SVG: {font: \"STIX-Web\"}});}</script><script>requirejs.config({paths: { 'plotly': ['https://cdn.plot.ly/plotly-latest.min']},});if(!window._Plotly) {require(['plotly'],function(plotly) {window._Plotly=plotly;});}</script>"
      ],
      "text/vnd.plotly.v1+html": [
       "<script type=\"text/javascript\">window.PlotlyConfig = {MathJaxConfig: 'local'};</script><script type=\"text/javascript\">if (window.MathJax) {MathJax.Hub.Config({SVG: {font: \"STIX-Web\"}});}</script><script>requirejs.config({paths: { 'plotly': ['https://cdn.plot.ly/plotly-latest.min']},});if(!window._Plotly) {require(['plotly'],function(plotly) {window._Plotly=plotly;});}</script>"
      ]
     },
     "metadata": {},
     "output_type": "display_data"
    },
    {
     "data": {
      "text/html": [
       "<div>\n",
       "<style scoped>\n",
       "    .dataframe tbody tr th:only-of-type {\n",
       "        vertical-align: middle;\n",
       "    }\n",
       "\n",
       "    .dataframe tbody tr th {\n",
       "        vertical-align: top;\n",
       "    }\n",
       "\n",
       "    .dataframe thead th {\n",
       "        text-align: right;\n",
       "    }\n",
       "</style>\n",
       "<table border=\"1\" class=\"dataframe\">\n",
       "  <thead>\n",
       "    <tr style=\"text-align: right;\">\n",
       "      <th></th>\n",
       "      <th>Timestamp</th>\n",
       "      <th>Username</th>\n",
       "      <th>What is your current position?</th>\n",
       "      <th>In what kind of research institute do you work?</th>\n",
       "      <th>Which of these software do you use for your Quant Analysis.  [TPP (StPeter, Libra, XPress)]</th>\n",
       "      <th>Which of these software do you use for your Quant Analysis.  [OpenMS]</th>\n",
       "      <th>Which of these software do you use for your Quant Analysis.  [Other]</th>\n",
       "      <th>Which of these software do you use for your Quant Analysis.  [MSnBase (PMID:22113085)]</th>\n",
       "      <th>Which of these software do you use for your Quant Analysis.  [moFF]</th>\n",
       "      <th>Which of these software do you use for your Quant Analysis.  [FlashLFQ (PMID:29083185)]</th>\n",
       "      <th>...</th>\n",
       "      <th>Search engine and type of analysis  [MSAmanda]</th>\n",
       "      <th>Search engine and type of analysis  [Mascot]</th>\n",
       "      <th>Which type of Protein quant data you would like to see more in proteomics resources. (e.g. TPP, ProteomicsDB, etc) [Label-Free Differential expression experiments]</th>\n",
       "      <th>Which type of Protein quant data you would like to see more in proteomics resources. (e.g. TPP, ProteomicsDB, etc) [Label-Free Base line expression experiments]</th>\n",
       "      <th>Which type of Protein quant data you would like to see more in proteomics resources. (e.g. TPP, ProteomicsDB, etc) [TMT Differential expression experiments]</th>\n",
       "      <th>Which type of Protein quant data you would like to see more in proteomics resources. (e.g. PeptideAtlas, ProteomicsDB, etc) [TMT Base line expression experiments]</th>\n",
       "      <th>Which type of Protein quant data you would like to see more in proteomics resources. (e.g. PeptideAtlas, ProteomicsDB, etc) [SRM/MR expression Experiments]</th>\n",
       "      <th>Which type of Protein quant data you would like to see more in proteomics resources. (e.g. PeptideAtlas, ProteomicsDB, etc) [DIA/SWATH expression experiments]</th>\n",
       "      <th>In case you would like to see something else more represented in Proteomics resources let us know.</th>\n",
       "      <th>Unnamed: 66</th>\n",
       "    </tr>\n",
       "  </thead>\n",
       "  <tbody>\n",
       "    <tr>\n",
       "      <th>0</th>\n",
       "      <td>2019/02/08 1:42:21 PM GMT</td>\n",
       "      <td>user1</td>\n",
       "      <td>NaN</td>\n",
       "      <td>NaN</td>\n",
       "      <td>NaN</td>\n",
       "      <td>NaN</td>\n",
       "      <td>NaN</td>\n",
       "      <td>NaN</td>\n",
       "      <td>NaN</td>\n",
       "      <td>NaN</td>\n",
       "      <td>...</td>\n",
       "      <td>NaN</td>\n",
       "      <td>NaN</td>\n",
       "      <td>NaN</td>\n",
       "      <td>NaN</td>\n",
       "      <td>NaN</td>\n",
       "      <td>NaN</td>\n",
       "      <td>NaN</td>\n",
       "      <td>NaN</td>\n",
       "      <td>NaN</td>\n",
       "      <td>NaN</td>\n",
       "    </tr>\n",
       "    <tr>\n",
       "      <th>1</th>\n",
       "      <td>2019/02/08 1:49:09 PM GMT</td>\n",
       "      <td>user2</td>\n",
       "      <td>NaN</td>\n",
       "      <td>NaN</td>\n",
       "      <td>NaN</td>\n",
       "      <td>NaN</td>\n",
       "      <td>NaN</td>\n",
       "      <td>NaN</td>\n",
       "      <td>NaN</td>\n",
       "      <td>NaN</td>\n",
       "      <td>...</td>\n",
       "      <td>NaN</td>\n",
       "      <td>NaN</td>\n",
       "      <td>NaN</td>\n",
       "      <td>NaN</td>\n",
       "      <td>NaN</td>\n",
       "      <td>NaN</td>\n",
       "      <td>NaN</td>\n",
       "      <td>NaN</td>\n",
       "      <td>NaN</td>\n",
       "      <td>NaN</td>\n",
       "    </tr>\n",
       "    <tr>\n",
       "      <th>2</th>\n",
       "      <td>2019/02/08 1:54:35 PM GMT</td>\n",
       "      <td>user3</td>\n",
       "      <td>NaN</td>\n",
       "      <td>NaN</td>\n",
       "      <td>NaN</td>\n",
       "      <td>NaN</td>\n",
       "      <td>NaN</td>\n",
       "      <td>NaN</td>\n",
       "      <td>NaN</td>\n",
       "      <td>NaN</td>\n",
       "      <td>...</td>\n",
       "      <td>NaN</td>\n",
       "      <td>NaN</td>\n",
       "      <td>NaN</td>\n",
       "      <td>NaN</td>\n",
       "      <td>NaN</td>\n",
       "      <td>NaN</td>\n",
       "      <td>NaN</td>\n",
       "      <td>NaN</td>\n",
       "      <td>NaN</td>\n",
       "      <td>NaN</td>\n",
       "    </tr>\n",
       "    <tr>\n",
       "      <th>3</th>\n",
       "      <td>2019/02/08 2:13:28 PM GMT</td>\n",
       "      <td>user4</td>\n",
       "      <td>NaN</td>\n",
       "      <td>NaN</td>\n",
       "      <td>NaN</td>\n",
       "      <td>NaN</td>\n",
       "      <td>NaN</td>\n",
       "      <td>NaN</td>\n",
       "      <td>NaN</td>\n",
       "      <td>NaN</td>\n",
       "      <td>...</td>\n",
       "      <td>NaN</td>\n",
       "      <td>NaN</td>\n",
       "      <td>NaN</td>\n",
       "      <td>NaN</td>\n",
       "      <td>NaN</td>\n",
       "      <td>NaN</td>\n",
       "      <td>NaN</td>\n",
       "      <td>NaN</td>\n",
       "      <td>NaN</td>\n",
       "      <td>NaN</td>\n",
       "    </tr>\n",
       "    <tr>\n",
       "      <th>4</th>\n",
       "      <td>2019/02/08 3:22:10 PM GMT</td>\n",
       "      <td>user5</td>\n",
       "      <td>NaN</td>\n",
       "      <td>NaN</td>\n",
       "      <td>NaN</td>\n",
       "      <td>NaN</td>\n",
       "      <td>NaN</td>\n",
       "      <td>NaN</td>\n",
       "      <td>NaN</td>\n",
       "      <td>Label Free Analysis MS1</td>\n",
       "      <td>...</td>\n",
       "      <td>NaN</td>\n",
       "      <td>NaN</td>\n",
       "      <td>NaN</td>\n",
       "      <td>NaN</td>\n",
       "      <td>NaN</td>\n",
       "      <td>NaN</td>\n",
       "      <td>NaN</td>\n",
       "      <td>NaN</td>\n",
       "      <td>NaN</td>\n",
       "      <td>NaN</td>\n",
       "    </tr>\n",
       "  </tbody>\n",
       "</table>\n",
       "<p>5 rows × 67 columns</p>\n",
       "</div>"
      ],
      "text/plain": [
       "                   Timestamp Username What is your current position?  \\\n",
       "0  2019/02/08 1:42:21 PM GMT    user1                            NaN   \n",
       "1  2019/02/08 1:49:09 PM GMT    user2                            NaN   \n",
       "2  2019/02/08 1:54:35 PM GMT    user3                            NaN   \n",
       "3  2019/02/08 2:13:28 PM GMT    user4                            NaN   \n",
       "4  2019/02/08 3:22:10 PM GMT    user5                            NaN   \n",
       "\n",
       "  In what kind of research institute do you work?  \\\n",
       "0                                             NaN   \n",
       "1                                             NaN   \n",
       "2                                             NaN   \n",
       "3                                             NaN   \n",
       "4                                             NaN   \n",
       "\n",
       "  Which of these software do you use for your Quant Analysis.  [TPP (StPeter, Libra, XPress)]  \\\n",
       "0                                                NaN                                            \n",
       "1                                                NaN                                            \n",
       "2                                                NaN                                            \n",
       "3                                                NaN                                            \n",
       "4                                                NaN                                            \n",
       "\n",
       "  Which of these software do you use for your Quant Analysis.  [OpenMS]  \\\n",
       "0                                                NaN                      \n",
       "1                                                NaN                      \n",
       "2                                                NaN                      \n",
       "3                                                NaN                      \n",
       "4                                                NaN                      \n",
       "\n",
       "  Which of these software do you use for your Quant Analysis.  [Other]  \\\n",
       "0                                                NaN                     \n",
       "1                                                NaN                     \n",
       "2                                                NaN                     \n",
       "3                                                NaN                     \n",
       "4                                                NaN                     \n",
       "\n",
       "  Which of these software do you use for your Quant Analysis.  [MSnBase (PMID:22113085)]  \\\n",
       "0                                                NaN                                       \n",
       "1                                                NaN                                       \n",
       "2                                                NaN                                       \n",
       "3                                                NaN                                       \n",
       "4                                                NaN                                       \n",
       "\n",
       "  Which of these software do you use for your Quant Analysis.  [moFF]  \\\n",
       "0                                                NaN                    \n",
       "1                                                NaN                    \n",
       "2                                                NaN                    \n",
       "3                                                NaN                    \n",
       "4                                                NaN                    \n",
       "\n",
       "  Which of these software do you use for your Quant Analysis.  [FlashLFQ (PMID:29083185)]  \\\n",
       "0                                                NaN                                        \n",
       "1                                                NaN                                        \n",
       "2                                                NaN                                        \n",
       "3                                                NaN                                        \n",
       "4                            Label Free Analysis MS1                                        \n",
       "\n",
       "      ...     Search engine and type of analysis  [MSAmanda]  \\\n",
       "0     ...                                                NaN   \n",
       "1     ...                                                NaN   \n",
       "2     ...                                                NaN   \n",
       "3     ...                                                NaN   \n",
       "4     ...                                                NaN   \n",
       "\n",
       "  Search engine and type of analysis  [Mascot]  \\\n",
       "0                                          NaN   \n",
       "1                                          NaN   \n",
       "2                                          NaN   \n",
       "3                                          NaN   \n",
       "4                                          NaN   \n",
       "\n",
       "  Which type of Protein quant data you would like to see more in proteomics resources. (e.g. TPP, ProteomicsDB, etc) [Label-Free Differential expression experiments]  \\\n",
       "0                                                NaN                                                                                                                    \n",
       "1                                                NaN                                                                                                                    \n",
       "2                                                NaN                                                                                                                    \n",
       "3                                                NaN                                                                                                                    \n",
       "4                                                NaN                                                                                                                    \n",
       "\n",
       "  Which type of Protein quant data you would like to see more in proteomics resources. (e.g. TPP, ProteomicsDB, etc) [Label-Free Base line expression experiments]  \\\n",
       "0                                                NaN                                                                                                                 \n",
       "1                                                NaN                                                                                                                 \n",
       "2                                                NaN                                                                                                                 \n",
       "3                                                NaN                                                                                                                 \n",
       "4                                                NaN                                                                                                                 \n",
       "\n",
       "  Which type of Protein quant data you would like to see more in proteomics resources. (e.g. TPP, ProteomicsDB, etc) [TMT Differential expression experiments]  \\\n",
       "0                                                NaN                                                                                                             \n",
       "1                                                NaN                                                                                                             \n",
       "2                                                NaN                                                                                                             \n",
       "3                                                NaN                                                                                                             \n",
       "4                                                NaN                                                                                                             \n",
       "\n",
       "  Which type of Protein quant data you would like to see more in proteomics resources. (e.g. PeptideAtlas, ProteomicsDB, etc) [TMT Base line expression experiments]  \\\n",
       "0                                                NaN                                                                                                                   \n",
       "1                                                NaN                                                                                                                   \n",
       "2                                                NaN                                                                                                                   \n",
       "3                                                NaN                                                                                                                   \n",
       "4                                                NaN                                                                                                                   \n",
       "\n",
       "  Which type of Protein quant data you would like to see more in proteomics resources. (e.g. PeptideAtlas, ProteomicsDB, etc) [SRM/MR expression Experiments]  \\\n",
       "0                                                NaN                                                                                                            \n",
       "1                                                NaN                                                                                                            \n",
       "2                                                NaN                                                                                                            \n",
       "3                                                NaN                                                                                                            \n",
       "4                                                NaN                                                                                                            \n",
       "\n",
       "  Which type of Protein quant data you would like to see more in proteomics resources. (e.g. PeptideAtlas, ProteomicsDB, etc) [DIA/SWATH expression experiments]  \\\n",
       "0                                                NaN                                                                                                               \n",
       "1                                                NaN                                                                                                               \n",
       "2                                                NaN                                                                                                               \n",
       "3                                                NaN                                                                                                               \n",
       "4                                                NaN                                                                                                               \n",
       "\n",
       "  In case you would like to see something else more represented in Proteomics resources let us know.   \\\n",
       "0                                                NaN                                                    \n",
       "1                                                NaN                                                    \n",
       "2                                                NaN                                                    \n",
       "3                                                NaN                                                    \n",
       "4                                                NaN                                                    \n",
       "\n",
       "  Unnamed: 66  \n",
       "0         NaN  \n",
       "1         NaN  \n",
       "2         NaN  \n",
       "3         NaN  \n",
       "4         NaN  \n",
       "\n",
       "[5 rows x 67 columns]"
      ]
     },
     "execution_count": 147,
     "metadata": {},
     "output_type": "execute_result"
    }
   ],
   "source": [
    "import pandas as pd \n",
    "#import plotly.plotly as py\n",
    "import plotly.graph_objs as go\n",
    "from plotly.offline import download_plotlyjs, init_notebook_mode, plot, iplot\n",
    "import plotly.plotly as py\n",
    "\n",
    "init_notebook_mode(connected=True) \n",
    "\n",
    "# Read the poll data \n",
    "data_df = pd.read_csv(\"../data/poll-results-07032019.csv\")\n",
    "data_citations = pd.read_csv(\"../data/citations-count.csv\")\n",
    "data_df.head() "
   ]
  },
  {
   "cell_type": "code",
   "execution_count": 148,
   "metadata": {
    "scrolled": true
   },
   "outputs": [],
   "source": [
    "def get_pie_chart(collection): \n",
    "    \"\"\"\n",
    "    This function returns a pie chart from a collection of elements.\n",
    "    @param collection must be a column from a pandas datframe \n",
    "    \"\"\"\n",
    "    \n",
    "    collection_counts = {} \n",
    "    for word in collection:\n",
    "        token_collection = str(word).split(\";\")\n",
    "        for token in token_collection: \n",
    "            if token.strip() != 'nan':\n",
    "                if token not in collection_counts:\n",
    "                   collection_counts[token] = 0\n",
    "                collection_counts[token] = collection_counts[token] + 1\n",
    "\n",
    "  \n",
    "    trace=go.Pie(labels=[k  for  k in  collection_counts.keys()],values=[k  for  k in  collection_counts.values()])\n",
    "    return trace\n",
    "\n",
    "def get_multioption_bar_data(data_df, question): \n",
    "    \"\"\"\n",
    "    This function get a panda dataframe and an a multioption question and generate a barplot \n",
    "    @param data Pandas data frame\n",
    "    @param question Question (column name prefix)\n",
    "    \"\"\"\n",
    "    column_names = [col for col in data_df.columns if question in col]\n",
    "    values = []\n",
    "    for column in column_names: \n",
    "        value = column[column.find(\"[\") + 1: column.find(\"]\")]\n",
    "        values.append(value)\n",
    "\n",
    "    plot_values = {}\n",
    "\n",
    "    for index, row in data_df.iterrows():\n",
    "        for column in column_names: \n",
    "            column_value = column[column.find(\"[\") + 1: column.find(\"]\")]\n",
    "            complete_value = data_df.at[index,column]\n",
    "            combined_values = str(complete_value).split(\";\")\n",
    "            for value in combined_values: \n",
    "                if value not in values: \n",
    "                    if value in plot_values:\n",
    "                        if column_value in plot_values[value]:\n",
    "                            count = plot_values[value][column_value] + 1\n",
    "                            plot_values[value].update({column_value:count})\n",
    "                        elif ((str(value)).lower() != 'nan'):\n",
    "                            plot_values[value].update({column_value:1})\n",
    "                    elif((str(value)).lower() != 'nan'):\n",
    "                        plot_values[value] = {column_value: 1}\n",
    "\n",
    "    data = [] \n",
    "    for option in plot_values: \n",
    "        trace = go.Bar(x = list(plot_values[option].keys()), y = list(plot_values[option].values()),name = option)\n",
    "        data.append(trace)\n",
    "    return data    "
   ]
  },
  {
   "cell_type": "markdown",
   "metadata": {},
   "source": [
    "## Position Distribution\n",
    "\n",
    "Read the position and occupation of every participant of the poll. "
   ]
  },
  {
   "cell_type": "code",
   "execution_count": 149,
   "metadata": {},
   "outputs": [
    {
     "data": {
      "application/vnd.plotly.v1+json": {
       "data": [
        {
         "labels": [
          "Director",
          "Master's student",
          "Developer - Bioinformatician",
          "Master Student",
          "Professor",
          "Consultant",
          "Project Manager",
          "CEO",
          "Principal Investigator",
          "Phd Student",
          "CTO",
          "Scientist",
          "Research Scientist - Staff",
          "Lab Manager",
          "Post-Doc",
          "Head of Core Facility Proteomics",
          "Student",
          "Head proteomics research platform"
         ],
         "type": "pie",
         "uid": "7223466d-72bd-4e13-a07d-2cf0563c646e",
         "values": [
          6,
          1,
          9,
          1,
          4,
          2,
          7,
          2,
          25,
          40,
          1,
          1,
          41,
          1,
          36,
          1,
          1,
          1
         ]
        }
       ],
       "layout": {}
      },
      "text/html": [
       "<div id=\"fc663d36-31f8-425f-9956-4f230b758f37\" style=\"height: 525px; width: 100%;\" class=\"plotly-graph-div\"></div><script type=\"text/javascript\">require([\"plotly\"], function(Plotly) { window.PLOTLYENV=window.PLOTLYENV || {};window.PLOTLYENV.BASE_URL=\"https://plot.ly\";Plotly.newPlot(\"fc663d36-31f8-425f-9956-4f230b758f37\", [{\"uid\": \"f829ed4a-9ab0-4911-859d-b85774bbbc25\", \"labels\": [\"Director\", \"Master's student\", \"Developer - Bioinformatician\", \"Master Student\", \"Professor\", \"Consultant\", \"Project Manager\", \"CEO\", \"Principal Investigator\", \"Phd Student\", \"CTO\", \"Scientist\", \"Research Scientist - Staff\", \"Lab Manager\", \"Post-Doc\", \"Head of Core Facility Proteomics\", \"Student\", \"Head proteomics research platform\"], \"type\": \"pie\", \"values\": [6, 1, 9, 1, 4, 2, 7, 2, 25, 40, 1, 1, 41, 1, 36, 1, 1, 1]}], {}, {\"showLink\": true, \"linkText\": \"Export to plot.ly\"})});</script><script type=\"text/javascript\">window.addEventListener(\"resize\", function(){window._Plotly.Plots.resize(document.getElementById(\"fc663d36-31f8-425f-9956-4f230b758f37\"));});</script>"
      ],
      "text/vnd.plotly.v1+html": [
       "<div id=\"fc663d36-31f8-425f-9956-4f230b758f37\" style=\"height: 525px; width: 100%;\" class=\"plotly-graph-div\"></div><script type=\"text/javascript\">require([\"plotly\"], function(Plotly) { window.PLOTLYENV=window.PLOTLYENV || {};window.PLOTLYENV.BASE_URL=\"https://plot.ly\";Plotly.newPlot(\"fc663d36-31f8-425f-9956-4f230b758f37\", [{\"uid\": \"f829ed4a-9ab0-4911-859d-b85774bbbc25\", \"labels\": [\"Director\", \"Master's student\", \"Developer - Bioinformatician\", \"Master Student\", \"Professor\", \"Consultant\", \"Project Manager\", \"CEO\", \"Principal Investigator\", \"Phd Student\", \"CTO\", \"Scientist\", \"Research Scientist - Staff\", \"Lab Manager\", \"Post-Doc\", \"Head of Core Facility Proteomics\", \"Student\", \"Head proteomics research platform\"], \"type\": \"pie\", \"values\": [6, 1, 9, 1, 4, 2, 7, 2, 25, 40, 1, 1, 41, 1, 36, 1, 1, 1]}], {}, {\"showLink\": true, \"linkText\": \"Export to plot.ly\"})});</script><script type=\"text/javascript\">window.addEventListener(\"resize\", function(){window._Plotly.Plots.resize(document.getElementById(\"fc663d36-31f8-425f-9956-4f230b758f37\"));});</script>"
      ]
     },
     "metadata": {},
     "output_type": "display_data"
    }
   ],
   "source": [
    "positions = data_df.iloc[:,2]\n",
    "trace = get_pie_chart(positions)\n",
    "iplot([trace])"
   ]
  },
  {
   "cell_type": "markdown",
   "metadata": {},
   "source": [
    "## Affiliation distribtuion \n",
    "\n",
    "The number of participants in the poll by type of Institution. "
   ]
  },
  {
   "cell_type": "code",
   "execution_count": 150,
   "metadata": {},
   "outputs": [
    {
     "data": {
      "application/vnd.plotly.v1+json": {
       "data": [
        {
         "labels": [
          "Hospital, Research Hospital",
          "University",
          "Core Facility",
          "Research Institute",
          "Company, Start-up, Pharma"
         ],
         "type": "pie",
         "uid": "9207000f-76ba-48c1-899d-3e671c4e9633",
         "values": [
          10,
          86,
          16,
          26,
          20
         ]
        }
       ],
       "layout": {}
      },
      "text/html": [
       "<div id=\"f8b9f9e6-b528-471c-92df-12c4fe991f70\" style=\"height: 525px; width: 100%;\" class=\"plotly-graph-div\"></div><script type=\"text/javascript\">require([\"plotly\"], function(Plotly) { window.PLOTLYENV=window.PLOTLYENV || {};window.PLOTLYENV.BASE_URL=\"https://plot.ly\";Plotly.newPlot(\"f8b9f9e6-b528-471c-92df-12c4fe991f70\", [{\"uid\": \"044a572d-0242-439e-826f-46bd010ad258\", \"labels\": [\"Hospital, Research Hospital\", \"University\", \"Core Facility\", \"Research Institute\", \"Company, Start-up, Pharma\"], \"type\": \"pie\", \"values\": [10, 86, 16, 26, 20]}], {}, {\"showLink\": true, \"linkText\": \"Export to plot.ly\"})});</script><script type=\"text/javascript\">window.addEventListener(\"resize\", function(){window._Plotly.Plots.resize(document.getElementById(\"f8b9f9e6-b528-471c-92df-12c4fe991f70\"));});</script>"
      ],
      "text/vnd.plotly.v1+html": [
       "<div id=\"f8b9f9e6-b528-471c-92df-12c4fe991f70\" style=\"height: 525px; width: 100%;\" class=\"plotly-graph-div\"></div><script type=\"text/javascript\">require([\"plotly\"], function(Plotly) { window.PLOTLYENV=window.PLOTLYENV || {};window.PLOTLYENV.BASE_URL=\"https://plot.ly\";Plotly.newPlot(\"f8b9f9e6-b528-471c-92df-12c4fe991f70\", [{\"uid\": \"044a572d-0242-439e-826f-46bd010ad258\", \"labels\": [\"Hospital, Research Hospital\", \"University\", \"Core Facility\", \"Research Institute\", \"Company, Start-up, Pharma\"], \"type\": \"pie\", \"values\": [10, 86, 16, 26, 20]}], {}, {\"showLink\": true, \"linkText\": \"Export to plot.ly\"})});</script><script type=\"text/javascript\">window.addEventListener(\"resize\", function(){window._Plotly.Plots.resize(document.getElementById(\"f8b9f9e6-b528-471c-92df-12c4fe991f70\"));});</script>"
      ]
     },
     "metadata": {},
     "output_type": "display_data"
    }
   ],
   "source": [
    "affiliations = data_df.iloc[:,3]\n",
    "trace = get_pie_chart(affiliations)     \n",
    "iplot([trace])"
   ]
  },
  {
   "cell_type": "markdown",
   "metadata": {},
   "source": [
    "## Which of these software do you use for your Quant Analysis\n",
    "\n",
    "These plots will show the usage of Quantification software. "
   ]
  },
  {
   "cell_type": "code",
   "execution_count": 151,
   "metadata": {},
   "outputs": [
    {
     "data": {
      "application/vnd.plotly.v1+json": {
       "data": [
        {
         "name": "Phospho Quant analysis",
         "type": "bar",
         "uid": "a71eb296-220c-459c-aec9-954eac5a1b22",
         "x": [
          "OpenMS",
          "Other",
          "MaxQuant",
          "Patterlab (PMID:26658470)",
          "Skyline",
          "Philosopher (Alexey Lab)",
          "EncyclopeDIA (PMID: 30510204)",
          "TPP (StPeter, Libra, XPress)"
         ],
         "y": [
          5,
          8,
          49,
          1,
          11,
          4,
          1,
          2
         ]
        },
        {
         "name": "SILAC analysis",
         "type": "bar",
         "uid": "ae6afc3a-6046-424c-bbd6-96d17c76a3da",
         "x": [
          "FlashLFQ (PMID:29083185)",
          "Census",
          "Other",
          "MaxQuant",
          "OpenMS",
          "Skyline",
          "MSnBase (PMID:22113085)",
          "TPP (StPeter, Libra, XPress)"
         ],
         "y": [
          2,
          1,
          4,
          58,
          7,
          11,
          1,
          1
         ]
        },
        {
         "name": "Label Free Analysis MS1",
         "type": "bar",
         "uid": "ef650db0-208c-4189-9501-4c3575fd94dc",
         "x": [
          "Other",
          "MaxQuant",
          "Patterlab (PMID:26658470)",
          "Skyline",
          "Philosopher (Alexey Lab)",
          "moFF",
          "OpenMS",
          "FlashLFQ (PMID:29083185)",
          "MSnBase (PMID:22113085)",
          "diffacto",
          "Proline (http://www.profiproteomics.fr)",
          "TPP (StPeter, Libra, XPress)"
         ],
         "y": [
          12,
          101,
          4,
          33,
          10,
          4,
          16,
          16,
          1,
          1,
          1,
          1
         ]
        },
        {
         "name": "TMT analysis",
         "type": "bar",
         "uid": "082d1974-60f3-41df-bc01-0072f2b6da96",
         "x": [
          "OpenMS",
          "Other",
          "MSnBase (PMID:22113085)",
          "MaxQuant",
          "Patterlab (PMID:26658470)",
          "Skyline",
          "Philosopher (Alexey Lab)",
          "EncyclopeDIA (PMID: 30510204)",
          "TPP (StPeter, Libra, XPress)"
         ],
         "y": [
          9,
          11,
          2,
          51,
          2,
          4,
          7,
          1,
          2
         ]
        },
        {
         "name": "SWATH / DIA Quant",
         "type": "bar",
         "uid": "94df537c-fa50-4211-b617-07f5ad3a708b",
         "x": [
          "OpenMS",
          "Other",
          "MaxQuant",
          "Skyline",
          "diffacto",
          "Philosopher (Alexey Lab)",
          "EncyclopeDIA (PMID: 30510204)",
          "TPP (StPeter, Libra, XPress)"
         ],
         "y": [
          12,
          7,
          6,
          34,
          1,
          1,
          3,
          2
         ]
        },
        {
         "name": "Other Quant analysis",
         "type": "bar",
         "uid": "edaaad1f-12e6-42ff-9116-06de35b8bdba",
         "x": [
          "FlashLFQ (PMID:29083185)",
          "OpenMS",
          "Other",
          "HIQuant (PMID:30282776)",
          "MaxQuant",
          "MSnBase (PMID:22113085)",
          "Patterlab (PMID:26658470)",
          "Skyline",
          "Philosopher (Alexey Lab)",
          "TPP (StPeter, Libra, XPress)"
         ],
         "y": [
          2,
          11,
          9,
          1,
          16,
          2,
          2,
          36,
          5,
          2
         ]
        },
        {
         "name": "Label Free Spectral Count Analysis",
         "type": "bar",
         "uid": "8285696c-af02-40a6-8633-9cfcc5c3c7a0",
         "x": [
          "Other",
          "MaxQuant",
          "OpenMS",
          "Skyline",
          "Philosopher (Alexey Lab)",
          "moFF",
          "Patterlab (PMID:26658470)",
          "FlashLFQ (PMID:29083185)",
          "MSnBase (PMID:22113085)",
          "EncyclopeDIA (PMID: 30510204)",
          "TPP (StPeter, Libra, XPress)"
         ],
         "y": [
          13,
          33,
          4,
          6,
          8,
          1,
          4,
          2,
          1,
          1,
          1
         ]
        }
       ],
       "layout": {
        "barmode": "group"
       }
      },
      "text/html": [
       "<div id=\"77fbc8fb-b2ba-4cc4-8674-c748c0b1e4e7\" style=\"height: 525px; width: 100%;\" class=\"plotly-graph-div\"></div><script type=\"text/javascript\">require([\"plotly\"], function(Plotly) { window.PLOTLYENV=window.PLOTLYENV || {};window.PLOTLYENV.BASE_URL=\"https://plot.ly\";Plotly.newPlot(\"77fbc8fb-b2ba-4cc4-8674-c748c0b1e4e7\", [{\"uid\": \"a71eb296-220c-459c-aec9-954eac5a1b22\", \"y\": [5, 8, 49, 1, 11, 4, 1, 2], \"name\": \"Phospho Quant analysis\", \"x\": [\"OpenMS\", \"Other\", \"MaxQuant\", \"Patterlab (PMID:26658470)\", \"Skyline\", \"Philosopher (Alexey Lab)\", \"EncyclopeDIA (PMID: 30510204)\", \"TPP (StPeter, Libra, XPress)\"], \"type\": \"bar\"}, {\"uid\": \"ae6afc3a-6046-424c-bbd6-96d17c76a3da\", \"y\": [2, 1, 4, 58, 7, 11, 1, 1], \"name\": \"SILAC analysis\", \"x\": [\"FlashLFQ (PMID:29083185)\", \"Census\", \"Other\", \"MaxQuant\", \"OpenMS\", \"Skyline\", \"MSnBase (PMID:22113085)\", \"TPP (StPeter, Libra, XPress)\"], \"type\": \"bar\"}, {\"uid\": \"ef650db0-208c-4189-9501-4c3575fd94dc\", \"y\": [12, 101, 4, 33, 10, 4, 16, 16, 1, 1, 1, 1], \"name\": \"Label Free Analysis MS1\", \"x\": [\"Other\", \"MaxQuant\", \"Patterlab (PMID:26658470)\", \"Skyline\", \"Philosopher (Alexey Lab)\", \"moFF\", \"OpenMS\", \"FlashLFQ (PMID:29083185)\", \"MSnBase (PMID:22113085)\", \"diffacto\", \"Proline (http://www.profiproteomics.fr)\", \"TPP (StPeter, Libra, XPress)\"], \"type\": \"bar\"}, {\"uid\": \"082d1974-60f3-41df-bc01-0072f2b6da96\", \"y\": [9, 11, 2, 51, 2, 4, 7, 1, 2], \"name\": \"TMT analysis\", \"x\": [\"OpenMS\", \"Other\", \"MSnBase (PMID:22113085)\", \"MaxQuant\", \"Patterlab (PMID:26658470)\", \"Skyline\", \"Philosopher (Alexey Lab)\", \"EncyclopeDIA (PMID: 30510204)\", \"TPP (StPeter, Libra, XPress)\"], \"type\": \"bar\"}, {\"uid\": \"94df537c-fa50-4211-b617-07f5ad3a708b\", \"y\": [12, 7, 6, 34, 1, 1, 3, 2], \"name\": \"SWATH / DIA Quant\", \"x\": [\"OpenMS\", \"Other\", \"MaxQuant\", \"Skyline\", \"diffacto\", \"Philosopher (Alexey Lab)\", \"EncyclopeDIA (PMID: 30510204)\", \"TPP (StPeter, Libra, XPress)\"], \"type\": \"bar\"}, {\"uid\": \"edaaad1f-12e6-42ff-9116-06de35b8bdba\", \"y\": [2, 11, 9, 1, 16, 2, 2, 36, 5, 2], \"name\": \"Other Quant analysis\", \"x\": [\"FlashLFQ (PMID:29083185)\", \"OpenMS\", \"Other\", \"HIQuant (PMID:30282776)\", \"MaxQuant\", \"MSnBase (PMID:22113085)\", \"Patterlab (PMID:26658470)\", \"Skyline\", \"Philosopher (Alexey Lab)\", \"TPP (StPeter, Libra, XPress)\"], \"type\": \"bar\"}, {\"uid\": \"8285696c-af02-40a6-8633-9cfcc5c3c7a0\", \"y\": [13, 33, 4, 6, 8, 1, 4, 2, 1, 1, 1], \"name\": \"Label Free Spectral Count Analysis\", \"x\": [\"Other\", \"MaxQuant\", \"OpenMS\", \"Skyline\", \"Philosopher (Alexey Lab)\", \"moFF\", \"Patterlab (PMID:26658470)\", \"FlashLFQ (PMID:29083185)\", \"MSnBase (PMID:22113085)\", \"EncyclopeDIA (PMID: 30510204)\", \"TPP (StPeter, Libra, XPress)\"], \"type\": \"bar\"}], {\"barmode\": \"group\"}, {\"showLink\": true, \"linkText\": \"Export to plot.ly\"})});</script><script type=\"text/javascript\">window.addEventListener(\"resize\", function(){window._Plotly.Plots.resize(document.getElementById(\"77fbc8fb-b2ba-4cc4-8674-c748c0b1e4e7\"));});</script>"
      ],
      "text/vnd.plotly.v1+html": [
       "<div id=\"77fbc8fb-b2ba-4cc4-8674-c748c0b1e4e7\" style=\"height: 525px; width: 100%;\" class=\"plotly-graph-div\"></div><script type=\"text/javascript\">require([\"plotly\"], function(Plotly) { window.PLOTLYENV=window.PLOTLYENV || {};window.PLOTLYENV.BASE_URL=\"https://plot.ly\";Plotly.newPlot(\"77fbc8fb-b2ba-4cc4-8674-c748c0b1e4e7\", [{\"uid\": \"a71eb296-220c-459c-aec9-954eac5a1b22\", \"y\": [5, 8, 49, 1, 11, 4, 1, 2], \"name\": \"Phospho Quant analysis\", \"x\": [\"OpenMS\", \"Other\", \"MaxQuant\", \"Patterlab (PMID:26658470)\", \"Skyline\", \"Philosopher (Alexey Lab)\", \"EncyclopeDIA (PMID: 30510204)\", \"TPP (StPeter, Libra, XPress)\"], \"type\": \"bar\"}, {\"uid\": \"ae6afc3a-6046-424c-bbd6-96d17c76a3da\", \"y\": [2, 1, 4, 58, 7, 11, 1, 1], \"name\": \"SILAC analysis\", \"x\": [\"FlashLFQ (PMID:29083185)\", \"Census\", \"Other\", \"MaxQuant\", \"OpenMS\", \"Skyline\", \"MSnBase (PMID:22113085)\", \"TPP (StPeter, Libra, XPress)\"], \"type\": \"bar\"}, {\"uid\": \"ef650db0-208c-4189-9501-4c3575fd94dc\", \"y\": [12, 101, 4, 33, 10, 4, 16, 16, 1, 1, 1, 1], \"name\": \"Label Free Analysis MS1\", \"x\": [\"Other\", \"MaxQuant\", \"Patterlab (PMID:26658470)\", \"Skyline\", \"Philosopher (Alexey Lab)\", \"moFF\", \"OpenMS\", \"FlashLFQ (PMID:29083185)\", \"MSnBase (PMID:22113085)\", \"diffacto\", \"Proline (http://www.profiproteomics.fr)\", \"TPP (StPeter, Libra, XPress)\"], \"type\": \"bar\"}, {\"uid\": \"082d1974-60f3-41df-bc01-0072f2b6da96\", \"y\": [9, 11, 2, 51, 2, 4, 7, 1, 2], \"name\": \"TMT analysis\", \"x\": [\"OpenMS\", \"Other\", \"MSnBase (PMID:22113085)\", \"MaxQuant\", \"Patterlab (PMID:26658470)\", \"Skyline\", \"Philosopher (Alexey Lab)\", \"EncyclopeDIA (PMID: 30510204)\", \"TPP (StPeter, Libra, XPress)\"], \"type\": \"bar\"}, {\"uid\": \"94df537c-fa50-4211-b617-07f5ad3a708b\", \"y\": [12, 7, 6, 34, 1, 1, 3, 2], \"name\": \"SWATH / DIA Quant\", \"x\": [\"OpenMS\", \"Other\", \"MaxQuant\", \"Skyline\", \"diffacto\", \"Philosopher (Alexey Lab)\", \"EncyclopeDIA (PMID: 30510204)\", \"TPP (StPeter, Libra, XPress)\"], \"type\": \"bar\"}, {\"uid\": \"edaaad1f-12e6-42ff-9116-06de35b8bdba\", \"y\": [2, 11, 9, 1, 16, 2, 2, 36, 5, 2], \"name\": \"Other Quant analysis\", \"x\": [\"FlashLFQ (PMID:29083185)\", \"OpenMS\", \"Other\", \"HIQuant (PMID:30282776)\", \"MaxQuant\", \"MSnBase (PMID:22113085)\", \"Patterlab (PMID:26658470)\", \"Skyline\", \"Philosopher (Alexey Lab)\", \"TPP (StPeter, Libra, XPress)\"], \"type\": \"bar\"}, {\"uid\": \"8285696c-af02-40a6-8633-9cfcc5c3c7a0\", \"y\": [13, 33, 4, 6, 8, 1, 4, 2, 1, 1, 1], \"name\": \"Label Free Spectral Count Analysis\", \"x\": [\"Other\", \"MaxQuant\", \"OpenMS\", \"Skyline\", \"Philosopher (Alexey Lab)\", \"moFF\", \"Patterlab (PMID:26658470)\", \"FlashLFQ (PMID:29083185)\", \"MSnBase (PMID:22113085)\", \"EncyclopeDIA (PMID: 30510204)\", \"TPP (StPeter, Libra, XPress)\"], \"type\": \"bar\"}], {\"barmode\": \"group\"}, {\"showLink\": true, \"linkText\": \"Export to plot.ly\"})});</script><script type=\"text/javascript\">window.addEventListener(\"resize\", function(){window._Plotly.Plots.resize(document.getElementById(\"77fbc8fb-b2ba-4cc4-8674-c748c0b1e4e7\"));});</script>"
      ]
     },
     "metadata": {},
     "output_type": "display_data"
    }
   ],
   "source": [
    "question = \"Which of these software do you use for your Quant Analysis\"\n",
    "data = get_multioption_bar_data(data_df, question)\n",
    "layout = go.Layout(barmode='group')\n",
    "fig = go.Figure(data=data, layout=layout)\n",
    "iplot(fig, filename='grouped-bar')\n"
   ]
  },
  {
   "cell_type": "markdown",
   "metadata": {},
   "source": [
    "## Which commercial software do you use for your Quant Analysis\n",
    "\n",
    "These plots will show the usage of Quantification software (Commercial software). "
   ]
  },
  {
   "cell_type": "code",
   "execution_count": 152,
   "metadata": {},
   "outputs": [
    {
     "data": {
      "application/vnd.plotly.v1+json": {
       "data": [
        {
         "name": "Phospho Quant analysis",
         "type": "bar",
         "uid": "aee2f7d5-c708-49ec-9fbc-de916dc2f714",
         "x": [
          "Scaffold",
          "Other",
          "Spectronaut",
          "Proteome Discover",
          "Peaks",
          "Mascot ",
          "Peak View ",
          "Progenesis"
         ],
         "y": [
          6,
          1,
          3,
          26,
          4,
          12,
          1,
          2
         ]
        },
        {
         "name": "SILAC analysis",
         "type": "bar",
         "uid": "96b40c88-3811-4f89-aee1-be6bd36bfe60",
         "x": [
          "Scaffold",
          "Peaks",
          "Proteome Discover",
          "Mascot ",
          "Progenesis"
         ],
         "y": [
          6,
          3,
          27,
          12,
          2
         ]
        },
        {
         "name": "Label Free Analysis MS1",
         "type": "bar",
         "uid": "7181d84f-4b25-4fd9-b267-7ade4a2daab6",
         "x": [
          "Scaffold",
          "Other",
          "Peaks",
          "Proteome Discover",
          "Spectronaut",
          "Mascot ",
          "Peak View ",
          "Progenesis"
         ],
         "y": [
          8,
          3,
          12,
          47,
          3,
          24,
          1,
          18
         ]
        },
        {
         "name": "TMT analysis",
         "type": "bar",
         "uid": "83659344-2ec0-49d4-b833-34156a6a78b1",
         "x": [
          "Scaffold",
          "Other",
          "Peaks",
          "Proteome Discover",
          "Mascot "
         ],
         "y": [
          4,
          1,
          5,
          47,
          14
         ]
        },
        {
         "name": "SWATH / DIA Quant",
         "type": "bar",
         "uid": "ff6e261c-70fc-4b6f-97be-4c2bc2d1561f",
         "x": [
          "Scaffold",
          "Spectronaut",
          "Proteome Discover",
          "Peaks",
          "Mascot ",
          "Peak View "
         ],
         "y": [
          3,
          23,
          4,
          2,
          3,
          2
         ]
        },
        {
         "name": "Other Quant analysis",
         "type": "bar",
         "uid": "72eaca57-3f76-4f65-b5c6-844731d1396d",
         "x": [
          "Scaffold",
          "Other",
          "Spectronaut",
          "Proteome Discover",
          "Peaks",
          "Mascot ",
          "Progenesis"
         ],
         "y": [
          5,
          1,
          1,
          14,
          3,
          9,
          2
         ]
        },
        {
         "name": "Label Free Spectral Count Analysis",
         "type": "bar",
         "uid": "fd451e5d-245b-46a5-b3f2-0735c998d5a9",
         "x": [
          "Scaffold",
          "Other",
          "Peaks",
          "Proteome Discover",
          "Mascot "
         ],
         "y": [
          16,
          3,
          6,
          23,
          16
         ]
        }
       ],
       "layout": {
        "barmode": "group"
       }
      },
      "text/html": [
       "<div id=\"1fd80350-3450-4783-bb1c-56a9bf99afa2\" style=\"height: 525px; width: 100%;\" class=\"plotly-graph-div\"></div><script type=\"text/javascript\">require([\"plotly\"], function(Plotly) { window.PLOTLYENV=window.PLOTLYENV || {};window.PLOTLYENV.BASE_URL=\"https://plot.ly\";Plotly.newPlot(\"1fd80350-3450-4783-bb1c-56a9bf99afa2\", [{\"uid\": \"aee2f7d5-c708-49ec-9fbc-de916dc2f714\", \"y\": [6, 1, 3, 26, 4, 12, 1, 2], \"name\": \"Phospho Quant analysis\", \"x\": [\"Scaffold\", \"Other\", \"Spectronaut\", \"Proteome Discover\", \"Peaks\", \"Mascot \", \"Peak View \", \"Progenesis\"], \"type\": \"bar\"}, {\"uid\": \"96b40c88-3811-4f89-aee1-be6bd36bfe60\", \"y\": [6, 3, 27, 12, 2], \"name\": \"SILAC analysis\", \"x\": [\"Scaffold\", \"Peaks\", \"Proteome Discover\", \"Mascot \", \"Progenesis\"], \"type\": \"bar\"}, {\"uid\": \"7181d84f-4b25-4fd9-b267-7ade4a2daab6\", \"y\": [8, 3, 12, 47, 3, 24, 1, 18], \"name\": \"Label Free Analysis MS1\", \"x\": [\"Scaffold\", \"Other\", \"Peaks\", \"Proteome Discover\", \"Spectronaut\", \"Mascot \", \"Peak View \", \"Progenesis\"], \"type\": \"bar\"}, {\"uid\": \"83659344-2ec0-49d4-b833-34156a6a78b1\", \"y\": [4, 1, 5, 47, 14], \"name\": \"TMT analysis\", \"x\": [\"Scaffold\", \"Other\", \"Peaks\", \"Proteome Discover\", \"Mascot \"], \"type\": \"bar\"}, {\"uid\": \"ff6e261c-70fc-4b6f-97be-4c2bc2d1561f\", \"y\": [3, 23, 4, 2, 3, 2], \"name\": \"SWATH / DIA Quant\", \"x\": [\"Scaffold\", \"Spectronaut\", \"Proteome Discover\", \"Peaks\", \"Mascot \", \"Peak View \"], \"type\": \"bar\"}, {\"uid\": \"72eaca57-3f76-4f65-b5c6-844731d1396d\", \"y\": [5, 1, 1, 14, 3, 9, 2], \"name\": \"Other Quant analysis\", \"x\": [\"Scaffold\", \"Other\", \"Spectronaut\", \"Proteome Discover\", \"Peaks\", \"Mascot \", \"Progenesis\"], \"type\": \"bar\"}, {\"uid\": \"fd451e5d-245b-46a5-b3f2-0735c998d5a9\", \"y\": [16, 3, 6, 23, 16], \"name\": \"Label Free Spectral Count Analysis\", \"x\": [\"Scaffold\", \"Other\", \"Peaks\", \"Proteome Discover\", \"Mascot \"], \"type\": \"bar\"}], {\"barmode\": \"group\"}, {\"showLink\": true, \"linkText\": \"Export to plot.ly\"})});</script><script type=\"text/javascript\">window.addEventListener(\"resize\", function(){window._Plotly.Plots.resize(document.getElementById(\"1fd80350-3450-4783-bb1c-56a9bf99afa2\"));});</script>"
      ],
      "text/vnd.plotly.v1+html": [
       "<div id=\"1fd80350-3450-4783-bb1c-56a9bf99afa2\" style=\"height: 525px; width: 100%;\" class=\"plotly-graph-div\"></div><script type=\"text/javascript\">require([\"plotly\"], function(Plotly) { window.PLOTLYENV=window.PLOTLYENV || {};window.PLOTLYENV.BASE_URL=\"https://plot.ly\";Plotly.newPlot(\"1fd80350-3450-4783-bb1c-56a9bf99afa2\", [{\"uid\": \"aee2f7d5-c708-49ec-9fbc-de916dc2f714\", \"y\": [6, 1, 3, 26, 4, 12, 1, 2], \"name\": \"Phospho Quant analysis\", \"x\": [\"Scaffold\", \"Other\", \"Spectronaut\", \"Proteome Discover\", \"Peaks\", \"Mascot \", \"Peak View \", \"Progenesis\"], \"type\": \"bar\"}, {\"uid\": \"96b40c88-3811-4f89-aee1-be6bd36bfe60\", \"y\": [6, 3, 27, 12, 2], \"name\": \"SILAC analysis\", \"x\": [\"Scaffold\", \"Peaks\", \"Proteome Discover\", \"Mascot \", \"Progenesis\"], \"type\": \"bar\"}, {\"uid\": \"7181d84f-4b25-4fd9-b267-7ade4a2daab6\", \"y\": [8, 3, 12, 47, 3, 24, 1, 18], \"name\": \"Label Free Analysis MS1\", \"x\": [\"Scaffold\", \"Other\", \"Peaks\", \"Proteome Discover\", \"Spectronaut\", \"Mascot \", \"Peak View \", \"Progenesis\"], \"type\": \"bar\"}, {\"uid\": \"83659344-2ec0-49d4-b833-34156a6a78b1\", \"y\": [4, 1, 5, 47, 14], \"name\": \"TMT analysis\", \"x\": [\"Scaffold\", \"Other\", \"Peaks\", \"Proteome Discover\", \"Mascot \"], \"type\": \"bar\"}, {\"uid\": \"ff6e261c-70fc-4b6f-97be-4c2bc2d1561f\", \"y\": [3, 23, 4, 2, 3, 2], \"name\": \"SWATH / DIA Quant\", \"x\": [\"Scaffold\", \"Spectronaut\", \"Proteome Discover\", \"Peaks\", \"Mascot \", \"Peak View \"], \"type\": \"bar\"}, {\"uid\": \"72eaca57-3f76-4f65-b5c6-844731d1396d\", \"y\": [5, 1, 1, 14, 3, 9, 2], \"name\": \"Other Quant analysis\", \"x\": [\"Scaffold\", \"Other\", \"Spectronaut\", \"Proteome Discover\", \"Peaks\", \"Mascot \", \"Progenesis\"], \"type\": \"bar\"}, {\"uid\": \"fd451e5d-245b-46a5-b3f2-0735c998d5a9\", \"y\": [16, 3, 6, 23, 16], \"name\": \"Label Free Spectral Count Analysis\", \"x\": [\"Scaffold\", \"Other\", \"Peaks\", \"Proteome Discover\", \"Mascot \"], \"type\": \"bar\"}], {\"barmode\": \"group\"}, {\"showLink\": true, \"linkText\": \"Export to plot.ly\"})});</script><script type=\"text/javascript\">window.addEventListener(\"resize\", function(){window._Plotly.Plots.resize(document.getElementById(\"1fd80350-3450-4783-bb1c-56a9bf99afa2\"));});</script>"
      ]
     },
     "metadata": {},
     "output_type": "display_data"
    }
   ],
   "source": [
    "question = \"Which commercial software do you use for your Quant Analysis\"\n",
    "data = get_multioption_bar_data(data_df, question)\n",
    "layout = go.Layout(barmode='group')\n",
    "fig = go.Figure(data=data, layout=layout)\n",
    "iplot(fig, filename='grouped-bar')"
   ]
  },
  {
   "cell_type": "markdown",
   "metadata": {},
   "source": [
    "## Relevant software features during the selection process \n",
    "\n",
    "The purpose of this question is to know, whta kind of features the users of Computational proteomics software consider more relevant."
   ]
  },
  {
   "cell_type": "code",
   "execution_count": 153,
   "metadata": {},
   "outputs": [
    {
     "data": {
      "application/vnd.plotly.v1+json": {
       "data": [
        {
         "name": "Quality of the Results",
         "type": "bar",
         "uid": "c4104bf1-3140-484a-a25a-a230bd5ff305",
         "x": [
          "Other",
          "MaxQuant",
          "Patterlab (PMID:26658470)",
          "MSnBase (PMID:22113085)",
          "Philosopher (Alexey Lab)",
          "moFF",
          "OpenMS",
          "FlashLFQ (PMID:29083185)",
          "Skyline",
          "EncyclopeDIA (PMID: 30510204)",
          "Proline (http://www.profiproteomics.fr)",
          "diffacto",
          "TPP (StPeter, Libra, XPress)"
         ],
         "y": [
          1,
          34,
          3,
          1,
          2,
          1,
          5,
          10,
          18,
          2,
          1,
          1,
          1
         ]
        },
        {
         "name": "Free",
         "type": "bar",
         "uid": "99d5fb09-a19f-402b-b000-3a06742e7af4",
         "x": [
          "Other",
          "MaxQuant",
          "Patterlab (PMID:26658470)",
          "Skyline",
          "Philosopher (Alexey Lab)",
          "moFF",
          "OpenMS",
          "FlashLFQ (PMID:29083185)",
          "MSnBase (PMID:22113085)",
          "diffacto",
          "Proline (http://www.profiproteomics.fr)",
          "EncyclopeDIA (PMID: 30510204)",
          "TPP (StPeter, Libra, XPress)"
         ],
         "y": [
          1,
          37,
          5,
          19,
          4,
          1,
          9,
          10,
          2,
          1,
          1,
          3,
          1
         ]
        },
        {
         "name": "Easy to use",
         "type": "bar",
         "uid": "87dd8930-5471-4b23-bead-286a10675bf1",
         "x": [
          "Other",
          "MaxQuant",
          "Patterlab (PMID:26658470)",
          "Skyline",
          "Philosopher (Alexey Lab)",
          "moFF",
          "OpenMS",
          "FlashLFQ (PMID:29083185)",
          "MSnBase (PMID:22113085)",
          "EncyclopeDIA (PMID: 30510204)",
          "Proline (http://www.profiproteomics.fr)",
          "TPP (StPeter, Libra, XPress)"
         ],
         "y": [
          3,
          29,
          4,
          16,
          3,
          1,
          4,
          11,
          1,
          2,
          1,
          1
         ]
        },
        {
         "name": "Easy to run in HPC / Cloud enviroments",
         "type": "bar",
         "uid": "655ea0b2-cc12-4ae5-9160-99edd38be63c",
         "x": [
          "OpenMS",
          "FlashLFQ (PMID:29083185)",
          "MaxQuant",
          "Patterlab (PMID:26658470)",
          "Skyline",
          "Philosopher (Alexey Lab)",
          "moFF",
          "MSnBase (PMID:22113085)",
          "TPP (StPeter, Libra, XPress)"
         ],
         "y": [
          4,
          1,
          3,
          1,
          1,
          2,
          1,
          1,
          1
         ]
        },
        {
         "name": "Open Source",
         "type": "bar",
         "uid": "ff00e693-d102-4379-9264-2287c3ad1b3e",
         "x": [
          "MaxQuant",
          "Patterlab (PMID:26658470)",
          "Skyline",
          "Philosopher (Alexey Lab)",
          "moFF",
          "OpenMS",
          "FlashLFQ (PMID:29083185)",
          "MSnBase (PMID:22113085)",
          "diffacto",
          "EncyclopeDIA (PMID: 30510204)",
          "TPP (StPeter, Libra, XPress)"
         ],
         "y": [
          11,
          2,
          10,
          2,
          2,
          12,
          7,
          2,
          1,
          2,
          1
         ]
        },
        {
         "name": "Maturity (No much errors)",
         "type": "bar",
         "uid": "a0403335-ecd5-4759-8f0f-e008e19331a3",
         "x": [
          "OpenMS",
          "FlashLFQ (PMID:29083185)",
          "MSnBase (PMID:22113085)",
          "MaxQuant",
          "Patterlab (PMID:26658470)",
          "Skyline",
          "EncyclopeDIA (PMID: 30510204)",
          "Philosopher (Alexey Lab)",
          "TPP (StPeter, Libra, XPress)"
         ],
         "y": [
          1,
          2,
          1,
          18,
          1,
          11,
          1,
          2,
          1
         ]
        },
        {
         "name": "Desktop Application",
         "type": "bar",
         "uid": "a8c36485-e390-483c-b3a0-8bb25c0010c6",
         "x": [
          "OpenMS",
          "FlashLFQ (PMID:29083185)",
          "MaxQuant",
          "MSnBase (PMID:22113085)",
          "Patterlab (PMID:26658470)",
          "Skyline",
          "EncyclopeDIA (PMID: 30510204)",
          "moFF",
          "Other"
         ],
         "y": [
          3,
          10,
          21,
          2,
          2,
          15,
          2,
          1,
          2
         ]
        },
        {
         "name": "Flexibility to develop pipelines",
         "type": "bar",
         "uid": "df089c56-af55-4ca6-b746-795d701119c2",
         "x": [
          "OpenMS",
          "Patterlab (PMID:26658470)",
          "FlashLFQ (PMID:29083185)",
          "TPP (StPeter, Libra, XPress)",
          "MaxQuant",
          "Skyline",
          "MSnBase (PMID:22113085)",
          "Philosopher (Alexey Lab)",
          "moFF",
          "Other"
         ],
         "y": [
          8,
          2,
          4,
          1,
          1,
          4,
          2,
          3,
          2,
          1
         ]
        },
        {
         "name": "Documentation and Support",
         "type": "bar",
         "uid": "fedea511-2deb-4167-9635-383a69b4234f",
         "x": [
          "Other",
          "MaxQuant",
          "OpenMS",
          "Skyline",
          "Philosopher (Alexey Lab)",
          "moFF",
          "Patterlab (PMID:26658470)",
          "FlashLFQ (PMID:29083185)",
          "MSnBase (PMID:22113085)",
          "EncyclopeDIA (PMID: 30510204)",
          "TPP (StPeter, Libra, XPress)"
         ],
         "y": [
          2,
          11,
          6,
          18,
          1,
          1,
          2,
          12,
          2,
          1,
          1
         ]
        },
        {
         "name": "Internal benchmark with other tools suggest better/similar results",
         "type": "bar",
         "uid": "65c3e241-dbde-4a2c-91e9-9df82d77bc83",
         "x": [
          "Proline (http://www.profiproteomics.fr)",
          "Patterlab (PMID:26658470)",
          "FlashLFQ (PMID:29083185)",
          "MaxQuant",
          "OpenMS",
          "Skyline",
          "diffacto",
          "moFF",
          "Philosopher (Alexey Lab)",
          "TPP (StPeter, Libra, XPress)"
         ],
         "y": [
          1,
          2,
          5,
          13,
          1,
          3,
          1,
          1,
          1,
          1
         ]
        },
        {
         "name": "Compatibility with other softwares",
         "type": "bar",
         "uid": "4d2bf52a-e611-4aae-b45b-7214a5c3a1a9",
         "x": [
          "OpenMS",
          "FlashLFQ (PMID:29083185)",
          "MaxQuant",
          "MSnBase (PMID:22113085)",
          "Patterlab (PMID:26658470)",
          "Skyline",
          "EncyclopeDIA (PMID: 30510204)",
          "moFF",
          "Philosopher (Alexey Lab)",
          "TPP (StPeter, Libra, XPress)"
         ],
         "y": [
          5,
          4,
          9,
          1,
          1,
          9,
          1,
          1,
          2,
          1
         ]
        },
        {
         "name": "Support for multiple Quant methods",
         "type": "bar",
         "uid": "f50e3fa8-cef7-4937-a092-80952764b3c4",
         "x": [
          "OpenMS",
          "FlashLFQ (PMID:29083185)",
          "MSnBase (PMID:22113085)",
          "MaxQuant",
          "Other",
          "Patterlab (PMID:26658470)",
          "Skyline",
          "EncyclopeDIA (PMID: 30510204)",
          "Philosopher (Alexey Lab)",
          "TPP (StPeter, Libra, XPress)"
         ],
         "y": [
          5,
          3,
          1,
          28,
          1,
          1,
          12,
          1,
          2,
          1
         ]
        }
       ],
       "layout": {
        "barmode": "group",
        "legend": {
         "font": {
          "color": "#000",
          "family": "sans-serif",
          "size": 10
         },
         "x": 1,
         "y": 1
        }
       }
      },
      "text/html": [
       "<div id=\"9d8ee97d-5572-43b1-abbe-0122c7d41291\" style=\"height: 525px; width: 100%;\" class=\"plotly-graph-div\"></div><script type=\"text/javascript\">require([\"plotly\"], function(Plotly) { window.PLOTLYENV=window.PLOTLYENV || {};window.PLOTLYENV.BASE_URL=\"https://plot.ly\";Plotly.newPlot(\"9d8ee97d-5572-43b1-abbe-0122c7d41291\", [{\"uid\": \"c4104bf1-3140-484a-a25a-a230bd5ff305\", \"y\": [1, 34, 3, 1, 2, 1, 5, 10, 18, 2, 1, 1, 1], \"name\": \"Quality of the Results\", \"x\": [\"Other\", \"MaxQuant\", \"Patterlab (PMID:26658470)\", \"MSnBase (PMID:22113085)\", \"Philosopher (Alexey Lab)\", \"moFF\", \"OpenMS\", \"FlashLFQ (PMID:29083185)\", \"Skyline\", \"EncyclopeDIA (PMID: 30510204)\", \"Proline (http://www.profiproteomics.fr)\", \"diffacto\", \"TPP (StPeter, Libra, XPress)\"], \"type\": \"bar\"}, {\"uid\": \"99d5fb09-a19f-402b-b000-3a06742e7af4\", \"y\": [1, 37, 5, 19, 4, 1, 9, 10, 2, 1, 1, 3, 1], \"name\": \"Free\", \"x\": [\"Other\", \"MaxQuant\", \"Patterlab (PMID:26658470)\", \"Skyline\", \"Philosopher (Alexey Lab)\", \"moFF\", \"OpenMS\", \"FlashLFQ (PMID:29083185)\", \"MSnBase (PMID:22113085)\", \"diffacto\", \"Proline (http://www.profiproteomics.fr)\", \"EncyclopeDIA (PMID: 30510204)\", \"TPP (StPeter, Libra, XPress)\"], \"type\": \"bar\"}, {\"uid\": \"87dd8930-5471-4b23-bead-286a10675bf1\", \"y\": [3, 29, 4, 16, 3, 1, 4, 11, 1, 2, 1, 1], \"name\": \"Easy to use\", \"x\": [\"Other\", \"MaxQuant\", \"Patterlab (PMID:26658470)\", \"Skyline\", \"Philosopher (Alexey Lab)\", \"moFF\", \"OpenMS\", \"FlashLFQ (PMID:29083185)\", \"MSnBase (PMID:22113085)\", \"EncyclopeDIA (PMID: 30510204)\", \"Proline (http://www.profiproteomics.fr)\", \"TPP (StPeter, Libra, XPress)\"], \"type\": \"bar\"}, {\"uid\": \"655ea0b2-cc12-4ae5-9160-99edd38be63c\", \"y\": [4, 1, 3, 1, 1, 2, 1, 1, 1], \"name\": \"Easy to run in HPC / Cloud enviroments\", \"x\": [\"OpenMS\", \"FlashLFQ (PMID:29083185)\", \"MaxQuant\", \"Patterlab (PMID:26658470)\", \"Skyline\", \"Philosopher (Alexey Lab)\", \"moFF\", \"MSnBase (PMID:22113085)\", \"TPP (StPeter, Libra, XPress)\"], \"type\": \"bar\"}, {\"uid\": \"ff00e693-d102-4379-9264-2287c3ad1b3e\", \"y\": [11, 2, 10, 2, 2, 12, 7, 2, 1, 2, 1], \"name\": \"Open Source\", \"x\": [\"MaxQuant\", \"Patterlab (PMID:26658470)\", \"Skyline\", \"Philosopher (Alexey Lab)\", \"moFF\", \"OpenMS\", \"FlashLFQ (PMID:29083185)\", \"MSnBase (PMID:22113085)\", \"diffacto\", \"EncyclopeDIA (PMID: 30510204)\", \"TPP (StPeter, Libra, XPress)\"], \"type\": \"bar\"}, {\"uid\": \"a0403335-ecd5-4759-8f0f-e008e19331a3\", \"y\": [1, 2, 1, 18, 1, 11, 1, 2, 1], \"name\": \"Maturity (No much errors)\", \"x\": [\"OpenMS\", \"FlashLFQ (PMID:29083185)\", \"MSnBase (PMID:22113085)\", \"MaxQuant\", \"Patterlab (PMID:26658470)\", \"Skyline\", \"EncyclopeDIA (PMID: 30510204)\", \"Philosopher (Alexey Lab)\", \"TPP (StPeter, Libra, XPress)\"], \"type\": \"bar\"}, {\"uid\": \"a8c36485-e390-483c-b3a0-8bb25c0010c6\", \"y\": [3, 10, 21, 2, 2, 15, 2, 1, 2], \"name\": \"Desktop Application\", \"x\": [\"OpenMS\", \"FlashLFQ (PMID:29083185)\", \"MaxQuant\", \"MSnBase (PMID:22113085)\", \"Patterlab (PMID:26658470)\", \"Skyline\", \"EncyclopeDIA (PMID: 30510204)\", \"moFF\", \"Other\"], \"type\": \"bar\"}, {\"uid\": \"df089c56-af55-4ca6-b746-795d701119c2\", \"y\": [8, 2, 4, 1, 1, 4, 2, 3, 2, 1], \"name\": \"Flexibility to develop pipelines\", \"x\": [\"OpenMS\", \"Patterlab (PMID:26658470)\", \"FlashLFQ (PMID:29083185)\", \"TPP (StPeter, Libra, XPress)\", \"MaxQuant\", \"Skyline\", \"MSnBase (PMID:22113085)\", \"Philosopher (Alexey Lab)\", \"moFF\", \"Other\"], \"type\": \"bar\"}, {\"uid\": \"fedea511-2deb-4167-9635-383a69b4234f\", \"y\": [2, 11, 6, 18, 1, 1, 2, 12, 2, 1, 1], \"name\": \"Documentation and Support\", \"x\": [\"Other\", \"MaxQuant\", \"OpenMS\", \"Skyline\", \"Philosopher (Alexey Lab)\", \"moFF\", \"Patterlab (PMID:26658470)\", \"FlashLFQ (PMID:29083185)\", \"MSnBase (PMID:22113085)\", \"EncyclopeDIA (PMID: 30510204)\", \"TPP (StPeter, Libra, XPress)\"], \"type\": \"bar\"}, {\"uid\": \"65c3e241-dbde-4a2c-91e9-9df82d77bc83\", \"y\": [1, 2, 5, 13, 1, 3, 1, 1, 1, 1], \"name\": \"Internal benchmark with other tools suggest better/similar results\", \"x\": [\"Proline (http://www.profiproteomics.fr)\", \"Patterlab (PMID:26658470)\", \"FlashLFQ (PMID:29083185)\", \"MaxQuant\", \"OpenMS\", \"Skyline\", \"diffacto\", \"moFF\", \"Philosopher (Alexey Lab)\", \"TPP (StPeter, Libra, XPress)\"], \"type\": \"bar\"}, {\"uid\": \"4d2bf52a-e611-4aae-b45b-7214a5c3a1a9\", \"y\": [5, 4, 9, 1, 1, 9, 1, 1, 2, 1], \"name\": \"Compatibility with other softwares\", \"x\": [\"OpenMS\", \"FlashLFQ (PMID:29083185)\", \"MaxQuant\", \"MSnBase (PMID:22113085)\", \"Patterlab (PMID:26658470)\", \"Skyline\", \"EncyclopeDIA (PMID: 30510204)\", \"moFF\", \"Philosopher (Alexey Lab)\", \"TPP (StPeter, Libra, XPress)\"], \"type\": \"bar\"}, {\"uid\": \"f50e3fa8-cef7-4937-a092-80952764b3c4\", \"y\": [5, 3, 1, 28, 1, 1, 12, 1, 2, 1], \"name\": \"Support for multiple Quant methods\", \"x\": [\"OpenMS\", \"FlashLFQ (PMID:29083185)\", \"MSnBase (PMID:22113085)\", \"MaxQuant\", \"Other\", \"Patterlab (PMID:26658470)\", \"Skyline\", \"EncyclopeDIA (PMID: 30510204)\", \"Philosopher (Alexey Lab)\", \"TPP (StPeter, Libra, XPress)\"], \"type\": \"bar\"}], {\"legend\": {\"y\": 1.0, \"x\": 1, \"font\": {\"color\": \"#000\", \"size\": 10, \"family\": \"sans-serif\"}}, \"barmode\": \"group\"}, {\"showLink\": true, \"linkText\": \"Export to plot.ly\"})});</script><script type=\"text/javascript\">window.addEventListener(\"resize\", function(){window._Plotly.Plots.resize(document.getElementById(\"9d8ee97d-5572-43b1-abbe-0122c7d41291\"));});</script>"
      ],
      "text/vnd.plotly.v1+html": [
       "<div id=\"9d8ee97d-5572-43b1-abbe-0122c7d41291\" style=\"height: 525px; width: 100%;\" class=\"plotly-graph-div\"></div><script type=\"text/javascript\">require([\"plotly\"], function(Plotly) { window.PLOTLYENV=window.PLOTLYENV || {};window.PLOTLYENV.BASE_URL=\"https://plot.ly\";Plotly.newPlot(\"9d8ee97d-5572-43b1-abbe-0122c7d41291\", [{\"uid\": \"c4104bf1-3140-484a-a25a-a230bd5ff305\", \"y\": [1, 34, 3, 1, 2, 1, 5, 10, 18, 2, 1, 1, 1], \"name\": \"Quality of the Results\", \"x\": [\"Other\", \"MaxQuant\", \"Patterlab (PMID:26658470)\", \"MSnBase (PMID:22113085)\", \"Philosopher (Alexey Lab)\", \"moFF\", \"OpenMS\", \"FlashLFQ (PMID:29083185)\", \"Skyline\", \"EncyclopeDIA (PMID: 30510204)\", \"Proline (http://www.profiproteomics.fr)\", \"diffacto\", \"TPP (StPeter, Libra, XPress)\"], \"type\": \"bar\"}, {\"uid\": \"99d5fb09-a19f-402b-b000-3a06742e7af4\", \"y\": [1, 37, 5, 19, 4, 1, 9, 10, 2, 1, 1, 3, 1], \"name\": \"Free\", \"x\": [\"Other\", \"MaxQuant\", \"Patterlab (PMID:26658470)\", \"Skyline\", \"Philosopher (Alexey Lab)\", \"moFF\", \"OpenMS\", \"FlashLFQ (PMID:29083185)\", \"MSnBase (PMID:22113085)\", \"diffacto\", \"Proline (http://www.profiproteomics.fr)\", \"EncyclopeDIA (PMID: 30510204)\", \"TPP (StPeter, Libra, XPress)\"], \"type\": \"bar\"}, {\"uid\": \"87dd8930-5471-4b23-bead-286a10675bf1\", \"y\": [3, 29, 4, 16, 3, 1, 4, 11, 1, 2, 1, 1], \"name\": \"Easy to use\", \"x\": [\"Other\", \"MaxQuant\", \"Patterlab (PMID:26658470)\", \"Skyline\", \"Philosopher (Alexey Lab)\", \"moFF\", \"OpenMS\", \"FlashLFQ (PMID:29083185)\", \"MSnBase (PMID:22113085)\", \"EncyclopeDIA (PMID: 30510204)\", \"Proline (http://www.profiproteomics.fr)\", \"TPP (StPeter, Libra, XPress)\"], \"type\": \"bar\"}, {\"uid\": \"655ea0b2-cc12-4ae5-9160-99edd38be63c\", \"y\": [4, 1, 3, 1, 1, 2, 1, 1, 1], \"name\": \"Easy to run in HPC / Cloud enviroments\", \"x\": [\"OpenMS\", \"FlashLFQ (PMID:29083185)\", \"MaxQuant\", \"Patterlab (PMID:26658470)\", \"Skyline\", \"Philosopher (Alexey Lab)\", \"moFF\", \"MSnBase (PMID:22113085)\", \"TPP (StPeter, Libra, XPress)\"], \"type\": \"bar\"}, {\"uid\": \"ff00e693-d102-4379-9264-2287c3ad1b3e\", \"y\": [11, 2, 10, 2, 2, 12, 7, 2, 1, 2, 1], \"name\": \"Open Source\", \"x\": [\"MaxQuant\", \"Patterlab (PMID:26658470)\", \"Skyline\", \"Philosopher (Alexey Lab)\", \"moFF\", \"OpenMS\", \"FlashLFQ (PMID:29083185)\", \"MSnBase (PMID:22113085)\", \"diffacto\", \"EncyclopeDIA (PMID: 30510204)\", \"TPP (StPeter, Libra, XPress)\"], \"type\": \"bar\"}, {\"uid\": \"a0403335-ecd5-4759-8f0f-e008e19331a3\", \"y\": [1, 2, 1, 18, 1, 11, 1, 2, 1], \"name\": \"Maturity (No much errors)\", \"x\": [\"OpenMS\", \"FlashLFQ (PMID:29083185)\", \"MSnBase (PMID:22113085)\", \"MaxQuant\", \"Patterlab (PMID:26658470)\", \"Skyline\", \"EncyclopeDIA (PMID: 30510204)\", \"Philosopher (Alexey Lab)\", \"TPP (StPeter, Libra, XPress)\"], \"type\": \"bar\"}, {\"uid\": \"a8c36485-e390-483c-b3a0-8bb25c0010c6\", \"y\": [3, 10, 21, 2, 2, 15, 2, 1, 2], \"name\": \"Desktop Application\", \"x\": [\"OpenMS\", \"FlashLFQ (PMID:29083185)\", \"MaxQuant\", \"MSnBase (PMID:22113085)\", \"Patterlab (PMID:26658470)\", \"Skyline\", \"EncyclopeDIA (PMID: 30510204)\", \"moFF\", \"Other\"], \"type\": \"bar\"}, {\"uid\": \"df089c56-af55-4ca6-b746-795d701119c2\", \"y\": [8, 2, 4, 1, 1, 4, 2, 3, 2, 1], \"name\": \"Flexibility to develop pipelines\", \"x\": [\"OpenMS\", \"Patterlab (PMID:26658470)\", \"FlashLFQ (PMID:29083185)\", \"TPP (StPeter, Libra, XPress)\", \"MaxQuant\", \"Skyline\", \"MSnBase (PMID:22113085)\", \"Philosopher (Alexey Lab)\", \"moFF\", \"Other\"], \"type\": \"bar\"}, {\"uid\": \"fedea511-2deb-4167-9635-383a69b4234f\", \"y\": [2, 11, 6, 18, 1, 1, 2, 12, 2, 1, 1], \"name\": \"Documentation and Support\", \"x\": [\"Other\", \"MaxQuant\", \"OpenMS\", \"Skyline\", \"Philosopher (Alexey Lab)\", \"moFF\", \"Patterlab (PMID:26658470)\", \"FlashLFQ (PMID:29083185)\", \"MSnBase (PMID:22113085)\", \"EncyclopeDIA (PMID: 30510204)\", \"TPP (StPeter, Libra, XPress)\"], \"type\": \"bar\"}, {\"uid\": \"65c3e241-dbde-4a2c-91e9-9df82d77bc83\", \"y\": [1, 2, 5, 13, 1, 3, 1, 1, 1, 1], \"name\": \"Internal benchmark with other tools suggest better/similar results\", \"x\": [\"Proline (http://www.profiproteomics.fr)\", \"Patterlab (PMID:26658470)\", \"FlashLFQ (PMID:29083185)\", \"MaxQuant\", \"OpenMS\", \"Skyline\", \"diffacto\", \"moFF\", \"Philosopher (Alexey Lab)\", \"TPP (StPeter, Libra, XPress)\"], \"type\": \"bar\"}, {\"uid\": \"4d2bf52a-e611-4aae-b45b-7214a5c3a1a9\", \"y\": [5, 4, 9, 1, 1, 9, 1, 1, 2, 1], \"name\": \"Compatibility with other softwares\", \"x\": [\"OpenMS\", \"FlashLFQ (PMID:29083185)\", \"MaxQuant\", \"MSnBase (PMID:22113085)\", \"Patterlab (PMID:26658470)\", \"Skyline\", \"EncyclopeDIA (PMID: 30510204)\", \"moFF\", \"Philosopher (Alexey Lab)\", \"TPP (StPeter, Libra, XPress)\"], \"type\": \"bar\"}, {\"uid\": \"f50e3fa8-cef7-4937-a092-80952764b3c4\", \"y\": [5, 3, 1, 28, 1, 1, 12, 1, 2, 1], \"name\": \"Support for multiple Quant methods\", \"x\": [\"OpenMS\", \"FlashLFQ (PMID:29083185)\", \"MSnBase (PMID:22113085)\", \"MaxQuant\", \"Other\", \"Patterlab (PMID:26658470)\", \"Skyline\", \"EncyclopeDIA (PMID: 30510204)\", \"Philosopher (Alexey Lab)\", \"TPP (StPeter, Libra, XPress)\"], \"type\": \"bar\"}], {\"legend\": {\"y\": 1.0, \"x\": 1, \"font\": {\"color\": \"#000\", \"size\": 10, \"family\": \"sans-serif\"}}, \"barmode\": \"group\"}, {\"showLink\": true, \"linkText\": \"Export to plot.ly\"})});</script><script type=\"text/javascript\">window.addEventListener(\"resize\", function(){window._Plotly.Plots.resize(document.getElementById(\"9d8ee97d-5572-43b1-abbe-0122c7d41291\"));});</script>"
      ]
     },
     "metadata": {},
     "output_type": "display_data"
    }
   ],
   "source": [
    "question = \"Which are the features that make you to chose the following software for your data analysis\"\n",
    "data = get_multioption_bar_data(data_df, question)\n",
    "layout = go.Layout(barmode='group',legend=dict(x=1, y=1.0, font=dict(\n",
    "            family='sans-serif',\n",
    "            size=10,\n",
    "            color='#000'\n",
    "        ),))\n",
    "fig = go.Figure(data=data, layout=layout)\n",
    "iplot(fig, filename='grouped-bar')"
   ]
  },
  {
   "cell_type": "markdown",
   "metadata": {},
   "source": [
    "## Number of citations per Tool\n",
    "\n",
    "This plot aims to compute the number of citations (Google Scholar) per tool. For the present statistics we added all the main publications related with the tool. \n",
    "    \n",
    "**note**: Please review the file (software-ids.csv) to included all the publications and check if something is missing. You can also add an issue in the repository.  "
   ]
  },
  {
   "cell_type": "code",
   "execution_count": 154,
   "metadata": {},
   "outputs": [
    {
     "data": {
      "application/vnd.plotly.v1+json": {
       "data": [
        {
         "orientation": "h",
         "type": "bar",
         "uid": "c1a4b09a-913e-4420-9ff7-61da251394ea",
         "x": [
          15,
          6230,
          6412,
          887,
          2374,
          871,
          1941,
          2156,
          8063,
          370,
          566,
          454
         ],
         "y": [
          "moff",
          "Sequest",
          "MaxQuant",
          "OpenMS",
          "Andromeda",
          "Perseus",
          "Skyline",
          "XTandem",
          "Mascot",
          "MSGF+",
          "Trans-proteomics pipeline",
          "Comet"
         ]
        }
       ],
       "layout": {}
      },
      "text/html": [
       "<div id=\"0919e92f-a86d-4444-b650-8bf1ecb33f80\" style=\"height: 525px; width: 100%;\" class=\"plotly-graph-div\"></div><script type=\"text/javascript\">require([\"plotly\"], function(Plotly) { window.PLOTLYENV=window.PLOTLYENV || {};window.PLOTLYENV.BASE_URL=\"https://plot.ly\";Plotly.newPlot(\"0919e92f-a86d-4444-b650-8bf1ecb33f80\", [{\"uid\": \"b66d3966-fe11-4f4d-9288-a6f62dc36dd0\", \"y\": [\"moff\", \"Sequest\", \"MaxQuant\", \"OpenMS\", \"Andromeda\", \"Perseus\", \"Skyline\", \"XTandem\", \"Mascot\", \"MSGF+\", \"Trans-proteomics pipeline\", \"Comet\"], \"type\": \"bar\", \"x\": [15, 6230, 6412, 887, 2374, 871, 1941, 2156, 8063, 370, 566, 454], \"orientation\": \"h\"}], {}, {\"showLink\": true, \"linkText\": \"Export to plot.ly\"})});</script><script type=\"text/javascript\">window.addEventListener(\"resize\", function(){window._Plotly.Plots.resize(document.getElementById(\"0919e92f-a86d-4444-b650-8bf1ecb33f80\"));});</script>"
      ],
      "text/vnd.plotly.v1+html": [
       "<div id=\"0919e92f-a86d-4444-b650-8bf1ecb33f80\" style=\"height: 525px; width: 100%;\" class=\"plotly-graph-div\"></div><script type=\"text/javascript\">require([\"plotly\"], function(Plotly) { window.PLOTLYENV=window.PLOTLYENV || {};window.PLOTLYENV.BASE_URL=\"https://plot.ly\";Plotly.newPlot(\"0919e92f-a86d-4444-b650-8bf1ecb33f80\", [{\"uid\": \"b66d3966-fe11-4f4d-9288-a6f62dc36dd0\", \"y\": [\"moff\", \"Sequest\", \"MaxQuant\", \"OpenMS\", \"Andromeda\", \"Perseus\", \"Skyline\", \"XTandem\", \"Mascot\", \"MSGF+\", \"Trans-proteomics pipeline\", \"Comet\"], \"type\": \"bar\", \"x\": [15, 6230, 6412, 887, 2374, 871, 1941, 2156, 8063, 370, 566, 454], \"orientation\": \"h\"}], {}, {\"showLink\": true, \"linkText\": \"Export to plot.ly\"})});</script><script type=\"text/javascript\">window.addEventListener(\"resize\", function(){window._Plotly.Plots.resize(document.getElementById(\"0919e92f-a86d-4444-b650-8bf1ecb33f80\"));});</script>"
      ]
     },
     "metadata": {},
     "output_type": "display_data"
    }
   ],
   "source": [
    "data = [go.Bar(\n",
    "            x=list(data_citations['Citations']),\n",
    "            y=list(data_citations['Software']),\n",
    "            orientation = 'h'\n",
    ")]\n",
    "\n",
    "iplot(data, filename='horizontal-bar')"
   ]
  },
  {
   "cell_type": "code",
   "execution_count": null,
   "metadata": {},
   "outputs": [],
   "source": []
  }
 ],
 "metadata": {
  "kernelspec": {
   "display_name": "Python 3",
   "language": "python",
   "name": "python3"
  },
  "language_info": {
   "codemirror_mode": {
    "name": "ipython",
    "version": 3
   },
   "file_extension": ".py",
   "mimetype": "text/x-python",
   "name": "python",
   "nbconvert_exporter": "python",
   "pygments_lexer": "ipython3",
   "version": "3.4.2"
  }
 },
 "nbformat": 4,
 "nbformat_minor": 2
}
