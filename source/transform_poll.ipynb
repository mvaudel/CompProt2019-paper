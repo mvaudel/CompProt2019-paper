{
 "cells": [
  {
   "cell_type": "markdown",
   "metadata": {},
   "source": [
    "# Computational Proteomics Trends 2019. \n",
    "\n",
    "This jupyter notebook aims to read the data from Google Scholar csv poll into a panda dataframe to perform basic statistics about proteomics software useage by 2019. \n"
   ]
  },
  {
   "cell_type": "code",
   "execution_count": 82,
   "metadata": {
    "scrolled": true
   },
   "outputs": [
    {
     "data": {
      "text/html": [
       "<script type=\"text/javascript\">window.PlotlyConfig = {MathJaxConfig: 'local'};</script><script type=\"text/javascript\">if (window.MathJax) {MathJax.Hub.Config({SVG: {font: \"STIX-Web\"}});}</script><script>requirejs.config({paths: { 'plotly': ['https://cdn.plot.ly/plotly-latest.min']},});if(!window._Plotly) {require(['plotly'],function(plotly) {window._Plotly=plotly;});}</script>"
      ],
      "text/vnd.plotly.v1+html": [
       "<script type=\"text/javascript\">window.PlotlyConfig = {MathJaxConfig: 'local'};</script><script type=\"text/javascript\">if (window.MathJax) {MathJax.Hub.Config({SVG: {font: \"STIX-Web\"}});}</script><script>requirejs.config({paths: { 'plotly': ['https://cdn.plot.ly/plotly-latest.min']},});if(!window._Plotly) {require(['plotly'],function(plotly) {window._Plotly=plotly;});}</script>"
      ]
     },
     "metadata": {},
     "output_type": "display_data"
    },
    {
     "data": {
      "text/html": [
       "<div>\n",
       "<style scoped>\n",
       "    .dataframe tbody tr th:only-of-type {\n",
       "        vertical-align: middle;\n",
       "    }\n",
       "\n",
       "    .dataframe tbody tr th {\n",
       "        vertical-align: top;\n",
       "    }\n",
       "\n",
       "    .dataframe thead th {\n",
       "        text-align: right;\n",
       "    }\n",
       "</style>\n",
       "<table border=\"1\" class=\"dataframe\">\n",
       "  <thead>\n",
       "    <tr style=\"text-align: right;\">\n",
       "      <th></th>\n",
       "      <th>Timestamp</th>\n",
       "      <th>Username</th>\n",
       "      <th>What is your current position?</th>\n",
       "      <th>In what kind of research institute do you work?</th>\n",
       "      <th>Which of these software do you use for your Quant Analysis.  [PeptideAtlas (StPeter, Libra, XPress)]</th>\n",
       "      <th>Which of these software do you use for your Quant Analysis.  [OpenMS]</th>\n",
       "      <th>Which of these software do you use for your Quant Analysis.  [Other]</th>\n",
       "      <th>Which of these software do you use for your Quant Analysis.  [MSnBase (PMID:22113085)]</th>\n",
       "      <th>Which of these software do you use for your Quant Analysis.  [moFF]</th>\n",
       "      <th>Which of these software do you use for your Quant Analysis.  [FlashLFQ (PMID:29083185)]</th>\n",
       "      <th>...</th>\n",
       "      <th>Search engine and type of analysis  [MSAmanda]</th>\n",
       "      <th>Search engine and type of analysis  [Mascot]</th>\n",
       "      <th>Which type of Protein quant data you would like to see more in proteomics resources. (e.g. PeptideAtlas, ProteomicsDB, etc) [Label-Free Differential expression experiments]</th>\n",
       "      <th>Which type of Protein quant data you would like to see more in proteomics resources. (e.g. PeptideAtlas, ProteomicsDB, etc) [Label-Free Base line expression experiments]</th>\n",
       "      <th>Which type of Protein quant data you would like to see more in proteomics resources. (e.g. PeptideAtlas, ProteomicsDB, etc) [TMT Differential expression experiments]</th>\n",
       "      <th>Which type of Protein quant data you would like to see more in proteomics resources. (e.g. PeptideAtlas, ProteomicsDB, etc) [TMT Base line expression experiments]</th>\n",
       "      <th>Which type of Protein quant data you would like to see more in proteomics resources. (e.g. PeptideAtlas, ProteomicsDB, etc) [SRM/MR expression Experiments]</th>\n",
       "      <th>Which type of Protein quant data you would like to see more in proteomics resources. (e.g. PeptideAtlas, ProteomicsDB, etc) [DIA/SWATH expression experiments]</th>\n",
       "      <th>In case you would like to see something else more represented in Proteomics resources let us know.</th>\n",
       "      <th>Unnamed: 66</th>\n",
       "    </tr>\n",
       "  </thead>\n",
       "  <tbody>\n",
       "    <tr>\n",
       "      <th>0</th>\n",
       "      <td>2019/02/08 1:42:21 PM GMT</td>\n",
       "      <td>user1</td>\n",
       "      <td>NaN</td>\n",
       "      <td>NaN</td>\n",
       "      <td>NaN</td>\n",
       "      <td>NaN</td>\n",
       "      <td>NaN</td>\n",
       "      <td>NaN</td>\n",
       "      <td>NaN</td>\n",
       "      <td>NaN</td>\n",
       "      <td>...</td>\n",
       "      <td>NaN</td>\n",
       "      <td>NaN</td>\n",
       "      <td>NaN</td>\n",
       "      <td>NaN</td>\n",
       "      <td>NaN</td>\n",
       "      <td>NaN</td>\n",
       "      <td>NaN</td>\n",
       "      <td>NaN</td>\n",
       "      <td>NaN</td>\n",
       "      <td>NaN</td>\n",
       "    </tr>\n",
       "    <tr>\n",
       "      <th>1</th>\n",
       "      <td>2019/02/08 1:49:09 PM GMT</td>\n",
       "      <td>user2</td>\n",
       "      <td>NaN</td>\n",
       "      <td>NaN</td>\n",
       "      <td>NaN</td>\n",
       "      <td>NaN</td>\n",
       "      <td>NaN</td>\n",
       "      <td>NaN</td>\n",
       "      <td>NaN</td>\n",
       "      <td>NaN</td>\n",
       "      <td>...</td>\n",
       "      <td>NaN</td>\n",
       "      <td>NaN</td>\n",
       "      <td>NaN</td>\n",
       "      <td>NaN</td>\n",
       "      <td>NaN</td>\n",
       "      <td>NaN</td>\n",
       "      <td>NaN</td>\n",
       "      <td>NaN</td>\n",
       "      <td>NaN</td>\n",
       "      <td>NaN</td>\n",
       "    </tr>\n",
       "    <tr>\n",
       "      <th>2</th>\n",
       "      <td>2019/02/08 1:54:35 PM GMT</td>\n",
       "      <td>user3</td>\n",
       "      <td>NaN</td>\n",
       "      <td>NaN</td>\n",
       "      <td>NaN</td>\n",
       "      <td>NaN</td>\n",
       "      <td>NaN</td>\n",
       "      <td>NaN</td>\n",
       "      <td>NaN</td>\n",
       "      <td>NaN</td>\n",
       "      <td>...</td>\n",
       "      <td>NaN</td>\n",
       "      <td>NaN</td>\n",
       "      <td>NaN</td>\n",
       "      <td>NaN</td>\n",
       "      <td>NaN</td>\n",
       "      <td>NaN</td>\n",
       "      <td>NaN</td>\n",
       "      <td>NaN</td>\n",
       "      <td>NaN</td>\n",
       "      <td>NaN</td>\n",
       "    </tr>\n",
       "    <tr>\n",
       "      <th>3</th>\n",
       "      <td>2019/02/08 2:13:28 PM GMT</td>\n",
       "      <td>user4</td>\n",
       "      <td>NaN</td>\n",
       "      <td>NaN</td>\n",
       "      <td>NaN</td>\n",
       "      <td>NaN</td>\n",
       "      <td>NaN</td>\n",
       "      <td>NaN</td>\n",
       "      <td>NaN</td>\n",
       "      <td>NaN</td>\n",
       "      <td>...</td>\n",
       "      <td>NaN</td>\n",
       "      <td>NaN</td>\n",
       "      <td>NaN</td>\n",
       "      <td>NaN</td>\n",
       "      <td>NaN</td>\n",
       "      <td>NaN</td>\n",
       "      <td>NaN</td>\n",
       "      <td>NaN</td>\n",
       "      <td>NaN</td>\n",
       "      <td>NaN</td>\n",
       "    </tr>\n",
       "    <tr>\n",
       "      <th>4</th>\n",
       "      <td>2019/02/08 3:22:10 PM GMT</td>\n",
       "      <td>user5</td>\n",
       "      <td>NaN</td>\n",
       "      <td>NaN</td>\n",
       "      <td>NaN</td>\n",
       "      <td>NaN</td>\n",
       "      <td>NaN</td>\n",
       "      <td>NaN</td>\n",
       "      <td>NaN</td>\n",
       "      <td>Label Free Analysis MS1</td>\n",
       "      <td>...</td>\n",
       "      <td>NaN</td>\n",
       "      <td>NaN</td>\n",
       "      <td>NaN</td>\n",
       "      <td>NaN</td>\n",
       "      <td>NaN</td>\n",
       "      <td>NaN</td>\n",
       "      <td>NaN</td>\n",
       "      <td>NaN</td>\n",
       "      <td>NaN</td>\n",
       "      <td>NaN</td>\n",
       "    </tr>\n",
       "  </tbody>\n",
       "</table>\n",
       "<p>5 rows × 67 columns</p>\n",
       "</div>"
      ],
      "text/plain": [
       "                   Timestamp Username What is your current position?  \\\n",
       "0  2019/02/08 1:42:21 PM GMT    user1                            NaN   \n",
       "1  2019/02/08 1:49:09 PM GMT    user2                            NaN   \n",
       "2  2019/02/08 1:54:35 PM GMT    user3                            NaN   \n",
       "3  2019/02/08 2:13:28 PM GMT    user4                            NaN   \n",
       "4  2019/02/08 3:22:10 PM GMT    user5                            NaN   \n",
       "\n",
       "  In what kind of research institute do you work?  \\\n",
       "0                                             NaN   \n",
       "1                                             NaN   \n",
       "2                                             NaN   \n",
       "3                                             NaN   \n",
       "4                                             NaN   \n",
       "\n",
       "  Which of these software do you use for your Quant Analysis.  [PeptideAtlas (StPeter, Libra, XPress)]  \\\n",
       "0                                                NaN                                                     \n",
       "1                                                NaN                                                     \n",
       "2                                                NaN                                                     \n",
       "3                                                NaN                                                     \n",
       "4                                                NaN                                                     \n",
       "\n",
       "  Which of these software do you use for your Quant Analysis.  [OpenMS]  \\\n",
       "0                                                NaN                      \n",
       "1                                                NaN                      \n",
       "2                                                NaN                      \n",
       "3                                                NaN                      \n",
       "4                                                NaN                      \n",
       "\n",
       "  Which of these software do you use for your Quant Analysis.  [Other]  \\\n",
       "0                                                NaN                     \n",
       "1                                                NaN                     \n",
       "2                                                NaN                     \n",
       "3                                                NaN                     \n",
       "4                                                NaN                     \n",
       "\n",
       "  Which of these software do you use for your Quant Analysis.  [MSnBase (PMID:22113085)]  \\\n",
       "0                                                NaN                                       \n",
       "1                                                NaN                                       \n",
       "2                                                NaN                                       \n",
       "3                                                NaN                                       \n",
       "4                                                NaN                                       \n",
       "\n",
       "  Which of these software do you use for your Quant Analysis.  [moFF]  \\\n",
       "0                                                NaN                    \n",
       "1                                                NaN                    \n",
       "2                                                NaN                    \n",
       "3                                                NaN                    \n",
       "4                                                NaN                    \n",
       "\n",
       "  Which of these software do you use for your Quant Analysis.  [FlashLFQ (PMID:29083185)]  \\\n",
       "0                                                NaN                                        \n",
       "1                                                NaN                                        \n",
       "2                                                NaN                                        \n",
       "3                                                NaN                                        \n",
       "4                            Label Free Analysis MS1                                        \n",
       "\n",
       "      ...     Search engine and type of analysis  [MSAmanda]  \\\n",
       "0     ...                                                NaN   \n",
       "1     ...                                                NaN   \n",
       "2     ...                                                NaN   \n",
       "3     ...                                                NaN   \n",
       "4     ...                                                NaN   \n",
       "\n",
       "  Search engine and type of analysis  [Mascot]  \\\n",
       "0                                          NaN   \n",
       "1                                          NaN   \n",
       "2                                          NaN   \n",
       "3                                          NaN   \n",
       "4                                          NaN   \n",
       "\n",
       "  Which type of Protein quant data you would like to see more in proteomics resources. (e.g. PeptideAtlas, ProteomicsDB, etc) [Label-Free Differential expression experiments]  \\\n",
       "0                                                NaN                                                                                                                             \n",
       "1                                                NaN                                                                                                                             \n",
       "2                                                NaN                                                                                                                             \n",
       "3                                                NaN                                                                                                                             \n",
       "4                                                NaN                                                                                                                             \n",
       "\n",
       "  Which type of Protein quant data you would like to see more in proteomics resources. (e.g. PeptideAtlas, ProteomicsDB, etc) [Label-Free Base line expression experiments]  \\\n",
       "0                                                NaN                                                                                                                          \n",
       "1                                                NaN                                                                                                                          \n",
       "2                                                NaN                                                                                                                          \n",
       "3                                                NaN                                                                                                                          \n",
       "4                                                NaN                                                                                                                          \n",
       "\n",
       "  Which type of Protein quant data you would like to see more in proteomics resources. (e.g. PeptideAtlas, ProteomicsDB, etc) [TMT Differential expression experiments]  \\\n",
       "0                                                NaN                                                                                                                      \n",
       "1                                                NaN                                                                                                                      \n",
       "2                                                NaN                                                                                                                      \n",
       "3                                                NaN                                                                                                                      \n",
       "4                                                NaN                                                                                                                      \n",
       "\n",
       "  Which type of Protein quant data you would like to see more in proteomics resources. (e.g. PeptideAtlas, ProteomicsDB, etc) [TMT Base line expression experiments]  \\\n",
       "0                                                NaN                                                                                                                   \n",
       "1                                                NaN                                                                                                                   \n",
       "2                                                NaN                                                                                                                   \n",
       "3                                                NaN                                                                                                                   \n",
       "4                                                NaN                                                                                                                   \n",
       "\n",
       "  Which type of Protein quant data you would like to see more in proteomics resources. (e.g. PeptideAtlas, ProteomicsDB, etc) [SRM/MR expression Experiments]  \\\n",
       "0                                                NaN                                                                                                            \n",
       "1                                                NaN                                                                                                            \n",
       "2                                                NaN                                                                                                            \n",
       "3                                                NaN                                                                                                            \n",
       "4                                                NaN                                                                                                            \n",
       "\n",
       "  Which type of Protein quant data you would like to see more in proteomics resources. (e.g. PeptideAtlas, ProteomicsDB, etc) [DIA/SWATH expression experiments]  \\\n",
       "0                                                NaN                                                                                                               \n",
       "1                                                NaN                                                                                                               \n",
       "2                                                NaN                                                                                                               \n",
       "3                                                NaN                                                                                                               \n",
       "4                                                NaN                                                                                                               \n",
       "\n",
       "  In case you would like to see something else more represented in Proteomics resources let us know.   \\\n",
       "0                                                NaN                                                    \n",
       "1                                                NaN                                                    \n",
       "2                                                NaN                                                    \n",
       "3                                                NaN                                                    \n",
       "4                                                NaN                                                    \n",
       "\n",
       "  Unnamed: 66  \n",
       "0         NaN  \n",
       "1         NaN  \n",
       "2         NaN  \n",
       "3         NaN  \n",
       "4         NaN  \n",
       "\n",
       "[5 rows x 67 columns]"
      ]
     },
     "execution_count": 82,
     "metadata": {},
     "output_type": "execute_result"
    }
   ],
   "source": [
    "import pandas as pd \n",
    "#import plotly.plotly as py\n",
    "import plotly.graph_objs as go\n",
    "from plotly.offline import download_plotlyjs, init_notebook_mode, plot, iplot\n",
    "import plotly.plotly as py\n",
    "\n",
    "init_notebook_mode(connected=True)      \n",
    "\n",
    "# Read the poll data \n",
    "\n",
    "data_df = pd.read_csv(\"../data/poll-results-07032019.csv\")\n",
    "\n",
    "def get_pie_chart(collection): \n",
    "    \"\"\"\n",
    "    This function returns a pie chart from a collection of elements. \n",
    "    \"\"\"\n",
    "    collection_counts = {} \n",
    "    for word in collection:\n",
    "        token_collection = str(word).split(\";\")\n",
    "        for token in token_collection: \n",
    "            if token.strip() != 'nan':\n",
    "                if token not in collection_counts:\n",
    "                   collection_counts[token] = 0\n",
    "                collection_counts[token] = collection_counts[token] + 1\n",
    "\n",
    "  \n",
    "    trace=go.Pie(labels=[k  for  k in  collection_counts.keys()],values=[k  for  k in  collection_counts.values()])\n",
    "    return trace\n",
    "\n",
    "data_df.head() "
   ]
  },
  {
   "cell_type": "markdown",
   "metadata": {},
   "source": [
    "## Position Distribution\n",
    "\n",
    "Read the position and occupation of every participant of the poll. "
   ]
  },
  {
   "cell_type": "code",
   "execution_count": 83,
   "metadata": {},
   "outputs": [
    {
     "data": {
      "application/vnd.plotly.v1+json": {
       "data": [
        {
         "labels": [
          "Director",
          "Master's student",
          "Developer - Bioinformatician",
          "Master Student",
          "Professor",
          "Consultant",
          "Project Manager",
          "CEO",
          "Principal Investigator",
          "Phd Student",
          "CTO",
          "Scientist",
          "Research Scientist - Staff",
          "Lab Manager",
          "Post-Doc",
          "Head of Core Facility Proteomics",
          "Student",
          "Head proteomics research platform"
         ],
         "type": "pie",
         "uid": "6c1dddab-fb89-4931-aa98-05fd326476cf",
         "values": [
          6,
          1,
          9,
          1,
          4,
          2,
          7,
          2,
          25,
          40,
          1,
          1,
          41,
          1,
          36,
          1,
          1,
          1
         ]
        }
       ],
       "layout": {}
      },
      "text/html": [
       "<div id=\"9e9597e4-d958-40ae-bbdd-a35b8ed1f0b1\" style=\"height: 525px; width: 100%;\" class=\"plotly-graph-div\"></div><script type=\"text/javascript\">require([\"plotly\"], function(Plotly) { window.PLOTLYENV=window.PLOTLYENV || {};window.PLOTLYENV.BASE_URL=\"https://plot.ly\";Plotly.newPlot(\"9e9597e4-d958-40ae-bbdd-a35b8ed1f0b1\", [{\"uid\": \"7dbbec40-b941-462e-b935-5ca52e16b193\", \"labels\": [\"Director\", \"Master's student\", \"Developer - Bioinformatician\", \"Master Student\", \"Professor\", \"Consultant\", \"Project Manager\", \"CEO\", \"Principal Investigator\", \"Phd Student\", \"CTO\", \"Scientist\", \"Research Scientist - Staff\", \"Lab Manager\", \"Post-Doc\", \"Head of Core Facility Proteomics\", \"Student\", \"Head proteomics research platform\"], \"type\": \"pie\", \"values\": [6, 1, 9, 1, 4, 2, 7, 2, 25, 40, 1, 1, 41, 1, 36, 1, 1, 1]}], {}, {\"showLink\": true, \"linkText\": \"Export to plot.ly\"})});</script><script type=\"text/javascript\">window.addEventListener(\"resize\", function(){window._Plotly.Plots.resize(document.getElementById(\"9e9597e4-d958-40ae-bbdd-a35b8ed1f0b1\"));});</script>"
      ],
      "text/vnd.plotly.v1+html": [
       "<div id=\"9e9597e4-d958-40ae-bbdd-a35b8ed1f0b1\" style=\"height: 525px; width: 100%;\" class=\"plotly-graph-div\"></div><script type=\"text/javascript\">require([\"plotly\"], function(Plotly) { window.PLOTLYENV=window.PLOTLYENV || {};window.PLOTLYENV.BASE_URL=\"https://plot.ly\";Plotly.newPlot(\"9e9597e4-d958-40ae-bbdd-a35b8ed1f0b1\", [{\"uid\": \"7dbbec40-b941-462e-b935-5ca52e16b193\", \"labels\": [\"Director\", \"Master's student\", \"Developer - Bioinformatician\", \"Master Student\", \"Professor\", \"Consultant\", \"Project Manager\", \"CEO\", \"Principal Investigator\", \"Phd Student\", \"CTO\", \"Scientist\", \"Research Scientist - Staff\", \"Lab Manager\", \"Post-Doc\", \"Head of Core Facility Proteomics\", \"Student\", \"Head proteomics research platform\"], \"type\": \"pie\", \"values\": [6, 1, 9, 1, 4, 2, 7, 2, 25, 40, 1, 1, 41, 1, 36, 1, 1, 1]}], {}, {\"showLink\": true, \"linkText\": \"Export to plot.ly\"})});</script><script type=\"text/javascript\">window.addEventListener(\"resize\", function(){window._Plotly.Plots.resize(document.getElementById(\"9e9597e4-d958-40ae-bbdd-a35b8ed1f0b1\"));});</script>"
      ]
     },
     "metadata": {},
     "output_type": "display_data"
    }
   ],
   "source": [
    "positions = data_df.iloc[:,2]\n",
    "trace = get_pie_chart(positions)\n",
    "iplot([trace])"
   ]
  },
  {
   "cell_type": "markdown",
   "metadata": {},
   "source": [
    "## Affiliation distribtuion \n",
    "\n",
    "The number of participants in the poll by type of Institution. "
   ]
  },
  {
   "cell_type": "code",
   "execution_count": 84,
   "metadata": {},
   "outputs": [
    {
     "data": {
      "application/vnd.plotly.v1+json": {
       "data": [
        {
         "labels": [
          "Hospital, Research Hospital",
          "University",
          "Core Facility",
          "Research Institute",
          "Company, Start-up, Pharma"
         ],
         "type": "pie",
         "uid": "be2fa808-7294-48da-8963-2bafd5b7b72d",
         "values": [
          10,
          86,
          16,
          26,
          20
         ]
        }
       ],
       "layout": {}
      },
      "text/html": [
       "<div id=\"20b5d41b-afe5-450d-bc5a-29d176e01e3f\" style=\"height: 525px; width: 100%;\" class=\"plotly-graph-div\"></div><script type=\"text/javascript\">require([\"plotly\"], function(Plotly) { window.PLOTLYENV=window.PLOTLYENV || {};window.PLOTLYENV.BASE_URL=\"https://plot.ly\";Plotly.newPlot(\"20b5d41b-afe5-450d-bc5a-29d176e01e3f\", [{\"uid\": \"87dfe96c-4ab1-43e5-9ab8-0bdce44a93ab\", \"labels\": [\"Hospital, Research Hospital\", \"University\", \"Core Facility\", \"Research Institute\", \"Company, Start-up, Pharma\"], \"type\": \"pie\", \"values\": [10, 86, 16, 26, 20]}], {}, {\"showLink\": true, \"linkText\": \"Export to plot.ly\"})});</script><script type=\"text/javascript\">window.addEventListener(\"resize\", function(){window._Plotly.Plots.resize(document.getElementById(\"20b5d41b-afe5-450d-bc5a-29d176e01e3f\"));});</script>"
      ],
      "text/vnd.plotly.v1+html": [
       "<div id=\"20b5d41b-afe5-450d-bc5a-29d176e01e3f\" style=\"height: 525px; width: 100%;\" class=\"plotly-graph-div\"></div><script type=\"text/javascript\">require([\"plotly\"], function(Plotly) { window.PLOTLYENV=window.PLOTLYENV || {};window.PLOTLYENV.BASE_URL=\"https://plot.ly\";Plotly.newPlot(\"20b5d41b-afe5-450d-bc5a-29d176e01e3f\", [{\"uid\": \"87dfe96c-4ab1-43e5-9ab8-0bdce44a93ab\", \"labels\": [\"Hospital, Research Hospital\", \"University\", \"Core Facility\", \"Research Institute\", \"Company, Start-up, Pharma\"], \"type\": \"pie\", \"values\": [10, 86, 16, 26, 20]}], {}, {\"showLink\": true, \"linkText\": \"Export to plot.ly\"})});</script><script type=\"text/javascript\">window.addEventListener(\"resize\", function(){window._Plotly.Plots.resize(document.getElementById(\"20b5d41b-afe5-450d-bc5a-29d176e01e3f\"));});</script>"
      ]
     },
     "metadata": {},
     "output_type": "display_data"
    }
   ],
   "source": [
    "affiliations = data_df.iloc[:,3]\n",
    "trace = get_pie_chart(affiliations)     \n",
    "iplot([trace])"
   ]
  },
  {
   "cell_type": "markdown",
   "metadata": {},
   "source": [
    "## Which of these software do you use for your Quant Analysis\n",
    "\n",
    "These plots will show the usage of Quantification software. "
   ]
  },
  {
   "cell_type": "code",
   "execution_count": 85,
   "metadata": {},
   "outputs": [
    {
     "data": {
      "application/vnd.plotly.v1+json": {
       "data": [
        {
         "name": "Phospho Quant analysis",
         "type": "bar",
         "uid": "fcf8685b-fbd5-4131-8c00-87580c467ceb",
         "x": [
          "OpenMS",
          "Other",
          "MaxQuant",
          "PeptideAtlas (StPeter, Libra, XPress)",
          "Patterlab (PMID:26658470)",
          "Skyline",
          "Philosopher (Alexey Lab)",
          "EncyclopeDIA (PMID: 30510204)"
         ],
         "y": [
          5,
          8,
          49,
          2,
          1,
          11,
          4,
          1
         ]
        },
        {
         "name": "SILAC analysis",
         "type": "bar",
         "uid": "41df99ef-4cf7-43d5-9930-bad6f0f5a385",
         "x": [
          "FlashLFQ (PMID:29083185)",
          "Census",
          "Other",
          "PeptideAtlas (StPeter, Libra, XPress)",
          "MaxQuant",
          "OpenMS",
          "Skyline",
          "MSnBase (PMID:22113085)"
         ],
         "y": [
          2,
          1,
          4,
          1,
          58,
          7,
          11,
          1
         ]
        },
        {
         "name": "Label Free Analysis MS1",
         "type": "bar",
         "uid": "9f5fb4c2-d571-4710-aa71-01c2c8d26040",
         "x": [
          "Other",
          "MaxQuant",
          "Patterlab (PMID:26658470)",
          "Skyline",
          "Philosopher (Alexey Lab)",
          "moFF",
          "OpenMS",
          "FlashLFQ (PMID:29083185)",
          "PeptideAtlas (StPeter, Libra, XPress)",
          "MSnBase (PMID:22113085)",
          "diffacto",
          "Proline (http://www.profiproteomics.fr)"
         ],
         "y": [
          12,
          101,
          4,
          33,
          10,
          4,
          16,
          16,
          1,
          1,
          1,
          1
         ]
        },
        {
         "name": "TMT analysis",
         "type": "bar",
         "uid": "238a942f-2b47-4491-946d-6956ec197a23",
         "x": [
          "OpenMS",
          "Other",
          "MaxQuant",
          "PeptideAtlas (StPeter, Libra, XPress)",
          "Patterlab (PMID:26658470)",
          "Skyline",
          "Philosopher (Alexey Lab)",
          "MSnBase (PMID:22113085)",
          "EncyclopeDIA (PMID: 30510204)"
         ],
         "y": [
          9,
          11,
          51,
          2,
          2,
          4,
          7,
          2,
          1
         ]
        },
        {
         "name": "SWATH / DIA Quant",
         "type": "bar",
         "uid": "c301836d-6f3f-4172-baa1-d75be41c7124",
         "x": [
          "OpenMS",
          "Other",
          "PeptideAtlas (StPeter, Libra, XPress)",
          "MaxQuant",
          "Skyline",
          "diffacto",
          "EncyclopeDIA (PMID: 30510204)",
          "Philosopher (Alexey Lab)"
         ],
         "y": [
          12,
          7,
          2,
          6,
          34,
          1,
          3,
          1
         ]
        },
        {
         "name": "Other Quant analysis",
         "type": "bar",
         "uid": "bf8ee432-b56e-401c-be5d-c05d22f3d931",
         "x": [
          "PeptideAtlas (StPeter, Libra, XPress)",
          "OpenMS",
          "Other",
          "HIQuant (PMID:30282776)",
          "MaxQuant",
          "MSnBase (PMID:22113085)",
          "Skyline",
          "Philosopher (Alexey Lab)",
          "FlashLFQ (PMID:29083185)",
          "Patterlab (PMID:26658470)"
         ],
         "y": [
          2,
          11,
          9,
          1,
          16,
          2,
          36,
          5,
          2,
          2
         ]
        },
        {
         "name": "Label Free Spectral Count Analysis",
         "type": "bar",
         "uid": "b7dab6e9-fc01-4c65-b5c8-fe087714f2fb",
         "x": [
          "Other",
          "MaxQuant",
          "OpenMS",
          "Skyline",
          "Philosopher (Alexey Lab)",
          "moFF",
          "Patterlab (PMID:26658470)",
          "FlashLFQ (PMID:29083185)",
          "PeptideAtlas (StPeter, Libra, XPress)",
          "MSnBase (PMID:22113085)",
          "EncyclopeDIA (PMID: 30510204)"
         ],
         "y": [
          13,
          33,
          4,
          6,
          8,
          1,
          4,
          2,
          1,
          1,
          1
         ]
        }
       ],
       "layout": {
        "barmode": "group"
       }
      },
      "text/html": [
       "<div id=\"42831201-48d2-4d2f-8582-0f361d537f28\" style=\"height: 525px; width: 100%;\" class=\"plotly-graph-div\"></div><script type=\"text/javascript\">require([\"plotly\"], function(Plotly) { window.PLOTLYENV=window.PLOTLYENV || {};window.PLOTLYENV.BASE_URL=\"https://plot.ly\";Plotly.newPlot(\"42831201-48d2-4d2f-8582-0f361d537f28\", [{\"uid\": \"fcf8685b-fbd5-4131-8c00-87580c467ceb\", \"y\": [5, 8, 49, 2, 1, 11, 4, 1], \"name\": \"Phospho Quant analysis\", \"x\": [\"OpenMS\", \"Other\", \"MaxQuant\", \"PeptideAtlas (StPeter, Libra, XPress)\", \"Patterlab (PMID:26658470)\", \"Skyline\", \"Philosopher (Alexey Lab)\", \"EncyclopeDIA (PMID: 30510204)\"], \"type\": \"bar\"}, {\"uid\": \"41df99ef-4cf7-43d5-9930-bad6f0f5a385\", \"y\": [2, 1, 4, 1, 58, 7, 11, 1], \"name\": \"SILAC analysis\", \"x\": [\"FlashLFQ (PMID:29083185)\", \"Census\", \"Other\", \"PeptideAtlas (StPeter, Libra, XPress)\", \"MaxQuant\", \"OpenMS\", \"Skyline\", \"MSnBase (PMID:22113085)\"], \"type\": \"bar\"}, {\"uid\": \"9f5fb4c2-d571-4710-aa71-01c2c8d26040\", \"y\": [12, 101, 4, 33, 10, 4, 16, 16, 1, 1, 1, 1], \"name\": \"Label Free Analysis MS1\", \"x\": [\"Other\", \"MaxQuant\", \"Patterlab (PMID:26658470)\", \"Skyline\", \"Philosopher (Alexey Lab)\", \"moFF\", \"OpenMS\", \"FlashLFQ (PMID:29083185)\", \"PeptideAtlas (StPeter, Libra, XPress)\", \"MSnBase (PMID:22113085)\", \"diffacto\", \"Proline (http://www.profiproteomics.fr)\"], \"type\": \"bar\"}, {\"uid\": \"238a942f-2b47-4491-946d-6956ec197a23\", \"y\": [9, 11, 51, 2, 2, 4, 7, 2, 1], \"name\": \"TMT analysis\", \"x\": [\"OpenMS\", \"Other\", \"MaxQuant\", \"PeptideAtlas (StPeter, Libra, XPress)\", \"Patterlab (PMID:26658470)\", \"Skyline\", \"Philosopher (Alexey Lab)\", \"MSnBase (PMID:22113085)\", \"EncyclopeDIA (PMID: 30510204)\"], \"type\": \"bar\"}, {\"uid\": \"c301836d-6f3f-4172-baa1-d75be41c7124\", \"y\": [12, 7, 2, 6, 34, 1, 3, 1], \"name\": \"SWATH / DIA Quant\", \"x\": [\"OpenMS\", \"Other\", \"PeptideAtlas (StPeter, Libra, XPress)\", \"MaxQuant\", \"Skyline\", \"diffacto\", \"EncyclopeDIA (PMID: 30510204)\", \"Philosopher (Alexey Lab)\"], \"type\": \"bar\"}, {\"uid\": \"bf8ee432-b56e-401c-be5d-c05d22f3d931\", \"y\": [2, 11, 9, 1, 16, 2, 36, 5, 2, 2], \"name\": \"Other Quant analysis\", \"x\": [\"PeptideAtlas (StPeter, Libra, XPress)\", \"OpenMS\", \"Other\", \"HIQuant (PMID:30282776)\", \"MaxQuant\", \"MSnBase (PMID:22113085)\", \"Skyline\", \"Philosopher (Alexey Lab)\", \"FlashLFQ (PMID:29083185)\", \"Patterlab (PMID:26658470)\"], \"type\": \"bar\"}, {\"uid\": \"b7dab6e9-fc01-4c65-b5c8-fe087714f2fb\", \"y\": [13, 33, 4, 6, 8, 1, 4, 2, 1, 1, 1], \"name\": \"Label Free Spectral Count Analysis\", \"x\": [\"Other\", \"MaxQuant\", \"OpenMS\", \"Skyline\", \"Philosopher (Alexey Lab)\", \"moFF\", \"Patterlab (PMID:26658470)\", \"FlashLFQ (PMID:29083185)\", \"PeptideAtlas (StPeter, Libra, XPress)\", \"MSnBase (PMID:22113085)\", \"EncyclopeDIA (PMID: 30510204)\"], \"type\": \"bar\"}], {\"barmode\": \"group\"}, {\"showLink\": true, \"linkText\": \"Export to plot.ly\"})});</script><script type=\"text/javascript\">window.addEventListener(\"resize\", function(){window._Plotly.Plots.resize(document.getElementById(\"42831201-48d2-4d2f-8582-0f361d537f28\"));});</script>"
      ],
      "text/vnd.plotly.v1+html": [
       "<div id=\"42831201-48d2-4d2f-8582-0f361d537f28\" style=\"height: 525px; width: 100%;\" class=\"plotly-graph-div\"></div><script type=\"text/javascript\">require([\"plotly\"], function(Plotly) { window.PLOTLYENV=window.PLOTLYENV || {};window.PLOTLYENV.BASE_URL=\"https://plot.ly\";Plotly.newPlot(\"42831201-48d2-4d2f-8582-0f361d537f28\", [{\"uid\": \"fcf8685b-fbd5-4131-8c00-87580c467ceb\", \"y\": [5, 8, 49, 2, 1, 11, 4, 1], \"name\": \"Phospho Quant analysis\", \"x\": [\"OpenMS\", \"Other\", \"MaxQuant\", \"PeptideAtlas (StPeter, Libra, XPress)\", \"Patterlab (PMID:26658470)\", \"Skyline\", \"Philosopher (Alexey Lab)\", \"EncyclopeDIA (PMID: 30510204)\"], \"type\": \"bar\"}, {\"uid\": \"41df99ef-4cf7-43d5-9930-bad6f0f5a385\", \"y\": [2, 1, 4, 1, 58, 7, 11, 1], \"name\": \"SILAC analysis\", \"x\": [\"FlashLFQ (PMID:29083185)\", \"Census\", \"Other\", \"PeptideAtlas (StPeter, Libra, XPress)\", \"MaxQuant\", \"OpenMS\", \"Skyline\", \"MSnBase (PMID:22113085)\"], \"type\": \"bar\"}, {\"uid\": \"9f5fb4c2-d571-4710-aa71-01c2c8d26040\", \"y\": [12, 101, 4, 33, 10, 4, 16, 16, 1, 1, 1, 1], \"name\": \"Label Free Analysis MS1\", \"x\": [\"Other\", \"MaxQuant\", \"Patterlab (PMID:26658470)\", \"Skyline\", \"Philosopher (Alexey Lab)\", \"moFF\", \"OpenMS\", \"FlashLFQ (PMID:29083185)\", \"PeptideAtlas (StPeter, Libra, XPress)\", \"MSnBase (PMID:22113085)\", \"diffacto\", \"Proline (http://www.profiproteomics.fr)\"], \"type\": \"bar\"}, {\"uid\": \"238a942f-2b47-4491-946d-6956ec197a23\", \"y\": [9, 11, 51, 2, 2, 4, 7, 2, 1], \"name\": \"TMT analysis\", \"x\": [\"OpenMS\", \"Other\", \"MaxQuant\", \"PeptideAtlas (StPeter, Libra, XPress)\", \"Patterlab (PMID:26658470)\", \"Skyline\", \"Philosopher (Alexey Lab)\", \"MSnBase (PMID:22113085)\", \"EncyclopeDIA (PMID: 30510204)\"], \"type\": \"bar\"}, {\"uid\": \"c301836d-6f3f-4172-baa1-d75be41c7124\", \"y\": [12, 7, 2, 6, 34, 1, 3, 1], \"name\": \"SWATH / DIA Quant\", \"x\": [\"OpenMS\", \"Other\", \"PeptideAtlas (StPeter, Libra, XPress)\", \"MaxQuant\", \"Skyline\", \"diffacto\", \"EncyclopeDIA (PMID: 30510204)\", \"Philosopher (Alexey Lab)\"], \"type\": \"bar\"}, {\"uid\": \"bf8ee432-b56e-401c-be5d-c05d22f3d931\", \"y\": [2, 11, 9, 1, 16, 2, 36, 5, 2, 2], \"name\": \"Other Quant analysis\", \"x\": [\"PeptideAtlas (StPeter, Libra, XPress)\", \"OpenMS\", \"Other\", \"HIQuant (PMID:30282776)\", \"MaxQuant\", \"MSnBase (PMID:22113085)\", \"Skyline\", \"Philosopher (Alexey Lab)\", \"FlashLFQ (PMID:29083185)\", \"Patterlab (PMID:26658470)\"], \"type\": \"bar\"}, {\"uid\": \"b7dab6e9-fc01-4c65-b5c8-fe087714f2fb\", \"y\": [13, 33, 4, 6, 8, 1, 4, 2, 1, 1, 1], \"name\": \"Label Free Spectral Count Analysis\", \"x\": [\"Other\", \"MaxQuant\", \"OpenMS\", \"Skyline\", \"Philosopher (Alexey Lab)\", \"moFF\", \"Patterlab (PMID:26658470)\", \"FlashLFQ (PMID:29083185)\", \"PeptideAtlas (StPeter, Libra, XPress)\", \"MSnBase (PMID:22113085)\", \"EncyclopeDIA (PMID: 30510204)\"], \"type\": \"bar\"}], {\"barmode\": \"group\"}, {\"showLink\": true, \"linkText\": \"Export to plot.ly\"})});</script><script type=\"text/javascript\">window.addEventListener(\"resize\", function(){window._Plotly.Plots.resize(document.getElementById(\"42831201-48d2-4d2f-8582-0f361d537f28\"));});</script>"
      ]
     },
     "metadata": {},
     "output_type": "display_data"
    }
   ],
   "source": [
    "question = \"Which of these software do you use for your Quant Analysis\"\n",
    "column_names = [col for col in data_df.columns if question in col]\n",
    "values = []\n",
    "for column in column_names: \n",
    "    value = column[column.find(\"[\") + 1: column.find(\"]\")]\n",
    "    values.append(value)\n",
    "#columns = data_df.filter(regex=question)\n",
    "#print(columns)\n",
    "\n",
    "plot_values = {}\n",
    "\n",
    "for index, row in data_df.iterrows():\n",
    "    for column in column_names: \n",
    "        column_value = column[column.find(\"[\") + 1: column.find(\"]\")]\n",
    "        complete_value = data_df.at[index,column]\n",
    "        combined_values = str(complete_value).split(\";\")\n",
    "        for value in combined_values: \n",
    "            if value not in values: \n",
    "                if value in plot_values:\n",
    "                   if column_value in plot_values[value]:\n",
    "                      count = plot_values[value][column_value] + 1\n",
    "                      plot_values[value].update({column_value:count})\n",
    "                   elif ((str(value)).lower() != 'nan'):\n",
    "                      plot_values[value].update({column_value:1})\n",
    "                elif((str(value)).lower() != 'nan'):\n",
    "                   plot_values[value] = {column_value: 1}\n",
    "\n",
    "data = [] \n",
    "for option in plot_values: \n",
    "    trace = go.Bar(x = list(plot_values[option].keys()), y = list(plot_values[option].values()),name = option)\n",
    "    data.append(trace)   \n",
    "        \n",
    "\n",
    "#data = [trace1, trace2]\n",
    "layout = go.Layout(barmode='group')\n",
    "fig = go.Figure(data=data, layout=layout)\n",
    "iplot(fig, filename='grouped-bar')\n"
   ]
  },
  {
   "cell_type": "code",
   "execution_count": null,
   "metadata": {},
   "outputs": [],
   "source": []
  }
 ],
 "metadata": {
  "kernelspec": {
   "display_name": "Python 3",
   "language": "python",
   "name": "python3"
  },
  "language_info": {
   "codemirror_mode": {
    "name": "ipython",
    "version": 3
   },
   "file_extension": ".py",
   "mimetype": "text/x-python",
   "name": "python",
   "nbconvert_exporter": "python",
   "pygments_lexer": "ipython3",
   "version": "3.4.2"
  }
 },
 "nbformat": 4,
 "nbformat_minor": 2
}
