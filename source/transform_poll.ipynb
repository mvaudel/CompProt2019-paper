{
 "cells": [
  {
   "cell_type": "markdown",
   "metadata": {},
   "source": [
    "# Computational Proteomics Trends 2019. \n",
    "\n",
    "This jupyter notebook aims to read the data from Google Scholar csv poll into a panda dataframe to perform basic statistics about proteomics software useage by 2019. \n"
   ]
  },
  {
   "cell_type": "code",
   "execution_count": 195,
   "metadata": {},
   "outputs": [
    {
     "data": {
      "text/html": [
       "<script type=\"text/javascript\">window.PlotlyConfig = {MathJaxConfig: 'local'};</script><script type=\"text/javascript\">if (window.MathJax) {MathJax.Hub.Config({SVG: {font: \"STIX-Web\"}});}</script><script>requirejs.config({paths: { 'plotly': ['https://cdn.plot.ly/plotly-latest.min']},});if(!window._Plotly) {require(['plotly'],function(plotly) {window._Plotly=plotly;});}</script>"
      ],
      "text/vnd.plotly.v1+html": [
       "<script type=\"text/javascript\">window.PlotlyConfig = {MathJaxConfig: 'local'};</script><script type=\"text/javascript\">if (window.MathJax) {MathJax.Hub.Config({SVG: {font: \"STIX-Web\"}});}</script><script>requirejs.config({paths: { 'plotly': ['https://cdn.plot.ly/plotly-latest.min']},});if(!window._Plotly) {require(['plotly'],function(plotly) {window._Plotly=plotly;});}</script>"
      ]
     },
     "metadata": {},
     "output_type": "display_data"
    },
    {
     "data": {
      "text/html": [
       "<div>\n",
       "<style scoped>\n",
       "    .dataframe tbody tr th:only-of-type {\n",
       "        vertical-align: middle;\n",
       "    }\n",
       "\n",
       "    .dataframe tbody tr th {\n",
       "        vertical-align: top;\n",
       "    }\n",
       "\n",
       "    .dataframe thead th {\n",
       "        text-align: right;\n",
       "    }\n",
       "</style>\n",
       "<table border=\"1\" class=\"dataframe\">\n",
       "  <thead>\n",
       "    <tr style=\"text-align: right;\">\n",
       "      <th></th>\n",
       "      <th>Timestamp</th>\n",
       "      <th>Username</th>\n",
       "      <th>What is your current position?</th>\n",
       "      <th>In what kind of research institute do you work?</th>\n",
       "      <th>Which of these software do you use for your Quant Analysis.  [TPP (StPeter, Libra, XPress)]</th>\n",
       "      <th>Which of these software do you use for your Quant Analysis.  [OpenMS]</th>\n",
       "      <th>Which of these software do you use for your Quant Analysis.  [Other]</th>\n",
       "      <th>Which of these software do you use for your Quant Analysis.  [MSnBase (PMID:22113085)]</th>\n",
       "      <th>Which of these software do you use for your Quant Analysis.  [moFF]</th>\n",
       "      <th>Which of these software do you use for your Quant Analysis.  [FlashLFQ (PMID:29083185)]</th>\n",
       "      <th>...</th>\n",
       "      <th>Search engine and type of analysis  [MSAmanda]</th>\n",
       "      <th>Search engine and type of analysis  [Mascot]</th>\n",
       "      <th>Which type of Protein quant data you would like to see more in proteomics resources. (e.g. TPP, ProteomicsDB, etc) [Label-Free Differential expression experiments]</th>\n",
       "      <th>Which type of Protein quant data you would like to see more in proteomics resources. (e.g. TPP, ProteomicsDB, etc) [Label-Free Base line expression experiments]</th>\n",
       "      <th>Which type of Protein quant data you would like to see more in proteomics resources. (e.g. TPP, ProteomicsDB, etc) [TMT Differential expression experiments]</th>\n",
       "      <th>Which type of Protein quant data you would like to see more in proteomics resources. (e.g. PeptideAtlas, ProteomicsDB, etc) [TMT Base line expression experiments]</th>\n",
       "      <th>Which type of Protein quant data you would like to see more in proteomics resources. (e.g. PeptideAtlas, ProteomicsDB, etc) [SRM/MR expression Experiments]</th>\n",
       "      <th>Which type of Protein quant data you would like to see more in proteomics resources. (e.g. PeptideAtlas, ProteomicsDB, etc) [DIA/SWATH expression experiments]</th>\n",
       "      <th>In case you would like to see something else more represented in Proteomics resources let us know.</th>\n",
       "      <th>Unnamed: 66</th>\n",
       "    </tr>\n",
       "  </thead>\n",
       "  <tbody>\n",
       "    <tr>\n",
       "      <th>0</th>\n",
       "      <td>2019/02/08 1:42:21 PM GMT</td>\n",
       "      <td>user1</td>\n",
       "      <td>NaN</td>\n",
       "      <td>NaN</td>\n",
       "      <td>NaN</td>\n",
       "      <td>NaN</td>\n",
       "      <td>NaN</td>\n",
       "      <td>NaN</td>\n",
       "      <td>NaN</td>\n",
       "      <td>NaN</td>\n",
       "      <td>...</td>\n",
       "      <td>NaN</td>\n",
       "      <td>NaN</td>\n",
       "      <td>NaN</td>\n",
       "      <td>NaN</td>\n",
       "      <td>NaN</td>\n",
       "      <td>NaN</td>\n",
       "      <td>NaN</td>\n",
       "      <td>NaN</td>\n",
       "      <td>NaN</td>\n",
       "      <td>NaN</td>\n",
       "    </tr>\n",
       "    <tr>\n",
       "      <th>1</th>\n",
       "      <td>2019/02/08 1:49:09 PM GMT</td>\n",
       "      <td>user2</td>\n",
       "      <td>NaN</td>\n",
       "      <td>NaN</td>\n",
       "      <td>NaN</td>\n",
       "      <td>NaN</td>\n",
       "      <td>NaN</td>\n",
       "      <td>NaN</td>\n",
       "      <td>NaN</td>\n",
       "      <td>NaN</td>\n",
       "      <td>...</td>\n",
       "      <td>NaN</td>\n",
       "      <td>NaN</td>\n",
       "      <td>NaN</td>\n",
       "      <td>NaN</td>\n",
       "      <td>NaN</td>\n",
       "      <td>NaN</td>\n",
       "      <td>NaN</td>\n",
       "      <td>NaN</td>\n",
       "      <td>NaN</td>\n",
       "      <td>NaN</td>\n",
       "    </tr>\n",
       "    <tr>\n",
       "      <th>2</th>\n",
       "      <td>2019/02/08 1:54:35 PM GMT</td>\n",
       "      <td>user3</td>\n",
       "      <td>NaN</td>\n",
       "      <td>NaN</td>\n",
       "      <td>NaN</td>\n",
       "      <td>NaN</td>\n",
       "      <td>NaN</td>\n",
       "      <td>NaN</td>\n",
       "      <td>NaN</td>\n",
       "      <td>NaN</td>\n",
       "      <td>...</td>\n",
       "      <td>NaN</td>\n",
       "      <td>NaN</td>\n",
       "      <td>NaN</td>\n",
       "      <td>NaN</td>\n",
       "      <td>NaN</td>\n",
       "      <td>NaN</td>\n",
       "      <td>NaN</td>\n",
       "      <td>NaN</td>\n",
       "      <td>NaN</td>\n",
       "      <td>NaN</td>\n",
       "    </tr>\n",
       "    <tr>\n",
       "      <th>3</th>\n",
       "      <td>2019/02/08 2:13:28 PM GMT</td>\n",
       "      <td>user4</td>\n",
       "      <td>NaN</td>\n",
       "      <td>NaN</td>\n",
       "      <td>NaN</td>\n",
       "      <td>NaN</td>\n",
       "      <td>NaN</td>\n",
       "      <td>NaN</td>\n",
       "      <td>NaN</td>\n",
       "      <td>NaN</td>\n",
       "      <td>...</td>\n",
       "      <td>NaN</td>\n",
       "      <td>NaN</td>\n",
       "      <td>NaN</td>\n",
       "      <td>NaN</td>\n",
       "      <td>NaN</td>\n",
       "      <td>NaN</td>\n",
       "      <td>NaN</td>\n",
       "      <td>NaN</td>\n",
       "      <td>NaN</td>\n",
       "      <td>NaN</td>\n",
       "    </tr>\n",
       "    <tr>\n",
       "      <th>4</th>\n",
       "      <td>2019/02/08 3:22:10 PM GMT</td>\n",
       "      <td>user5</td>\n",
       "      <td>NaN</td>\n",
       "      <td>NaN</td>\n",
       "      <td>NaN</td>\n",
       "      <td>NaN</td>\n",
       "      <td>NaN</td>\n",
       "      <td>NaN</td>\n",
       "      <td>NaN</td>\n",
       "      <td>Label Free Analysis MS1</td>\n",
       "      <td>...</td>\n",
       "      <td>NaN</td>\n",
       "      <td>NaN</td>\n",
       "      <td>NaN</td>\n",
       "      <td>NaN</td>\n",
       "      <td>NaN</td>\n",
       "      <td>NaN</td>\n",
       "      <td>NaN</td>\n",
       "      <td>NaN</td>\n",
       "      <td>NaN</td>\n",
       "      <td>NaN</td>\n",
       "    </tr>\n",
       "  </tbody>\n",
       "</table>\n",
       "<p>5 rows × 67 columns</p>\n",
       "</div>"
      ],
      "text/plain": [
       "                   Timestamp Username What is your current position?  \\\n",
       "0  2019/02/08 1:42:21 PM GMT    user1                            NaN   \n",
       "1  2019/02/08 1:49:09 PM GMT    user2                            NaN   \n",
       "2  2019/02/08 1:54:35 PM GMT    user3                            NaN   \n",
       "3  2019/02/08 2:13:28 PM GMT    user4                            NaN   \n",
       "4  2019/02/08 3:22:10 PM GMT    user5                            NaN   \n",
       "\n",
       "  In what kind of research institute do you work?  \\\n",
       "0                                             NaN   \n",
       "1                                             NaN   \n",
       "2                                             NaN   \n",
       "3                                             NaN   \n",
       "4                                             NaN   \n",
       "\n",
       "  Which of these software do you use for your Quant Analysis.  [TPP (StPeter, Libra, XPress)]  \\\n",
       "0                                                NaN                                            \n",
       "1                                                NaN                                            \n",
       "2                                                NaN                                            \n",
       "3                                                NaN                                            \n",
       "4                                                NaN                                            \n",
       "\n",
       "  Which of these software do you use for your Quant Analysis.  [OpenMS]  \\\n",
       "0                                                NaN                      \n",
       "1                                                NaN                      \n",
       "2                                                NaN                      \n",
       "3                                                NaN                      \n",
       "4                                                NaN                      \n",
       "\n",
       "  Which of these software do you use for your Quant Analysis.  [Other]  \\\n",
       "0                                                NaN                     \n",
       "1                                                NaN                     \n",
       "2                                                NaN                     \n",
       "3                                                NaN                     \n",
       "4                                                NaN                     \n",
       "\n",
       "  Which of these software do you use for your Quant Analysis.  [MSnBase (PMID:22113085)]  \\\n",
       "0                                                NaN                                       \n",
       "1                                                NaN                                       \n",
       "2                                                NaN                                       \n",
       "3                                                NaN                                       \n",
       "4                                                NaN                                       \n",
       "\n",
       "  Which of these software do you use for your Quant Analysis.  [moFF]  \\\n",
       "0                                                NaN                    \n",
       "1                                                NaN                    \n",
       "2                                                NaN                    \n",
       "3                                                NaN                    \n",
       "4                                                NaN                    \n",
       "\n",
       "  Which of these software do you use for your Quant Analysis.  [FlashLFQ (PMID:29083185)]  \\\n",
       "0                                                NaN                                        \n",
       "1                                                NaN                                        \n",
       "2                                                NaN                                        \n",
       "3                                                NaN                                        \n",
       "4                            Label Free Analysis MS1                                        \n",
       "\n",
       "      ...     Search engine and type of analysis  [MSAmanda]  \\\n",
       "0     ...                                                NaN   \n",
       "1     ...                                                NaN   \n",
       "2     ...                                                NaN   \n",
       "3     ...                                                NaN   \n",
       "4     ...                                                NaN   \n",
       "\n",
       "  Search engine and type of analysis  [Mascot]  \\\n",
       "0                                          NaN   \n",
       "1                                          NaN   \n",
       "2                                          NaN   \n",
       "3                                          NaN   \n",
       "4                                          NaN   \n",
       "\n",
       "  Which type of Protein quant data you would like to see more in proteomics resources. (e.g. TPP, ProteomicsDB, etc) [Label-Free Differential expression experiments]  \\\n",
       "0                                                NaN                                                                                                                    \n",
       "1                                                NaN                                                                                                                    \n",
       "2                                                NaN                                                                                                                    \n",
       "3                                                NaN                                                                                                                    \n",
       "4                                                NaN                                                                                                                    \n",
       "\n",
       "  Which type of Protein quant data you would like to see more in proteomics resources. (e.g. TPP, ProteomicsDB, etc) [Label-Free Base line expression experiments]  \\\n",
       "0                                                NaN                                                                                                                 \n",
       "1                                                NaN                                                                                                                 \n",
       "2                                                NaN                                                                                                                 \n",
       "3                                                NaN                                                                                                                 \n",
       "4                                                NaN                                                                                                                 \n",
       "\n",
       "  Which type of Protein quant data you would like to see more in proteomics resources. (e.g. TPP, ProteomicsDB, etc) [TMT Differential expression experiments]  \\\n",
       "0                                                NaN                                                                                                             \n",
       "1                                                NaN                                                                                                             \n",
       "2                                                NaN                                                                                                             \n",
       "3                                                NaN                                                                                                             \n",
       "4                                                NaN                                                                                                             \n",
       "\n",
       "  Which type of Protein quant data you would like to see more in proteomics resources. (e.g. PeptideAtlas, ProteomicsDB, etc) [TMT Base line expression experiments]  \\\n",
       "0                                                NaN                                                                                                                   \n",
       "1                                                NaN                                                                                                                   \n",
       "2                                                NaN                                                                                                                   \n",
       "3                                                NaN                                                                                                                   \n",
       "4                                                NaN                                                                                                                   \n",
       "\n",
       "  Which type of Protein quant data you would like to see more in proteomics resources. (e.g. PeptideAtlas, ProteomicsDB, etc) [SRM/MR expression Experiments]  \\\n",
       "0                                                NaN                                                                                                            \n",
       "1                                                NaN                                                                                                            \n",
       "2                                                NaN                                                                                                            \n",
       "3                                                NaN                                                                                                            \n",
       "4                                                NaN                                                                                                            \n",
       "\n",
       "  Which type of Protein quant data you would like to see more in proteomics resources. (e.g. PeptideAtlas, ProteomicsDB, etc) [DIA/SWATH expression experiments]  \\\n",
       "0                                                NaN                                                                                                               \n",
       "1                                                NaN                                                                                                               \n",
       "2                                                NaN                                                                                                               \n",
       "3                                                NaN                                                                                                               \n",
       "4                                                NaN                                                                                                               \n",
       "\n",
       "  In case you would like to see something else more represented in Proteomics resources let us know.   \\\n",
       "0                                                NaN                                                    \n",
       "1                                                NaN                                                    \n",
       "2                                                NaN                                                    \n",
       "3                                                NaN                                                    \n",
       "4                                                NaN                                                    \n",
       "\n",
       "  Unnamed: 66  \n",
       "0         NaN  \n",
       "1         NaN  \n",
       "2         NaN  \n",
       "3         NaN  \n",
       "4         NaN  \n",
       "\n",
       "[5 rows x 67 columns]"
      ]
     },
     "execution_count": 195,
     "metadata": {},
     "output_type": "execute_result"
    }
   ],
   "source": [
    "import pandas as pd \n",
    "#import plotly.plotly as py\n",
    "import plotly.graph_objs as go\n",
    "from plotly.offline import download_plotlyjs, init_notebook_mode, plot, iplot\n",
    "import plotly.plotly as py\n",
    "\n",
    "init_notebook_mode(connected=True) \n",
    "\n",
    "# Read the poll data \n",
    "data_df = pd.read_csv(\"../data/poll-results-07032019.csv\")\n",
    "data_citations = pd.read_csv(\"../data/citations-count.csv\")\n",
    "data_df.head() "
   ]
  },
  {
   "cell_type": "code",
   "execution_count": 196,
   "metadata": {
    "scrolled": true
   },
   "outputs": [],
   "source": [
    "def get_pie_chart(collection): \n",
    "    \"\"\"\n",
    "    This function returns a pie chart from a collection of elements.\n",
    "    @param collection must be a column from a pandas datframe \n",
    "    \"\"\"\n",
    "    \n",
    "    collection_counts = {} \n",
    "    for word in collection:\n",
    "        token_collection = str(word).split(\";\")\n",
    "        for token in token_collection: \n",
    "            if token.strip() != 'nan':\n",
    "                if token not in collection_counts:\n",
    "                   collection_counts[token] = 0\n",
    "                collection_counts[token] = collection_counts[token] + 1\n",
    "\n",
    "  \n",
    "    trace=go.Pie(labels=[k  for  k in  collection_counts.keys()],values=[k  for  k in  collection_counts.values()])\n",
    "    return trace\n",
    "\n",
    "def get_multioption_bar_data(data_df, question): \n",
    "    \"\"\"\n",
    "    This function get a panda dataframe and an a multioption question and generate a barplot \n",
    "    @param data Pandas data frame\n",
    "    @param question Question (column name prefix)\n",
    "    \"\"\"\n",
    "    column_names = [col for col in data_df.columns if question in col]\n",
    "    values = []\n",
    "    for column in column_names: \n",
    "        value = column[column.find(\"[\") + 1: column.find(\"]\")]\n",
    "        values.append(value)\n",
    "\n",
    "    plot_values = {}\n",
    "\n",
    "    for index, row in data_df.iterrows():\n",
    "        for column in column_names: \n",
    "            column_value = column[column.find(\"[\") + 1: column.find(\"]\")]\n",
    "            complete_value = data_df.at[index,column]\n",
    "            combined_values = str(complete_value).split(\";\")\n",
    "            for value in combined_values: \n",
    "                if value not in values: \n",
    "                    if value in plot_values:\n",
    "                        if column_value in plot_values[value]:\n",
    "                            count = plot_values[value][column_value] + 1\n",
    "                            plot_values[value].update({column_value:count})\n",
    "                        elif ((str(value)).lower() != 'nan'):\n",
    "                            plot_values[value].update({column_value:1})\n",
    "                    elif((str(value)).lower() != 'nan'):\n",
    "                        plot_values[value] = {column_value: 1}\n",
    "\n",
    "    data = [] \n",
    "    for option in plot_values: \n",
    "        trace = go.Bar(x = list(plot_values[option].keys()), y = list(plot_values[option].values()),name = option)\n",
    "        data.append(trace)\n",
    "    return data \n",
    "\n",
    "def get_column_distribution(current_data, question):\n",
    "    \"\"\"\n",
    "    This function provides the distribution for one column question. \n",
    "    \"\"\"\n",
    "    downstream_cols = [col for col in current_data.columns if question in col]\n",
    "    downstream_data = current_data[downstream_cols]\n",
    "\n",
    "    downstream_dic = {}\n",
    "    for index, row in downstream_data.iterrows():\n",
    "        for column in downstream_cols:\n",
    "            sentence = downstream_data.at[index, column]\n",
    "            if(str(sentence).lower() != 'nan'):\n",
    "                values = sentence.split(\";\")\n",
    "                for value in values:\n",
    "                    if value.strip() not in downstream_dic:\n",
    "                       downstream_dic[value.strip()] = 0\n",
    "                    downstream_dic[value.strip()] = downstream_dic[value.strip()] + 1\n",
    "\n",
    "    data = [go.Bar(\n",
    "           x=list(downstream_dic.values()),\n",
    "           y=list(downstream_dic.keys()),\n",
    "           orientation = 'h'\n",
    "     )]\n",
    "    return data\n",
    "    \n",
    "    "
   ]
  },
  {
   "cell_type": "markdown",
   "metadata": {},
   "source": [
    "## Position Distribution\n",
    "\n",
    "Read the position and occupation of every participant of the poll. "
   ]
  },
  {
   "cell_type": "code",
   "execution_count": 197,
   "metadata": {},
   "outputs": [
    {
     "data": {
      "application/vnd.plotly.v1+json": {
       "data": [
        {
         "labels": [
          "Director",
          "Master's student",
          "Developer - Bioinformatician",
          "Master Student",
          "Professor",
          "Consultant",
          "Project Manager",
          "CEO",
          "Principal Investigator",
          "Phd Student",
          "CTO",
          "Scientist",
          "Research Scientist - Staff",
          "Lab Manager",
          "Post-Doc",
          "Head of Core Facility Proteomics",
          "Student",
          "Head proteomics research platform"
         ],
         "type": "pie",
         "uid": "82e9e0d2-f9a7-46ce-b1a9-a988190d58e4",
         "values": [
          6,
          1,
          9,
          1,
          4,
          2,
          7,
          2,
          25,
          40,
          1,
          1,
          41,
          1,
          36,
          1,
          1,
          1
         ]
        }
       ],
       "layout": {}
      },
      "text/html": [
       "<div id=\"6bfe2c30-bd4d-4dec-866a-c344b505c5f3\" style=\"height: 525px; width: 100%;\" class=\"plotly-graph-div\"></div><script type=\"text/javascript\">require([\"plotly\"], function(Plotly) { window.PLOTLYENV=window.PLOTLYENV || {};window.PLOTLYENV.BASE_URL=\"https://plot.ly\";Plotly.newPlot(\"6bfe2c30-bd4d-4dec-866a-c344b505c5f3\", [{\"uid\": \"3f11e9c5-d939-4cdc-8e53-4f30be607ed4\", \"labels\": [\"Director\", \"Master's student\", \"Developer - Bioinformatician\", \"Master Student\", \"Professor\", \"Consultant\", \"Project Manager\", \"CEO\", \"Principal Investigator\", \"Phd Student\", \"CTO\", \"Scientist\", \"Research Scientist - Staff\", \"Lab Manager\", \"Post-Doc\", \"Head of Core Facility Proteomics\", \"Student\", \"Head proteomics research platform\"], \"type\": \"pie\", \"values\": [6, 1, 9, 1, 4, 2, 7, 2, 25, 40, 1, 1, 41, 1, 36, 1, 1, 1]}], {}, {\"showLink\": true, \"linkText\": \"Export to plot.ly\"})});</script><script type=\"text/javascript\">window.addEventListener(\"resize\", function(){window._Plotly.Plots.resize(document.getElementById(\"6bfe2c30-bd4d-4dec-866a-c344b505c5f3\"));});</script>"
      ],
      "text/vnd.plotly.v1+html": [
       "<div id=\"6bfe2c30-bd4d-4dec-866a-c344b505c5f3\" style=\"height: 525px; width: 100%;\" class=\"plotly-graph-div\"></div><script type=\"text/javascript\">require([\"plotly\"], function(Plotly) { window.PLOTLYENV=window.PLOTLYENV || {};window.PLOTLYENV.BASE_URL=\"https://plot.ly\";Plotly.newPlot(\"6bfe2c30-bd4d-4dec-866a-c344b505c5f3\", [{\"uid\": \"3f11e9c5-d939-4cdc-8e53-4f30be607ed4\", \"labels\": [\"Director\", \"Master's student\", \"Developer - Bioinformatician\", \"Master Student\", \"Professor\", \"Consultant\", \"Project Manager\", \"CEO\", \"Principal Investigator\", \"Phd Student\", \"CTO\", \"Scientist\", \"Research Scientist - Staff\", \"Lab Manager\", \"Post-Doc\", \"Head of Core Facility Proteomics\", \"Student\", \"Head proteomics research platform\"], \"type\": \"pie\", \"values\": [6, 1, 9, 1, 4, 2, 7, 2, 25, 40, 1, 1, 41, 1, 36, 1, 1, 1]}], {}, {\"showLink\": true, \"linkText\": \"Export to plot.ly\"})});</script><script type=\"text/javascript\">window.addEventListener(\"resize\", function(){window._Plotly.Plots.resize(document.getElementById(\"6bfe2c30-bd4d-4dec-866a-c344b505c5f3\"));});</script>"
      ]
     },
     "metadata": {},
     "output_type": "display_data"
    }
   ],
   "source": [
    "positions = data_df.iloc[:,2]\n",
    "trace = get_pie_chart(positions)\n",
    "iplot([trace])"
   ]
  },
  {
   "cell_type": "markdown",
   "metadata": {},
   "source": [
    "## Affiliation distribtuion \n",
    "\n",
    "The number of participants in the poll by type of Institution. "
   ]
  },
  {
   "cell_type": "code",
   "execution_count": 198,
   "metadata": {},
   "outputs": [
    {
     "data": {
      "application/vnd.plotly.v1+json": {
       "data": [
        {
         "labels": [
          "Hospital, Research Hospital",
          "University",
          "Core Facility",
          "Research Institute",
          "Company, Start-up, Pharma"
         ],
         "type": "pie",
         "uid": "7ddad8a3-633b-4cb6-800b-2846d603cbb4",
         "values": [
          10,
          86,
          16,
          26,
          20
         ]
        }
       ],
       "layout": {}
      },
      "text/html": [
       "<div id=\"24ec3539-00e3-4ce7-ad2d-e86c9be6af77\" style=\"height: 525px; width: 100%;\" class=\"plotly-graph-div\"></div><script type=\"text/javascript\">require([\"plotly\"], function(Plotly) { window.PLOTLYENV=window.PLOTLYENV || {};window.PLOTLYENV.BASE_URL=\"https://plot.ly\";Plotly.newPlot(\"24ec3539-00e3-4ce7-ad2d-e86c9be6af77\", [{\"uid\": \"7d32e2b2-a25a-4878-b1b5-4a87232dd769\", \"labels\": [\"Hospital, Research Hospital\", \"University\", \"Core Facility\", \"Research Institute\", \"Company, Start-up, Pharma\"], \"type\": \"pie\", \"values\": [10, 86, 16, 26, 20]}], {}, {\"showLink\": true, \"linkText\": \"Export to plot.ly\"})});</script><script type=\"text/javascript\">window.addEventListener(\"resize\", function(){window._Plotly.Plots.resize(document.getElementById(\"24ec3539-00e3-4ce7-ad2d-e86c9be6af77\"));});</script>"
      ],
      "text/vnd.plotly.v1+html": [
       "<div id=\"24ec3539-00e3-4ce7-ad2d-e86c9be6af77\" style=\"height: 525px; width: 100%;\" class=\"plotly-graph-div\"></div><script type=\"text/javascript\">require([\"plotly\"], function(Plotly) { window.PLOTLYENV=window.PLOTLYENV || {};window.PLOTLYENV.BASE_URL=\"https://plot.ly\";Plotly.newPlot(\"24ec3539-00e3-4ce7-ad2d-e86c9be6af77\", [{\"uid\": \"7d32e2b2-a25a-4878-b1b5-4a87232dd769\", \"labels\": [\"Hospital, Research Hospital\", \"University\", \"Core Facility\", \"Research Institute\", \"Company, Start-up, Pharma\"], \"type\": \"pie\", \"values\": [10, 86, 16, 26, 20]}], {}, {\"showLink\": true, \"linkText\": \"Export to plot.ly\"})});</script><script type=\"text/javascript\">window.addEventListener(\"resize\", function(){window._Plotly.Plots.resize(document.getElementById(\"24ec3539-00e3-4ce7-ad2d-e86c9be6af77\"));});</script>"
      ]
     },
     "metadata": {},
     "output_type": "display_data"
    }
   ],
   "source": [
    "affiliations = data_df.iloc[:,3]\n",
    "trace = get_pie_chart(affiliations)     \n",
    "iplot([trace])"
   ]
  },
  {
   "cell_type": "markdown",
   "metadata": {},
   "source": [
    "## Which of these software do you use for your Quant Analysis\n",
    "\n",
    "These plots will show the usage of Quantification software. "
   ]
  },
  {
   "cell_type": "code",
   "execution_count": 199,
   "metadata": {},
   "outputs": [
    {
     "data": {
      "application/vnd.plotly.v1+json": {
       "data": [
        {
         "name": "Phospho Quant analysis",
         "type": "bar",
         "uid": "7f8e4e37-6b62-491b-80a4-1f4b1b2fafda",
         "x": [
          "OpenMS",
          "Other",
          "MaxQuant",
          "Patterlab (PMID:26658470)",
          "Skyline",
          "Philosopher (Alexey Lab)",
          "EncyclopeDIA (PMID: 30510204)",
          "TPP (StPeter, Libra, XPress)"
         ],
         "y": [
          5,
          8,
          49,
          1,
          11,
          4,
          1,
          2
         ]
        },
        {
         "name": "SILAC analysis",
         "type": "bar",
         "uid": "8c3b3931-a1d8-4bff-a302-4a583ac6b58c",
         "x": [
          "FlashLFQ (PMID:29083185)",
          "Census",
          "Other",
          "MaxQuant",
          "OpenMS",
          "Skyline",
          "MSnBase (PMID:22113085)",
          "TPP (StPeter, Libra, XPress)"
         ],
         "y": [
          2,
          1,
          4,
          58,
          7,
          11,
          1,
          1
         ]
        },
        {
         "name": "Label Free Analysis MS1",
         "type": "bar",
         "uid": "7293bd2f-6cdc-4d9c-8288-9fee118b4abe",
         "x": [
          "Other",
          "MaxQuant",
          "Patterlab (PMID:26658470)",
          "Skyline",
          "Philosopher (Alexey Lab)",
          "moFF",
          "OpenMS",
          "FlashLFQ (PMID:29083185)",
          "MSnBase (PMID:22113085)",
          "diffacto",
          "Proline (http://www.profiproteomics.fr)",
          "TPP (StPeter, Libra, XPress)"
         ],
         "y": [
          12,
          101,
          4,
          33,
          10,
          4,
          16,
          16,
          1,
          1,
          1,
          1
         ]
        },
        {
         "name": "TMT analysis",
         "type": "bar",
         "uid": "2c43ea8b-0b6e-40dc-8517-83edd119734f",
         "x": [
          "OpenMS",
          "Other",
          "MSnBase (PMID:22113085)",
          "MaxQuant",
          "Patterlab (PMID:26658470)",
          "Skyline",
          "Philosopher (Alexey Lab)",
          "EncyclopeDIA (PMID: 30510204)",
          "TPP (StPeter, Libra, XPress)"
         ],
         "y": [
          9,
          11,
          2,
          51,
          2,
          4,
          7,
          1,
          2
         ]
        },
        {
         "name": "SWATH / DIA Quant",
         "type": "bar",
         "uid": "6fb4590d-4d04-4f6a-8b7d-b9f104cb078b",
         "x": [
          "OpenMS",
          "Other",
          "MaxQuant",
          "Skyline",
          "diffacto",
          "Philosopher (Alexey Lab)",
          "EncyclopeDIA (PMID: 30510204)",
          "TPP (StPeter, Libra, XPress)"
         ],
         "y": [
          12,
          7,
          6,
          34,
          1,
          1,
          3,
          2
         ]
        },
        {
         "name": "Other Quant analysis",
         "type": "bar",
         "uid": "e6569e99-10ea-4e2a-a03b-511797ddc4cc",
         "x": [
          "FlashLFQ (PMID:29083185)",
          "OpenMS",
          "Other",
          "HIQuant (PMID:30282776)",
          "MaxQuant",
          "MSnBase (PMID:22113085)",
          "Patterlab (PMID:26658470)",
          "Skyline",
          "Philosopher (Alexey Lab)",
          "TPP (StPeter, Libra, XPress)"
         ],
         "y": [
          2,
          11,
          9,
          1,
          16,
          2,
          2,
          36,
          5,
          2
         ]
        },
        {
         "name": "Label Free Spectral Count Analysis",
         "type": "bar",
         "uid": "9b4eba0b-679b-4949-8ddc-324c4e7cb733",
         "x": [
          "Other",
          "MaxQuant",
          "OpenMS",
          "Skyline",
          "Philosopher (Alexey Lab)",
          "moFF",
          "Patterlab (PMID:26658470)",
          "FlashLFQ (PMID:29083185)",
          "MSnBase (PMID:22113085)",
          "EncyclopeDIA (PMID: 30510204)",
          "TPP (StPeter, Libra, XPress)"
         ],
         "y": [
          13,
          33,
          4,
          6,
          8,
          1,
          4,
          2,
          1,
          1,
          1
         ]
        }
       ],
       "layout": {
        "barmode": "group"
       }
      },
      "text/html": [
       "<div id=\"7a88ba46-e36a-4e0d-9f0d-ac9c65b2ccc7\" style=\"height: 525px; width: 100%;\" class=\"plotly-graph-div\"></div><script type=\"text/javascript\">require([\"plotly\"], function(Plotly) { window.PLOTLYENV=window.PLOTLYENV || {};window.PLOTLYENV.BASE_URL=\"https://plot.ly\";Plotly.newPlot(\"7a88ba46-e36a-4e0d-9f0d-ac9c65b2ccc7\", [{\"uid\": \"7f8e4e37-6b62-491b-80a4-1f4b1b2fafda\", \"y\": [5, 8, 49, 1, 11, 4, 1, 2], \"name\": \"Phospho Quant analysis\", \"x\": [\"OpenMS\", \"Other\", \"MaxQuant\", \"Patterlab (PMID:26658470)\", \"Skyline\", \"Philosopher (Alexey Lab)\", \"EncyclopeDIA (PMID: 30510204)\", \"TPP (StPeter, Libra, XPress)\"], \"type\": \"bar\"}, {\"uid\": \"8c3b3931-a1d8-4bff-a302-4a583ac6b58c\", \"y\": [2, 1, 4, 58, 7, 11, 1, 1], \"name\": \"SILAC analysis\", \"x\": [\"FlashLFQ (PMID:29083185)\", \"Census\", \"Other\", \"MaxQuant\", \"OpenMS\", \"Skyline\", \"MSnBase (PMID:22113085)\", \"TPP (StPeter, Libra, XPress)\"], \"type\": \"bar\"}, {\"uid\": \"7293bd2f-6cdc-4d9c-8288-9fee118b4abe\", \"y\": [12, 101, 4, 33, 10, 4, 16, 16, 1, 1, 1, 1], \"name\": \"Label Free Analysis MS1\", \"x\": [\"Other\", \"MaxQuant\", \"Patterlab (PMID:26658470)\", \"Skyline\", \"Philosopher (Alexey Lab)\", \"moFF\", \"OpenMS\", \"FlashLFQ (PMID:29083185)\", \"MSnBase (PMID:22113085)\", \"diffacto\", \"Proline (http://www.profiproteomics.fr)\", \"TPP (StPeter, Libra, XPress)\"], \"type\": \"bar\"}, {\"uid\": \"2c43ea8b-0b6e-40dc-8517-83edd119734f\", \"y\": [9, 11, 2, 51, 2, 4, 7, 1, 2], \"name\": \"TMT analysis\", \"x\": [\"OpenMS\", \"Other\", \"MSnBase (PMID:22113085)\", \"MaxQuant\", \"Patterlab (PMID:26658470)\", \"Skyline\", \"Philosopher (Alexey Lab)\", \"EncyclopeDIA (PMID: 30510204)\", \"TPP (StPeter, Libra, XPress)\"], \"type\": \"bar\"}, {\"uid\": \"6fb4590d-4d04-4f6a-8b7d-b9f104cb078b\", \"y\": [12, 7, 6, 34, 1, 1, 3, 2], \"name\": \"SWATH / DIA Quant\", \"x\": [\"OpenMS\", \"Other\", \"MaxQuant\", \"Skyline\", \"diffacto\", \"Philosopher (Alexey Lab)\", \"EncyclopeDIA (PMID: 30510204)\", \"TPP (StPeter, Libra, XPress)\"], \"type\": \"bar\"}, {\"uid\": \"e6569e99-10ea-4e2a-a03b-511797ddc4cc\", \"y\": [2, 11, 9, 1, 16, 2, 2, 36, 5, 2], \"name\": \"Other Quant analysis\", \"x\": [\"FlashLFQ (PMID:29083185)\", \"OpenMS\", \"Other\", \"HIQuant (PMID:30282776)\", \"MaxQuant\", \"MSnBase (PMID:22113085)\", \"Patterlab (PMID:26658470)\", \"Skyline\", \"Philosopher (Alexey Lab)\", \"TPP (StPeter, Libra, XPress)\"], \"type\": \"bar\"}, {\"uid\": \"9b4eba0b-679b-4949-8ddc-324c4e7cb733\", \"y\": [13, 33, 4, 6, 8, 1, 4, 2, 1, 1, 1], \"name\": \"Label Free Spectral Count Analysis\", \"x\": [\"Other\", \"MaxQuant\", \"OpenMS\", \"Skyline\", \"Philosopher (Alexey Lab)\", \"moFF\", \"Patterlab (PMID:26658470)\", \"FlashLFQ (PMID:29083185)\", \"MSnBase (PMID:22113085)\", \"EncyclopeDIA (PMID: 30510204)\", \"TPP (StPeter, Libra, XPress)\"], \"type\": \"bar\"}], {\"barmode\": \"group\"}, {\"showLink\": true, \"linkText\": \"Export to plot.ly\"})});</script><script type=\"text/javascript\">window.addEventListener(\"resize\", function(){window._Plotly.Plots.resize(document.getElementById(\"7a88ba46-e36a-4e0d-9f0d-ac9c65b2ccc7\"));});</script>"
      ],
      "text/vnd.plotly.v1+html": [
       "<div id=\"7a88ba46-e36a-4e0d-9f0d-ac9c65b2ccc7\" style=\"height: 525px; width: 100%;\" class=\"plotly-graph-div\"></div><script type=\"text/javascript\">require([\"plotly\"], function(Plotly) { window.PLOTLYENV=window.PLOTLYENV || {};window.PLOTLYENV.BASE_URL=\"https://plot.ly\";Plotly.newPlot(\"7a88ba46-e36a-4e0d-9f0d-ac9c65b2ccc7\", [{\"uid\": \"7f8e4e37-6b62-491b-80a4-1f4b1b2fafda\", \"y\": [5, 8, 49, 1, 11, 4, 1, 2], \"name\": \"Phospho Quant analysis\", \"x\": [\"OpenMS\", \"Other\", \"MaxQuant\", \"Patterlab (PMID:26658470)\", \"Skyline\", \"Philosopher (Alexey Lab)\", \"EncyclopeDIA (PMID: 30510204)\", \"TPP (StPeter, Libra, XPress)\"], \"type\": \"bar\"}, {\"uid\": \"8c3b3931-a1d8-4bff-a302-4a583ac6b58c\", \"y\": [2, 1, 4, 58, 7, 11, 1, 1], \"name\": \"SILAC analysis\", \"x\": [\"FlashLFQ (PMID:29083185)\", \"Census\", \"Other\", \"MaxQuant\", \"OpenMS\", \"Skyline\", \"MSnBase (PMID:22113085)\", \"TPP (StPeter, Libra, XPress)\"], \"type\": \"bar\"}, {\"uid\": \"7293bd2f-6cdc-4d9c-8288-9fee118b4abe\", \"y\": [12, 101, 4, 33, 10, 4, 16, 16, 1, 1, 1, 1], \"name\": \"Label Free Analysis MS1\", \"x\": [\"Other\", \"MaxQuant\", \"Patterlab (PMID:26658470)\", \"Skyline\", \"Philosopher (Alexey Lab)\", \"moFF\", \"OpenMS\", \"FlashLFQ (PMID:29083185)\", \"MSnBase (PMID:22113085)\", \"diffacto\", \"Proline (http://www.profiproteomics.fr)\", \"TPP (StPeter, Libra, XPress)\"], \"type\": \"bar\"}, {\"uid\": \"2c43ea8b-0b6e-40dc-8517-83edd119734f\", \"y\": [9, 11, 2, 51, 2, 4, 7, 1, 2], \"name\": \"TMT analysis\", \"x\": [\"OpenMS\", \"Other\", \"MSnBase (PMID:22113085)\", \"MaxQuant\", \"Patterlab (PMID:26658470)\", \"Skyline\", \"Philosopher (Alexey Lab)\", \"EncyclopeDIA (PMID: 30510204)\", \"TPP (StPeter, Libra, XPress)\"], \"type\": \"bar\"}, {\"uid\": \"6fb4590d-4d04-4f6a-8b7d-b9f104cb078b\", \"y\": [12, 7, 6, 34, 1, 1, 3, 2], \"name\": \"SWATH / DIA Quant\", \"x\": [\"OpenMS\", \"Other\", \"MaxQuant\", \"Skyline\", \"diffacto\", \"Philosopher (Alexey Lab)\", \"EncyclopeDIA (PMID: 30510204)\", \"TPP (StPeter, Libra, XPress)\"], \"type\": \"bar\"}, {\"uid\": \"e6569e99-10ea-4e2a-a03b-511797ddc4cc\", \"y\": [2, 11, 9, 1, 16, 2, 2, 36, 5, 2], \"name\": \"Other Quant analysis\", \"x\": [\"FlashLFQ (PMID:29083185)\", \"OpenMS\", \"Other\", \"HIQuant (PMID:30282776)\", \"MaxQuant\", \"MSnBase (PMID:22113085)\", \"Patterlab (PMID:26658470)\", \"Skyline\", \"Philosopher (Alexey Lab)\", \"TPP (StPeter, Libra, XPress)\"], \"type\": \"bar\"}, {\"uid\": \"9b4eba0b-679b-4949-8ddc-324c4e7cb733\", \"y\": [13, 33, 4, 6, 8, 1, 4, 2, 1, 1, 1], \"name\": \"Label Free Spectral Count Analysis\", \"x\": [\"Other\", \"MaxQuant\", \"OpenMS\", \"Skyline\", \"Philosopher (Alexey Lab)\", \"moFF\", \"Patterlab (PMID:26658470)\", \"FlashLFQ (PMID:29083185)\", \"MSnBase (PMID:22113085)\", \"EncyclopeDIA (PMID: 30510204)\", \"TPP (StPeter, Libra, XPress)\"], \"type\": \"bar\"}], {\"barmode\": \"group\"}, {\"showLink\": true, \"linkText\": \"Export to plot.ly\"})});</script><script type=\"text/javascript\">window.addEventListener(\"resize\", function(){window._Plotly.Plots.resize(document.getElementById(\"7a88ba46-e36a-4e0d-9f0d-ac9c65b2ccc7\"));});</script>"
      ]
     },
     "metadata": {},
     "output_type": "display_data"
    }
   ],
   "source": [
    "question = \"Which of these software do you use for your Quant Analysis\"\n",
    "data = get_multioption_bar_data(data_df, question)\n",
    "layout = go.Layout(barmode='group')\n",
    "fig = go.Figure(data=data, layout=layout)\n",
    "iplot(fig, filename='grouped-bar')\n"
   ]
  },
  {
   "cell_type": "markdown",
   "metadata": {},
   "source": [
    "## Which commercial software do you use for your Quant Analysis\n",
    "\n",
    "These plots will show the usage of Quantification software (Commercial software). "
   ]
  },
  {
   "cell_type": "code",
   "execution_count": 200,
   "metadata": {},
   "outputs": [
    {
     "data": {
      "application/vnd.plotly.v1+json": {
       "data": [
        {
         "name": "Phospho Quant analysis",
         "type": "bar",
         "uid": "bef06731-0514-4f1a-a6d5-bd8d469edf6e",
         "x": [
          "Scaffold",
          "Other",
          "Spectronaut",
          "Proteome Discover",
          "Peaks",
          "Mascot ",
          "Peak View ",
          "Progenesis"
         ],
         "y": [
          6,
          1,
          3,
          26,
          4,
          12,
          1,
          2
         ]
        },
        {
         "name": "SILAC analysis",
         "type": "bar",
         "uid": "ca4cc4de-a758-4d31-be15-66e2c7a8e13a",
         "x": [
          "Scaffold",
          "Peaks",
          "Proteome Discover",
          "Mascot ",
          "Progenesis"
         ],
         "y": [
          6,
          3,
          27,
          12,
          2
         ]
        },
        {
         "name": "Label Free Analysis MS1",
         "type": "bar",
         "uid": "a24e74c5-847a-4ed0-93ba-ed1b7d60b958",
         "x": [
          "Scaffold",
          "Other",
          "Peaks",
          "Proteome Discover",
          "Spectronaut",
          "Mascot ",
          "Peak View ",
          "Progenesis"
         ],
         "y": [
          8,
          3,
          12,
          47,
          3,
          24,
          1,
          18
         ]
        },
        {
         "name": "TMT analysis",
         "type": "bar",
         "uid": "ca225067-6535-4b2d-810b-ec0b6c19589f",
         "x": [
          "Scaffold",
          "Other",
          "Peaks",
          "Proteome Discover",
          "Mascot "
         ],
         "y": [
          4,
          1,
          5,
          47,
          14
         ]
        },
        {
         "name": "SWATH / DIA Quant",
         "type": "bar",
         "uid": "9f6b089b-13ae-4fcf-b2eb-0edcf2447966",
         "x": [
          "Scaffold",
          "Spectronaut",
          "Proteome Discover",
          "Peaks",
          "Mascot ",
          "Peak View "
         ],
         "y": [
          3,
          23,
          4,
          2,
          3,
          2
         ]
        },
        {
         "name": "Other Quant analysis",
         "type": "bar",
         "uid": "cd59e3bc-c69c-49ee-ac14-0e1ddfd0ac7d",
         "x": [
          "Scaffold",
          "Other",
          "Spectronaut",
          "Proteome Discover",
          "Peaks",
          "Mascot ",
          "Progenesis"
         ],
         "y": [
          5,
          1,
          1,
          14,
          3,
          9,
          2
         ]
        },
        {
         "name": "Label Free Spectral Count Analysis",
         "type": "bar",
         "uid": "40fa6683-95ae-474a-9fe1-476311b67a82",
         "x": [
          "Scaffold",
          "Other",
          "Peaks",
          "Proteome Discover",
          "Mascot "
         ],
         "y": [
          16,
          3,
          6,
          23,
          16
         ]
        }
       ],
       "layout": {
        "barmode": "group"
       }
      },
      "text/html": [
       "<div id=\"e99253bc-3e75-4255-a021-4729f9fed037\" style=\"height: 525px; width: 100%;\" class=\"plotly-graph-div\"></div><script type=\"text/javascript\">require([\"plotly\"], function(Plotly) { window.PLOTLYENV=window.PLOTLYENV || {};window.PLOTLYENV.BASE_URL=\"https://plot.ly\";Plotly.newPlot(\"e99253bc-3e75-4255-a021-4729f9fed037\", [{\"uid\": \"bef06731-0514-4f1a-a6d5-bd8d469edf6e\", \"y\": [6, 1, 3, 26, 4, 12, 1, 2], \"name\": \"Phospho Quant analysis\", \"x\": [\"Scaffold\", \"Other\", \"Spectronaut\", \"Proteome Discover\", \"Peaks\", \"Mascot \", \"Peak View \", \"Progenesis\"], \"type\": \"bar\"}, {\"uid\": \"ca4cc4de-a758-4d31-be15-66e2c7a8e13a\", \"y\": [6, 3, 27, 12, 2], \"name\": \"SILAC analysis\", \"x\": [\"Scaffold\", \"Peaks\", \"Proteome Discover\", \"Mascot \", \"Progenesis\"], \"type\": \"bar\"}, {\"uid\": \"a24e74c5-847a-4ed0-93ba-ed1b7d60b958\", \"y\": [8, 3, 12, 47, 3, 24, 1, 18], \"name\": \"Label Free Analysis MS1\", \"x\": [\"Scaffold\", \"Other\", \"Peaks\", \"Proteome Discover\", \"Spectronaut\", \"Mascot \", \"Peak View \", \"Progenesis\"], \"type\": \"bar\"}, {\"uid\": \"ca225067-6535-4b2d-810b-ec0b6c19589f\", \"y\": [4, 1, 5, 47, 14], \"name\": \"TMT analysis\", \"x\": [\"Scaffold\", \"Other\", \"Peaks\", \"Proteome Discover\", \"Mascot \"], \"type\": \"bar\"}, {\"uid\": \"9f6b089b-13ae-4fcf-b2eb-0edcf2447966\", \"y\": [3, 23, 4, 2, 3, 2], \"name\": \"SWATH / DIA Quant\", \"x\": [\"Scaffold\", \"Spectronaut\", \"Proteome Discover\", \"Peaks\", \"Mascot \", \"Peak View \"], \"type\": \"bar\"}, {\"uid\": \"cd59e3bc-c69c-49ee-ac14-0e1ddfd0ac7d\", \"y\": [5, 1, 1, 14, 3, 9, 2], \"name\": \"Other Quant analysis\", \"x\": [\"Scaffold\", \"Other\", \"Spectronaut\", \"Proteome Discover\", \"Peaks\", \"Mascot \", \"Progenesis\"], \"type\": \"bar\"}, {\"uid\": \"40fa6683-95ae-474a-9fe1-476311b67a82\", \"y\": [16, 3, 6, 23, 16], \"name\": \"Label Free Spectral Count Analysis\", \"x\": [\"Scaffold\", \"Other\", \"Peaks\", \"Proteome Discover\", \"Mascot \"], \"type\": \"bar\"}], {\"barmode\": \"group\"}, {\"showLink\": true, \"linkText\": \"Export to plot.ly\"})});</script><script type=\"text/javascript\">window.addEventListener(\"resize\", function(){window._Plotly.Plots.resize(document.getElementById(\"e99253bc-3e75-4255-a021-4729f9fed037\"));});</script>"
      ],
      "text/vnd.plotly.v1+html": [
       "<div id=\"e99253bc-3e75-4255-a021-4729f9fed037\" style=\"height: 525px; width: 100%;\" class=\"plotly-graph-div\"></div><script type=\"text/javascript\">require([\"plotly\"], function(Plotly) { window.PLOTLYENV=window.PLOTLYENV || {};window.PLOTLYENV.BASE_URL=\"https://plot.ly\";Plotly.newPlot(\"e99253bc-3e75-4255-a021-4729f9fed037\", [{\"uid\": \"bef06731-0514-4f1a-a6d5-bd8d469edf6e\", \"y\": [6, 1, 3, 26, 4, 12, 1, 2], \"name\": \"Phospho Quant analysis\", \"x\": [\"Scaffold\", \"Other\", \"Spectronaut\", \"Proteome Discover\", \"Peaks\", \"Mascot \", \"Peak View \", \"Progenesis\"], \"type\": \"bar\"}, {\"uid\": \"ca4cc4de-a758-4d31-be15-66e2c7a8e13a\", \"y\": [6, 3, 27, 12, 2], \"name\": \"SILAC analysis\", \"x\": [\"Scaffold\", \"Peaks\", \"Proteome Discover\", \"Mascot \", \"Progenesis\"], \"type\": \"bar\"}, {\"uid\": \"a24e74c5-847a-4ed0-93ba-ed1b7d60b958\", \"y\": [8, 3, 12, 47, 3, 24, 1, 18], \"name\": \"Label Free Analysis MS1\", \"x\": [\"Scaffold\", \"Other\", \"Peaks\", \"Proteome Discover\", \"Spectronaut\", \"Mascot \", \"Peak View \", \"Progenesis\"], \"type\": \"bar\"}, {\"uid\": \"ca225067-6535-4b2d-810b-ec0b6c19589f\", \"y\": [4, 1, 5, 47, 14], \"name\": \"TMT analysis\", \"x\": [\"Scaffold\", \"Other\", \"Peaks\", \"Proteome Discover\", \"Mascot \"], \"type\": \"bar\"}, {\"uid\": \"9f6b089b-13ae-4fcf-b2eb-0edcf2447966\", \"y\": [3, 23, 4, 2, 3, 2], \"name\": \"SWATH / DIA Quant\", \"x\": [\"Scaffold\", \"Spectronaut\", \"Proteome Discover\", \"Peaks\", \"Mascot \", \"Peak View \"], \"type\": \"bar\"}, {\"uid\": \"cd59e3bc-c69c-49ee-ac14-0e1ddfd0ac7d\", \"y\": [5, 1, 1, 14, 3, 9, 2], \"name\": \"Other Quant analysis\", \"x\": [\"Scaffold\", \"Other\", \"Spectronaut\", \"Proteome Discover\", \"Peaks\", \"Mascot \", \"Progenesis\"], \"type\": \"bar\"}, {\"uid\": \"40fa6683-95ae-474a-9fe1-476311b67a82\", \"y\": [16, 3, 6, 23, 16], \"name\": \"Label Free Spectral Count Analysis\", \"x\": [\"Scaffold\", \"Other\", \"Peaks\", \"Proteome Discover\", \"Mascot \"], \"type\": \"bar\"}], {\"barmode\": \"group\"}, {\"showLink\": true, \"linkText\": \"Export to plot.ly\"})});</script><script type=\"text/javascript\">window.addEventListener(\"resize\", function(){window._Plotly.Plots.resize(document.getElementById(\"e99253bc-3e75-4255-a021-4729f9fed037\"));});</script>"
      ]
     },
     "metadata": {},
     "output_type": "display_data"
    }
   ],
   "source": [
    "question = \"Which commercial software do you use for your Quant Analysis\"\n",
    "data = get_multioption_bar_data(data_df, question)\n",
    "layout = go.Layout(barmode='group')\n",
    "fig = go.Figure(data=data, layout=layout)\n",
    "iplot(fig, filename='grouped-bar')"
   ]
  },
  {
   "cell_type": "markdown",
   "metadata": {},
   "source": [
    "## Relevant software features during the selection process \n",
    "\n",
    "The purpose of this question is to know, whta kind of features the users of Computational proteomics software consider more relevant."
   ]
  },
  {
   "cell_type": "code",
   "execution_count": 201,
   "metadata": {},
   "outputs": [
    {
     "data": {
      "application/vnd.plotly.v1+json": {
       "data": [
        {
         "name": "Quality of the Results",
         "type": "bar",
         "uid": "247cb0da-561d-4b27-b9e8-8fc060a4fd37",
         "x": [
          "Other",
          "MaxQuant",
          "Patterlab (PMID:26658470)",
          "MSnBase (PMID:22113085)",
          "Philosopher (Alexey Lab)",
          "moFF",
          "OpenMS",
          "FlashLFQ (PMID:29083185)",
          "Skyline",
          "EncyclopeDIA (PMID: 30510204)",
          "Proline (http://www.profiproteomics.fr)",
          "diffacto",
          "TPP (StPeter, Libra, XPress)"
         ],
         "y": [
          1,
          34,
          3,
          1,
          2,
          1,
          5,
          10,
          18,
          2,
          1,
          1,
          1
         ]
        },
        {
         "name": "Free",
         "type": "bar",
         "uid": "7252565d-3c75-4123-9864-5c80948439d9",
         "x": [
          "Other",
          "MaxQuant",
          "Patterlab (PMID:26658470)",
          "Skyline",
          "Philosopher (Alexey Lab)",
          "moFF",
          "OpenMS",
          "FlashLFQ (PMID:29083185)",
          "MSnBase (PMID:22113085)",
          "diffacto",
          "Proline (http://www.profiproteomics.fr)",
          "EncyclopeDIA (PMID: 30510204)",
          "TPP (StPeter, Libra, XPress)"
         ],
         "y": [
          1,
          37,
          5,
          19,
          4,
          1,
          9,
          10,
          2,
          1,
          1,
          3,
          1
         ]
        },
        {
         "name": "Easy to use",
         "type": "bar",
         "uid": "fc83eadc-4d59-4f78-8d1e-90b8cc3fcd3c",
         "x": [
          "Other",
          "MaxQuant",
          "Patterlab (PMID:26658470)",
          "Skyline",
          "Philosopher (Alexey Lab)",
          "moFF",
          "OpenMS",
          "FlashLFQ (PMID:29083185)",
          "MSnBase (PMID:22113085)",
          "EncyclopeDIA (PMID: 30510204)",
          "Proline (http://www.profiproteomics.fr)",
          "TPP (StPeter, Libra, XPress)"
         ],
         "y": [
          3,
          29,
          4,
          16,
          3,
          1,
          4,
          11,
          1,
          2,
          1,
          1
         ]
        },
        {
         "name": "Easy to run in HPC / Cloud enviroments",
         "type": "bar",
         "uid": "3bc1cb3a-1a1b-4b8f-a981-3b28816f3cdf",
         "x": [
          "OpenMS",
          "FlashLFQ (PMID:29083185)",
          "MaxQuant",
          "Patterlab (PMID:26658470)",
          "Skyline",
          "Philosopher (Alexey Lab)",
          "moFF",
          "MSnBase (PMID:22113085)",
          "TPP (StPeter, Libra, XPress)"
         ],
         "y": [
          4,
          1,
          3,
          1,
          1,
          2,
          1,
          1,
          1
         ]
        },
        {
         "name": "Open Source",
         "type": "bar",
         "uid": "d93fb087-a70b-45d6-b8fa-b812352ab6bc",
         "x": [
          "MaxQuant",
          "Patterlab (PMID:26658470)",
          "Skyline",
          "Philosopher (Alexey Lab)",
          "moFF",
          "OpenMS",
          "FlashLFQ (PMID:29083185)",
          "MSnBase (PMID:22113085)",
          "diffacto",
          "EncyclopeDIA (PMID: 30510204)",
          "TPP (StPeter, Libra, XPress)"
         ],
         "y": [
          11,
          2,
          10,
          2,
          2,
          12,
          7,
          2,
          1,
          2,
          1
         ]
        },
        {
         "name": "Maturity (No much errors)",
         "type": "bar",
         "uid": "d14ff04e-4759-45a7-97fd-02c3b394e788",
         "x": [
          "OpenMS",
          "FlashLFQ (PMID:29083185)",
          "MSnBase (PMID:22113085)",
          "MaxQuant",
          "Patterlab (PMID:26658470)",
          "Skyline",
          "EncyclopeDIA (PMID: 30510204)",
          "Philosopher (Alexey Lab)",
          "TPP (StPeter, Libra, XPress)"
         ],
         "y": [
          1,
          2,
          1,
          18,
          1,
          11,
          1,
          2,
          1
         ]
        },
        {
         "name": "Desktop Application",
         "type": "bar",
         "uid": "9d16013c-1727-42c9-bc2e-d5cbe604c04a",
         "x": [
          "OpenMS",
          "FlashLFQ (PMID:29083185)",
          "MaxQuant",
          "MSnBase (PMID:22113085)",
          "Patterlab (PMID:26658470)",
          "Skyline",
          "EncyclopeDIA (PMID: 30510204)",
          "moFF",
          "Other"
         ],
         "y": [
          3,
          10,
          21,
          2,
          2,
          15,
          2,
          1,
          2
         ]
        },
        {
         "name": "Flexibility to develop pipelines",
         "type": "bar",
         "uid": "2c971e33-a32b-4fa1-9623-8d80942749dd",
         "x": [
          "OpenMS",
          "Patterlab (PMID:26658470)",
          "FlashLFQ (PMID:29083185)",
          "TPP (StPeter, Libra, XPress)",
          "MaxQuant",
          "Skyline",
          "MSnBase (PMID:22113085)",
          "Philosopher (Alexey Lab)",
          "moFF",
          "Other"
         ],
         "y": [
          8,
          2,
          4,
          1,
          1,
          4,
          2,
          3,
          2,
          1
         ]
        },
        {
         "name": "Documentation and Support",
         "type": "bar",
         "uid": "2622cf61-7374-4803-8f29-3888eb5900e8",
         "x": [
          "Other",
          "MaxQuant",
          "OpenMS",
          "Skyline",
          "Philosopher (Alexey Lab)",
          "moFF",
          "Patterlab (PMID:26658470)",
          "FlashLFQ (PMID:29083185)",
          "MSnBase (PMID:22113085)",
          "EncyclopeDIA (PMID: 30510204)",
          "TPP (StPeter, Libra, XPress)"
         ],
         "y": [
          2,
          11,
          6,
          18,
          1,
          1,
          2,
          12,
          2,
          1,
          1
         ]
        },
        {
         "name": "Internal benchmark with other tools suggest better/similar results",
         "type": "bar",
         "uid": "4c6358ff-a613-43ab-bda6-7f9c5f1bf300",
         "x": [
          "Proline (http://www.profiproteomics.fr)",
          "Patterlab (PMID:26658470)",
          "FlashLFQ (PMID:29083185)",
          "MaxQuant",
          "OpenMS",
          "Skyline",
          "diffacto",
          "moFF",
          "Philosopher (Alexey Lab)",
          "TPP (StPeter, Libra, XPress)"
         ],
         "y": [
          1,
          2,
          5,
          13,
          1,
          3,
          1,
          1,
          1,
          1
         ]
        },
        {
         "name": "Compatibility with other softwares",
         "type": "bar",
         "uid": "e79e2d23-8fae-49a1-8032-e7ee668f635d",
         "x": [
          "OpenMS",
          "FlashLFQ (PMID:29083185)",
          "MaxQuant",
          "MSnBase (PMID:22113085)",
          "Patterlab (PMID:26658470)",
          "Skyline",
          "EncyclopeDIA (PMID: 30510204)",
          "moFF",
          "Philosopher (Alexey Lab)",
          "TPP (StPeter, Libra, XPress)"
         ],
         "y": [
          5,
          4,
          9,
          1,
          1,
          9,
          1,
          1,
          2,
          1
         ]
        },
        {
         "name": "Support for multiple Quant methods",
         "type": "bar",
         "uid": "37e31a97-78ba-4b30-9e20-ed393f8ca3bb",
         "x": [
          "OpenMS",
          "FlashLFQ (PMID:29083185)",
          "MSnBase (PMID:22113085)",
          "MaxQuant",
          "Other",
          "Patterlab (PMID:26658470)",
          "Skyline",
          "EncyclopeDIA (PMID: 30510204)",
          "Philosopher (Alexey Lab)",
          "TPP (StPeter, Libra, XPress)"
         ],
         "y": [
          5,
          3,
          1,
          28,
          1,
          1,
          12,
          1,
          2,
          1
         ]
        }
       ],
       "layout": {
        "barmode": "group",
        "legend": {
         "font": {
          "color": "#000",
          "family": "sans-serif",
          "size": 10
         },
         "x": 1,
         "y": 1
        }
       }
      },
      "text/html": [
       "<div id=\"66a9509b-dd65-4531-acc5-964b6ef74437\" style=\"height: 525px; width: 100%;\" class=\"plotly-graph-div\"></div><script type=\"text/javascript\">require([\"plotly\"], function(Plotly) { window.PLOTLYENV=window.PLOTLYENV || {};window.PLOTLYENV.BASE_URL=\"https://plot.ly\";Plotly.newPlot(\"66a9509b-dd65-4531-acc5-964b6ef74437\", [{\"uid\": \"247cb0da-561d-4b27-b9e8-8fc060a4fd37\", \"y\": [1, 34, 3, 1, 2, 1, 5, 10, 18, 2, 1, 1, 1], \"name\": \"Quality of the Results\", \"x\": [\"Other\", \"MaxQuant\", \"Patterlab (PMID:26658470)\", \"MSnBase (PMID:22113085)\", \"Philosopher (Alexey Lab)\", \"moFF\", \"OpenMS\", \"FlashLFQ (PMID:29083185)\", \"Skyline\", \"EncyclopeDIA (PMID: 30510204)\", \"Proline (http://www.profiproteomics.fr)\", \"diffacto\", \"TPP (StPeter, Libra, XPress)\"], \"type\": \"bar\"}, {\"uid\": \"7252565d-3c75-4123-9864-5c80948439d9\", \"y\": [1, 37, 5, 19, 4, 1, 9, 10, 2, 1, 1, 3, 1], \"name\": \"Free\", \"x\": [\"Other\", \"MaxQuant\", \"Patterlab (PMID:26658470)\", \"Skyline\", \"Philosopher (Alexey Lab)\", \"moFF\", \"OpenMS\", \"FlashLFQ (PMID:29083185)\", \"MSnBase (PMID:22113085)\", \"diffacto\", \"Proline (http://www.profiproteomics.fr)\", \"EncyclopeDIA (PMID: 30510204)\", \"TPP (StPeter, Libra, XPress)\"], \"type\": \"bar\"}, {\"uid\": \"fc83eadc-4d59-4f78-8d1e-90b8cc3fcd3c\", \"y\": [3, 29, 4, 16, 3, 1, 4, 11, 1, 2, 1, 1], \"name\": \"Easy to use\", \"x\": [\"Other\", \"MaxQuant\", \"Patterlab (PMID:26658470)\", \"Skyline\", \"Philosopher (Alexey Lab)\", \"moFF\", \"OpenMS\", \"FlashLFQ (PMID:29083185)\", \"MSnBase (PMID:22113085)\", \"EncyclopeDIA (PMID: 30510204)\", \"Proline (http://www.profiproteomics.fr)\", \"TPP (StPeter, Libra, XPress)\"], \"type\": \"bar\"}, {\"uid\": \"3bc1cb3a-1a1b-4b8f-a981-3b28816f3cdf\", \"y\": [4, 1, 3, 1, 1, 2, 1, 1, 1], \"name\": \"Easy to run in HPC / Cloud enviroments\", \"x\": [\"OpenMS\", \"FlashLFQ (PMID:29083185)\", \"MaxQuant\", \"Patterlab (PMID:26658470)\", \"Skyline\", \"Philosopher (Alexey Lab)\", \"moFF\", \"MSnBase (PMID:22113085)\", \"TPP (StPeter, Libra, XPress)\"], \"type\": \"bar\"}, {\"uid\": \"d93fb087-a70b-45d6-b8fa-b812352ab6bc\", \"y\": [11, 2, 10, 2, 2, 12, 7, 2, 1, 2, 1], \"name\": \"Open Source\", \"x\": [\"MaxQuant\", \"Patterlab (PMID:26658470)\", \"Skyline\", \"Philosopher (Alexey Lab)\", \"moFF\", \"OpenMS\", \"FlashLFQ (PMID:29083185)\", \"MSnBase (PMID:22113085)\", \"diffacto\", \"EncyclopeDIA (PMID: 30510204)\", \"TPP (StPeter, Libra, XPress)\"], \"type\": \"bar\"}, {\"uid\": \"d14ff04e-4759-45a7-97fd-02c3b394e788\", \"y\": [1, 2, 1, 18, 1, 11, 1, 2, 1], \"name\": \"Maturity (No much errors)\", \"x\": [\"OpenMS\", \"FlashLFQ (PMID:29083185)\", \"MSnBase (PMID:22113085)\", \"MaxQuant\", \"Patterlab (PMID:26658470)\", \"Skyline\", \"EncyclopeDIA (PMID: 30510204)\", \"Philosopher (Alexey Lab)\", \"TPP (StPeter, Libra, XPress)\"], \"type\": \"bar\"}, {\"uid\": \"9d16013c-1727-42c9-bc2e-d5cbe604c04a\", \"y\": [3, 10, 21, 2, 2, 15, 2, 1, 2], \"name\": \"Desktop Application\", \"x\": [\"OpenMS\", \"FlashLFQ (PMID:29083185)\", \"MaxQuant\", \"MSnBase (PMID:22113085)\", \"Patterlab (PMID:26658470)\", \"Skyline\", \"EncyclopeDIA (PMID: 30510204)\", \"moFF\", \"Other\"], \"type\": \"bar\"}, {\"uid\": \"2c971e33-a32b-4fa1-9623-8d80942749dd\", \"y\": [8, 2, 4, 1, 1, 4, 2, 3, 2, 1], \"name\": \"Flexibility to develop pipelines\", \"x\": [\"OpenMS\", \"Patterlab (PMID:26658470)\", \"FlashLFQ (PMID:29083185)\", \"TPP (StPeter, Libra, XPress)\", \"MaxQuant\", \"Skyline\", \"MSnBase (PMID:22113085)\", \"Philosopher (Alexey Lab)\", \"moFF\", \"Other\"], \"type\": \"bar\"}, {\"uid\": \"2622cf61-7374-4803-8f29-3888eb5900e8\", \"y\": [2, 11, 6, 18, 1, 1, 2, 12, 2, 1, 1], \"name\": \"Documentation and Support\", \"x\": [\"Other\", \"MaxQuant\", \"OpenMS\", \"Skyline\", \"Philosopher (Alexey Lab)\", \"moFF\", \"Patterlab (PMID:26658470)\", \"FlashLFQ (PMID:29083185)\", \"MSnBase (PMID:22113085)\", \"EncyclopeDIA (PMID: 30510204)\", \"TPP (StPeter, Libra, XPress)\"], \"type\": \"bar\"}, {\"uid\": \"4c6358ff-a613-43ab-bda6-7f9c5f1bf300\", \"y\": [1, 2, 5, 13, 1, 3, 1, 1, 1, 1], \"name\": \"Internal benchmark with other tools suggest better/similar results\", \"x\": [\"Proline (http://www.profiproteomics.fr)\", \"Patterlab (PMID:26658470)\", \"FlashLFQ (PMID:29083185)\", \"MaxQuant\", \"OpenMS\", \"Skyline\", \"diffacto\", \"moFF\", \"Philosopher (Alexey Lab)\", \"TPP (StPeter, Libra, XPress)\"], \"type\": \"bar\"}, {\"uid\": \"e79e2d23-8fae-49a1-8032-e7ee668f635d\", \"y\": [5, 4, 9, 1, 1, 9, 1, 1, 2, 1], \"name\": \"Compatibility with other softwares\", \"x\": [\"OpenMS\", \"FlashLFQ (PMID:29083185)\", \"MaxQuant\", \"MSnBase (PMID:22113085)\", \"Patterlab (PMID:26658470)\", \"Skyline\", \"EncyclopeDIA (PMID: 30510204)\", \"moFF\", \"Philosopher (Alexey Lab)\", \"TPP (StPeter, Libra, XPress)\"], \"type\": \"bar\"}, {\"uid\": \"37e31a97-78ba-4b30-9e20-ed393f8ca3bb\", \"y\": [5, 3, 1, 28, 1, 1, 12, 1, 2, 1], \"name\": \"Support for multiple Quant methods\", \"x\": [\"OpenMS\", \"FlashLFQ (PMID:29083185)\", \"MSnBase (PMID:22113085)\", \"MaxQuant\", \"Other\", \"Patterlab (PMID:26658470)\", \"Skyline\", \"EncyclopeDIA (PMID: 30510204)\", \"Philosopher (Alexey Lab)\", \"TPP (StPeter, Libra, XPress)\"], \"type\": \"bar\"}], {\"legend\": {\"y\": 1.0, \"x\": 1, \"font\": {\"color\": \"#000\", \"size\": 10, \"family\": \"sans-serif\"}}, \"barmode\": \"group\"}, {\"showLink\": true, \"linkText\": \"Export to plot.ly\"})});</script><script type=\"text/javascript\">window.addEventListener(\"resize\", function(){window._Plotly.Plots.resize(document.getElementById(\"66a9509b-dd65-4531-acc5-964b6ef74437\"));});</script>"
      ],
      "text/vnd.plotly.v1+html": [
       "<div id=\"66a9509b-dd65-4531-acc5-964b6ef74437\" style=\"height: 525px; width: 100%;\" class=\"plotly-graph-div\"></div><script type=\"text/javascript\">require([\"plotly\"], function(Plotly) { window.PLOTLYENV=window.PLOTLYENV || {};window.PLOTLYENV.BASE_URL=\"https://plot.ly\";Plotly.newPlot(\"66a9509b-dd65-4531-acc5-964b6ef74437\", [{\"uid\": \"247cb0da-561d-4b27-b9e8-8fc060a4fd37\", \"y\": [1, 34, 3, 1, 2, 1, 5, 10, 18, 2, 1, 1, 1], \"name\": \"Quality of the Results\", \"x\": [\"Other\", \"MaxQuant\", \"Patterlab (PMID:26658470)\", \"MSnBase (PMID:22113085)\", \"Philosopher (Alexey Lab)\", \"moFF\", \"OpenMS\", \"FlashLFQ (PMID:29083185)\", \"Skyline\", \"EncyclopeDIA (PMID: 30510204)\", \"Proline (http://www.profiproteomics.fr)\", \"diffacto\", \"TPP (StPeter, Libra, XPress)\"], \"type\": \"bar\"}, {\"uid\": \"7252565d-3c75-4123-9864-5c80948439d9\", \"y\": [1, 37, 5, 19, 4, 1, 9, 10, 2, 1, 1, 3, 1], \"name\": \"Free\", \"x\": [\"Other\", \"MaxQuant\", \"Patterlab (PMID:26658470)\", \"Skyline\", \"Philosopher (Alexey Lab)\", \"moFF\", \"OpenMS\", \"FlashLFQ (PMID:29083185)\", \"MSnBase (PMID:22113085)\", \"diffacto\", \"Proline (http://www.profiproteomics.fr)\", \"EncyclopeDIA (PMID: 30510204)\", \"TPP (StPeter, Libra, XPress)\"], \"type\": \"bar\"}, {\"uid\": \"fc83eadc-4d59-4f78-8d1e-90b8cc3fcd3c\", \"y\": [3, 29, 4, 16, 3, 1, 4, 11, 1, 2, 1, 1], \"name\": \"Easy to use\", \"x\": [\"Other\", \"MaxQuant\", \"Patterlab (PMID:26658470)\", \"Skyline\", \"Philosopher (Alexey Lab)\", \"moFF\", \"OpenMS\", \"FlashLFQ (PMID:29083185)\", \"MSnBase (PMID:22113085)\", \"EncyclopeDIA (PMID: 30510204)\", \"Proline (http://www.profiproteomics.fr)\", \"TPP (StPeter, Libra, XPress)\"], \"type\": \"bar\"}, {\"uid\": \"3bc1cb3a-1a1b-4b8f-a981-3b28816f3cdf\", \"y\": [4, 1, 3, 1, 1, 2, 1, 1, 1], \"name\": \"Easy to run in HPC / Cloud enviroments\", \"x\": [\"OpenMS\", \"FlashLFQ (PMID:29083185)\", \"MaxQuant\", \"Patterlab (PMID:26658470)\", \"Skyline\", \"Philosopher (Alexey Lab)\", \"moFF\", \"MSnBase (PMID:22113085)\", \"TPP (StPeter, Libra, XPress)\"], \"type\": \"bar\"}, {\"uid\": \"d93fb087-a70b-45d6-b8fa-b812352ab6bc\", \"y\": [11, 2, 10, 2, 2, 12, 7, 2, 1, 2, 1], \"name\": \"Open Source\", \"x\": [\"MaxQuant\", \"Patterlab (PMID:26658470)\", \"Skyline\", \"Philosopher (Alexey Lab)\", \"moFF\", \"OpenMS\", \"FlashLFQ (PMID:29083185)\", \"MSnBase (PMID:22113085)\", \"diffacto\", \"EncyclopeDIA (PMID: 30510204)\", \"TPP (StPeter, Libra, XPress)\"], \"type\": \"bar\"}, {\"uid\": \"d14ff04e-4759-45a7-97fd-02c3b394e788\", \"y\": [1, 2, 1, 18, 1, 11, 1, 2, 1], \"name\": \"Maturity (No much errors)\", \"x\": [\"OpenMS\", \"FlashLFQ (PMID:29083185)\", \"MSnBase (PMID:22113085)\", \"MaxQuant\", \"Patterlab (PMID:26658470)\", \"Skyline\", \"EncyclopeDIA (PMID: 30510204)\", \"Philosopher (Alexey Lab)\", \"TPP (StPeter, Libra, XPress)\"], \"type\": \"bar\"}, {\"uid\": \"9d16013c-1727-42c9-bc2e-d5cbe604c04a\", \"y\": [3, 10, 21, 2, 2, 15, 2, 1, 2], \"name\": \"Desktop Application\", \"x\": [\"OpenMS\", \"FlashLFQ (PMID:29083185)\", \"MaxQuant\", \"MSnBase (PMID:22113085)\", \"Patterlab (PMID:26658470)\", \"Skyline\", \"EncyclopeDIA (PMID: 30510204)\", \"moFF\", \"Other\"], \"type\": \"bar\"}, {\"uid\": \"2c971e33-a32b-4fa1-9623-8d80942749dd\", \"y\": [8, 2, 4, 1, 1, 4, 2, 3, 2, 1], \"name\": \"Flexibility to develop pipelines\", \"x\": [\"OpenMS\", \"Patterlab (PMID:26658470)\", \"FlashLFQ (PMID:29083185)\", \"TPP (StPeter, Libra, XPress)\", \"MaxQuant\", \"Skyline\", \"MSnBase (PMID:22113085)\", \"Philosopher (Alexey Lab)\", \"moFF\", \"Other\"], \"type\": \"bar\"}, {\"uid\": \"2622cf61-7374-4803-8f29-3888eb5900e8\", \"y\": [2, 11, 6, 18, 1, 1, 2, 12, 2, 1, 1], \"name\": \"Documentation and Support\", \"x\": [\"Other\", \"MaxQuant\", \"OpenMS\", \"Skyline\", \"Philosopher (Alexey Lab)\", \"moFF\", \"Patterlab (PMID:26658470)\", \"FlashLFQ (PMID:29083185)\", \"MSnBase (PMID:22113085)\", \"EncyclopeDIA (PMID: 30510204)\", \"TPP (StPeter, Libra, XPress)\"], \"type\": \"bar\"}, {\"uid\": \"4c6358ff-a613-43ab-bda6-7f9c5f1bf300\", \"y\": [1, 2, 5, 13, 1, 3, 1, 1, 1, 1], \"name\": \"Internal benchmark with other tools suggest better/similar results\", \"x\": [\"Proline (http://www.profiproteomics.fr)\", \"Patterlab (PMID:26658470)\", \"FlashLFQ (PMID:29083185)\", \"MaxQuant\", \"OpenMS\", \"Skyline\", \"diffacto\", \"moFF\", \"Philosopher (Alexey Lab)\", \"TPP (StPeter, Libra, XPress)\"], \"type\": \"bar\"}, {\"uid\": \"e79e2d23-8fae-49a1-8032-e7ee668f635d\", \"y\": [5, 4, 9, 1, 1, 9, 1, 1, 2, 1], \"name\": \"Compatibility with other softwares\", \"x\": [\"OpenMS\", \"FlashLFQ (PMID:29083185)\", \"MaxQuant\", \"MSnBase (PMID:22113085)\", \"Patterlab (PMID:26658470)\", \"Skyline\", \"EncyclopeDIA (PMID: 30510204)\", \"moFF\", \"Philosopher (Alexey Lab)\", \"TPP (StPeter, Libra, XPress)\"], \"type\": \"bar\"}, {\"uid\": \"37e31a97-78ba-4b30-9e20-ed393f8ca3bb\", \"y\": [5, 3, 1, 28, 1, 1, 12, 1, 2, 1], \"name\": \"Support for multiple Quant methods\", \"x\": [\"OpenMS\", \"FlashLFQ (PMID:29083185)\", \"MSnBase (PMID:22113085)\", \"MaxQuant\", \"Other\", \"Patterlab (PMID:26658470)\", \"Skyline\", \"EncyclopeDIA (PMID: 30510204)\", \"Philosopher (Alexey Lab)\", \"TPP (StPeter, Libra, XPress)\"], \"type\": \"bar\"}], {\"legend\": {\"y\": 1.0, \"x\": 1, \"font\": {\"color\": \"#000\", \"size\": 10, \"family\": \"sans-serif\"}}, \"barmode\": \"group\"}, {\"showLink\": true, \"linkText\": \"Export to plot.ly\"})});</script><script type=\"text/javascript\">window.addEventListener(\"resize\", function(){window._Plotly.Plots.resize(document.getElementById(\"66a9509b-dd65-4531-acc5-964b6ef74437\"));});</script>"
      ]
     },
     "metadata": {},
     "output_type": "display_data"
    }
   ],
   "source": [
    "question = \"Which are the features that make you to chose the following software for your data analysis\"\n",
    "data = get_multioption_bar_data(data_df, question)\n",
    "layout = go.Layout(barmode='group',legend=dict(x=1, y=1.0, font=dict(\n",
    "            family='sans-serif',\n",
    "            size=10,\n",
    "            color='#000'\n",
    "        ),))\n",
    "fig = go.Figure(data=data, layout=layout)\n",
    "iplot(fig, filename='grouped-bar')"
   ]
  },
  {
   "cell_type": "markdown",
   "metadata": {},
   "source": [
    "## Packages and tools use for downstream analysis\n",
    "\n",
    "This section shows the software/tools and packages (Python and R) for downstream analysis. "
   ]
  },
  {
   "cell_type": "code",
   "execution_count": 202,
   "metadata": {},
   "outputs": [
    {
     "data": {
      "application/vnd.plotly.v1+json": {
       "data": [
        {
         "orientation": "h",
         "type": "bar",
         "uid": "e3e77bd1-4389-44d5-aca3-02cd1618dd90",
         "x": [
          1,
          1,
          1,
          1,
          14,
          1,
          1,
          89,
          1,
          1,
          1,
          1,
          1,
          1,
          1,
          1,
          80,
          13,
          31,
          1,
          1,
          5,
          1,
          1,
          43,
          1
         ],
         "y": [
          "pMartR",
          "MetaMorpheus's integrated normalization (new feature)",
          "In house developped",
          "Excel",
          "edgeR",
          "R and Python",
          "NormalyzerDE",
          "In house pipeline.",
          "https://www.ncbi.nlm.nih.gov/pubmed/30277078",
          "Proteome Discovere",
          "Inferno",
          "IPA",
          "Proteome discoverer quant",
          "R",
          "Prostar",
          "Msstitch",
          "Perseus",
          "MSnbase",
          "MSstats",
          "Voom, Combat",
          "Triqler",
          "PAW pipeline (https://t.co/BtiFHAAKU7)",
          "ProStar",
          "http://normalyzer.immunoprot.lth.se/",
          "Limma",
          "MSQRob, SafeQuant, Prostar,"
         ]
        }
       ],
       "layout": {}
      },
      "text/html": [
       "<div id=\"e71c1690-9064-4138-a9e7-f0f4063a7c6d\" style=\"height: 525px; width: 100%;\" class=\"plotly-graph-div\"></div><script type=\"text/javascript\">require([\"plotly\"], function(Plotly) { window.PLOTLYENV=window.PLOTLYENV || {};window.PLOTLYENV.BASE_URL=\"https://plot.ly\";Plotly.newPlot(\"e71c1690-9064-4138-a9e7-f0f4063a7c6d\", [{\"uid\": \"16a25d5c-d42a-443e-b716-da100749dd91\", \"y\": [\"pMartR\", \"MetaMorpheus's integrated normalization (new feature)\", \"In house developped\", \"Excel\", \"edgeR\", \"R and Python\", \"NormalyzerDE\", \"In house pipeline.\", \"https://www.ncbi.nlm.nih.gov/pubmed/30277078\", \"Proteome Discovere\", \"Inferno\", \"IPA\", \"Proteome discoverer quant\", \"R\", \"Prostar\", \"Msstitch\", \"Perseus\", \"MSnbase\", \"MSstats\", \"Voom, Combat\", \"Triqler\", \"PAW pipeline (https://t.co/BtiFHAAKU7)\", \"ProStar\", \"http://normalyzer.immunoprot.lth.se/\", \"Limma\", \"MSQRob, SafeQuant, Prostar,\"], \"type\": \"bar\", \"x\": [1, 1, 1, 1, 14, 1, 1, 89, 1, 1, 1, 1, 1, 1, 1, 1, 80, 13, 31, 1, 1, 5, 1, 1, 43, 1], \"orientation\": \"h\"}], {}, {\"showLink\": true, \"linkText\": \"Export to plot.ly\"})});</script><script type=\"text/javascript\">window.addEventListener(\"resize\", function(){window._Plotly.Plots.resize(document.getElementById(\"e71c1690-9064-4138-a9e7-f0f4063a7c6d\"));});</script>"
      ],
      "text/vnd.plotly.v1+html": [
       "<div id=\"e71c1690-9064-4138-a9e7-f0f4063a7c6d\" style=\"height: 525px; width: 100%;\" class=\"plotly-graph-div\"></div><script type=\"text/javascript\">require([\"plotly\"], function(Plotly) { window.PLOTLYENV=window.PLOTLYENV || {};window.PLOTLYENV.BASE_URL=\"https://plot.ly\";Plotly.newPlot(\"e71c1690-9064-4138-a9e7-f0f4063a7c6d\", [{\"uid\": \"16a25d5c-d42a-443e-b716-da100749dd91\", \"y\": [\"pMartR\", \"MetaMorpheus's integrated normalization (new feature)\", \"In house developped\", \"Excel\", \"edgeR\", \"R and Python\", \"NormalyzerDE\", \"In house pipeline.\", \"https://www.ncbi.nlm.nih.gov/pubmed/30277078\", \"Proteome Discovere\", \"Inferno\", \"IPA\", \"Proteome discoverer quant\", \"R\", \"Prostar\", \"Msstitch\", \"Perseus\", \"MSnbase\", \"MSstats\", \"Voom, Combat\", \"Triqler\", \"PAW pipeline (https://t.co/BtiFHAAKU7)\", \"ProStar\", \"http://normalyzer.immunoprot.lth.se/\", \"Limma\", \"MSQRob, SafeQuant, Prostar,\"], \"type\": \"bar\", \"x\": [1, 1, 1, 1, 14, 1, 1, 89, 1, 1, 1, 1, 1, 1, 1, 1, 80, 13, 31, 1, 1, 5, 1, 1, 43, 1], \"orientation\": \"h\"}], {}, {\"showLink\": true, \"linkText\": \"Export to plot.ly\"})});</script><script type=\"text/javascript\">window.addEventListener(\"resize\", function(){window._Plotly.Plots.resize(document.getElementById(\"e71c1690-9064-4138-a9e7-f0f4063a7c6d\"));});</script>"
      ]
     },
     "metadata": {},
     "output_type": "display_data"
    }
   ],
   "source": [
    "# We use a filter here because of special characters \n",
    "question_pattern = \"Which packages do you use for downstream analysis\"\n",
    "data = get_column_distribution(data_df, question_pattern)\n",
    "iplot(data, filename='horizontal-bar')            "
   ]
  },
  {
   "cell_type": "markdown",
   "metadata": {},
   "source": [
    "## Peptide/Protein identification Search engines \n",
    "\n",
    "This part of the poll is about the usage of Peptide/protein search engines. "
   ]
  },
  {
   "cell_type": "code",
   "execution_count": 203,
   "metadata": {},
   "outputs": [
    {
     "data": {
      "application/vnd.plotly.v1+json": {
       "data": [
        {
         "orientation": "h",
         "type": "bar",
         "uid": "022665ce-ffa1-43e5-9387-1efd08e32ad0",
         "x": [
          30,
          1,
          1,
          1,
          9,
          1,
          57,
          30,
          53,
          61,
          1,
          1,
          1,
          2,
          13,
          1,
          2,
          15,
          3,
          92,
          1,
          1,
          55,
          50
         ],
         "y": [
          "MSFragger",
          "Crux",
          "ProteinLynx Global Server",
          "Pulsar",
          "Tide",
          "I never use Andromeda outside of MQ",
          "Sequest",
          "MSAmanda",
          "X!Tandem",
          "Mascot",
          "Metamorpheus",
          "Ia",
          "Spectrum Mill",
          "MSPepSearch",
          "MetaMorpheus",
          "https://bitbucket.org/levitsky/identipy",
          "SpectraST",
          "OMSSA",
          "Byonic",
          "Andromeda",
          "RAId https://www.ncbi.nlm.nih.gov/CBBresearch/Yu/raid/index.html",
          "Pulsar (SpectroMine)",
          "MSGF+",
          "Comet"
         ]
        }
       ],
       "layout": {}
      },
      "text/html": [
       "<div id=\"88e6b86a-1708-471d-a494-5bde0a71e1b1\" style=\"height: 525px; width: 100%;\" class=\"plotly-graph-div\"></div><script type=\"text/javascript\">require([\"plotly\"], function(Plotly) { window.PLOTLYENV=window.PLOTLYENV || {};window.PLOTLYENV.BASE_URL=\"https://plot.ly\";Plotly.newPlot(\"88e6b86a-1708-471d-a494-5bde0a71e1b1\", [{\"uid\": \"7a9e798e-5a60-4a9c-95dd-06818c90c236\", \"y\": [\"MSFragger\", \"Crux\", \"ProteinLynx Global Server\", \"Pulsar\", \"Tide\", \"I never use Andromeda outside of MQ\", \"Sequest\", \"MSAmanda\", \"X!Tandem\", \"Mascot\", \"Metamorpheus\", \"Ia\", \"Spectrum Mill\", \"MSPepSearch\", \"MetaMorpheus\", \"https://bitbucket.org/levitsky/identipy\", \"SpectraST\", \"OMSSA\", \"Byonic\", \"Andromeda\", \"RAId https://www.ncbi.nlm.nih.gov/CBBresearch/Yu/raid/index.html\", \"Pulsar (SpectroMine)\", \"MSGF+\", \"Comet\"], \"type\": \"bar\", \"x\": [30, 1, 1, 1, 9, 1, 57, 30, 53, 61, 1, 1, 1, 2, 13, 1, 2, 15, 3, 92, 1, 1, 55, 50], \"orientation\": \"h\"}], {}, {\"showLink\": true, \"linkText\": \"Export to plot.ly\"})});</script><script type=\"text/javascript\">window.addEventListener(\"resize\", function(){window._Plotly.Plots.resize(document.getElementById(\"88e6b86a-1708-471d-a494-5bde0a71e1b1\"));});</script>"
      ],
      "text/vnd.plotly.v1+html": [
       "<div id=\"88e6b86a-1708-471d-a494-5bde0a71e1b1\" style=\"height: 525px; width: 100%;\" class=\"plotly-graph-div\"></div><script type=\"text/javascript\">require([\"plotly\"], function(Plotly) { window.PLOTLYENV=window.PLOTLYENV || {};window.PLOTLYENV.BASE_URL=\"https://plot.ly\";Plotly.newPlot(\"88e6b86a-1708-471d-a494-5bde0a71e1b1\", [{\"uid\": \"7a9e798e-5a60-4a9c-95dd-06818c90c236\", \"y\": [\"MSFragger\", \"Crux\", \"ProteinLynx Global Server\", \"Pulsar\", \"Tide\", \"I never use Andromeda outside of MQ\", \"Sequest\", \"MSAmanda\", \"X!Tandem\", \"Mascot\", \"Metamorpheus\", \"Ia\", \"Spectrum Mill\", \"MSPepSearch\", \"MetaMorpheus\", \"https://bitbucket.org/levitsky/identipy\", \"SpectraST\", \"OMSSA\", \"Byonic\", \"Andromeda\", \"RAId https://www.ncbi.nlm.nih.gov/CBBresearch/Yu/raid/index.html\", \"Pulsar (SpectroMine)\", \"MSGF+\", \"Comet\"], \"type\": \"bar\", \"x\": [30, 1, 1, 1, 9, 1, 57, 30, 53, 61, 1, 1, 1, 2, 13, 1, 2, 15, 3, 92, 1, 1, 55, 50], \"orientation\": \"h\"}], {}, {\"showLink\": true, \"linkText\": \"Export to plot.ly\"})});</script><script type=\"text/javascript\">window.addEventListener(\"resize\", function(){window._Plotly.Plots.resize(document.getElementById(\"88e6b86a-1708-471d-a494-5bde0a71e1b1\"));});</script>"
      ]
     },
     "metadata": {},
     "output_type": "display_data"
    }
   ],
   "source": [
    "question=\"Which Search engine free do you use\"\n",
    "data = get_column_distribution(data_df, question)\n",
    "iplot(data, filename='horizontal-bar')    "
   ]
  },
  {
   "cell_type": "markdown",
   "metadata": {},
   "source": [
    "## Number of citations per Tool\n",
    "\n",
    "This plot aims to compute the number of citations (Google Scholar) per tool. For the present statistics we added all the main publications related with the tool. \n",
    "    \n",
    "**note**: Please review the file (software-ids.csv) to included all the publications and check if something is missing. You can also add an issue in the repository.  "
   ]
  },
  {
   "cell_type": "code",
   "execution_count": 204,
   "metadata": {},
   "outputs": [
    {
     "data": {
      "application/vnd.plotly.v1+json": {
       "data": [
        {
         "orientation": "h",
         "type": "bar",
         "uid": "6529fd2c-a5b3-44f1-9c82-3d0a3e501953",
         "x": [
          150,
          15,
          2156,
          8063,
          871,
          1941,
          6230,
          454,
          2374,
          431,
          566,
          887,
          493,
          6412,
          370
         ],
         "y": [
          "Crux",
          "moff",
          "XTandem",
          "Mascot",
          "Perseus",
          "Skyline",
          "Sequest",
          "Comet",
          "Andromeda",
          "PeaksDB",
          "Trans-proteomics pipeline",
          "OpenMS",
          "Myrimatch",
          "MaxQuant",
          "MSGF+"
         ]
        }
       ],
       "layout": {}
      },
      "text/html": [
       "<div id=\"069d8639-7cf7-403f-9ef5-0c48921b6768\" style=\"height: 525px; width: 100%;\" class=\"plotly-graph-div\"></div><script type=\"text/javascript\">require([\"plotly\"], function(Plotly) { window.PLOTLYENV=window.PLOTLYENV || {};window.PLOTLYENV.BASE_URL=\"https://plot.ly\";Plotly.newPlot(\"069d8639-7cf7-403f-9ef5-0c48921b6768\", [{\"uid\": \"900fc1c8-e2b5-454d-aa19-662260fc753a\", \"y\": [\"Crux\", \"moff\", \"XTandem\", \"Mascot\", \"Perseus\", \"Skyline\", \"Sequest\", \"Comet\", \"Andromeda\", \"PeaksDB\", \"Trans-proteomics pipeline\", \"OpenMS\", \"Myrimatch\", \"MaxQuant\", \"MSGF+\"], \"type\": \"bar\", \"x\": [150, 15, 2156, 8063, 871, 1941, 6230, 454, 2374, 431, 566, 887, 493, 6412, 370], \"orientation\": \"h\"}], {}, {\"showLink\": true, \"linkText\": \"Export to plot.ly\"})});</script><script type=\"text/javascript\">window.addEventListener(\"resize\", function(){window._Plotly.Plots.resize(document.getElementById(\"069d8639-7cf7-403f-9ef5-0c48921b6768\"));});</script>"
      ],
      "text/vnd.plotly.v1+html": [
       "<div id=\"069d8639-7cf7-403f-9ef5-0c48921b6768\" style=\"height: 525px; width: 100%;\" class=\"plotly-graph-div\"></div><script type=\"text/javascript\">require([\"plotly\"], function(Plotly) { window.PLOTLYENV=window.PLOTLYENV || {};window.PLOTLYENV.BASE_URL=\"https://plot.ly\";Plotly.newPlot(\"069d8639-7cf7-403f-9ef5-0c48921b6768\", [{\"uid\": \"900fc1c8-e2b5-454d-aa19-662260fc753a\", \"y\": [\"Crux\", \"moff\", \"XTandem\", \"Mascot\", \"Perseus\", \"Skyline\", \"Sequest\", \"Comet\", \"Andromeda\", \"PeaksDB\", \"Trans-proteomics pipeline\", \"OpenMS\", \"Myrimatch\", \"MaxQuant\", \"MSGF+\"], \"type\": \"bar\", \"x\": [150, 15, 2156, 8063, 871, 1941, 6230, 454, 2374, 431, 566, 887, 493, 6412, 370], \"orientation\": \"h\"}], {}, {\"showLink\": true, \"linkText\": \"Export to plot.ly\"})});</script><script type=\"text/javascript\">window.addEventListener(\"resize\", function(){window._Plotly.Plots.resize(document.getElementById(\"069d8639-7cf7-403f-9ef5-0c48921b6768\"));});</script>"
      ]
     },
     "metadata": {},
     "output_type": "display_data"
    }
   ],
   "source": [
    "data = [go.Bar(\n",
    "            x=list(data_citations['Citations']),\n",
    "            y=list(data_citations['Software']),\n",
    "            orientation = 'h'\n",
    ")]\n",
    "\n",
    "iplot(data, filename='horizontal-bar')"
   ]
  },
  {
   "cell_type": "code",
   "execution_count": 205,
   "metadata": {},
   "outputs": [],
   "source": [
    "# x = [1, 2, 3, 4]\n",
    "\n",
    "# trace1 = {\n",
    "#   'x': x,\n",
    "#   'y': [1, 4, 9, 16],\n",
    "#   'name': 'Trace1',\n",
    "#   'type': 'bar'\n",
    "# };\n",
    "# trace2 = {\n",
    "#   'x': x,\n",
    "#   'y': [6, -8, -4.5, 8],\n",
    "#   'name': 'Trace2',\n",
    "#   'type': 'bar'\n",
    "# };\n",
    "# trace3 = {\n",
    "#   'x': x,\n",
    "#   'y': [-15, -3, 4.5, -8],\n",
    "#   'name': 'Trace3',\n",
    "#   'type': 'bar'\n",
    "#  }\n",
    "\n",
    "# trace4 = {\n",
    "#   'x': x,\n",
    "#   'y': [-1, 3, -3, -4],\n",
    "#   'name': 'Trace4',\n",
    "#   'type': 'bar'\n",
    "#  }\n",
    "\n",
    "# data = [trace1, trace2, trace3, trace4];\n",
    "# layout = {\n",
    "#   'xaxis': {'title': 'X axis'},\n",
    "#   'yaxis': {'title': 'Y axis'},\n",
    "#   'barmode': 'relative',\n",
    "#   'title': 'Relative Barmode'\n",
    "# };\n",
    "# iplot({'data': data, 'layout': layout}, filename='barmode-relative')"
   ]
  },
  {
   "cell_type": "code",
   "execution_count": null,
   "metadata": {},
   "outputs": [],
   "source": []
  }
 ],
 "metadata": {
  "kernelspec": {
   "display_name": "Python 3",
   "language": "python",
   "name": "python3"
  },
  "language_info": {
   "codemirror_mode": {
    "name": "ipython",
    "version": 3
   },
   "file_extension": ".py",
   "mimetype": "text/x-python",
   "name": "python",
   "nbconvert_exporter": "python",
   "pygments_lexer": "ipython3",
   "version": "3.4.2"
  }
 },
 "nbformat": 4,
 "nbformat_minor": 2
}
