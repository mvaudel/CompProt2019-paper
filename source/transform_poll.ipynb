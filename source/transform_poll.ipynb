{
 "cells": [
  {
   "cell_type": "markdown",
   "metadata": {},
   "source": [
    "This jupyter notebook aims to read the data from Google Scholar csv poll into a panda dataframe to perform basic statistics about proteomics software useage by 2019. \n"
   ]
  },
  {
   "cell_type": "code",
   "execution_count": 10,
   "metadata": {
    "scrolled": true
   },
   "outputs": [
    {
     "data": {
      "text/html": [
       "<script type=\"text/javascript\">window.PlotlyConfig = {MathJaxConfig: 'local'};</script><script type=\"text/javascript\">if (window.MathJax) {MathJax.Hub.Config({SVG: {font: \"STIX-Web\"}});}</script><script>requirejs.config({paths: { 'plotly': ['https://cdn.plot.ly/plotly-latest.min']},});if(!window._Plotly) {require(['plotly'],function(plotly) {window._Plotly=plotly;});}</script>"
      ],
      "text/vnd.plotly.v1+html": [
       "<script type=\"text/javascript\">window.PlotlyConfig = {MathJaxConfig: 'local'};</script><script type=\"text/javascript\">if (window.MathJax) {MathJax.Hub.Config({SVG: {font: \"STIX-Web\"}});}</script><script>requirejs.config({paths: { 'plotly': ['https://cdn.plot.ly/plotly-latest.min']},});if(!window._Plotly) {require(['plotly'],function(plotly) {window._Plotly=plotly;});}</script>"
      ]
     },
     "metadata": {},
     "output_type": "display_data"
    }
   ],
   "source": [
    "import pandas as pd \n",
    "#import plotly.plotly as py\n",
    "import plotly.graph_objs as go\n",
    "from plotly.offline import download_plotlyjs, init_notebook_mode, plot, iplot\n",
    "\n",
    "init_notebook_mode(connected=True)      \n",
    "\n",
    "# Read the poll data \n",
    "\n",
    "data_df = pd.read_csv(\"../data/poll-results-07032019.csv\")\n",
    "data_df.head() \n",
    "\n",
    "def get_pie_chart(collection): \n",
    "    \"\"\"\n",
    "    This function returns a pie chart from a collection of elements. \n",
    "    \"\"\"\n",
    "    affiliation_counts = {} \n",
    "    for affiliation in affiliations:\n",
    "        token_affiliations = str(affiliation).split(\";\")\n",
    "        for token in token_affiliations: \n",
    "            if token.strip() != 'nan':\n",
    "                if token not in affiliation_counts:\n",
    "                   affiliation_counts[token] = 0\n",
    "                affiliation_counts[token] = affiliation_counts[token] + 1\n",
    "\n",
    "  \n",
    "    trace=go.Pie(labels=[k  for  k in  affiliation_counts.keys()],values=[k  for  k in  affiliation_counts.values()])\n",
    "    return trace"
   ]
  },
  {
   "cell_type": "markdown",
   "metadata": {},
   "source": [
    "Read the position and occupation of every participant of the poll. "
   ]
  },
  {
   "cell_type": "code",
   "execution_count": 12,
   "metadata": {},
   "outputs": [
    {
     "data": {
      "application/vnd.plotly.v1+json": {
       "data": [
        {
         "labels": [
          "Master's student",
          "CTO",
          "Research Scientist - Staff",
          "Master Student",
          "CEO",
          "Developer - Bioinformatician",
          "Professor",
          "Director",
          "Phd Student",
          "Consultant",
          "Post-Doc",
          "Student",
          "Scientist",
          "Head of Core Facility Proteomics",
          "Head proteomics research platform",
          "Project Manager",
          "Lab Manager",
          "Principal Investigator"
         ],
         "type": "pie",
         "uid": "ee0416cf-53a5-463d-8d94-3251cc927a3e",
         "values": [
          1,
          1,
          41,
          1,
          2,
          9,
          4,
          6,
          40,
          2,
          36,
          1,
          1,
          1,
          1,
          7,
          1,
          25
         ]
        }
       ],
       "layout": {}
      },
      "text/html": [
       "<div id=\"54dc6908-3f09-4c28-af3a-0797ce7a0cae\" style=\"height: 525px; width: 100%;\" class=\"plotly-graph-div\"></div><script type=\"text/javascript\">require([\"plotly\"], function(Plotly) { window.PLOTLYENV=window.PLOTLYENV || {};window.PLOTLYENV.BASE_URL=\"https://plot.ly\";Plotly.newPlot(\"54dc6908-3f09-4c28-af3a-0797ce7a0cae\", [{\"labels\": [\"Master's student\", \"CTO\", \"Research Scientist - Staff\", \"Master Student\", \"CEO\", \"Developer - Bioinformatician\", \"Professor\", \"Director\", \"Phd Student\", \"Consultant\", \"Post-Doc\", \"Student\", \"Scientist\", \"Head of Core Facility Proteomics\", \"Head proteomics research platform\", \"Project Manager\", \"Lab Manager\", \"Principal Investigator\"], \"values\": [1, 1, 41, 1, 2, 9, 4, 6, 40, 2, 36, 1, 1, 1, 1, 7, 1, 25], \"type\": \"pie\", \"uid\": \"cc29e0b4-c295-4832-bf9b-ca3222a54d88\"}], {}, {\"showLink\": true, \"linkText\": \"Export to plot.ly\"})});</script><script type=\"text/javascript\">window.addEventListener(\"resize\", function(){window._Plotly.Plots.resize(document.getElementById(\"54dc6908-3f09-4c28-af3a-0797ce7a0cae\"));});</script>"
      ],
      "text/vnd.plotly.v1+html": [
       "<div id=\"54dc6908-3f09-4c28-af3a-0797ce7a0cae\" style=\"height: 525px; width: 100%;\" class=\"plotly-graph-div\"></div><script type=\"text/javascript\">require([\"plotly\"], function(Plotly) { window.PLOTLYENV=window.PLOTLYENV || {};window.PLOTLYENV.BASE_URL=\"https://plot.ly\";Plotly.newPlot(\"54dc6908-3f09-4c28-af3a-0797ce7a0cae\", [{\"labels\": [\"Master's student\", \"CTO\", \"Research Scientist - Staff\", \"Master Student\", \"CEO\", \"Developer - Bioinformatician\", \"Professor\", \"Director\", \"Phd Student\", \"Consultant\", \"Post-Doc\", \"Student\", \"Scientist\", \"Head of Core Facility Proteomics\", \"Head proteomics research platform\", \"Project Manager\", \"Lab Manager\", \"Principal Investigator\"], \"values\": [1, 1, 41, 1, 2, 9, 4, 6, 40, 2, 36, 1, 1, 1, 1, 7, 1, 25], \"type\": \"pie\", \"uid\": \"cc29e0b4-c295-4832-bf9b-ca3222a54d88\"}], {}, {\"showLink\": true, \"linkText\": \"Export to plot.ly\"})});</script><script type=\"text/javascript\">window.addEventListener(\"resize\", function(){window._Plotly.Plots.resize(document.getElementById(\"54dc6908-3f09-4c28-af3a-0797ce7a0cae\"));});</script>"
      ]
     },
     "metadata": {},
     "output_type": "display_data"
    }
   ],
   "source": [
    "affiliations = data_df.iloc[:,2]\n",
    "trace = get_pie_chart(affiliations)\n",
    "iplot([trace])"
   ]
  },
  {
   "cell_type": "markdown",
   "metadata": {},
   "source": [
    "The number of participants in the poll by type of Institution. "
   ]
  },
  {
   "cell_type": "code",
   "execution_count": 7,
   "metadata": {},
   "outputs": [
    {
     "data": {
      "text/html": [
       "<script type=\"text/javascript\">window.PlotlyConfig = {MathJaxConfig: 'local'};</script><script type=\"text/javascript\">if (window.MathJax) {MathJax.Hub.Config({SVG: {font: \"STIX-Web\"}});}</script><script>requirejs.config({paths: { 'plotly': ['https://cdn.plot.ly/plotly-latest.min']},});if(!window._Plotly) {require(['plotly'],function(plotly) {window._Plotly=plotly;});}</script>"
      ],
      "text/vnd.plotly.v1+html": [
       "<script type=\"text/javascript\">window.PlotlyConfig = {MathJaxConfig: 'local'};</script><script type=\"text/javascript\">if (window.MathJax) {MathJax.Hub.Config({SVG: {font: \"STIX-Web\"}});}</script><script>requirejs.config({paths: { 'plotly': ['https://cdn.plot.ly/plotly-latest.min']},});if(!window._Plotly) {require(['plotly'],function(plotly) {window._Plotly=plotly;});}</script>"
      ]
     },
     "metadata": {},
     "output_type": "display_data"
    },
    {
     "data": {
      "application/vnd.plotly.v1+json": {
       "data": [
        {
         "labels": [
          "Research Institute",
          "Company, Start-up, Pharma",
          "Hospital, Research Hospital",
          "University",
          "Core Facility"
         ],
         "type": "pie",
         "uid": "692301a2-8de8-4cd0-aad5-7a815607096f",
         "values": [
          26,
          20,
          10,
          86,
          16
         ]
        }
       ],
       "layout": {}
      },
      "text/html": [
       "<div id=\"2b026b1a-a1e4-43c8-9a51-222f2df4dc4d\" style=\"height: 525px; width: 100%;\" class=\"plotly-graph-div\"></div><script type=\"text/javascript\">require([\"plotly\"], function(Plotly) { window.PLOTLYENV=window.PLOTLYENV || {};window.PLOTLYENV.BASE_URL=\"https://plot.ly\";Plotly.newPlot(\"2b026b1a-a1e4-43c8-9a51-222f2df4dc4d\", [{\"labels\": [\"Research Institute\", \"Company, Start-up, Pharma\", \"Hospital, Research Hospital\", \"University\", \"Core Facility\"], \"values\": [26, 20, 10, 86, 16], \"type\": \"pie\", \"uid\": \"53c2d4a3-ec2b-4919-9e2f-6f40d1e033ba\"}], {}, {\"showLink\": true, \"linkText\": \"Export to plot.ly\"})});</script><script type=\"text/javascript\">window.addEventListener(\"resize\", function(){window._Plotly.Plots.resize(document.getElementById(\"2b026b1a-a1e4-43c8-9a51-222f2df4dc4d\"));});</script>"
      ],
      "text/vnd.plotly.v1+html": [
       "<div id=\"2b026b1a-a1e4-43c8-9a51-222f2df4dc4d\" style=\"height: 525px; width: 100%;\" class=\"plotly-graph-div\"></div><script type=\"text/javascript\">require([\"plotly\"], function(Plotly) { window.PLOTLYENV=window.PLOTLYENV || {};window.PLOTLYENV.BASE_URL=\"https://plot.ly\";Plotly.newPlot(\"2b026b1a-a1e4-43c8-9a51-222f2df4dc4d\", [{\"labels\": [\"Research Institute\", \"Company, Start-up, Pharma\", \"Hospital, Research Hospital\", \"University\", \"Core Facility\"], \"values\": [26, 20, 10, 86, 16], \"type\": \"pie\", \"uid\": \"53c2d4a3-ec2b-4919-9e2f-6f40d1e033ba\"}], {}, {\"showLink\": true, \"linkText\": \"Export to plot.ly\"})});</script><script type=\"text/javascript\">window.addEventListener(\"resize\", function(){window._Plotly.Plots.resize(document.getElementById(\"2b026b1a-a1e4-43c8-9a51-222f2df4dc4d\"));});</script>"
      ]
     },
     "metadata": {},
     "output_type": "display_data"
    }
   ],
   "source": [
    "affiliations = data_df.iloc[:,3]\n",
    "trace = get_pie_chart(affiliations)     \n",
    "trace=go.Pie(labels=[k  for  k in  affiliation_counts.keys()],values=[k  for  k in  affiliation_counts.values()])\n",
    "iplot([trace])"
   ]
  },
  {
   "cell_type": "code",
   "execution_count": null,
   "metadata": {},
   "outputs": [],
   "source": []
  }
 ],
 "metadata": {
  "kernelspec": {
   "display_name": "Python 3",
   "language": "python",
   "name": "python3"
  },
  "language_info": {
   "codemirror_mode": {
    "name": "ipython",
    "version": 3
   },
   "file_extension": ".py",
   "mimetype": "text/x-python",
   "name": "python",
   "nbconvert_exporter": "python",
   "pygments_lexer": "ipython3",
   "version": "3.4.2"
  }
 },
 "nbformat": 4,
 "nbformat_minor": 2
}
